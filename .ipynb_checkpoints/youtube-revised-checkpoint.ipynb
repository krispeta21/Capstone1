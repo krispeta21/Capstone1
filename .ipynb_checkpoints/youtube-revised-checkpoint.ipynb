{
 "cells": [
  {
   "cell_type": "code",
   "execution_count": 1,
   "metadata": {},
   "outputs": [],
   "source": [
    "#TO DO: Make sure all changes in github"
   ]
  },
  {
   "cell_type": "markdown",
   "metadata": {},
   "source": [
    "source: https://www.kaggle.com/hoonkeng/deep-analysis-on-youtube-trending-videos-eda/notebook\n"
   ]
  },
  {
   "cell_type": "code",
   "execution_count": 2,
   "metadata": {},
   "outputs": [
    {
     "data": {
      "text/plain": [
       "'/Users/cristinasandoval/Desktop/DATA_practice/Capstone1'"
      ]
     },
     "execution_count": 2,
     "metadata": {},
     "output_type": "execute_result"
    }
   ],
   "source": [
    "%pwd"
   ]
  },
  {
   "cell_type": "code",
   "execution_count": 1,
   "metadata": {},
   "outputs": [],
   "source": [
    "import os\n",
    "import pandas as pd\n",
    "import seaborn as sns\n",
    "import matplotlib.pyplot as plt"
   ]
  },
  {
   "cell_type": "code",
   "execution_count": 4,
   "metadata": {},
   "outputs": [
    {
     "name": "stdout",
     "output_type": "stream",
     "text": [
      "/Users/cristinasandoval/Desktop/DATA_practice/Capstone1\r\n"
     ]
    }
   ],
   "source": [
    "!pwd"
   ]
  },
  {
   "cell_type": "code",
   "execution_count": 5,
   "metadata": {},
   "outputs": [
    {
     "name": "stdout",
     "output_type": "stream",
     "text": [
      "\u001b[34mCapstone1\u001b[m\u001b[m             \u001b[34mafter_lunch\u001b[m\u001b[m           \u001b[34mjenn-ttp\u001b[m\u001b[m\r\n",
      "\u001b[34mCapstone1_Data\u001b[m\u001b[m        \u001b[34mafternoon_thoughts\u001b[m\u001b[m    \u001b[34mjupyter_notebooks\u001b[m\u001b[m\r\n",
      "\u001b[34mPythonAssessment\u001b[m\u001b[m      \u001b[34mgit-primer-checkpoint\u001b[m\u001b[m\r\n",
      "Untitled-1            \u001b[34mgroup_work\u001b[m\u001b[m\r\n"
     ]
    }
   ],
   "source": [
    "!ls .."
   ]
  },
  {
   "cell_type": "code",
   "execution_count": 2,
   "metadata": {},
   "outputs": [],
   "source": [
    "path = 'Capstone1_Data'\n",
    "filepath1 = os.path.join('..', path,'dataframe.csv') #if file is not in same dir as notebook, must change path\n",
    "filepath2 = os.path.join('..', path,'dataframe_all_timestamps.csv') #if file is not in same dir as notebook, must change path\n",
    "\n",
    "df = pd.read_csv(filepath1)\n",
    "df_all_timestamps = pd.read_csv(filepath2)"
   ]
  },
  {
   "cell_type": "code",
   "execution_count": 3,
   "metadata": {},
   "outputs": [],
   "source": [
    "def stringify(row):\n",
    "    return str(row['publish_date']) + ' ' + str(row['publish_time'])\n",
    "\n",
    "df_all_timestamps.loc[:,'string_date_time'] = \\\n",
    "                            df_all_timestamps.apply(stringify, axis=1)\n",
    "\n",
    "df_all_timestamps.loc[:,'publish_timestamp'] = \\\n",
    "                pd.to_datetime(df_all_timestamps['string_date_time'],\n",
    "                                infer_datetime_format=True,\n",
    "                                errors='coerce')\n",
    "\n",
    "df_all_timestamps = df_all_timestamps.drop('string_date_time', axis=1)\n",
    "\n",
    "\n",
    "#make a new column in df called 'publish_timestamp' \n",
    "#that is a datetime object\n",
    "\n",
    "df.loc[:,'string_date_time'] = df.apply(stringify, axis=1)\n",
    "df.loc[:,'publish_timestamp'] = \\\n",
    "                pd.to_datetime(df['string_date_time'],\n",
    "                                infer_datetime_format=True,\n",
    "                                errors='coerce')\n",
    "df = df.drop('string_date_time', axis=1)"
   ]
  },
  {
   "cell_type": "code",
   "execution_count": 4,
   "metadata": {},
   "outputs": [],
   "source": [
    "#optional\n",
    "# makes new columns by taking the logarithm of the views, likes, \n",
    "#dislikes and comment_count to compress the scale for easier graphing \n",
    "\n",
    "import numpy as np\n",
    "df.loc[:,'log_views'] = np.log(df.loc[:,'views']+1)\n",
    "df.loc[:,'log_likes'] = np.log(df.loc[:,'likes']+1)\n",
    "df.loc[:,'log_dislikes'] = np.log(df.loc[:,'dislikes']+1)\n",
    "df.loc[:,'log_comment_count'] = np.log(df.loc[:,'comment_count']+1)\n",
    "\n",
    "#show all columns\n",
    "pd.set_option('display.max_columns', 100)"
   ]
  },
  {
   "cell_type": "code",
   "execution_count": 5,
   "metadata": {},
   "outputs": [
    {
     "data": {
      "text/html": [
       "<div>\n",
       "<style scoped>\n",
       "    .dataframe tbody tr th:only-of-type {\n",
       "        vertical-align: middle;\n",
       "    }\n",
       "\n",
       "    .dataframe tbody tr th {\n",
       "        vertical-align: top;\n",
       "    }\n",
       "\n",
       "    .dataframe thead th {\n",
       "        text-align: right;\n",
       "    }\n",
       "</style>\n",
       "<table border=\"1\" class=\"dataframe\">\n",
       "  <thead>\n",
       "    <tr style=\"text-align: right;\">\n",
       "      <th></th>\n",
       "      <th>video_id</th>\n",
       "      <th>trending_date</th>\n",
       "      <th>title</th>\n",
       "      <th>channel_title</th>\n",
       "      <th>category_id</th>\n",
       "      <th>category</th>\n",
       "      <th>publish_date</th>\n",
       "      <th>publish_time</th>\n",
       "      <th>tags</th>\n",
       "      <th>views</th>\n",
       "      <th>likes</th>\n",
       "      <th>dislikes</th>\n",
       "      <th>comment_count</th>\n",
       "      <th>thumbnail_link</th>\n",
       "      <th>comments_disabled</th>\n",
       "      <th>ratings_disabled</th>\n",
       "      <th>video_error_or_removed</th>\n",
       "      <th>description</th>\n",
       "      <th>country</th>\n",
       "      <th>publish_timestamp</th>\n",
       "      <th>log_views</th>\n",
       "      <th>log_likes</th>\n",
       "      <th>log_dislikes</th>\n",
       "      <th>log_comment_count</th>\n",
       "    </tr>\n",
       "  </thead>\n",
       "  <tbody>\n",
       "    <tr>\n",
       "      <td>0</td>\n",
       "      <td>cJon8yBKv3g</td>\n",
       "      <td>2017-11-14</td>\n",
       "      <td>Kingsman : Le Cercle d'or (Mickael J Critique)</td>\n",
       "      <td>MJ - FERMEZ LA</td>\n",
       "      <td>1</td>\n",
       "      <td>Film &amp; Animation</td>\n",
       "      <td>2017-11-12</td>\n",
       "      <td>17:58:57</td>\n",
       "      <td>VoxMakers\"|\"FERMEZ LA\"|\"Alert Spoiler\"|\"Matthe...</td>\n",
       "      <td>19487</td>\n",
       "      <td>1596</td>\n",
       "      <td>23</td>\n",
       "      <td>215</td>\n",
       "      <td>https://i.ytimg.com/vi/cJon8yBKv3g/default.jpg</td>\n",
       "      <td>False</td>\n",
       "      <td>False</td>\n",
       "      <td>False</td>\n",
       "      <td>Avec un peu de retard, voici l'avis de Mickael...</td>\n",
       "      <td>FR</td>\n",
       "      <td>2017-11-12 17:58:57</td>\n",
       "      <td>9.877554</td>\n",
       "      <td>7.375882</td>\n",
       "      <td>3.178054</td>\n",
       "      <td>5.375278</td>\n",
       "    </tr>\n",
       "    <tr>\n",
       "      <td>1</td>\n",
       "      <td>g12KeCPRB4Q</td>\n",
       "      <td>2017-11-14</td>\n",
       "      <td>Vide grenier LIVE - 12 Novembre 2017</td>\n",
       "      <td>Kirby-54</td>\n",
       "      <td>20</td>\n",
       "      <td>Gaming</td>\n",
       "      <td>2017-11-12</td>\n",
       "      <td>13:46:18</td>\n",
       "      <td>Vide grenier\"|\"vide grenier live\"|\"brocante\"|\"...</td>\n",
       "      <td>20744</td>\n",
       "      <td>1032</td>\n",
       "      <td>558</td>\n",
       "      <td>243</td>\n",
       "      <td>https://i.ytimg.com/vi/g12KeCPRB4Q/default.jpg</td>\n",
       "      <td>False</td>\n",
       "      <td>False</td>\n",
       "      <td>False</td>\n",
       "      <td>C'est reparti pour un nouveau compte rendu vid...</td>\n",
       "      <td>FR</td>\n",
       "      <td>2017-11-12 13:46:18</td>\n",
       "      <td>9.940061</td>\n",
       "      <td>6.940222</td>\n",
       "      <td>6.326149</td>\n",
       "      <td>5.497168</td>\n",
       "    </tr>\n",
       "    <tr>\n",
       "      <td>2</td>\n",
       "      <td>irIZRH3JlIw</td>\n",
       "      <td>2017-11-14</td>\n",
       "      <td>لقجع يثور في وجه الإتحاد الإيفواري بسبب الجماه...</td>\n",
       "      <td>أخبار اليوم</td>\n",
       "      <td>25</td>\n",
       "      <td>News &amp; Politics</td>\n",
       "      <td>2017-11-12</td>\n",
       "      <td>19:08:08</td>\n",
       "      <td>قناة أخبار اليوم\"|\"يومية المغرب\"|\"دولية\"|\"قضية...</td>\n",
       "      <td>207452</td>\n",
       "      <td>1415</td>\n",
       "      <td>148</td>\n",
       "      <td>90</td>\n",
       "      <td>https://i.ytimg.com/vi/irIZRH3JlIw/default.jpg</td>\n",
       "      <td>False</td>\n",
       "      <td>False</td>\n",
       "      <td>False</td>\n",
       "      <td>لقجع يثور في وجه الإتحاد الإيفواري بسبب الجماه...</td>\n",
       "      <td>FR</td>\n",
       "      <td>2017-11-12 19:08:08</td>\n",
       "      <td>12.242660</td>\n",
       "      <td>7.255591</td>\n",
       "      <td>5.003946</td>\n",
       "      <td>4.510860</td>\n",
       "    </tr>\n",
       "    <tr>\n",
       "      <td>3</td>\n",
       "      <td>SnHtzkQZggA</td>\n",
       "      <td>2017-11-14</td>\n",
       "      <td>عروس اسطنبول | اعلان الحلقة 25 | - مترجم للعربية</td>\n",
       "      <td>تركييتنا - bizim Türkiye</td>\n",
       "      <td>1</td>\n",
       "      <td>Film &amp; Animation</td>\n",
       "      <td>2017-11-13</td>\n",
       "      <td>19:58:33</td>\n",
       "      <td>مسلسل عروس اسطنبول\"|\"عروس اسطنبول\"|\"عروس اسطنب...</td>\n",
       "      <td>15899</td>\n",
       "      <td>142</td>\n",
       "      <td>10</td>\n",
       "      <td>7</td>\n",
       "      <td>https://i.ytimg.com/vi/SnHtzkQZggA/default.jpg</td>\n",
       "      <td>False</td>\n",
       "      <td>False</td>\n",
       "      <td>False</td>\n",
       "      <td>عروس اسطنبول | اعلان الحلقة 25 | - مترجم للعرب...</td>\n",
       "      <td>FR</td>\n",
       "      <td>2017-11-13 19:58:33</td>\n",
       "      <td>9.674074</td>\n",
       "      <td>4.962845</td>\n",
       "      <td>2.397895</td>\n",
       "      <td>2.079442</td>\n",
       "    </tr>\n",
       "    <tr>\n",
       "      <td>4</td>\n",
       "      <td>u6EoWM2KMPE</td>\n",
       "      <td>2017-11-14</td>\n",
       "      <td>Portokalli, 12 Nentor 2017 - Policat e postbll...</td>\n",
       "      <td>Top Channel Albania</td>\n",
       "      <td>23</td>\n",
       "      <td>Comedy</td>\n",
       "      <td>2017-11-13</td>\n",
       "      <td>13:33:26</td>\n",
       "      <td>Portokalli\"|\"Comedy Show\"|\"Top Channel Albania...</td>\n",
       "      <td>100607</td>\n",
       "      <td>1159</td>\n",
       "      <td>48</td>\n",
       "      <td>35</td>\n",
       "      <td>https://i.ytimg.com/vi/u6EoWM2KMPE/default.jpg</td>\n",
       "      <td>False</td>\n",
       "      <td>False</td>\n",
       "      <td>False</td>\n",
       "      <td>http://top-channel.tv/programe/portokalli/</td>\n",
       "      <td>FR</td>\n",
       "      <td>2017-11-13 13:33:26</td>\n",
       "      <td>11.518987</td>\n",
       "      <td>7.056175</td>\n",
       "      <td>3.891820</td>\n",
       "      <td>3.583519</td>\n",
       "    </tr>\n",
       "  </tbody>\n",
       "</table>\n",
       "</div>"
      ],
      "text/plain": [
       "      video_id trending_date  \\\n",
       "0  cJon8yBKv3g    2017-11-14   \n",
       "1  g12KeCPRB4Q    2017-11-14   \n",
       "2  irIZRH3JlIw    2017-11-14   \n",
       "3  SnHtzkQZggA    2017-11-14   \n",
       "4  u6EoWM2KMPE    2017-11-14   \n",
       "\n",
       "                                               title  \\\n",
       "0     Kingsman : Le Cercle d'or (Mickael J Critique)   \n",
       "1               Vide grenier LIVE - 12 Novembre 2017   \n",
       "2  لقجع يثور في وجه الإتحاد الإيفواري بسبب الجماه...   \n",
       "3   عروس اسطنبول | اعلان الحلقة 25 | - مترجم للعربية   \n",
       "4  Portokalli, 12 Nentor 2017 - Policat e postbll...   \n",
       "\n",
       "              channel_title  category_id          category publish_date  \\\n",
       "0            MJ - FERMEZ LA            1  Film & Animation   2017-11-12   \n",
       "1                  Kirby-54           20            Gaming   2017-11-12   \n",
       "2               أخبار اليوم           25   News & Politics   2017-11-12   \n",
       "3  تركييتنا - bizim Türkiye            1  Film & Animation   2017-11-13   \n",
       "4       Top Channel Albania           23            Comedy   2017-11-13   \n",
       "\n",
       "  publish_time                                               tags   views  \\\n",
       "0     17:58:57  VoxMakers\"|\"FERMEZ LA\"|\"Alert Spoiler\"|\"Matthe...   19487   \n",
       "1     13:46:18  Vide grenier\"|\"vide grenier live\"|\"brocante\"|\"...   20744   \n",
       "2     19:08:08  قناة أخبار اليوم\"|\"يومية المغرب\"|\"دولية\"|\"قضية...  207452   \n",
       "3     19:58:33  مسلسل عروس اسطنبول\"|\"عروس اسطنبول\"|\"عروس اسطنب...   15899   \n",
       "4     13:33:26  Portokalli\"|\"Comedy Show\"|\"Top Channel Albania...  100607   \n",
       "\n",
       "   likes  dislikes  comment_count  \\\n",
       "0   1596        23            215   \n",
       "1   1032       558            243   \n",
       "2   1415       148             90   \n",
       "3    142        10              7   \n",
       "4   1159        48             35   \n",
       "\n",
       "                                   thumbnail_link  comments_disabled  \\\n",
       "0  https://i.ytimg.com/vi/cJon8yBKv3g/default.jpg              False   \n",
       "1  https://i.ytimg.com/vi/g12KeCPRB4Q/default.jpg              False   \n",
       "2  https://i.ytimg.com/vi/irIZRH3JlIw/default.jpg              False   \n",
       "3  https://i.ytimg.com/vi/SnHtzkQZggA/default.jpg              False   \n",
       "4  https://i.ytimg.com/vi/u6EoWM2KMPE/default.jpg              False   \n",
       "\n",
       "   ratings_disabled  video_error_or_removed  \\\n",
       "0             False                   False   \n",
       "1             False                   False   \n",
       "2             False                   False   \n",
       "3             False                   False   \n",
       "4             False                   False   \n",
       "\n",
       "                                         description country  \\\n",
       "0  Avec un peu de retard, voici l'avis de Mickael...      FR   \n",
       "1  C'est reparti pour un nouveau compte rendu vid...      FR   \n",
       "2  لقجع يثور في وجه الإتحاد الإيفواري بسبب الجماه...      FR   \n",
       "3  عروس اسطنبول | اعلان الحلقة 25 | - مترجم للعرب...      FR   \n",
       "4         http://top-channel.tv/programe/portokalli/      FR   \n",
       "\n",
       "    publish_timestamp  log_views  log_likes  log_dislikes  log_comment_count  \n",
       "0 2017-11-12 17:58:57   9.877554   7.375882      3.178054           5.375278  \n",
       "1 2017-11-12 13:46:18   9.940061   6.940222      6.326149           5.497168  \n",
       "2 2017-11-12 19:08:08  12.242660   7.255591      5.003946           4.510860  \n",
       "3 2017-11-13 19:58:33   9.674074   4.962845      2.397895           2.079442  \n",
       "4 2017-11-13 13:33:26  11.518987   7.056175      3.891820           3.583519  "
      ]
     },
     "execution_count": 5,
     "metadata": {},
     "output_type": "execute_result"
    }
   ],
   "source": [
    "df.head()"
   ]
  },
  {
   "cell_type": "code",
   "execution_count": 6,
   "metadata": {},
   "outputs": [
    {
     "name": "stdout",
     "output_type": "stream",
     "text": [
      "<class 'pandas.core.frame.DataFrame'>\n",
      "RangeIndex: 171149 entries, 0 to 171148\n",
      "Data columns (total 24 columns):\n",
      "video_id                  171149 non-null object\n",
      "trending_date             171149 non-null object\n",
      "title                     171149 non-null object\n",
      "channel_title             171149 non-null object\n",
      "category_id               171149 non-null int64\n",
      "category                  171149 non-null object\n",
      "publish_date              171149 non-null object\n",
      "publish_time              171149 non-null object\n",
      "tags                      171149 non-null object\n",
      "views                     171149 non-null int64\n",
      "likes                     171149 non-null int64\n",
      "dislikes                  171149 non-null int64\n",
      "comment_count             171149 non-null int64\n",
      "thumbnail_link            171149 non-null object\n",
      "comments_disabled         171149 non-null bool\n",
      "ratings_disabled          171149 non-null bool\n",
      "video_error_or_removed    171149 non-null bool\n",
      "description               171149 non-null object\n",
      "country                   171149 non-null object\n",
      "publish_timestamp         171149 non-null datetime64[ns]\n",
      "log_views                 171149 non-null float64\n",
      "log_likes                 171149 non-null float64\n",
      "log_dislikes              171149 non-null float64\n",
      "log_comment_count         171149 non-null float64\n",
      "dtypes: bool(3), datetime64[ns](1), float64(4), int64(5), object(11)\n",
      "memory usage: 27.9+ MB\n"
     ]
    }
   ],
   "source": [
    "df.info()"
   ]
  },
  {
   "cell_type": "code",
   "execution_count": 64,
   "metadata": {},
   "outputs": [
    {
     "ename": "TypeError",
     "evalue": "'Index' object is not callable",
     "output_type": "error",
     "traceback": [
      "\u001b[0;31m---------------------------------------------------------------------------\u001b[0m",
      "\u001b[0;31mTypeError\u001b[0m                                 Traceback (most recent call last)",
      "\u001b[0;32m<ipython-input-64-6508db3b82a6>\u001b[0m in \u001b[0;36m<module>\u001b[0;34m\u001b[0m\n\u001b[0;32m----> 1\u001b[0;31m \u001b[0mdf\u001b[0m\u001b[0;34m.\u001b[0m\u001b[0mcolumns\u001b[0m\u001b[0;34m(\u001b[0m\u001b[0;34m'tags'\u001b[0m\u001b[0;34m)\u001b[0m\u001b[0;34m\u001b[0m\u001b[0;34m\u001b[0m\u001b[0m\n\u001b[0m",
      "\u001b[0;31mTypeError\u001b[0m: 'Index' object is not callable"
     ]
    }
   ],
   "source": [
    "df.columns('tags')"
   ]
  },
  {
   "cell_type": "code",
   "execution_count": 7,
   "metadata": {},
   "outputs": [
    {
     "name": "stdout",
     "output_type": "stream",
     "text": [
      "<class 'pandas.core.frame.DataFrame'>\n",
      "RangeIndex: 356350 entries, 0 to 356349\n",
      "Data columns (total 20 columns):\n",
      "video_id                  356350 non-null object\n",
      "trending_date             356350 non-null object\n",
      "title                     356350 non-null object\n",
      "channel_title             356350 non-null object\n",
      "category_id               356350 non-null int64\n",
      "category                  356350 non-null object\n",
      "publish_date              356350 non-null object\n",
      "publish_time              356350 non-null object\n",
      "tags                      356350 non-null object\n",
      "views                     356350 non-null int64\n",
      "likes                     356350 non-null int64\n",
      "dislikes                  356350 non-null int64\n",
      "comment_count             356350 non-null int64\n",
      "thumbnail_link            356350 non-null object\n",
      "comments_disabled         356350 non-null bool\n",
      "ratings_disabled          356350 non-null bool\n",
      "video_error_or_removed    356350 non-null bool\n",
      "description               356350 non-null object\n",
      "country                   356350 non-null object\n",
      "publish_timestamp         356350 non-null datetime64[ns]\n",
      "dtypes: bool(3), datetime64[ns](1), int64(5), object(11)\n",
      "memory usage: 47.2+ MB\n"
     ]
    }
   ],
   "source": [
    "df_all_timestamps.info()"
   ]
  },
  {
   "cell_type": "code",
   "execution_count": 8,
   "metadata": {
    "scrolled": true
   },
   "outputs": [
    {
     "data": {
      "text/html": [
       "<div>\n",
       "<style scoped>\n",
       "    .dataframe tbody tr th:only-of-type {\n",
       "        vertical-align: middle;\n",
       "    }\n",
       "\n",
       "    .dataframe tbody tr th {\n",
       "        vertical-align: top;\n",
       "    }\n",
       "\n",
       "    .dataframe thead th {\n",
       "        text-align: right;\n",
       "    }\n",
       "</style>\n",
       "<table border=\"1\" class=\"dataframe\">\n",
       "  <thead>\n",
       "    <tr style=\"text-align: right;\">\n",
       "      <th></th>\n",
       "      <th>video_id</th>\n",
       "      <th>likes</th>\n",
       "      <th>country</th>\n",
       "    </tr>\n",
       "  </thead>\n",
       "  <tbody>\n",
       "    <tr>\n",
       "      <td>0</td>\n",
       "      <td>cJon8yBKv3g</td>\n",
       "      <td>1596</td>\n",
       "      <td>FR</td>\n",
       "    </tr>\n",
       "    <tr>\n",
       "      <td>1</td>\n",
       "      <td>g12KeCPRB4Q</td>\n",
       "      <td>1032</td>\n",
       "      <td>FR</td>\n",
       "    </tr>\n",
       "    <tr>\n",
       "      <td>2</td>\n",
       "      <td>irIZRH3JlIw</td>\n",
       "      <td>1415</td>\n",
       "      <td>FR</td>\n",
       "    </tr>\n",
       "    <tr>\n",
       "      <td>3</td>\n",
       "      <td>SnHtzkQZggA</td>\n",
       "      <td>142</td>\n",
       "      <td>FR</td>\n",
       "    </tr>\n",
       "    <tr>\n",
       "      <td>4</td>\n",
       "      <td>u6EoWM2KMPE</td>\n",
       "      <td>1159</td>\n",
       "      <td>FR</td>\n",
       "    </tr>\n",
       "  </tbody>\n",
       "</table>\n",
       "</div>"
      ],
      "text/plain": [
       "      video_id  likes country\n",
       "0  cJon8yBKv3g   1596      FR\n",
       "1  g12KeCPRB4Q   1032      FR\n",
       "2  irIZRH3JlIw   1415      FR\n",
       "3  SnHtzkQZggA    142      FR\n",
       "4  u6EoWM2KMPE   1159      FR"
      ]
     },
     "execution_count": 8,
     "metadata": {},
     "output_type": "execute_result"
    }
   ],
   "source": [
    "video_likes = pd.DataFrame(df, columns=['video_id','likes', 'country'])\n",
    "video_likes.head()"
   ]
  },
  {
   "cell_type": "code",
   "execution_count": 9,
   "metadata": {},
   "outputs": [
    {
     "data": {
      "text/html": [
       "<div>\n",
       "<style scoped>\n",
       "    .dataframe tbody tr th:only-of-type {\n",
       "        vertical-align: middle;\n",
       "    }\n",
       "\n",
       "    .dataframe tbody tr th {\n",
       "        vertical-align: top;\n",
       "    }\n",
       "\n",
       "    .dataframe thead th {\n",
       "        text-align: right;\n",
       "    }\n",
       "</style>\n",
       "<table border=\"1\" class=\"dataframe\">\n",
       "  <thead>\n",
       "    <tr style=\"text-align: right;\">\n",
       "      <th></th>\n",
       "      <th>video_id</th>\n",
       "      <th>title</th>\n",
       "      <th>category</th>\n",
       "      <th>log_likes</th>\n",
       "      <th>log_views</th>\n",
       "      <th>country</th>\n",
       "    </tr>\n",
       "  </thead>\n",
       "  <tbody>\n",
       "    <tr>\n",
       "      <td>160289</td>\n",
       "      <td>7C2z4GqqS5E</td>\n",
       "      <td>BTS (방탄소년단) 'FAKE LOVE' Official MV</td>\n",
       "      <td>Music</td>\n",
       "      <td>15.540743</td>\n",
       "      <td>18.627784</td>\n",
       "      <td>GB</td>\n",
       "    </tr>\n",
       "    <tr>\n",
       "      <td>167397</td>\n",
       "      <td>VYOjWnS4cMY</td>\n",
       "      <td>Childish Gambino - This Is America (Official V...</td>\n",
       "      <td>Music</td>\n",
       "      <td>15.510124</td>\n",
       "      <td>19.375121</td>\n",
       "      <td>GB</td>\n",
       "    </tr>\n",
       "    <tr>\n",
       "      <td>107307</td>\n",
       "      <td>xpVfcZ0ZcFM</td>\n",
       "      <td>Drake - God’s Plan</td>\n",
       "      <td>Music</td>\n",
       "      <td>15.371099</td>\n",
       "      <td>19.369109</td>\n",
       "      <td>GB</td>\n",
       "    </tr>\n",
       "    <tr>\n",
       "      <td>105767</td>\n",
       "      <td>kLpH1nSLJSs</td>\n",
       "      <td>Bad Bunny - Amorfoda | Video Oficial</td>\n",
       "      <td>Music</td>\n",
       "      <td>15.156776</td>\n",
       "      <td>19.611144</td>\n",
       "      <td>GB</td>\n",
       "    </tr>\n",
       "    <tr>\n",
       "      <td>155749</td>\n",
       "      <td>ffxKSjUwKdU</td>\n",
       "      <td>Ariana Grande - No Tears Left To Cry</td>\n",
       "      <td>Music</td>\n",
       "      <td>15.037649</td>\n",
       "      <td>19.157256</td>\n",
       "      <td>GB</td>\n",
       "    </tr>\n",
       "  </tbody>\n",
       "</table>\n",
       "</div>"
      ],
      "text/plain": [
       "           video_id                                              title  \\\n",
       "160289  7C2z4GqqS5E                BTS (방탄소년단) 'FAKE LOVE' Official MV   \n",
       "167397  VYOjWnS4cMY  Childish Gambino - This Is America (Official V...   \n",
       "107307  xpVfcZ0ZcFM                                 Drake - God’s Plan   \n",
       "105767  kLpH1nSLJSs               Bad Bunny - Amorfoda | Video Oficial   \n",
       "155749  ffxKSjUwKdU               Ariana Grande - No Tears Left To Cry   \n",
       "\n",
       "       category  log_likes  log_views country  \n",
       "160289    Music  15.540743  18.627784      GB  \n",
       "167397    Music  15.510124  19.375121      GB  \n",
       "107307    Music  15.371099  19.369109      GB  \n",
       "105767    Music  15.156776  19.611144      GB  \n",
       "155749    Music  15.037649  19.157256      GB  "
      ]
     },
     "execution_count": 9,
     "metadata": {},
     "output_type": "execute_result"
    }
   ],
   "source": [
    "video_likes_base = pd.DataFrame(df, columns=['video_id','title','category','log_likes', 'log_views', 'country'])\n",
    "video_likes = video_likes_base.sort_values(by=['log_likes'], ascending=False)\n",
    "video_likes.head()"
   ]
  },
  {
   "cell_type": "code",
   "execution_count": null,
   "metadata": {},
   "outputs": [],
   "source": [
    "video_likes_base = pd.DataFrame(df, columns=['video_id','title','category','log_likes', 'log_views', 'country'])"
   ]
  },
  {
   "cell_type": "code",
   "execution_count": 10,
   "metadata": {},
   "outputs": [
    {
     "data": {
      "text/html": [
       "<div>\n",
       "<style scoped>\n",
       "    .dataframe tbody tr th:only-of-type {\n",
       "        vertical-align: middle;\n",
       "    }\n",
       "\n",
       "    .dataframe tbody tr th {\n",
       "        vertical-align: top;\n",
       "    }\n",
       "\n",
       "    .dataframe thead th {\n",
       "        text-align: right;\n",
       "    }\n",
       "</style>\n",
       "<table border=\"1\" class=\"dataframe\">\n",
       "  <thead>\n",
       "    <tr style=\"text-align: right;\">\n",
       "      <th></th>\n",
       "      <th>video_id</th>\n",
       "      <th>title</th>\n",
       "      <th>category</th>\n",
       "      <th>log_likes</th>\n",
       "      <th>log_views</th>\n",
       "      <th>country</th>\n",
       "    </tr>\n",
       "  </thead>\n",
       "  <tbody>\n",
       "    <tr>\n",
       "      <td>160289</td>\n",
       "      <td>7C2z4GqqS5E</td>\n",
       "      <td>BTS (방탄소년단) 'FAKE LOVE' Official MV</td>\n",
       "      <td>Music</td>\n",
       "      <td>15.540743</td>\n",
       "      <td>18.627784</td>\n",
       "      <td>GB</td>\n",
       "    </tr>\n",
       "    <tr>\n",
       "      <td>167397</td>\n",
       "      <td>VYOjWnS4cMY</td>\n",
       "      <td>Childish Gambino - This Is America (Official V...</td>\n",
       "      <td>Music</td>\n",
       "      <td>15.510124</td>\n",
       "      <td>19.375121</td>\n",
       "      <td>GB</td>\n",
       "    </tr>\n",
       "    <tr>\n",
       "      <td>107307</td>\n",
       "      <td>xpVfcZ0ZcFM</td>\n",
       "      <td>Drake - God’s Plan</td>\n",
       "      <td>Music</td>\n",
       "      <td>15.371099</td>\n",
       "      <td>19.369109</td>\n",
       "      <td>GB</td>\n",
       "    </tr>\n",
       "    <tr>\n",
       "      <td>105767</td>\n",
       "      <td>kLpH1nSLJSs</td>\n",
       "      <td>Bad Bunny - Amorfoda | Video Oficial</td>\n",
       "      <td>Music</td>\n",
       "      <td>15.156776</td>\n",
       "      <td>19.611144</td>\n",
       "      <td>GB</td>\n",
       "    </tr>\n",
       "    <tr>\n",
       "      <td>155749</td>\n",
       "      <td>ffxKSjUwKdU</td>\n",
       "      <td>Ariana Grande - No Tears Left To Cry</td>\n",
       "      <td>Music</td>\n",
       "      <td>15.037649</td>\n",
       "      <td>19.157256</td>\n",
       "      <td>GB</td>\n",
       "    </tr>\n",
       "    <tr>\n",
       "      <td>...</td>\n",
       "      <td>...</td>\n",
       "      <td>...</td>\n",
       "      <td>...</td>\n",
       "      <td>...</td>\n",
       "      <td>...</td>\n",
       "      <td>...</td>\n",
       "    </tr>\n",
       "    <tr>\n",
       "      <td>38236</td>\n",
       "      <td>leu-cTvMWTA</td>\n",
       "      <td>EXO 엑소 'Universe' MV</td>\n",
       "      <td>Music</td>\n",
       "      <td>13.632927</td>\n",
       "      <td>15.789854</td>\n",
       "      <td>GB</td>\n",
       "    </tr>\n",
       "    <tr>\n",
       "      <td>146109</td>\n",
       "      <td>32sYGCOYJUM</td>\n",
       "      <td>CHẠY NGAY ĐI | RUN NOW | SƠN TÙNG M-TP | Offic...</td>\n",
       "      <td>Music</td>\n",
       "      <td>13.625593</td>\n",
       "      <td>17.205398</td>\n",
       "      <td>CA</td>\n",
       "    </tr>\n",
       "    <tr>\n",
       "      <td>129013</td>\n",
       "      <td>4kDklB6-69Q</td>\n",
       "      <td>Poo Bear ft. Justin Bieber &amp; Jay Electronica -...</td>\n",
       "      <td>Comedy</td>\n",
       "      <td>13.623453</td>\n",
       "      <td>17.188929</td>\n",
       "      <td>US</td>\n",
       "    </tr>\n",
       "    <tr>\n",
       "      <td>161047</td>\n",
       "      <td>Ck4xHocysLw</td>\n",
       "      <td>Ozuna - Única (Video Oficial) 🐻 A U R A</td>\n",
       "      <td>Music</td>\n",
       "      <td>13.622286</td>\n",
       "      <td>18.736087</td>\n",
       "      <td>GB</td>\n",
       "    </tr>\n",
       "    <tr>\n",
       "      <td>48945</td>\n",
       "      <td>TFktziLOsFg</td>\n",
       "      <td>Behan Bhai Ki School Life - Amit Bhadana</td>\n",
       "      <td>Entertainment</td>\n",
       "      <td>13.620428</td>\n",
       "      <td>16.315272</td>\n",
       "      <td>IN</td>\n",
       "    </tr>\n",
       "  </tbody>\n",
       "</table>\n",
       "<p>100 rows × 6 columns</p>\n",
       "</div>"
      ],
      "text/plain": [
       "           video_id                                              title  \\\n",
       "160289  7C2z4GqqS5E                BTS (방탄소년단) 'FAKE LOVE' Official MV   \n",
       "167397  VYOjWnS4cMY  Childish Gambino - This Is America (Official V...   \n",
       "107307  xpVfcZ0ZcFM                                 Drake - God’s Plan   \n",
       "105767  kLpH1nSLJSs               Bad Bunny - Amorfoda | Video Oficial   \n",
       "155749  ffxKSjUwKdU               Ariana Grande - No Tears Left To Cry   \n",
       "...             ...                                                ...   \n",
       "38236   leu-cTvMWTA                               EXO 엑소 'Universe' MV   \n",
       "146109  32sYGCOYJUM  CHẠY NGAY ĐI | RUN NOW | SƠN TÙNG M-TP | Offic...   \n",
       "129013  4kDklB6-69Q  Poo Bear ft. Justin Bieber & Jay Electronica -...   \n",
       "161047  Ck4xHocysLw           Ozuna - Única (Video Oficial) 🐻 A U R A   \n",
       "48945   TFktziLOsFg           Behan Bhai Ki School Life - Amit Bhadana   \n",
       "\n",
       "             category  log_likes  log_views country  \n",
       "160289          Music  15.540743  18.627784      GB  \n",
       "167397          Music  15.510124  19.375121      GB  \n",
       "107307          Music  15.371099  19.369109      GB  \n",
       "105767          Music  15.156776  19.611144      GB  \n",
       "155749          Music  15.037649  19.157256      GB  \n",
       "...               ...        ...        ...     ...  \n",
       "38236           Music  13.632927  15.789854      GB  \n",
       "146109          Music  13.625593  17.205398      CA  \n",
       "129013         Comedy  13.623453  17.188929      US  \n",
       "161047          Music  13.622286  18.736087      GB  \n",
       "48945   Entertainment  13.620428  16.315272      IN  \n",
       "\n",
       "[100 rows x 6 columns]"
      ]
     },
     "execution_count": 10,
     "metadata": {},
     "output_type": "execute_result"
    }
   ],
   "source": [
    "top_video_like = video_likes.head(100)\n",
    "top_video_like\n"
   ]
  },
  {
   "cell_type": "code",
   "execution_count": 11,
   "metadata": {},
   "outputs": [
    {
     "data": {
      "text/plain": [
       "GB    76\n",
       "US    15\n",
       "IN     4\n",
       "CA     2\n",
       "MX     2\n",
       "KR     1\n",
       "Name: country, dtype: int64"
      ]
     },
     "execution_count": 11,
     "metadata": {},
     "output_type": "execute_result"
    }
   ],
   "source": [
    "num_top100_by_country = top_video_like['country'].value_counts()\n",
    "num_top100_by_country"
   ]
  },
  {
   "cell_type": "code",
   "execution_count": 12,
   "metadata": {},
   "outputs": [
    {
     "data": {
      "text/plain": [
       "Text(0, 0.5, 'Number of videos')"
      ]
     },
     "execution_count": 12,
     "metadata": {},
     "output_type": "execute_result"
    },
    {
     "data": {
      "image/png": "[encoded data removed]",
      "text/plain": [
       "<Figure size 720x720 with 1 Axes>"
      ]
     },
     "metadata": {
      "needs_background": "light"
     },
     "output_type": "display_data"
    }
   ],
   "source": [
    "fig = plt.figure(figsize=(10,10)) # define plot area\n",
    "ax = fig.gca() # define axis    \n",
    "num_top100_by_country.plot.bar(ax = ax) # Use the plot.bar method on the counts data frame\n",
    "ax.set_title('Number of top 100 videos by country') # Give the plot a main title\n",
    "ax.set_xlabel('Country') # Set text for the x axis\n",
    "ax.set_ylabel('Number of videos')# Set text for y axis"
   ]
  },
  {
   "cell_type": "code",
   "execution_count": 49,
   "metadata": {},
   "outputs": [
    {
     "data": {
      "text/plain": [
       "Music                    75\n",
       "Entertainment            14\n",
       "Comedy                    3\n",
       "Sports                    3\n",
       "Film & Animation          2\n",
       "Nonprofits & Activism     1\n",
       "People & Blogs            1\n",
       "Gaming                    1\n",
       "Name: category, dtype: int64"
      ]
     },
     "execution_count": 49,
     "metadata": {},
     "output_type": "execute_result"
    }
   ],
   "source": [
    "num_top100_by_category = top_video_like['category'].value_counts()\n",
    "num_top100_by_category"
   ]
  },
  {
   "cell_type": "code",
   "execution_count": 51,
   "metadata": {},
   "outputs": [
    {
     "data": {
      "text/html": [
       "<div>\n",
       "<style scoped>\n",
       "    .dataframe tbody tr th:only-of-type {\n",
       "        vertical-align: middle;\n",
       "    }\n",
       "\n",
       "    .dataframe tbody tr th {\n",
       "        vertical-align: top;\n",
       "    }\n",
       "\n",
       "    .dataframe thead th {\n",
       "        text-align: right;\n",
       "    }\n",
       "</style>\n",
       "<table border=\"1\" class=\"dataframe\">\n",
       "  <thead>\n",
       "    <tr style=\"text-align: right;\">\n",
       "      <th></th>\n",
       "      <th>category</th>\n",
       "      <th>count</th>\n",
       "    </tr>\n",
       "  </thead>\n",
       "  <tbody>\n",
       "    <tr>\n",
       "      <td>0</td>\n",
       "      <td>Music</td>\n",
       "      <td>75</td>\n",
       "    </tr>\n",
       "    <tr>\n",
       "      <td>1</td>\n",
       "      <td>Entertainment</td>\n",
       "      <td>14</td>\n",
       "    </tr>\n",
       "    <tr>\n",
       "      <td>2</td>\n",
       "      <td>Comedy</td>\n",
       "      <td>3</td>\n",
       "    </tr>\n",
       "    <tr>\n",
       "      <td>3</td>\n",
       "      <td>Sports</td>\n",
       "      <td>3</td>\n",
       "    </tr>\n",
       "    <tr>\n",
       "      <td>4</td>\n",
       "      <td>Film &amp; Animation</td>\n",
       "      <td>2</td>\n",
       "    </tr>\n",
       "    <tr>\n",
       "      <td>5</td>\n",
       "      <td>Nonprofits &amp; Activism</td>\n",
       "      <td>1</td>\n",
       "    </tr>\n",
       "    <tr>\n",
       "      <td>6</td>\n",
       "      <td>People &amp; Blogs</td>\n",
       "      <td>1</td>\n",
       "    </tr>\n",
       "    <tr>\n",
       "      <td>7</td>\n",
       "      <td>Gaming</td>\n",
       "      <td>1</td>\n",
       "    </tr>\n",
       "  </tbody>\n",
       "</table>\n",
       "</div>"
      ],
      "text/plain": [
       "                category  count\n",
       "0                  Music     75\n",
       "1          Entertainment     14\n",
       "2                 Comedy      3\n",
       "3                 Sports      3\n",
       "4       Film & Animation      2\n",
       "5  Nonprofits & Activism      1\n",
       "6         People & Blogs      1\n",
       "7                 Gaming      1"
      ]
     },
     "execution_count": 51,
     "metadata": {},
     "output_type": "execute_result"
    }
   ],
   "source": [
    "top100cat_df = num_top100_by_category.to_frame(name='Counts').reset_index()\n",
    "top100cat_df.columns = ['category', 'count']\n",
    "top100cat_df"
   ]
  },
  {
   "cell_type": "code",
   "execution_count": 18,
   "metadata": {},
   "outputs": [
    {
     "data": {
      "text/plain": [
       "Text(0, 0.5, 'Number of videos')"
      ]
     },
     "execution_count": 18,
     "metadata": {},
     "output_type": "execute_result"
    },
    {
     "data": {
      "image/png": "[encoded data removed]",
      "text/plain": [
       "<Figure size 720x720 with 1 Axes>"
      ]
     },
     "metadata": {
      "needs_background": "light"
     },
     "output_type": "display_data"
    }
   ],
   "source": [
    "fig = plt.figure(figsize=(10,10)) # define plot area\n",
    "ax = fig.gca() # define axis    \n",
    "num_top100_by_category.plot.bar(ax = ax) # Use the plot.bar method on the counts data frame\n",
    "ax.set_title('Number of top 100 videos by category') # Give the plot a main title\n",
    "ax.set_xlabel('Category') # Set text for the x axis\n",
    "ax.set_ylabel('Number of videos')# Set text for y axis"
   ]
  },
  {
   "cell_type": "code",
   "execution_count": 19,
   "metadata": {},
   "outputs": [
    {
     "data": {
      "text/html": [
       "<div>\n",
       "<style scoped>\n",
       "    .dataframe tbody tr th:only-of-type {\n",
       "        vertical-align: middle;\n",
       "    }\n",
       "\n",
       "    .dataframe tbody tr th {\n",
       "        vertical-align: top;\n",
       "    }\n",
       "\n",
       "    .dataframe thead th {\n",
       "        text-align: right;\n",
       "    }\n",
       "</style>\n",
       "<table border=\"1\" class=\"dataframe\">\n",
       "  <thead>\n",
       "    <tr style=\"text-align: right;\">\n",
       "      <th></th>\n",
       "      <th>video_id</th>\n",
       "      <th>trending_date</th>\n",
       "      <th>title</th>\n",
       "      <th>channel_title</th>\n",
       "      <th>category_id</th>\n",
       "      <th>category</th>\n",
       "      <th>publish_date</th>\n",
       "      <th>publish_time</th>\n",
       "      <th>tags</th>\n",
       "      <th>views</th>\n",
       "      <th>likes</th>\n",
       "      <th>dislikes</th>\n",
       "      <th>comment_count</th>\n",
       "      <th>thumbnail_link</th>\n",
       "      <th>comments_disabled</th>\n",
       "      <th>ratings_disabled</th>\n",
       "      <th>video_error_or_removed</th>\n",
       "      <th>description</th>\n",
       "      <th>publish_timestamp</th>\n",
       "      <th>log_views</th>\n",
       "      <th>log_likes</th>\n",
       "      <th>log_dislikes</th>\n",
       "      <th>log_comment_count</th>\n",
       "    </tr>\n",
       "    <tr>\n",
       "      <th>country</th>\n",
       "      <th></th>\n",
       "      <th></th>\n",
       "      <th></th>\n",
       "      <th></th>\n",
       "      <th></th>\n",
       "      <th></th>\n",
       "      <th></th>\n",
       "      <th></th>\n",
       "      <th></th>\n",
       "      <th></th>\n",
       "      <th></th>\n",
       "      <th></th>\n",
       "      <th></th>\n",
       "      <th></th>\n",
       "      <th></th>\n",
       "      <th></th>\n",
       "      <th></th>\n",
       "      <th></th>\n",
       "      <th></th>\n",
       "      <th></th>\n",
       "      <th></th>\n",
       "      <th></th>\n",
       "      <th></th>\n",
       "    </tr>\n",
       "  </thead>\n",
       "  <tbody>\n",
       "    <tr>\n",
       "      <td>CA</td>\n",
       "      <td>17338</td>\n",
       "      <td>17338</td>\n",
       "      <td>17338</td>\n",
       "      <td>17338</td>\n",
       "      <td>17338</td>\n",
       "      <td>17338</td>\n",
       "      <td>17338</td>\n",
       "      <td>17338</td>\n",
       "      <td>17338</td>\n",
       "      <td>17338</td>\n",
       "      <td>17338</td>\n",
       "      <td>17338</td>\n",
       "      <td>17338</td>\n",
       "      <td>17338</td>\n",
       "      <td>17338</td>\n",
       "      <td>17338</td>\n",
       "      <td>17338</td>\n",
       "      <td>17338</td>\n",
       "      <td>17338</td>\n",
       "      <td>17338</td>\n",
       "      <td>17338</td>\n",
       "      <td>17338</td>\n",
       "      <td>17338</td>\n",
       "    </tr>\n",
       "    <tr>\n",
       "      <td>DE</td>\n",
       "      <td>22965</td>\n",
       "      <td>22965</td>\n",
       "      <td>22965</td>\n",
       "      <td>22965</td>\n",
       "      <td>22965</td>\n",
       "      <td>22965</td>\n",
       "      <td>22965</td>\n",
       "      <td>22965</td>\n",
       "      <td>22965</td>\n",
       "      <td>22965</td>\n",
       "      <td>22965</td>\n",
       "      <td>22965</td>\n",
       "      <td>22965</td>\n",
       "      <td>22965</td>\n",
       "      <td>22965</td>\n",
       "      <td>22965</td>\n",
       "      <td>22965</td>\n",
       "      <td>22965</td>\n",
       "      <td>22965</td>\n",
       "      <td>22965</td>\n",
       "      <td>22965</td>\n",
       "      <td>22965</td>\n",
       "      <td>22965</td>\n",
       "    </tr>\n",
       "    <tr>\n",
       "      <td>FR</td>\n",
       "      <td>24085</td>\n",
       "      <td>24085</td>\n",
       "      <td>24085</td>\n",
       "      <td>24085</td>\n",
       "      <td>24085</td>\n",
       "      <td>24085</td>\n",
       "      <td>24085</td>\n",
       "      <td>24085</td>\n",
       "      <td>24085</td>\n",
       "      <td>24085</td>\n",
       "      <td>24085</td>\n",
       "      <td>24085</td>\n",
       "      <td>24085</td>\n",
       "      <td>24085</td>\n",
       "      <td>24085</td>\n",
       "      <td>24085</td>\n",
       "      <td>24085</td>\n",
       "      <td>24085</td>\n",
       "      <td>24085</td>\n",
       "      <td>24085</td>\n",
       "      <td>24085</td>\n",
       "      <td>24085</td>\n",
       "      <td>24085</td>\n",
       "    </tr>\n",
       "    <tr>\n",
       "      <td>GB</td>\n",
       "      <td>3070</td>\n",
       "      <td>3070</td>\n",
       "      <td>3070</td>\n",
       "      <td>3070</td>\n",
       "      <td>3070</td>\n",
       "      <td>3070</td>\n",
       "      <td>3070</td>\n",
       "      <td>3070</td>\n",
       "      <td>3070</td>\n",
       "      <td>3070</td>\n",
       "      <td>3070</td>\n",
       "      <td>3070</td>\n",
       "      <td>3070</td>\n",
       "      <td>3070</td>\n",
       "      <td>3070</td>\n",
       "      <td>3070</td>\n",
       "      <td>3070</td>\n",
       "      <td>3070</td>\n",
       "      <td>3070</td>\n",
       "      <td>3070</td>\n",
       "      <td>3070</td>\n",
       "      <td>3070</td>\n",
       "      <td>3070</td>\n",
       "    </tr>\n",
       "    <tr>\n",
       "      <td>IN</td>\n",
       "      <td>15222</td>\n",
       "      <td>15222</td>\n",
       "      <td>15222</td>\n",
       "      <td>15222</td>\n",
       "      <td>15222</td>\n",
       "      <td>15222</td>\n",
       "      <td>15222</td>\n",
       "      <td>15222</td>\n",
       "      <td>15222</td>\n",
       "      <td>15222</td>\n",
       "      <td>15222</td>\n",
       "      <td>15222</td>\n",
       "      <td>15222</td>\n",
       "      <td>15222</td>\n",
       "      <td>15222</td>\n",
       "      <td>15222</td>\n",
       "      <td>15222</td>\n",
       "      <td>15222</td>\n",
       "      <td>15222</td>\n",
       "      <td>15222</td>\n",
       "      <td>15222</td>\n",
       "      <td>15222</td>\n",
       "      <td>15222</td>\n",
       "    </tr>\n",
       "    <tr>\n",
       "      <td>JP</td>\n",
       "      <td>10808</td>\n",
       "      <td>10808</td>\n",
       "      <td>10808</td>\n",
       "      <td>10808</td>\n",
       "      <td>10808</td>\n",
       "      <td>10808</td>\n",
       "      <td>10808</td>\n",
       "      <td>10808</td>\n",
       "      <td>10808</td>\n",
       "      <td>10808</td>\n",
       "      <td>10808</td>\n",
       "      <td>10808</td>\n",
       "      <td>10808</td>\n",
       "      <td>10808</td>\n",
       "      <td>10808</td>\n",
       "      <td>10808</td>\n",
       "      <td>10808</td>\n",
       "      <td>10808</td>\n",
       "      <td>10808</td>\n",
       "      <td>10808</td>\n",
       "      <td>10808</td>\n",
       "      <td>10808</td>\n",
       "      <td>10808</td>\n",
       "    </tr>\n",
       "    <tr>\n",
       "      <td>KR</td>\n",
       "      <td>13793</td>\n",
       "      <td>13793</td>\n",
       "      <td>13793</td>\n",
       "      <td>13793</td>\n",
       "      <td>13793</td>\n",
       "      <td>13793</td>\n",
       "      <td>13793</td>\n",
       "      <td>13793</td>\n",
       "      <td>13793</td>\n",
       "      <td>13793</td>\n",
       "      <td>13793</td>\n",
       "      <td>13793</td>\n",
       "      <td>13793</td>\n",
       "      <td>13793</td>\n",
       "      <td>13793</td>\n",
       "      <td>13793</td>\n",
       "      <td>13793</td>\n",
       "      <td>13793</td>\n",
       "      <td>13793</td>\n",
       "      <td>13793</td>\n",
       "      <td>13793</td>\n",
       "      <td>13793</td>\n",
       "      <td>13793</td>\n",
       "    </tr>\n",
       "    <tr>\n",
       "      <td>MX</td>\n",
       "      <td>27900</td>\n",
       "      <td>27900</td>\n",
       "      <td>27900</td>\n",
       "      <td>27900</td>\n",
       "      <td>27900</td>\n",
       "      <td>27900</td>\n",
       "      <td>27900</td>\n",
       "      <td>27900</td>\n",
       "      <td>27900</td>\n",
       "      <td>27900</td>\n",
       "      <td>27900</td>\n",
       "      <td>27900</td>\n",
       "      <td>27900</td>\n",
       "      <td>27900</td>\n",
       "      <td>27900</td>\n",
       "      <td>27900</td>\n",
       "      <td>27900</td>\n",
       "      <td>27900</td>\n",
       "      <td>27900</td>\n",
       "      <td>27900</td>\n",
       "      <td>27900</td>\n",
       "      <td>27900</td>\n",
       "      <td>27900</td>\n",
       "    </tr>\n",
       "    <tr>\n",
       "      <td>RU</td>\n",
       "      <td>30783</td>\n",
       "      <td>30783</td>\n",
       "      <td>30783</td>\n",
       "      <td>30783</td>\n",
       "      <td>30783</td>\n",
       "      <td>30783</td>\n",
       "      <td>30783</td>\n",
       "      <td>30783</td>\n",
       "      <td>30783</td>\n",
       "      <td>30783</td>\n",
       "      <td>30783</td>\n",
       "      <td>30783</td>\n",
       "      <td>30783</td>\n",
       "      <td>30783</td>\n",
       "      <td>30783</td>\n",
       "      <td>30783</td>\n",
       "      <td>30783</td>\n",
       "      <td>30783</td>\n",
       "      <td>30783</td>\n",
       "      <td>30783</td>\n",
       "      <td>30783</td>\n",
       "      <td>30783</td>\n",
       "      <td>30783</td>\n",
       "    </tr>\n",
       "    <tr>\n",
       "      <td>US</td>\n",
       "      <td>5185</td>\n",
       "      <td>5185</td>\n",
       "      <td>5185</td>\n",
       "      <td>5185</td>\n",
       "      <td>5185</td>\n",
       "      <td>5185</td>\n",
       "      <td>5185</td>\n",
       "      <td>5185</td>\n",
       "      <td>5185</td>\n",
       "      <td>5185</td>\n",
       "      <td>5185</td>\n",
       "      <td>5185</td>\n",
       "      <td>5185</td>\n",
       "      <td>5185</td>\n",
       "      <td>5185</td>\n",
       "      <td>5185</td>\n",
       "      <td>5185</td>\n",
       "      <td>5185</td>\n",
       "      <td>5185</td>\n",
       "      <td>5185</td>\n",
       "      <td>5185</td>\n",
       "      <td>5185</td>\n",
       "      <td>5185</td>\n",
       "    </tr>\n",
       "  </tbody>\n",
       "</table>\n",
       "</div>"
      ],
      "text/plain": [
       "         video_id  trending_date  title  channel_title  category_id  category  \\\n",
       "country                                                                         \n",
       "CA          17338          17338  17338          17338        17338     17338   \n",
       "DE          22965          22965  22965          22965        22965     22965   \n",
       "FR          24085          24085  24085          24085        24085     24085   \n",
       "GB           3070           3070   3070           3070         3070      3070   \n",
       "IN          15222          15222  15222          15222        15222     15222   \n",
       "JP          10808          10808  10808          10808        10808     10808   \n",
       "KR          13793          13793  13793          13793        13793     13793   \n",
       "MX          27900          27900  27900          27900        27900     27900   \n",
       "RU          30783          30783  30783          30783        30783     30783   \n",
       "US           5185           5185   5185           5185         5185      5185   \n",
       "\n",
       "         publish_date  publish_time   tags  views  likes  dislikes  \\\n",
       "country                                                              \n",
       "CA              17338         17338  17338  17338  17338     17338   \n",
       "DE              22965         22965  22965  22965  22965     22965   \n",
       "FR              24085         24085  24085  24085  24085     24085   \n",
       "GB               3070          3070   3070   3070   3070      3070   \n",
       "IN              15222         15222  15222  15222  15222     15222   \n",
       "JP              10808         10808  10808  10808  10808     10808   \n",
       "KR              13793         13793  13793  13793  13793     13793   \n",
       "MX              27900         27900  27900  27900  27900     27900   \n",
       "RU              30783         30783  30783  30783  30783     30783   \n",
       "US               5185          5185   5185   5185   5185      5185   \n",
       "\n",
       "         comment_count  thumbnail_link  comments_disabled  ratings_disabled  \\\n",
       "country                                                                       \n",
       "CA               17338           17338              17338             17338   \n",
       "DE               22965           22965              22965             22965   \n",
       "FR               24085           24085              24085             24085   \n",
       "GB                3070            3070               3070              3070   \n",
       "IN               15222           15222              15222             15222   \n",
       "JP               10808           10808              10808             10808   \n",
       "KR               13793           13793              13793             13793   \n",
       "MX               27900           27900              27900             27900   \n",
       "RU               30783           30783              30783             30783   \n",
       "US                5185            5185               5185              5185   \n",
       "\n",
       "         video_error_or_removed  description  publish_timestamp  log_views  \\\n",
       "country                                                                      \n",
       "CA                        17338        17338              17338      17338   \n",
       "DE                        22965        22965              22965      22965   \n",
       "FR                        24085        24085              24085      24085   \n",
       "GB                         3070         3070               3070       3070   \n",
       "IN                        15222        15222              15222      15222   \n",
       "JP                        10808        10808              10808      10808   \n",
       "KR                        13793        13793              13793      13793   \n",
       "MX                        27900        27900              27900      27900   \n",
       "RU                        30783        30783              30783      30783   \n",
       "US                         5185         5185               5185       5185   \n",
       "\n",
       "         log_likes  log_dislikes  log_comment_count  \n",
       "country                                              \n",
       "CA           17338         17338              17338  \n",
       "DE           22965         22965              22965  \n",
       "FR           24085         24085              24085  \n",
       "GB            3070          3070               3070  \n",
       "IN           15222         15222              15222  \n",
       "JP           10808         10808              10808  \n",
       "KR           13793         13793              13793  \n",
       "MX           27900         27900              27900  \n",
       "RU           30783         30783              30783  \n",
       "US            5185          5185               5185  "
      ]
     },
     "execution_count": 19,
     "metadata": {},
     "output_type": "execute_result"
    }
   ],
   "source": [
    "country_video = df.groupby(['country']).count()\n",
    "country_video"
   ]
  },
  {
   "cell_type": "code",
   "execution_count": 20,
   "metadata": {},
   "outputs": [
    {
     "data": {
      "text/plain": [
       "0    Film & Animation\n",
       "1              Gaming\n",
       "2     News & Politics\n",
       "3    Film & Animation\n",
       "4              Comedy\n",
       "Name: category, dtype: object"
      ]
     },
     "execution_count": 20,
     "metadata": {},
     "output_type": "execute_result"
    }
   ],
   "source": [
    "category = df['category']\n",
    "category.head()"
   ]
  },
  {
   "cell_type": "code",
   "execution_count": 21,
   "metadata": {},
   "outputs": [
    {
     "data": {
      "text/plain": [
       "1                    Gaming\n",
       "2           News & Politics\n",
       "3          Film & Animation\n",
       "4                    Comedy\n",
       "5                    Sports\n",
       "               ...         \n",
       "96            Entertainment\n",
       "97                   Comedy\n",
       "98                   Sports\n",
       "99                   Comedy\n",
       "100    Science & Technology\n",
       "Name: category, Length: 100, dtype: object"
      ]
     },
     "execution_count": 21,
     "metadata": {},
     "output_type": "execute_result"
    }
   ],
   "source": [
    "category.loc[1:100]"
   ]
  },
  {
   "cell_type": "code",
   "execution_count": 22,
   "metadata": {},
   "outputs": [
    {
     "data": {
      "text/plain": [
       "Entertainment            50468\n",
       "People & Blogs           28045\n",
       "News & Politics          20327\n",
       "Sports                   12561\n",
       "Comedy                   10358\n",
       "Music                    10145\n",
       "Howto & Style             9580\n",
       "Film & Animation          8460\n",
       "Gaming                    5318\n",
       "Education                 3897\n",
       "Science & Technology      3404\n",
       "Autos & Vehicles          3274\n",
       "Pets & Animals            2271\n",
       "Nonprofits & Activism     1779\n",
       "Travel & Events            812\n",
       "Shows                      435\n",
       "Movies                      12\n",
       "Trailers                     3\n",
       "Name: category, dtype: int64"
      ]
     },
     "execution_count": 22,
     "metadata": {},
     "output_type": "execute_result"
    }
   ],
   "source": [
    "cat_counts = category.value_counts()\n",
    "cat_counts"
   ]
  },
  {
   "cell_type": "code",
   "execution_count": 23,
   "metadata": {},
   "outputs": [
    {
     "data": {
      "text/plain": [
       "Text(0, 0.5, 'Number of videos')"
      ]
     },
     "execution_count": 23,
     "metadata": {},
     "output_type": "execute_result"
    },
    {
     "data": {
      "image/png": "[encoded data removed]",
      "text/plain": [
       "<Figure size 720x720 with 1 Axes>"
      ]
     },
     "metadata": {
      "needs_background": "light"
     },
     "output_type": "display_data"
    }
   ],
   "source": [
    "fig = plt.figure(figsize=(10,10)) # define plot area\n",
    "ax = fig.gca() # define axis    \n",
    "cat_counts.plot.bar(ax = ax) # Use the plot.bar method on the counts data frame\n",
    "ax.set_title('Number of videos by category') # Give the plot a main title\n",
    "ax.set_xlabel('Category') # Set text for the x axis\n",
    "ax.set_ylabel('Number of videos')# Set text for y axis"
   ]
  },
  {
   "cell_type": "code",
   "execution_count": 13,
   "metadata": {},
   "outputs": [
    {
     "data": {
      "text/plain": [
       "0    FR\n",
       "1    FR\n",
       "2    FR\n",
       "3    FR\n",
       "4    FR\n",
       "Name: country, dtype: object"
      ]
     },
     "execution_count": 13,
     "metadata": {},
     "output_type": "execute_result"
    }
   ],
   "source": [
    "country = df['country']\n",
    "country.head()"
   ]
  },
  {
   "cell_type": "code",
   "execution_count": 14,
   "metadata": {},
   "outputs": [
    {
     "data": {
      "text/plain": [
       "RU    30783\n",
       "MX    27900\n",
       "FR    24085\n",
       "DE    22965\n",
       "CA    17338\n",
       "IN    15222\n",
       "KR    13793\n",
       "JP    10808\n",
       "US     5185\n",
       "GB     3070\n",
       "Name: country, dtype: int64"
      ]
     },
     "execution_count": 14,
     "metadata": {},
     "output_type": "execute_result"
    }
   ],
   "source": [
    "country_count = df['country'].value_counts() \n",
    "country_count"
   ]
  },
  {
   "cell_type": "code",
   "execution_count": 15,
   "metadata": {},
   "outputs": [
    {
     "data": {
      "text/plain": [
       "RU    30783\n",
       "MX    27900\n",
       "FR    24085\n",
       "DE    22965\n",
       "CA    17338\n",
       "IN    15222\n",
       "KR    13793\n",
       "JP    10808\n",
       "US     5185\n",
       "GB     3070\n",
       "Name: country, dtype: int64"
      ]
     },
     "execution_count": 15,
     "metadata": {},
     "output_type": "execute_result"
    }
   ],
   "source": [
    "df['country'].value_counts() "
   ]
  },
  {
   "cell_type": "code",
   "execution_count": 45,
   "metadata": {
    "scrolled": true
   },
   "outputs": [
    {
     "data": {
      "text/plain": [
       "Text(0, 0.5, 'Number of videos')"
      ]
     },
     "execution_count": 45,
     "metadata": {},
     "output_type": "execute_result"
    },
    {
     "data": {
      "image/png": "[encoded data removed]",
      "text/plain": [
       "<Figure size 432x432 with 1 Axes>"
      ]
     },
     "metadata": {
      "needs_background": "light"
     },
     "output_type": "display_data"
    }
   ],
   "source": [
    "fig = plt.figure(figsize=(6,6)) # define plot area\n",
    "ax = fig.gca() # define axis    \n",
    "country_count.plot.bar(ax = ax) # Use the plot.bar method on the counts data frame\n",
    "ax.set_title('Number videos by country') # Give the plot a main title\n",
    "ax.set_xlabel('Country') # Set text for the x axis\n",
    "ax.set_ylabel('Number of videos')# Set text for y axis"
   ]
  },
  {
   "cell_type": "code",
   "execution_count": 17,
   "metadata": {},
   "outputs": [
    {
     "data": {
      "text/plain": [
       "Text(0, 0.5, 'Likes')"
      ]
     },
     "execution_count": 17,
     "metadata": {},
     "output_type": "execute_result"
    },
    {
     "data": {
      "image/png": "[encoded data removed]",
      "text/plain": [
       "<Figure size 720x720 with 1 Axes>"
      ]
     },
     "metadata": {
      "needs_background": "light"
     },
     "output_type": "display_data"
    }
   ],
   "source": [
    "import matplotlib.pyplot as plt\n",
    "fig = plt.figure(figsize=(10, 10)) # define plot area\n",
    "ax = fig.gca() # define axis                   \n",
    "df.plot(kind = 'scatter', x = 'log_views', y = 'log_likes', ax = ax)\n",
    "ax.set_title('Scatter plot of views vs likes') # Give the plot a main title\n",
    "ax.set_xlabel('Views') # Set text for the x axis\n",
    "ax.set_ylabel('Likes')# Set text for y axis"
   ]
  },
  {
   "cell_type": "code",
   "execution_count": 18,
   "metadata": {},
   "outputs": [
    {
     "data": {
      "text/plain": [
       "Text(0, 0.5, 'Likes')"
      ]
     },
     "execution_count": 18,
     "metadata": {},
     "output_type": "execute_result"
    },
    {
     "data": {
      "image/png": "[encoded data removed]",
      "text/plain": [
       "<Figure size 720x720 with 1 Axes>"
      ]
     },
     "metadata": {
      "needs_background": "light"
     },
     "output_type": "display_data"
    }
   ],
   "source": [
    "import matplotlib.pyplot as plt\n",
    "fig = plt.figure(figsize=(10, 10)) # define plot area\n",
    "ax = fig.gca() # define axis                   \n",
    "df.plot(kind = 'scatter', x = 'log_likes', y = 'log_views', ax = ax)\n",
    "ax.set_title('Scatter plot of views vs likes') # Give the plot a main title\n",
    "ax.set_xlabel('Views') # Set text for the x axis\n",
    "ax.set_ylabel('Likes')# Set text for y axis"
   ]
  },
  {
   "cell_type": "code",
   "execution_count": 19,
   "metadata": {},
   "outputs": [
    {
     "data": {
      "text/plain": [
       "Text(0, 0.5, 'Dislikes')"
      ]
     },
     "execution_count": 19,
     "metadata": {},
     "output_type": "execute_result"
    },
    {
     "data": {
      "image/png": "[encoded data removed]",
      "text/plain": [
       "<Figure size 720x720 with 1 Axes>"
      ]
     },
     "metadata": {
      "needs_background": "light"
     },
     "output_type": "display_data"
    }
   ],
   "source": [
    "import matplotlib.pyplot as plt\n",
    "fig = plt.figure(figsize=(10, 10)) # define plot area\n",
    "ax = fig.gca() # define axis                   \n",
    "df.plot(kind = 'scatter', x = 'log_views', y = 'log_dislikes', ax = ax)\n",
    "ax.set_title('Scatter plot of views vs dislikes') # Give the plot a main title\n",
    "ax.set_xlabel('Views') # Set text for the x axis\n",
    "ax.set_ylabel('Dislikes')# Set text for y axis"
   ]
  },
  {
   "cell_type": "code",
   "execution_count": 20,
   "metadata": {},
   "outputs": [
    {
     "data": {
      "text/plain": [
       "Text(0, 0.5, 'Views')"
      ]
     },
     "execution_count": 20,
     "metadata": {},
     "output_type": "execute_result"
    },
    {
     "data": {
      "image/png": "[encoded data removed]",
      "text/plain": [
       "<Figure size 720x720 with 1 Axes>"
      ]
     },
     "metadata": {
      "needs_background": "light"
     },
     "output_type": "display_data"
    }
   ],
   "source": [
    "import matplotlib.pyplot as plt\n",
    "fig = plt.figure(figsize=(10, 10)) # define plot area\n",
    "ax = fig.gca() # define axis                   \n",
    "df.plot(kind = 'scatter', x = 'log_dislikes', y = 'log_views', ax = ax)\n",
    "ax.set_title('Scatter plot of views vs dislikes') # Give the plot a main title\n",
    "ax.set_xlabel('Dislikes') # Set text for the x axis\n",
    "ax.set_ylabel('Views')# Set text for y axis"
   ]
  },
  {
   "cell_type": "code",
   "execution_count": 21,
   "metadata": {},
   "outputs": [
    {
     "data": {
      "text/plain": [
       "<matplotlib.axes._subplots.AxesSubplot at 0x1a20269dd8>"
      ]
     },
     "execution_count": 21,
     "metadata": {},
     "output_type": "execute_result"
    },
    {
     "data": {
      "image/png": "[encoded data removed]",
      "text/plain": [
       "<Figure size 720x720 with 1 Axes>"
      ]
     },
     "metadata": {
      "needs_background": "light"
     },
     "output_type": "display_data"
    }
   ],
   "source": [
    "plt.figure(figsize = (10,10))\n",
    "sns.boxplot(x = \"country\", y = 'log_views', data = df)"
   ]
  },
  {
   "cell_type": "code",
   "execution_count": 22,
   "metadata": {},
   "outputs": [
    {
     "data": {
      "text/plain": [
       "<matplotlib.axes._subplots.AxesSubplot at 0x1a2073a080>"
      ]
     },
     "execution_count": 22,
     "metadata": {},
     "output_type": "execute_result"
    },
    {
     "data": {
      "image/png": "[encoded data removed]",
      "text/plain": [
       "<Figure size 720x720 with 1 Axes>"
      ]
     },
     "metadata": {
      "needs_background": "light"
     },
     "output_type": "display_data"
    }
   ],
   "source": [
    "plt.figure(figsize = (10,10))\n",
    "sns.boxplot(x = \"country\", y = 'log_likes', data = df)"
   ]
  },
  {
   "cell_type": "code",
   "execution_count": 23,
   "metadata": {
    "scrolled": true
   },
   "outputs": [
    {
     "data": {
      "text/plain": [
       "<matplotlib.axes._subplots.AxesSubplot at 0x1a203e5978>"
      ]
     },
     "execution_count": 23,
     "metadata": {},
     "output_type": "execute_result"
    },
    {
     "data": {
      "image/png": "[encoded data removed]",
      "text/plain": [
       "<Figure size 720x720 with 1 Axes>"
      ]
     },
     "metadata": {
      "needs_background": "light"
     },
     "output_type": "display_data"
    }
   ],
   "source": [
    "plt.figure(figsize = (10,10))\n",
    "sns.boxplot(x = \"country\", y = 'log_dislikes', data = df)"
   ]
  },
  {
   "cell_type": "code",
   "execution_count": null,
   "metadata": {},
   "outputs": [],
   "source": [
    "df_categories[df['category'].isin(['Entertainment','People & Blogs','News & Politics'])][['views','likes','dislikes']]"
   ]
  },
  {
   "cell_type": "code",
   "execution_count": 24,
   "metadata": {
    "scrolled": true
   },
   "outputs": [
    {
     "data": {
      "text/html": [
       "<div>\n",
       "<style scoped>\n",
       "    .dataframe tbody tr th:only-of-type {\n",
       "        vertical-align: middle;\n",
       "    }\n",
       "\n",
       "    .dataframe tbody tr th {\n",
       "        vertical-align: top;\n",
       "    }\n",
       "\n",
       "    .dataframe thead th {\n",
       "        text-align: right;\n",
       "    }\n",
       "</style>\n",
       "<table border=\"1\" class=\"dataframe\">\n",
       "  <thead>\n",
       "    <tr style=\"text-align: right;\">\n",
       "      <th></th>\n",
       "      <th>title</th>\n",
       "      <th>country</th>\n",
       "      <th>likes</th>\n",
       "    </tr>\n",
       "  </thead>\n",
       "  <tbody>\n",
       "    <tr>\n",
       "      <td>8</td>\n",
       "      <td>DALS S08 - Lenni-Kim danse un Tango avec Denit...</td>\n",
       "      <td>FR</td>\n",
       "      <td>618</td>\n",
       "    </tr>\n",
       "    <tr>\n",
       "      <td>10</td>\n",
       "      <td>MAGIE - IL FAIT APPARAÏTRE UN AVION DEVANT 230...</td>\n",
       "      <td>FR</td>\n",
       "      <td>34</td>\n",
       "    </tr>\n",
       "    <tr>\n",
       "      <td>14</td>\n",
       "      <td>Michel Sardou : Les révélations inédit de Loua...</td>\n",
       "      <td>FR</td>\n",
       "      <td>15</td>\n",
       "    </tr>\n",
       "    <tr>\n",
       "      <td>17</td>\n",
       "      <td>LES 5 MEILLEURS MAGICIENS DU MONDE PASSÉ SUR I...</td>\n",
       "      <td>FR</td>\n",
       "      <td>960</td>\n",
       "    </tr>\n",
       "    <tr>\n",
       "      <td>22</td>\n",
       "      <td>LES DILEMMES EN LIVE ! (REDIFFUSION)</td>\n",
       "      <td>FR</td>\n",
       "      <td>1556</td>\n",
       "    </tr>\n",
       "    <tr>\n",
       "      <td>...</td>\n",
       "      <td>...</td>\n",
       "      <td>...</td>\n",
       "      <td>...</td>\n",
       "    </tr>\n",
       "    <tr>\n",
       "      <td>171134</td>\n",
       "      <td>Șoc! Fernando și Ciobi au fost eliminați de la...</td>\n",
       "      <td>DE</td>\n",
       "      <td>945</td>\n",
       "    </tr>\n",
       "    <tr>\n",
       "      <td>171139</td>\n",
       "      <td>لحظة تتويج ملف التلاتي بكأس العالم 2026 -خسارة...</td>\n",
       "      <td>DE</td>\n",
       "      <td>1915</td>\n",
       "    </tr>\n",
       "    <tr>\n",
       "      <td>171140</td>\n",
       "      <td>Simon Cowell Falls In LOVE With 'Ms. Trysh' Bu...</td>\n",
       "      <td>DE</td>\n",
       "      <td>8688</td>\n",
       "    </tr>\n",
       "    <tr>\n",
       "      <td>171142</td>\n",
       "      <td>வாணி ராணி - VAANI RANI -  Episode 1593 - 13/6/...</td>\n",
       "      <td>DE</td>\n",
       "      <td>2197</td>\n",
       "    </tr>\n",
       "    <tr>\n",
       "      <td>171146</td>\n",
       "      <td>НЕРЯХА ДЖО! БУРГЕР для детей и взрослых (здоро...</td>\n",
       "      <td>DE</td>\n",
       "      <td>35688</td>\n",
       "    </tr>\n",
       "  </tbody>\n",
       "</table>\n",
       "<p>50468 rows × 3 columns</p>\n",
       "</div>"
      ],
      "text/plain": [
       "                                                    title country  likes\n",
       "8       DALS S08 - Lenni-Kim danse un Tango avec Denit...      FR    618\n",
       "10      MAGIE - IL FAIT APPARAÏTRE UN AVION DEVANT 230...      FR     34\n",
       "14      Michel Sardou : Les révélations inédit de Loua...      FR     15\n",
       "17      LES 5 MEILLEURS MAGICIENS DU MONDE PASSÉ SUR I...      FR    960\n",
       "22                   LES DILEMMES EN LIVE ! (REDIFFUSION)      FR   1556\n",
       "...                                                   ...     ...    ...\n",
       "171134  Șoc! Fernando și Ciobi au fost eliminați de la...      DE    945\n",
       "171139  لحظة تتويج ملف التلاتي بكأس العالم 2026 -خسارة...      DE   1915\n",
       "171140  Simon Cowell Falls In LOVE With 'Ms. Trysh' Bu...      DE   8688\n",
       "171142  வாணி ராணி - VAANI RANI -  Episode 1593 - 13/6/...      DE   2197\n",
       "171146  НЕРЯХА ДЖО! БУРГЕР для детей и взрослых (здоро...      DE  35688\n",
       "\n",
       "[50468 rows x 3 columns]"
      ]
     },
     "execution_count": 24,
     "metadata": {},
     "output_type": "execute_result"
    }
   ],
   "source": [
    "entertainment = df[df['category'].isin(['Entertainment'])][['title','country','likes']]\n",
    "entertainment"
   ]
  },
  {
   "cell_type": "code",
   "execution_count": 25,
   "metadata": {},
   "outputs": [
    {
     "data": {
      "text/html": [
       "<div>\n",
       "<style scoped>\n",
       "    .dataframe tbody tr th:only-of-type {\n",
       "        vertical-align: middle;\n",
       "    }\n",
       "\n",
       "    .dataframe tbody tr th {\n",
       "        vertical-align: top;\n",
       "    }\n",
       "\n",
       "    .dataframe thead th {\n",
       "        text-align: right;\n",
       "    }\n",
       "</style>\n",
       "<table border=\"1\" class=\"dataframe\">\n",
       "  <thead>\n",
       "    <tr style=\"text-align: right;\">\n",
       "      <th></th>\n",
       "      <th>video_id</th>\n",
       "      <th>trending_date</th>\n",
       "      <th>title</th>\n",
       "      <th>channel_title</th>\n",
       "      <th>category_id</th>\n",
       "      <th>category</th>\n",
       "      <th>publish_date</th>\n",
       "      <th>publish_time</th>\n",
       "      <th>tags</th>\n",
       "      <th>views</th>\n",
       "      <th>likes</th>\n",
       "      <th>dislikes</th>\n",
       "      <th>comment_count</th>\n",
       "      <th>thumbnail_link</th>\n",
       "      <th>comments_disabled</th>\n",
       "      <th>ratings_disabled</th>\n",
       "      <th>video_error_or_removed</th>\n",
       "      <th>description</th>\n",
       "      <th>country</th>\n",
       "      <th>publish_timestamp</th>\n",
       "      <th>log_views</th>\n",
       "      <th>log_likes</th>\n",
       "      <th>log_dislikes</th>\n",
       "      <th>log_comment_count</th>\n",
       "    </tr>\n",
       "  </thead>\n",
       "  <tbody>\n",
       "    <tr>\n",
       "      <td>8</td>\n",
       "      <td>_wChN4yabJM</td>\n",
       "      <td>2017-11-14</td>\n",
       "      <td>DALS S08 - Lenni-Kim danse un Tango avec Denit...</td>\n",
       "      <td>Danse avec les stars</td>\n",
       "      <td>24</td>\n",
       "      <td>Entertainment</td>\n",
       "      <td>2017-11-13</td>\n",
       "      <td>12:00:02</td>\n",
       "      <td>Lenni-Kim\"|\"Denitsa Ikonomova\"|\"tango\"|\"Justin...</td>\n",
       "      <td>19004</td>\n",
       "      <td>618</td>\n",
       "      <td>4</td>\n",
       "      <td>44</td>\n",
       "      <td>https://i.ytimg.com/vi/_wChN4yabJM/default.jpg</td>\n",
       "      <td>False</td>\n",
       "      <td>False</td>\n",
       "      <td>False</td>\n",
       "      <td>Pour la soirée du Switch, le public a décidé d...</td>\n",
       "      <td>FR</td>\n",
       "      <td>2017-11-13 12:00:02</td>\n",
       "      <td>9.852457</td>\n",
       "      <td>6.428105</td>\n",
       "      <td>1.609438</td>\n",
       "      <td>3.806662</td>\n",
       "    </tr>\n",
       "    <tr>\n",
       "      <td>10</td>\n",
       "      <td>hWtTJ3Q37rY</td>\n",
       "      <td>2017-11-14</td>\n",
       "      <td>MAGIE - IL FAIT APPARAÏTRE UN AVION DEVANT 230...</td>\n",
       "      <td>Cyril Ayrau</td>\n",
       "      <td>24</td>\n",
       "      <td>Entertainment</td>\n",
       "      <td>2017-11-13</td>\n",
       "      <td>05:54:40</td>\n",
       "      <td>CYRIL AYRAU\"|\"Magicien Bergerac\"|\"Apparition a...</td>\n",
       "      <td>5114</td>\n",
       "      <td>34</td>\n",
       "      <td>1</td>\n",
       "      <td>11</td>\n",
       "      <td>https://i.ytimg.com/vi/hWtTJ3Q37rY/default.jpg</td>\n",
       "      <td>False</td>\n",
       "      <td>False</td>\n",
       "      <td>False</td>\n",
       "      <td>Cyril Ayrau Le Magicien de Bergerac fait appar...</td>\n",
       "      <td>FR</td>\n",
       "      <td>2017-11-13 05:54:40</td>\n",
       "      <td>8.539933</td>\n",
       "      <td>3.555348</td>\n",
       "      <td>0.693147</td>\n",
       "      <td>2.484907</td>\n",
       "    </tr>\n",
       "    <tr>\n",
       "      <td>14</td>\n",
       "      <td>O7JJllvepts</td>\n",
       "      <td>2017-11-14</td>\n",
       "      <td>Michel Sardou : Les révélations inédit de Loua...</td>\n",
       "      <td>koi de neuf? Buzz</td>\n",
       "      <td>24</td>\n",
       "      <td>Entertainment</td>\n",
       "      <td>2017-11-13</td>\n",
       "      <td>00:04:15</td>\n",
       "      <td>Michel Sardou\"|\"Louane Emera\"|\"Je vole</td>\n",
       "      <td>7709</td>\n",
       "      <td>15</td>\n",
       "      <td>7</td>\n",
       "      <td>6</td>\n",
       "      <td>https://i.ytimg.com/vi/O7JJllvepts/default.jpg</td>\n",
       "      <td>False</td>\n",
       "      <td>False</td>\n",
       "      <td>False</td>\n",
       "      <td>Michel Sardou tacle Louane Emera : Elle dit de...</td>\n",
       "      <td>FR</td>\n",
       "      <td>2017-11-13 00:04:15</td>\n",
       "      <td>8.950273</td>\n",
       "      <td>2.772589</td>\n",
       "      <td>2.079442</td>\n",
       "      <td>1.945910</td>\n",
       "    </tr>\n",
       "    <tr>\n",
       "      <td>17</td>\n",
       "      <td>mAbw28ePp5c</td>\n",
       "      <td>2017-11-14</td>\n",
       "      <td>LES 5 MEILLEURS MAGICIENS DU MONDE PASSÉ SUR I...</td>\n",
       "      <td>HEROZ</td>\n",
       "      <td>24</td>\n",
       "      <td>Entertainment</td>\n",
       "      <td>2017-11-11</td>\n",
       "      <td>17:37:29</td>\n",
       "      <td>HEROZ\"|\"LES 5 MEILLEURS MAGICIENS DU MONDE PAS...</td>\n",
       "      <td>50733</td>\n",
       "      <td>960</td>\n",
       "      <td>75</td>\n",
       "      <td>129</td>\n",
       "      <td>https://i.ytimg.com/vi/mAbw28ePp5c/default.jpg</td>\n",
       "      <td>False</td>\n",
       "      <td>False</td>\n",
       "      <td>False</td>\n",
       "      <td>top 10 magie magie facile magique filmé en dir...</td>\n",
       "      <td>FR</td>\n",
       "      <td>2017-11-11 17:37:29</td>\n",
       "      <td>10.834352</td>\n",
       "      <td>6.867974</td>\n",
       "      <td>4.330733</td>\n",
       "      <td>4.867534</td>\n",
       "    </tr>\n",
       "    <tr>\n",
       "      <td>22</td>\n",
       "      <td>ondy6jke_SQ</td>\n",
       "      <td>2017-11-14</td>\n",
       "      <td>LES DILEMMES EN LIVE ! (REDIFFUSION)</td>\n",
       "      <td>Les dilemmes</td>\n",
       "      <td>24</td>\n",
       "      <td>Entertainment</td>\n",
       "      <td>2017-11-12</td>\n",
       "      <td>20:23:08</td>\n",
       "      <td>tu\"|\"préfères\"|\"les\"|\"dilemme\"|\"plus\"|\"diffici...</td>\n",
       "      <td>43674</td>\n",
       "      <td>1556</td>\n",
       "      <td>79</td>\n",
       "      <td>322</td>\n",
       "      <td>https://i.ytimg.com/vi/ondy6jke_SQ/default.jpg</td>\n",
       "      <td>False</td>\n",
       "      <td>False</td>\n",
       "      <td>False</td>\n",
       "      <td>Saurez-vous faire face aux choix les plus diff...</td>\n",
       "      <td>FR</td>\n",
       "      <td>2017-11-12 20:23:08</td>\n",
       "      <td>10.684531</td>\n",
       "      <td>7.350516</td>\n",
       "      <td>4.382027</td>\n",
       "      <td>5.777652</td>\n",
       "    </tr>\n",
       "    <tr>\n",
       "      <td>...</td>\n",
       "      <td>...</td>\n",
       "      <td>...</td>\n",
       "      <td>...</td>\n",
       "      <td>...</td>\n",
       "      <td>...</td>\n",
       "      <td>...</td>\n",
       "      <td>...</td>\n",
       "      <td>...</td>\n",
       "      <td>...</td>\n",
       "      <td>...</td>\n",
       "      <td>...</td>\n",
       "      <td>...</td>\n",
       "      <td>...</td>\n",
       "      <td>...</td>\n",
       "      <td>...</td>\n",
       "      <td>...</td>\n",
       "      <td>...</td>\n",
       "      <td>...</td>\n",
       "      <td>...</td>\n",
       "      <td>...</td>\n",
       "      <td>...</td>\n",
       "      <td>...</td>\n",
       "      <td>...</td>\n",
       "      <td>...</td>\n",
       "    </tr>\n",
       "    <tr>\n",
       "      <td>171134</td>\n",
       "      <td>Gn1s5k5DVlE</td>\n",
       "      <td>2018-06-14</td>\n",
       "      <td>Șoc! Fernando și Ciobi au fost eliminați de la...</td>\n",
       "      <td>Chefi la cuțite</td>\n",
       "      <td>24</td>\n",
       "      <td>Entertainment</td>\n",
       "      <td>2018-06-12</td>\n",
       "      <td>20:12:50</td>\n",
       "      <td>fernando|\"ciobi\"|\"eliminati\"|\"Chefi la cutite\"...</td>\n",
       "      <td>120438</td>\n",
       "      <td>945</td>\n",
       "      <td>416</td>\n",
       "      <td>594</td>\n",
       "      <td>https://i.ytimg.com/vi/Gn1s5k5DVlE/default.jpg</td>\n",
       "      <td>False</td>\n",
       "      <td>False</td>\n",
       "      <td>False</td>\n",
       "      <td>Șoc! Fernando și Ciobi au fost eliminați de la...</td>\n",
       "      <td>DE</td>\n",
       "      <td>2018-06-12 20:12:50</td>\n",
       "      <td>11.698899</td>\n",
       "      <td>6.852243</td>\n",
       "      <td>6.033086</td>\n",
       "      <td>6.388561</td>\n",
       "    </tr>\n",
       "    <tr>\n",
       "      <td>171139</td>\n",
       "      <td>VdOGUFr3glA</td>\n",
       "      <td>2018-06-14</td>\n",
       "      <td>لحظة تتويج ملف التلاتي بكأس العالم 2026 -خسارة...</td>\n",
       "      <td>Sahifa-Tv قناة الصحيفة</td>\n",
       "      <td>24</td>\n",
       "      <td>Entertainment</td>\n",
       "      <td>2018-06-13</td>\n",
       "      <td>11:00:10</td>\n",
       "      <td>[none]</td>\n",
       "      <td>429897</td>\n",
       "      <td>1915</td>\n",
       "      <td>1021</td>\n",
       "      <td>1635</td>\n",
       "      <td>https://i.ytimg.com/vi/VdOGUFr3glA/default.jpg</td>\n",
       "      <td>False</td>\n",
       "      <td>False</td>\n",
       "      <td>False</td>\n",
       "      <td>🛑Télécharge Onefootball maintenant :  https://...</td>\n",
       "      <td>DE</td>\n",
       "      <td>2018-06-13 11:00:10</td>\n",
       "      <td>12.971303</td>\n",
       "      <td>7.557995</td>\n",
       "      <td>6.929517</td>\n",
       "      <td>7.400010</td>\n",
       "    </tr>\n",
       "    <tr>\n",
       "      <td>171140</td>\n",
       "      <td>mSJ_Qb9-WtA</td>\n",
       "      <td>2018-06-14</td>\n",
       "      <td>Simon Cowell Falls In LOVE With 'Ms. Trysh' Bu...</td>\n",
       "      <td>Talent Recap</td>\n",
       "      <td>24</td>\n",
       "      <td>Entertainment</td>\n",
       "      <td>2018-06-13</td>\n",
       "      <td>01:36:56</td>\n",
       "      <td>America’s got talent|\"Americas got talent\"|\"ag...</td>\n",
       "      <td>560827</td>\n",
       "      <td>8688</td>\n",
       "      <td>147</td>\n",
       "      <td>696</td>\n",
       "      <td>https://i.ytimg.com/vi/mSJ_Qb9-WtA/default.jpg</td>\n",
       "      <td>False</td>\n",
       "      <td>False</td>\n",
       "      <td>False</td>\n",
       "      <td>#Full Segment | America’s Got Talent Season 13...</td>\n",
       "      <td>DE</td>\n",
       "      <td>2018-06-13 01:36:56</td>\n",
       "      <td>13.237170</td>\n",
       "      <td>9.069813</td>\n",
       "      <td>4.997212</td>\n",
       "      <td>6.546785</td>\n",
       "    </tr>\n",
       "    <tr>\n",
       "      <td>171142</td>\n",
       "      <td>c5ZB0p0zBg0</td>\n",
       "      <td>2018-06-14</td>\n",
       "      <td>வாணி ராணி - VAANI RANI -  Episode 1593 - 13/6/...</td>\n",
       "      <td>RadaanMedia</td>\n",
       "      <td>24</td>\n",
       "      <td>Entertainment</td>\n",
       "      <td>2018-06-13</td>\n",
       "      <td>16:30:00</td>\n",
       "      <td>Vaani rani|\"rani\"|\"Radhika in funny character\"...</td>\n",
       "      <td>341799</td>\n",
       "      <td>2197</td>\n",
       "      <td>329</td>\n",
       "      <td>267</td>\n",
       "      <td>https://i.ytimg.com/vi/c5ZB0p0zBg0/default.jpg</td>\n",
       "      <td>False</td>\n",
       "      <td>False</td>\n",
       "      <td>False</td>\n",
       "      <td>Subscribers Link: http://bit.ly/2qb69dZConnect...</td>\n",
       "      <td>DE</td>\n",
       "      <td>2018-06-13 16:30:00</td>\n",
       "      <td>12.741981</td>\n",
       "      <td>7.695303</td>\n",
       "      <td>5.799093</td>\n",
       "      <td>5.590987</td>\n",
       "    </tr>\n",
       "    <tr>\n",
       "      <td>171146</td>\n",
       "      <td>WxJ4SfmUGgY</td>\n",
       "      <td>2018-06-14</td>\n",
       "      <td>НЕРЯХА ДЖО! БУРГЕР для детей и взрослых (здоро...</td>\n",
       "      <td>oblomoff</td>\n",
       "      <td>24</td>\n",
       "      <td>Entertainment</td>\n",
       "      <td>2018-06-13</td>\n",
       "      <td>11:04:35</td>\n",
       "      <td>рецепт|\"дачный рецепт\"|\"рецепт на углях\"|\"реце...</td>\n",
       "      <td>587480</td>\n",
       "      <td>35688</td>\n",
       "      <td>1207</td>\n",
       "      <td>2380</td>\n",
       "      <td>https://i.ytimg.com/vi/WxJ4SfmUGgY/default.jpg</td>\n",
       "      <td>False</td>\n",
       "      <td>False</td>\n",
       "      <td>False</td>\n",
       "      <td>Купи свой Биван со скидкой 20% по промокоду СЛ...</td>\n",
       "      <td>DE</td>\n",
       "      <td>2018-06-13 11:04:35</td>\n",
       "      <td>13.283599</td>\n",
       "      <td>10.482598</td>\n",
       "      <td>7.096721</td>\n",
       "      <td>7.775276</td>\n",
       "    </tr>\n",
       "  </tbody>\n",
       "</table>\n",
       "<p>50468 rows × 24 columns</p>\n",
       "</div>"
      ],
      "text/plain": [
       "           video_id trending_date  \\\n",
       "8       _wChN4yabJM    2017-11-14   \n",
       "10      hWtTJ3Q37rY    2017-11-14   \n",
       "14      O7JJllvepts    2017-11-14   \n",
       "17      mAbw28ePp5c    2017-11-14   \n",
       "22      ondy6jke_SQ    2017-11-14   \n",
       "...             ...           ...   \n",
       "171134  Gn1s5k5DVlE    2018-06-14   \n",
       "171139  VdOGUFr3glA    2018-06-14   \n",
       "171140  mSJ_Qb9-WtA    2018-06-14   \n",
       "171142  c5ZB0p0zBg0    2018-06-14   \n",
       "171146  WxJ4SfmUGgY    2018-06-14   \n",
       "\n",
       "                                                    title  \\\n",
       "8       DALS S08 - Lenni-Kim danse un Tango avec Denit...   \n",
       "10      MAGIE - IL FAIT APPARAÏTRE UN AVION DEVANT 230...   \n",
       "14      Michel Sardou : Les révélations inédit de Loua...   \n",
       "17      LES 5 MEILLEURS MAGICIENS DU MONDE PASSÉ SUR I...   \n",
       "22                   LES DILEMMES EN LIVE ! (REDIFFUSION)   \n",
       "...                                                   ...   \n",
       "171134  Șoc! Fernando și Ciobi au fost eliminați de la...   \n",
       "171139  لحظة تتويج ملف التلاتي بكأس العالم 2026 -خسارة...   \n",
       "171140  Simon Cowell Falls In LOVE With 'Ms. Trysh' Bu...   \n",
       "171142  வாணி ராணி - VAANI RANI -  Episode 1593 - 13/6/...   \n",
       "171146  НЕРЯХА ДЖО! БУРГЕР для детей и взрослых (здоро...   \n",
       "\n",
       "                 channel_title  category_id       category publish_date  \\\n",
       "8         Danse avec les stars           24  Entertainment   2017-11-13   \n",
       "10                 Cyril Ayrau           24  Entertainment   2017-11-13   \n",
       "14           koi de neuf? Buzz           24  Entertainment   2017-11-13   \n",
       "17                       HEROZ           24  Entertainment   2017-11-11   \n",
       "22                Les dilemmes           24  Entertainment   2017-11-12   \n",
       "...                        ...          ...            ...          ...   \n",
       "171134         Chefi la cuțite           24  Entertainment   2018-06-12   \n",
       "171139  Sahifa-Tv قناة الصحيفة           24  Entertainment   2018-06-13   \n",
       "171140            Talent Recap           24  Entertainment   2018-06-13   \n",
       "171142             RadaanMedia           24  Entertainment   2018-06-13   \n",
       "171146                oblomoff           24  Entertainment   2018-06-13   \n",
       "\n",
       "       publish_time                                               tags  \\\n",
       "8          12:00:02  Lenni-Kim\"|\"Denitsa Ikonomova\"|\"tango\"|\"Justin...   \n",
       "10         05:54:40  CYRIL AYRAU\"|\"Magicien Bergerac\"|\"Apparition a...   \n",
       "14         00:04:15             Michel Sardou\"|\"Louane Emera\"|\"Je vole   \n",
       "17         17:37:29  HEROZ\"|\"LES 5 MEILLEURS MAGICIENS DU MONDE PAS...   \n",
       "22         20:23:08  tu\"|\"préfères\"|\"les\"|\"dilemme\"|\"plus\"|\"diffici...   \n",
       "...             ...                                                ...   \n",
       "171134     20:12:50  fernando|\"ciobi\"|\"eliminati\"|\"Chefi la cutite\"...   \n",
       "171139     11:00:10                                             [none]   \n",
       "171140     01:36:56  America’s got talent|\"Americas got talent\"|\"ag...   \n",
       "171142     16:30:00  Vaani rani|\"rani\"|\"Radhika in funny character\"...   \n",
       "171146     11:04:35  рецепт|\"дачный рецепт\"|\"рецепт на углях\"|\"реце...   \n",
       "\n",
       "         views  likes  dislikes  comment_count  \\\n",
       "8        19004    618         4             44   \n",
       "10        5114     34         1             11   \n",
       "14        7709     15         7              6   \n",
       "17       50733    960        75            129   \n",
       "22       43674   1556        79            322   \n",
       "...        ...    ...       ...            ...   \n",
       "171134  120438    945       416            594   \n",
       "171139  429897   1915      1021           1635   \n",
       "171140  560827   8688       147            696   \n",
       "171142  341799   2197       329            267   \n",
       "171146  587480  35688      1207           2380   \n",
       "\n",
       "                                        thumbnail_link  comments_disabled  \\\n",
       "8       https://i.ytimg.com/vi/_wChN4yabJM/default.jpg              False   \n",
       "10      https://i.ytimg.com/vi/hWtTJ3Q37rY/default.jpg              False   \n",
       "14      https://i.ytimg.com/vi/O7JJllvepts/default.jpg              False   \n",
       "17      https://i.ytimg.com/vi/mAbw28ePp5c/default.jpg              False   \n",
       "22      https://i.ytimg.com/vi/ondy6jke_SQ/default.jpg              False   \n",
       "...                                                ...                ...   \n",
       "171134  https://i.ytimg.com/vi/Gn1s5k5DVlE/default.jpg              False   \n",
       "171139  https://i.ytimg.com/vi/VdOGUFr3glA/default.jpg              False   \n",
       "171140  https://i.ytimg.com/vi/mSJ_Qb9-WtA/default.jpg              False   \n",
       "171142  https://i.ytimg.com/vi/c5ZB0p0zBg0/default.jpg              False   \n",
       "171146  https://i.ytimg.com/vi/WxJ4SfmUGgY/default.jpg              False   \n",
       "\n",
       "        ratings_disabled  video_error_or_removed  \\\n",
       "8                  False                   False   \n",
       "10                 False                   False   \n",
       "14                 False                   False   \n",
       "17                 False                   False   \n",
       "22                 False                   False   \n",
       "...                  ...                     ...   \n",
       "171134             False                   False   \n",
       "171139             False                   False   \n",
       "171140             False                   False   \n",
       "171142             False                   False   \n",
       "171146             False                   False   \n",
       "\n",
       "                                              description country  \\\n",
       "8       Pour la soirée du Switch, le public a décidé d...      FR   \n",
       "10      Cyril Ayrau Le Magicien de Bergerac fait appar...      FR   \n",
       "14      Michel Sardou tacle Louane Emera : Elle dit de...      FR   \n",
       "17      top 10 magie magie facile magique filmé en dir...      FR   \n",
       "22      Saurez-vous faire face aux choix les plus diff...      FR   \n",
       "...                                                   ...     ...   \n",
       "171134  Șoc! Fernando și Ciobi au fost eliminați de la...      DE   \n",
       "171139  🛑Télécharge Onefootball maintenant :  https://...      DE   \n",
       "171140  #Full Segment | America’s Got Talent Season 13...      DE   \n",
       "171142  Subscribers Link: http://bit.ly/2qb69dZConnect...      DE   \n",
       "171146  Купи свой Биван со скидкой 20% по промокоду СЛ...      DE   \n",
       "\n",
       "         publish_timestamp  log_views  log_likes  log_dislikes  \\\n",
       "8      2017-11-13 12:00:02   9.852457   6.428105      1.609438   \n",
       "10     2017-11-13 05:54:40   8.539933   3.555348      0.693147   \n",
       "14     2017-11-13 00:04:15   8.950273   2.772589      2.079442   \n",
       "17     2017-11-11 17:37:29  10.834352   6.867974      4.330733   \n",
       "22     2017-11-12 20:23:08  10.684531   7.350516      4.382027   \n",
       "...                    ...        ...        ...           ...   \n",
       "171134 2018-06-12 20:12:50  11.698899   6.852243      6.033086   \n",
       "171139 2018-06-13 11:00:10  12.971303   7.557995      6.929517   \n",
       "171140 2018-06-13 01:36:56  13.237170   9.069813      4.997212   \n",
       "171142 2018-06-13 16:30:00  12.741981   7.695303      5.799093   \n",
       "171146 2018-06-13 11:04:35  13.283599  10.482598      7.096721   \n",
       "\n",
       "        log_comment_count  \n",
       "8                3.806662  \n",
       "10               2.484907  \n",
       "14               1.945910  \n",
       "17               4.867534  \n",
       "22               5.777652  \n",
       "...                   ...  \n",
       "171134           6.388561  \n",
       "171139           7.400010  \n",
       "171140           6.546785  \n",
       "171142           5.590987  \n",
       "171146           7.775276  \n",
       "\n",
       "[50468 rows x 24 columns]"
      ]
     },
     "execution_count": 25,
     "metadata": {},
     "output_type": "execute_result"
    }
   ],
   "source": [
    "Entertainment = df.loc[df['category'] == 'Entertainment']\n",
    "Entertainment\n"
   ]
  },
  {
   "cell_type": "code",
   "execution_count": 26,
   "metadata": {},
   "outputs": [
    {
     "data": {
      "text/plain": [
       "MX    9575\n",
       "DE    8684\n",
       "IN    7070\n",
       "CA    5913\n",
       "FR    5788\n",
       "RU    4363\n",
       "KR    3680\n",
       "JP    3289\n",
       "US    1319\n",
       "GB     787\n",
       "Name: country, dtype: int64"
      ]
     },
     "execution_count": 26,
     "metadata": {},
     "output_type": "execute_result"
    }
   ],
   "source": [
    "Entertainment_CountryCount = Entertainment['country'].value_counts() #count entertainment videos by country\n",
    "Entertainment_CountryCount"
   ]
  },
  {
   "cell_type": "code",
   "execution_count": 27,
   "metadata": {},
   "outputs": [
    {
     "data": {
      "text/html": [
       "<div>\n",
       "<style scoped>\n",
       "    .dataframe tbody tr th:only-of-type {\n",
       "        vertical-align: middle;\n",
       "    }\n",
       "\n",
       "    .dataframe tbody tr th {\n",
       "        vertical-align: top;\n",
       "    }\n",
       "\n",
       "    .dataframe thead th {\n",
       "        text-align: right;\n",
       "    }\n",
       "</style>\n",
       "<table border=\"1\" class=\"dataframe\">\n",
       "  <thead>\n",
       "    <tr style=\"text-align: right;\">\n",
       "      <th></th>\n",
       "      <th>country</th>\n",
       "      <th>count</th>\n",
       "    </tr>\n",
       "  </thead>\n",
       "  <tbody>\n",
       "    <tr>\n",
       "      <td>0</td>\n",
       "      <td>MX</td>\n",
       "      <td>9575</td>\n",
       "    </tr>\n",
       "    <tr>\n",
       "      <td>1</td>\n",
       "      <td>DE</td>\n",
       "      <td>8684</td>\n",
       "    </tr>\n",
       "    <tr>\n",
       "      <td>2</td>\n",
       "      <td>IN</td>\n",
       "      <td>7070</td>\n",
       "    </tr>\n",
       "    <tr>\n",
       "      <td>3</td>\n",
       "      <td>CA</td>\n",
       "      <td>5913</td>\n",
       "    </tr>\n",
       "    <tr>\n",
       "      <td>4</td>\n",
       "      <td>FR</td>\n",
       "      <td>5788</td>\n",
       "    </tr>\n",
       "    <tr>\n",
       "      <td>5</td>\n",
       "      <td>RU</td>\n",
       "      <td>4363</td>\n",
       "    </tr>\n",
       "    <tr>\n",
       "      <td>6</td>\n",
       "      <td>KR</td>\n",
       "      <td>3680</td>\n",
       "    </tr>\n",
       "    <tr>\n",
       "      <td>7</td>\n",
       "      <td>JP</td>\n",
       "      <td>3289</td>\n",
       "    </tr>\n",
       "    <tr>\n",
       "      <td>8</td>\n",
       "      <td>US</td>\n",
       "      <td>1319</td>\n",
       "    </tr>\n",
       "    <tr>\n",
       "      <td>9</td>\n",
       "      <td>GB</td>\n",
       "      <td>787</td>\n",
       "    </tr>\n",
       "  </tbody>\n",
       "</table>\n",
       "</div>"
      ],
      "text/plain": [
       "  country  count\n",
       "0      MX   9575\n",
       "1      DE   8684\n",
       "2      IN   7070\n",
       "3      CA   5913\n",
       "4      FR   5788\n",
       "5      RU   4363\n",
       "6      KR   3680\n",
       "7      JP   3289\n",
       "8      US   1319\n",
       "9      GB    787"
      ]
     },
     "execution_count": 27,
     "metadata": {},
     "output_type": "execute_result"
    }
   ],
   "source": [
    "ECC_df = Entertainment_CountryCount.to_frame(name='Counts').reset_index()\n",
    "ECC_df.columns = ['country', 'count']\n",
    "ECC_df"
   ]
  },
  {
   "cell_type": "code",
   "execution_count": 56,
   "metadata": {},
   "outputs": [
    {
     "data": {
      "image/png": "[encoded data removed]",
      "text/plain": [
       "<Figure size 432x288 with 1 Axes>"
      ]
     },
     "metadata": {},
     "output_type": "display_data"
    }
   ],
   "source": [
    "# Pie chart\n",
    "labels = ECC_df['country']\n",
    "sizes = ECC_df['count']\n",
    "# only \"explode\" the 2nd slice (i.e. 'Hogs')\n",
    "\n",
    "#add colors\n",
    "colors = ['#ff9999','#66b3ff','#99ff99','#ffcc99']\n",
    "fig1, ax1 = plt.subplots()\n",
    "ax1.pie(sizes, labels=labels, colors=colors, autopct='%1.1f%%',\n",
    "        shadow=True, startangle=90)\n",
    "# Equal aspect ratio ensures that pie is drawn as a circle\n",
    "ax1.axis('equal')\n",
    "plt.tight_layout()\n",
    "plt.show()"
   ]
  },
  {
   "cell_type": "code",
   "execution_count": 35,
   "metadata": {},
   "outputs": [
    {
     "data": {
      "text/plain": [
       "<matplotlib.axes._subplots.AxesSubplot at 0x1a2aa6e6a0>"
      ]
     },
     "execution_count": 35,
     "metadata": {},
     "output_type": "execute_result"
    },
    {
     "data": {
      "image/png": "[encoded data removed]",
      "text/plain": [
       "<Figure size 432x432 with 1 Axes>"
      ]
     },
     "metadata": {
      "needs_background": "light"
     },
     "output_type": "display_data"
    }
   ],
   "source": [
    "plt.figure(figsize = (6,6))\n",
    "sns.barplot(x = \"country\", y = 'count', data = ECC_df)"
   ]
  },
  {
   "cell_type": "code",
   "execution_count": 29,
   "metadata": {},
   "outputs": [
    {
     "name": "stdout",
     "output_type": "stream",
     "text": [
      "<class 'pandas.core.frame.DataFrame'>\n",
      "Int64Index: 50468 entries, 8 to 171146\n",
      "Data columns (total 24 columns):\n",
      "video_id                  50468 non-null object\n",
      "trending_date             50468 non-null object\n",
      "title                     50468 non-null object\n",
      "channel_title             50468 non-null object\n",
      "category_id               50468 non-null int64\n",
      "category                  50468 non-null object\n",
      "publish_date              50468 non-null object\n",
      "publish_time              50468 non-null object\n",
      "tags                      50468 non-null object\n",
      "views                     50468 non-null int64\n",
      "likes                     50468 non-null int64\n",
      "dislikes                  50468 non-null int64\n",
      "comment_count             50468 non-null int64\n",
      "thumbnail_link            50468 non-null object\n",
      "comments_disabled         50468 non-null bool\n",
      "ratings_disabled          50468 non-null bool\n",
      "video_error_or_removed    50468 non-null bool\n",
      "description               50468 non-null object\n",
      "country                   50468 non-null object\n",
      "publish_timestamp         50468 non-null datetime64[ns]\n",
      "log_views                 50468 non-null float64\n",
      "log_likes                 50468 non-null float64\n",
      "log_dislikes              50468 non-null float64\n",
      "log_comment_count         50468 non-null float64\n",
      "dtypes: bool(3), datetime64[ns](1), float64(4), int64(5), object(11)\n",
      "memory usage: 8.6+ MB\n"
     ]
    }
   ],
   "source": [
    "Entertainment.info()"
   ]
  },
  {
   "cell_type": "code",
   "execution_count": 42,
   "metadata": {},
   "outputs": [
    {
     "data": {
      "text/plain": [
       "<matplotlib.axes._subplots.AxesSubplot at 0x1a32abbc50>"
      ]
     },
     "execution_count": 42,
     "metadata": {},
     "output_type": "execute_result"
    },
    {
     "data": {
      "image/png": "[encoded data removed]",
      "text/plain": [
       "<Figure size 288x288 with 1 Axes>"
      ]
     },
     "metadata": {
      "needs_background": "light"
     },
     "output_type": "display_data"
    }
   ],
   "source": [
    "PeopleBlogs = df.loc[df['category'] == 'People & Blogs']\n",
    "People_country_counts = PeopleBlogs['country'].value_counts()\n",
    "PCC_df = People_country_counts.to_frame(name='Counts').reset_index()\n",
    "PCC_df.columns = ['country', 'count']\n",
    "PCC_df\n",
    "\n",
    "plt.figure(figsize = (4,4))\n",
    "sns.barplot(x = \"country\", y = 'count', data = PCC_df)"
   ]
  },
  {
   "cell_type": "code",
   "execution_count": 41,
   "metadata": {},
   "outputs": [
    {
     "data": {
      "text/plain": [
       "<matplotlib.axes._subplots.AxesSubplot at 0x1a2a022828>"
      ]
     },
     "execution_count": 41,
     "metadata": {},
     "output_type": "execute_result"
    },
    {
     "data": {
      "image/png": "[encoded data removed]",
      "text/plain": [
       "<Figure size 288x288 with 1 Axes>"
      ]
     },
     "metadata": {
      "needs_background": "light"
     },
     "output_type": "display_data"
    }
   ],
   "source": [
    "NewsPolitics_country_counts = NewsPolitics['country'].value_counts()\n",
    "NCC_df = NewsPolitics_country_counts.to_frame(name='Counts').reset_index()\n",
    "NCC_df.columns = ['country', 'count']\n",
    "NCC_df\n",
    "\n",
    "plt.figure(figsize = (4,4))\n",
    "sns.barplot(x = \"country\", y = 'count', data = NCC_df)"
   ]
  },
  {
   "cell_type": "code",
   "execution_count": 40,
   "metadata": {
    "scrolled": true
   },
   "outputs": [
    {
     "data": {
      "text/plain": [
       "<matplotlib.axes._subplots.AxesSubplot at 0x1a2c5bbd68>"
      ]
     },
     "execution_count": 40,
     "metadata": {},
     "output_type": "execute_result"
    },
    {
     "data": {
      "image/png": "[encoded data removed]",
      "text/plain": [
       "<Figure size 288x288 with 1 Axes>"
      ]
     },
     "metadata": {
      "needs_background": "light"
     },
     "output_type": "display_data"
    }
   ],
   "source": [
    "Sports_country_counts = Sports['country'].value_counts()\n",
    "SpCC_df = Sports_country_counts.to_frame(name='Counts').reset_index()\n",
    "SpCC_df.columns = ['country', 'count']\n",
    "SpCC_df\n",
    "\n",
    "plt.figure(figsize = (4,4))\n",
    "sns.barplot(x = \"country\", y = 'count', data = SpCC_df)"
   ]
  },
  {
   "cell_type": "code",
   "execution_count": 39,
   "metadata": {},
   "outputs": [
    {
     "data": {
      "text/plain": [
       "<matplotlib.axes._subplots.AxesSubplot at 0x1a2ebb2080>"
      ]
     },
     "execution_count": 39,
     "metadata": {},
     "output_type": "execute_result"
    },
    {
     "data": {
      "image/png": "[encoded data removed]",
      "text/plain": [
       "<Figure size 288x288 with 1 Axes>"
      ]
     },
     "metadata": {
      "needs_background": "light"
     },
     "output_type": "display_data"
    }
   ],
   "source": [
    "Comedycountry_counts = Comedy['country'].value_counts()\n",
    "CCC_df = People_country_counts.to_frame(name='Counts').reset_index()\n",
    "CCC_df.columns = ['country', 'count']\n",
    "CCC_df\n",
    "\n",
    "plt.figure(figsize = (4,4))\n",
    "sns.barplot(x = \"country\", y = 'count', data = CCC_df)"
   ]
  },
  {
   "cell_type": "code",
   "execution_count": 44,
   "metadata": {},
   "outputs": [
    {
     "data": {
      "text/plain": [
       "<matplotlib.axes._subplots.AxesSubplot at 0x1a32ae40f0>"
      ]
     },
     "execution_count": 44,
     "metadata": {},
     "output_type": "execute_result"
    },
    {
     "data": {
      "image/png": "[encoded data removed]",
      "text/plain": [
       "<Figure size 288x288 with 1 Axes>"
      ]
     },
     "metadata": {
      "needs_background": "light"
     },
     "output_type": "display_data"
    }
   ],
   "source": [
    "Music = df.loc[df['category'] == 'News & Politics']\n",
    "Music_country_counts = Music['country'].value_counts()\n",
    "MCC_df = People_country_counts.to_frame(name='Counts').reset_index()\n",
    "MCC_df.columns = ['country', 'count']\n",
    "MCC_df\n",
    "\n",
    "plt.figure(figsize = (4,4))\n",
    "sns.barplot(x = \"country\", y = 'count', data = MCC_df)"
   ]
  },
  {
   "cell_type": "markdown",
   "metadata": {},
   "source": [
    "Entertainment            50468\n",
    "People & Blogs           28045\n",
    "News & Politics          20327\n",
    "Sports                   12561\n",
    "Comedy                   10358\n",
    "Music                    10145\n",
    "Howto & Style             9580\n",
    "Film & Animation          8460\n",
    "Gaming                    5318\n",
    "Education                 3897\n",
    "Science & Technology      3404\n",
    "Autos & Vehicles          3274\n",
    "Pets & Animals            2271\n",
    "Nonprofits & Activism     1779\n",
    "Travel & Events            812\n",
    "Shows                      435\n",
    "Movies                      12\n",
    "Trailers                     3\n",
    "Name: category, dtype: int64\n",
    "\n",
    "\n",
    "Music_country_counts = Music['country'].value_counts()\n",
    "HowtoStyle_country_counts = HowtoStyle['country'].value_counts() \n",
    "Gaming_country_counts = Gaming['country'].value_counts()\n",
    "Ed_country_counts = Ed['country'].value_counts() \n",
    "SciTech_country_counts = SciTech['country'].value_counts()\n",
    "AutosVehicles_country_counts = AutoVehicles['country'].value_counts()\n",
    "PetsAnimals_country_counts = PetAnimals['country'].value_counts()\n",
    "NonprofitActivism_country_counts = NonprofitActivism['country'].value_counts()\n",
    "TravelEvents_country_counts = TravelEvents['country'].value_counts()\n",
    "Shows_country_counts = Shows['country'].value_counts()\n",
    "Movies_country_counts = Movies['country'].value_counts()\n",
    "Trailers_country_counts = Trailers['country'].value_counts()\n",
    "\n",
    "\n",
    "PeopleBlogs = df.loc[df['category'] == 'People & Blogs']\n",
    "NewsPolitics = df.loc[df['category'] == 'News & Politics']\n",
    "Sports = df.loc[df['category'] == 'News & Politics']\n",
    "Comedy = df.loc[df['category'] == 'News & Politics']\n",
    "Music = df.loc[df['category'] == 'News & Politics']\n",
    "HowtoStyle = df.loc[df['category'] == 'Howto & Style']\n",
    "Gaming = df.loc[df['category'] == 'Gaming']\n",
    "Ed = df.loc[df['category'] == 'Education']\n",
    "SciTech = df.loc[df['category'] == 'Science & Technology']\n",
    "AutosVehicles = df.loc[df['category'] == 'Autos & Vehicles']\n",
    "PetsAnimals = df.loc[df['category'] == 'Pets & Animals']\n",
    "NonprofitActivism = df.loc[df['category'] == 'Nonprofits & Activism']\n",
    "TravelEvents = df.loc[df['category'] == 'Travel & Events']\n",
    "Shows = df.loc[df['category'] == 'Shows']\n",
    "Movies = df.loc[df['category'] == 'Movies']\n",
    "Trailers = df.loc[df['category'] == 'Trailer']"
   ]
  },
  {
   "cell_type": "code",
   "execution_count": 52,
   "metadata": {},
   "outputs": [
    {
     "ename": "SyntaxError",
     "evalue": "invalid syntax (<ipython-input-52-8353599184cb>, line 4)",
     "output_type": "error",
     "traceback": [
      "\u001b[0;36m  File \u001b[0;32m\"<ipython-input-52-8353599184cb>\"\u001b[0;36m, line \u001b[0;32m4\u001b[0m\n\u001b[0;31m    fig1, ax1 = plt.subplots()\u001b[0m\n\u001b[0m       ^\u001b[0m\n\u001b[0;31mSyntaxError\u001b[0m\u001b[0;31m:\u001b[0m invalid syntax\n"
     ]
    }
   ],
   "source": [
    "labels = ['country']\n",
    "sizes = [data[Music['country'].value_counts()[1]]\n",
    "# print(sizes) # adds up to 1433, which is the total number of participants\n",
    "fig1, ax1 = plt.subplots()\n",
    "ax1.pie(sizes, labels=labels, autopct='%1.1f%%', shadow=True)\n",
    "ax1.axis('equal')\n",
    "plt.show()"
   ]
  },
  {
   "cell_type": "code",
   "execution_count": 57,
   "metadata": {},
   "outputs": [
    {
     "data": {
      "text/plain": [
       "<matplotlib.axes._subplots.AxesSubplot at 0x1a363e07f0>"
      ]
     },
     "execution_count": 57,
     "metadata": {},
     "output_type": "execute_result"
    },
    {
     "data": {
      "image/png": "[encoded data removed]",
      "text/plain": [
       "<Figure size 432x288 with 1 Axes>"
      ]
     },
     "metadata": {},
     "output_type": "display_data"
    }
   ],
   "source": [
    "Entertainment.groupby('country')['country'].agg('count').plot(kind='pie',title='Group-By Country')"
   ]
  },
  {
   "cell_type": "code",
   "execution_count": 62,
   "metadata": {},
   "outputs": [
    {
     "data": {
      "text/plain": [
       "<matplotlib.axes._subplots.AxesSubplot at 0x1a393d1e48>"
      ]
     },
     "execution_count": 62,
     "metadata": {},
     "output_type": "execute_result"
    },
    {
     "data": {
      "image/png": "[encoded data removed]",
      "text/plain": [
       "<Figure size 432x288 with 1 Axes>"
      ]
     },
     "metadata": {
      "needs_background": "light"
     },
     "output_type": "display_data"
    }
   ],
   "source": [
    "Entertainment.groupby('country')['country'].agg('count').plot(kind='bar',title='Group-By Country')\n"
   ]
  },
  {
   "cell_type": "code",
   "execution_count": 63,
   "metadata": {},
   "outputs": [
    {
     "data": {
      "text/plain": [
       "<matplotlib.axes._subplots.AxesSubplot at 0x1a363d5c88>"
      ]
     },
     "execution_count": 63,
     "metadata": {},
     "output_type": "execute_result"
    },
    {
     "data": {
      "image/png": "[encoded data removed]",
      "text/plain": [
       "<Figure size 432x288 with 1 Axes>"
      ]
     },
     "metadata": {
      "needs_background": "light"
     },
     "output_type": "display_data"
    }
   ],
   "source": [
    "PeopleBlogs.groupby('country')['country'].agg('count').plot(kind='bar',title='Group-By Country')"
   ]
  },
  {
   "cell_type": "code",
   "execution_count": 95,
   "metadata": {},
   "outputs": [
    {
     "data": {
      "text/html": [
       "<div>\n",
       "<style scoped>\n",
       "    .dataframe tbody tr th:only-of-type {\n",
       "        vertical-align: middle;\n",
       "    }\n",
       "\n",
       "    .dataframe tbody tr th {\n",
       "        vertical-align: top;\n",
       "    }\n",
       "\n",
       "    .dataframe thead th {\n",
       "        text-align: right;\n",
       "    }\n",
       "</style>\n",
       "<table border=\"1\" class=\"dataframe\">\n",
       "  <thead>\n",
       "    <tr style=\"text-align: right;\">\n",
       "      <th></th>\n",
       "      <th>video_id</th>\n",
       "      <th>title</th>\n",
       "      <th>channel_title</th>\n",
       "      <th>category</th>\n",
       "      <th>log_views</th>\n",
       "      <th>log_likes</th>\n",
       "      <th>log_dislikes</th>\n",
       "      <th>log_comment_count</th>\n",
       "    </tr>\n",
       "  </thead>\n",
       "  <tbody>\n",
       "    <tr>\n",
       "      <td>697</td>\n",
       "      <td>gDuslQ9avLc</td>\n",
       "      <td>Захар и Полина учатся экономить</td>\n",
       "      <td>Т—Ж БОГАЧ</td>\n",
       "      <td>People &amp; Blogs</td>\n",
       "      <td>11.041465</td>\n",
       "      <td>5.814131</td>\n",
       "      <td>5.252273</td>\n",
       "      <td>3.931826</td>\n",
       "    </tr>\n",
       "    <tr>\n",
       "      <td>703</td>\n",
       "      <td>rFi4CwxdVv8</td>\n",
       "      <td>ХАЖДАГИ ИЛОН ВОКЕАСИ таъсирли ривоят</td>\n",
       "      <td>ZAMONA UZ tv</td>\n",
       "      <td>People &amp; Blogs</td>\n",
       "      <td>9.610190</td>\n",
       "      <td>6.403574</td>\n",
       "      <td>1.945910</td>\n",
       "      <td>3.091042</td>\n",
       "    </tr>\n",
       "    <tr>\n",
       "      <td>704</td>\n",
       "      <td>HHQteGs0M6w</td>\n",
       "      <td>Майкл Як - Независимая</td>\n",
       "      <td>Майкл Як</td>\n",
       "      <td>People &amp; Blogs</td>\n",
       "      <td>10.784006</td>\n",
       "      <td>7.317212</td>\n",
       "      <td>5.594711</td>\n",
       "      <td>4.691348</td>\n",
       "    </tr>\n",
       "    <tr>\n",
       "      <td>705</td>\n",
       "      <td>M0a7fhkAq4U</td>\n",
       "      <td>Путин Рассказал всем когда на Руси жить хорошо...</td>\n",
       "      <td>Волшебная Россия</td>\n",
       "      <td>People &amp; Blogs</td>\n",
       "      <td>11.292029</td>\n",
       "      <td>8.021913</td>\n",
       "      <td>5.852202</td>\n",
       "      <td>6.899723</td>\n",
       "    </tr>\n",
       "    <tr>\n",
       "      <td>706</td>\n",
       "      <td>WLXbLeoC37Y</td>\n",
       "      <td>Мощное землетрясение Ирак и Иран 12.11.2017 пе...</td>\n",
       "      <td>ToPic</td>\n",
       "      <td>Nonprofits &amp; Activism</td>\n",
       "      <td>10.129666</td>\n",
       "      <td>4.779123</td>\n",
       "      <td>2.397895</td>\n",
       "      <td>3.912023</td>\n",
       "    </tr>\n",
       "    <tr>\n",
       "      <td>...</td>\n",
       "      <td>...</td>\n",
       "      <td>...</td>\n",
       "      <td>...</td>\n",
       "      <td>...</td>\n",
       "      <td>...</td>\n",
       "      <td>...</td>\n",
       "      <td>...</td>\n",
       "      <td>...</td>\n",
       "    </tr>\n",
       "    <tr>\n",
       "      <td>170672</td>\n",
       "      <td>LSS9KEQWcqk</td>\n",
       "      <td>ANVAR QORI VAFOT ETDI</td>\n",
       "      <td>YANGILIKLAR UZ</td>\n",
       "      <td>News &amp; Politics</td>\n",
       "      <td>11.525012</td>\n",
       "      <td>6.391917</td>\n",
       "      <td>3.970292</td>\n",
       "      <td>5.874931</td>\n",
       "    </tr>\n",
       "    <tr>\n",
       "      <td>170673</td>\n",
       "      <td>HZLD9zfS5X8</td>\n",
       "      <td>УЖАСЫ, через КОТОРЫЕ проходят ЖЕНЩИНЫ СОЛДАТЫ ...</td>\n",
       "      <td>GAZ</td>\n",
       "      <td>Entertainment</td>\n",
       "      <td>9.718783</td>\n",
       "      <td>6.933423</td>\n",
       "      <td>4.094345</td>\n",
       "      <td>5.087596</td>\n",
       "    </tr>\n",
       "    <tr>\n",
       "      <td>170674</td>\n",
       "      <td>tX7p7NtNVDE</td>\n",
       "      <td>Мои Детские Травмы 2 (анимация)</td>\n",
       "      <td>CaGArt</td>\n",
       "      <td>Comedy</td>\n",
       "      <td>11.504530</td>\n",
       "      <td>8.446771</td>\n",
       "      <td>5.823046</td>\n",
       "      <td>6.541030</td>\n",
       "    </tr>\n",
       "    <tr>\n",
       "      <td>170675</td>\n",
       "      <td>4PiSLIrsSiY</td>\n",
       "      <td>ОБЗОР ВАННОЙ КОМНАТЫ🛁/ТУАЛЕТНОЙ КОМНАТЫ🚽 + ДЕК...</td>\n",
       "      <td>Ксюша Лебедева</td>\n",
       "      <td>People &amp; Blogs</td>\n",
       "      <td>9.562827</td>\n",
       "      <td>6.677083</td>\n",
       "      <td>3.688879</td>\n",
       "      <td>5.347108</td>\n",
       "    </tr>\n",
       "    <tr>\n",
       "      <td>170752</td>\n",
       "      <td>Ehy5foVfKOE</td>\n",
       "      <td>Плохой сигнал. Стань человеком!</td>\n",
       "      <td>Tubus Show</td>\n",
       "      <td>Nonprofits &amp; Activism</td>\n",
       "      <td>10.865535</td>\n",
       "      <td>8.950144</td>\n",
       "      <td>4.897840</td>\n",
       "      <td>7.506592</td>\n",
       "    </tr>\n",
       "  </tbody>\n",
       "</table>\n",
       "<p>30783 rows × 8 columns</p>\n",
       "</div>"
      ],
      "text/plain": [
       "           video_id                                              title  \\\n",
       "697     gDuslQ9avLc                    Захар и Полина учатся экономить   \n",
       "703     rFi4CwxdVv8               ХАЖДАГИ ИЛОН ВОКЕАСИ таъсирли ривоят   \n",
       "704     HHQteGs0M6w                             Майкл Як - Независимая   \n",
       "705     M0a7fhkAq4U  Путин Рассказал всем когда на Руси жить хорошо...   \n",
       "706     WLXbLeoC37Y  Мощное землетрясение Ирак и Иран 12.11.2017 пе...   \n",
       "...             ...                                                ...   \n",
       "170672  LSS9KEQWcqk                              ANVAR QORI VAFOT ETDI   \n",
       "170673  HZLD9zfS5X8  УЖАСЫ, через КОТОРЫЕ проходят ЖЕНЩИНЫ СОЛДАТЫ ...   \n",
       "170674  tX7p7NtNVDE                    Мои Детские Травмы 2 (анимация)   \n",
       "170675  4PiSLIrsSiY  ОБЗОР ВАННОЙ КОМНАТЫ🛁/ТУАЛЕТНОЙ КОМНАТЫ🚽 + ДЕК...   \n",
       "170752  Ehy5foVfKOE                    Плохой сигнал. Стань человеком!   \n",
       "\n",
       "           channel_title               category  log_views  log_likes  \\\n",
       "697            Т—Ж БОГАЧ         People & Blogs  11.041465   5.814131   \n",
       "703         ZAMONA UZ tv         People & Blogs   9.610190   6.403574   \n",
       "704             Майкл Як         People & Blogs  10.784006   7.317212   \n",
       "705     Волшебная Россия         People & Blogs  11.292029   8.021913   \n",
       "706                ToPic  Nonprofits & Activism  10.129666   4.779123   \n",
       "...                  ...                    ...        ...        ...   \n",
       "170672    YANGILIKLAR UZ        News & Politics  11.525012   6.391917   \n",
       "170673               GAZ          Entertainment   9.718783   6.933423   \n",
       "170674            CaGArt                 Comedy  11.504530   8.446771   \n",
       "170675    Ксюша Лебедева         People & Blogs   9.562827   6.677083   \n",
       "170752        Tubus Show  Nonprofits & Activism  10.865535   8.950144   \n",
       "\n",
       "        log_dislikes  log_comment_count  \n",
       "697         5.252273           3.931826  \n",
       "703         1.945910           3.091042  \n",
       "704         5.594711           4.691348  \n",
       "705         5.852202           6.899723  \n",
       "706         2.397895           3.912023  \n",
       "...              ...                ...  \n",
       "170672      3.970292           5.874931  \n",
       "170673      4.094345           5.087596  \n",
       "170674      5.823046           6.541030  \n",
       "170675      3.688879           5.347108  \n",
       "170752      4.897840           7.506592  \n",
       "\n",
       "[30783 rows x 8 columns]"
      ]
     },
     "execution_count": 95,
     "metadata": {},
     "output_type": "execute_result"
    }
   ],
   "source": [
    "RU_df = df[df['country'].isin(['RU'])][['video_id','title', 'channel_title','category','log_views','log_likes','log_dislikes','log_comment_count']]\n",
    "RU_df"
   ]
  },
  {
   "cell_type": "code",
   "execution_count": 93,
   "metadata": {},
   "outputs": [],
   "source": [
    "RU_video_likes_base = pd.DataFrame(RU_df, columns=['video_id','title','category','log_likes', 'log_views', 'log_comment_count', 'country'])\n",
    "RU_video_likes = RU_video_likes_base.sort_values(by=['log_likes'], ascending=False)"
   ]
  },
  {
   "cell_type": "code",
   "execution_count": 94,
   "metadata": {},
   "outputs": [
    {
     "data": {
      "text/html": [
       "<div>\n",
       "<style scoped>\n",
       "    .dataframe tbody tr th:only-of-type {\n",
       "        vertical-align: middle;\n",
       "    }\n",
       "\n",
       "    .dataframe tbody tr th {\n",
       "        vertical-align: top;\n",
       "    }\n",
       "\n",
       "    .dataframe thead th {\n",
       "        text-align: right;\n",
       "    }\n",
       "</style>\n",
       "<table border=\"1\" class=\"dataframe\">\n",
       "  <thead>\n",
       "    <tr style=\"text-align: right;\">\n",
       "      <th></th>\n",
       "      <th>video_id</th>\n",
       "      <th>title</th>\n",
       "      <th>category</th>\n",
       "      <th>log_likes</th>\n",
       "      <th>log_views</th>\n",
       "      <th>log_comment_count</th>\n",
       "      <th>country</th>\n",
       "    </tr>\n",
       "  </thead>\n",
       "  <tbody>\n",
       "    <tr>\n",
       "      <td>108460</td>\n",
       "      <td>LTvlDklQHbs</td>\n",
       "      <td>ЭКСПЕРИМЕНТ. ЧТО ВЫЛУПИЛОСЬ ИЗ ЯЙЦА?</td>\n",
       "      <td>Entertainment</td>\n",
       "      <td>13.294646</td>\n",
       "      <td>15.368168</td>\n",
       "      <td>NaN</td>\n",
       "      <td>NaN</td>\n",
       "    </tr>\n",
       "    <tr>\n",
       "      <td>115049</td>\n",
       "      <td>0ImCUnvas8M</td>\n",
       "      <td>SLIVKI SHOW - цена бриллиантовой кнопки..</td>\n",
       "      <td>Entertainment</td>\n",
       "      <td>13.228739</td>\n",
       "      <td>15.225283</td>\n",
       "      <td>NaN</td>\n",
       "      <td>NaN</td>\n",
       "    </tr>\n",
       "    <tr>\n",
       "      <td>155145</td>\n",
       "      <td>yfZO_XUzuPA</td>\n",
       "      <td>лиззка – дисс на фейса</td>\n",
       "      <td>Music</td>\n",
       "      <td>13.129663</td>\n",
       "      <td>15.252954</td>\n",
       "      <td>NaN</td>\n",
       "      <td>NaN</td>\n",
       "    </tr>\n",
       "    <tr>\n",
       "      <td>39791</td>\n",
       "      <td>WzcOFPkL1yc</td>\n",
       "      <td>СОБОЛЕВ - ДО ПОСЛЕДНЕГО [ПРЕМЬЕРА КЛИПА]</td>\n",
       "      <td>People &amp; Blogs</td>\n",
       "      <td>13.101916</td>\n",
       "      <td>14.979850</td>\n",
       "      <td>NaN</td>\n",
       "      <td>NaN</td>\n",
       "    </tr>\n",
       "    <tr>\n",
       "      <td>161545</td>\n",
       "      <td>1nX0kF2UwDc</td>\n",
       "      <td>[BadComedian] - Движение Вверх (Плагиат или ве...</td>\n",
       "      <td>Comedy</td>\n",
       "      <td>13.051233</td>\n",
       "      <td>15.581684</td>\n",
       "      <td>NaN</td>\n",
       "      <td>NaN</td>\n",
       "    </tr>\n",
       "    <tr>\n",
       "      <td>...</td>\n",
       "      <td>...</td>\n",
       "      <td>...</td>\n",
       "      <td>...</td>\n",
       "      <td>...</td>\n",
       "      <td>...</td>\n",
       "      <td>...</td>\n",
       "      <td>...</td>\n",
       "    </tr>\n",
       "    <tr>\n",
       "      <td>110844</td>\n",
       "      <td>hPDeGNP6iJs</td>\n",
       "      <td>Памяти погибших в Кемерово</td>\n",
       "      <td>Comedy</td>\n",
       "      <td>12.094174</td>\n",
       "      <td>14.043557</td>\n",
       "      <td>NaN</td>\n",
       "      <td>NaN</td>\n",
       "    </tr>\n",
       "    <tr>\n",
       "      <td>108493</td>\n",
       "      <td>iQyLSvxX_KQ</td>\n",
       "      <td>ЗАШКВАРНЫЕ ИСТОРИИ #8: МАКС +100500 СЕЛ ПОСР*Т...</td>\n",
       "      <td>Comedy</td>\n",
       "      <td>12.093072</td>\n",
       "      <td>14.535584</td>\n",
       "      <td>NaN</td>\n",
       "      <td>NaN</td>\n",
       "    </tr>\n",
       "    <tr>\n",
       "      <td>13871</td>\n",
       "      <td>KpBAl5Mf7dQ</td>\n",
       "      <td>Реальная история: ТАТАРО-МОНГОЛЬСКОЕ ИГО</td>\n",
       "      <td>Comedy</td>\n",
       "      <td>12.085266</td>\n",
       "      <td>13.818798</td>\n",
       "      <td>NaN</td>\n",
       "      <td>NaN</td>\n",
       "    </tr>\n",
       "    <tr>\n",
       "      <td>167844</td>\n",
       "      <td>JcCNjk5aRMw</td>\n",
       "      <td>UGANDAN KNUCKLES LASAGNA  - Cooking Dead Memes</td>\n",
       "      <td>Entertainment</td>\n",
       "      <td>12.076123</td>\n",
       "      <td>14.542048</td>\n",
       "      <td>NaN</td>\n",
       "      <td>NaN</td>\n",
       "    </tr>\n",
       "    <tr>\n",
       "      <td>150565</td>\n",
       "      <td>WxGKGy0asAw</td>\n",
       "      <td>ТОП-5 СКАТЫВАЮЩИХСЯ БЛОГЕРОВ / КАК ХАЙПАНУТЬ В...</td>\n",
       "      <td>People &amp; Blogs</td>\n",
       "      <td>12.057207</td>\n",
       "      <td>14.591623</td>\n",
       "      <td>NaN</td>\n",
       "      <td>NaN</td>\n",
       "    </tr>\n",
       "  </tbody>\n",
       "</table>\n",
       "<p>100 rows × 7 columns</p>\n",
       "</div>"
      ],
      "text/plain": [
       "           video_id                                              title  \\\n",
       "108460  LTvlDklQHbs               ЭКСПЕРИМЕНТ. ЧТО ВЫЛУПИЛОСЬ ИЗ ЯЙЦА?   \n",
       "115049  0ImCUnvas8M          SLIVKI SHOW - цена бриллиантовой кнопки..   \n",
       "155145  yfZO_XUzuPA                             лиззка – дисс на фейса   \n",
       "39791   WzcOFPkL1yc           СОБОЛЕВ - ДО ПОСЛЕДНЕГО [ПРЕМЬЕРА КЛИПА]   \n",
       "161545  1nX0kF2UwDc  [BadComedian] - Движение Вверх (Плагиат или ве...   \n",
       "...             ...                                                ...   \n",
       "110844  hPDeGNP6iJs                         Памяти погибших в Кемерово   \n",
       "108493  iQyLSvxX_KQ  ЗАШКВАРНЫЕ ИСТОРИИ #8: МАКС +100500 СЕЛ ПОСР*Т...   \n",
       "13871   KpBAl5Mf7dQ           Реальная история: ТАТАРО-МОНГОЛЬСКОЕ ИГО   \n",
       "167844  JcCNjk5aRMw     UGANDAN KNUCKLES LASAGNA  - Cooking Dead Memes   \n",
       "150565  WxGKGy0asAw  ТОП-5 СКАТЫВАЮЩИХСЯ БЛОГЕРОВ / КАК ХАЙПАНУТЬ В...   \n",
       "\n",
       "              category  log_likes  log_views  log_comment_count  country  \n",
       "108460   Entertainment  13.294646  15.368168                NaN      NaN  \n",
       "115049   Entertainment  13.228739  15.225283                NaN      NaN  \n",
       "155145           Music  13.129663  15.252954                NaN      NaN  \n",
       "39791   People & Blogs  13.101916  14.979850                NaN      NaN  \n",
       "161545          Comedy  13.051233  15.581684                NaN      NaN  \n",
       "...                ...        ...        ...                ...      ...  \n",
       "110844          Comedy  12.094174  14.043557                NaN      NaN  \n",
       "108493          Comedy  12.093072  14.535584                NaN      NaN  \n",
       "13871           Comedy  12.085266  13.818798                NaN      NaN  \n",
       "167844   Entertainment  12.076123  14.542048                NaN      NaN  \n",
       "150565  People & Blogs  12.057207  14.591623                NaN      NaN  \n",
       "\n",
       "[100 rows x 7 columns]"
      ]
     },
     "execution_count": 94,
     "metadata": {},
     "output_type": "execute_result"
    }
   ],
   "source": [
    "RU_video_likes[0:100]"
   ]
  },
  {
   "cell_type": "code",
   "execution_count": 77,
   "metadata": {},
   "outputs": [
    {
     "name": "stdout",
     "output_type": "stream",
     "text": [
      "           video_id                                              title  \\\n",
      "108460  LTvlDklQHbs               ЭКСПЕРИМЕНТ. ЧТО ВЫЛУПИЛОСЬ ИЗ ЯЙЦА?   \n",
      "115049  0ImCUnvas8M          SLIVKI SHOW - цена бриллиантовой кнопки..   \n",
      "155145  yfZO_XUzuPA                             лиззка – дисс на фейса   \n",
      "39791   WzcOFPkL1yc           СОБОЛЕВ - ДО ПОСЛЕДНЕГО [ПРЕМЬЕРА КЛИПА]   \n",
      "161545  1nX0kF2UwDc  [BadComedian] - Движение Вверх (Плагиат или ве...   \n",
      "...             ...                                                ...   \n",
      "110844  hPDeGNP6iJs                         Памяти погибших в Кемерово   \n",
      "108493  iQyLSvxX_KQ  ЗАШКВАРНЫЕ ИСТОРИИ #8: МАКС +100500 СЕЛ ПОСР*Т...   \n",
      "13871   KpBAl5Mf7dQ           Реальная история: ТАТАРО-МОНГОЛЬСКОЕ ИГО   \n",
      "167844  JcCNjk5aRMw     UGANDAN KNUCKLES LASAGNA  - Cooking Dead Memes   \n",
      "150565  WxGKGy0asAw  ТОП-5 СКАТЫВАЮЩИХСЯ БЛОГЕРОВ / КАК ХАЙПАНУТЬ В...   \n",
      "\n",
      "              category  log_likes  log_views  country  \n",
      "108460   Entertainment  13.294646  15.368168      NaN  \n",
      "115049   Entertainment  13.228739  15.225283      NaN  \n",
      "155145           Music  13.129663  15.252954      NaN  \n",
      "39791   People & Blogs  13.101916  14.979850      NaN  \n",
      "161545          Comedy  13.051233  15.581684      NaN  \n",
      "...                ...        ...        ...      ...  \n",
      "110844          Comedy  12.094174  14.043557      NaN  \n",
      "108493          Comedy  12.093072  14.535584      NaN  \n",
      "13871           Comedy  12.085266  13.818798      NaN  \n",
      "167844   Entertainment  12.076123  14.542048      NaN  \n",
      "150565  People & Blogs  12.057207  14.591623      NaN  \n",
      "\n",
      "[100 rows x 6 columns]\n"
     ]
    }
   ],
   "source": [
    "ECC_df = Entertainment_CountryCount.to_frame(name='Counts').reset_index()\n",
    "ECC_df.columns = ['country', 'count']\n",
    "ECC_df"
   ]
  },
  {
   "cell_type": "code",
   "execution_count": 82,
   "metadata": {},
   "outputs": [
    {
     "data": {
      "text/plain": [
       "<matplotlib.axes._subplots.AxesSubplot at 0x1a21351f28>"
      ]
     },
     "execution_count": 82,
     "metadata": {},
     "output_type": "execute_result"
    },
    {
     "data": {
      "image/png": "[encoded data removed]",
      "text/plain": [
       "<Figure size 720x720 with 1 Axes>"
      ]
     },
     "metadata": {
      "needs_background": "light"
     },
     "output_type": "display_data"
    }
   ],
   "source": [
    "plt.figure(figsize = (10,10))\n",
    "sns.boxplot(x = \"category\", y = 'log_likes', data = RU_video_likes[0:100])"
   ]
  },
  {
   "cell_type": "code",
   "execution_count": 97,
   "metadata": {},
   "outputs": [
    {
     "data": {
      "text/html": [
       "<div>\n",
       "<style scoped>\n",
       "    .dataframe tbody tr th:only-of-type {\n",
       "        vertical-align: middle;\n",
       "    }\n",
       "\n",
       "    .dataframe tbody tr th {\n",
       "        vertical-align: top;\n",
       "    }\n",
       "\n",
       "    .dataframe thead th {\n",
       "        text-align: right;\n",
       "    }\n",
       "</style>\n",
       "<table border=\"1\" class=\"dataframe\">\n",
       "  <thead>\n",
       "    <tr style=\"text-align: right;\">\n",
       "      <th></th>\n",
       "      <th>country</th>\n",
       "      <th>video_id</th>\n",
       "      <th>title</th>\n",
       "      <th>channel_title</th>\n",
       "      <th>category</th>\n",
       "      <th>log_views</th>\n",
       "      <th>log_likes</th>\n",
       "      <th>log_dislikes</th>\n",
       "      <th>log_comment_count</th>\n",
       "    </tr>\n",
       "  </thead>\n",
       "  <tbody>\n",
       "    <tr>\n",
       "      <td>0</td>\n",
       "      <td>FR</td>\n",
       "      <td>cJon8yBKv3g</td>\n",
       "      <td>Kingsman : Le Cercle d'or (Mickael J Critique)</td>\n",
       "      <td>MJ - FERMEZ LA</td>\n",
       "      <td>Film &amp; Animation</td>\n",
       "      <td>9.877554</td>\n",
       "      <td>7.375882</td>\n",
       "      <td>3.178054</td>\n",
       "      <td>5.375278</td>\n",
       "    </tr>\n",
       "    <tr>\n",
       "      <td>1</td>\n",
       "      <td>FR</td>\n",
       "      <td>g12KeCPRB4Q</td>\n",
       "      <td>Vide grenier LIVE - 12 Novembre 2017</td>\n",
       "      <td>Kirby-54</td>\n",
       "      <td>Gaming</td>\n",
       "      <td>9.940061</td>\n",
       "      <td>6.940222</td>\n",
       "      <td>6.326149</td>\n",
       "      <td>5.497168</td>\n",
       "    </tr>\n",
       "    <tr>\n",
       "      <td>2</td>\n",
       "      <td>FR</td>\n",
       "      <td>irIZRH3JlIw</td>\n",
       "      <td>لقجع يثور في وجه الإتحاد الإيفواري بسبب الجماه...</td>\n",
       "      <td>أخبار اليوم</td>\n",
       "      <td>News &amp; Politics</td>\n",
       "      <td>12.242660</td>\n",
       "      <td>7.255591</td>\n",
       "      <td>5.003946</td>\n",
       "      <td>4.510860</td>\n",
       "    </tr>\n",
       "    <tr>\n",
       "      <td>3</td>\n",
       "      <td>FR</td>\n",
       "      <td>SnHtzkQZggA</td>\n",
       "      <td>عروس اسطنبول | اعلان الحلقة 25 | - مترجم للعربية</td>\n",
       "      <td>تركييتنا - bizim Türkiye</td>\n",
       "      <td>Film &amp; Animation</td>\n",
       "      <td>9.674074</td>\n",
       "      <td>4.962845</td>\n",
       "      <td>2.397895</td>\n",
       "      <td>2.079442</td>\n",
       "    </tr>\n",
       "    <tr>\n",
       "      <td>4</td>\n",
       "      <td>FR</td>\n",
       "      <td>u6EoWM2KMPE</td>\n",
       "      <td>Portokalli, 12 Nentor 2017 - Policat e postbll...</td>\n",
       "      <td>Top Channel Albania</td>\n",
       "      <td>Comedy</td>\n",
       "      <td>11.518987</td>\n",
       "      <td>7.056175</td>\n",
       "      <td>3.891820</td>\n",
       "      <td>3.583519</td>\n",
       "    </tr>\n",
       "    <tr>\n",
       "      <td>...</td>\n",
       "      <td>...</td>\n",
       "      <td>...</td>\n",
       "      <td>...</td>\n",
       "      <td>...</td>\n",
       "      <td>...</td>\n",
       "      <td>...</td>\n",
       "      <td>...</td>\n",
       "      <td>...</td>\n",
       "      <td>...</td>\n",
       "    </tr>\n",
       "    <tr>\n",
       "      <td>170953</td>\n",
       "      <td>FR</td>\n",
       "      <td>jnFn3Dlcfgs</td>\n",
       "      <td>مسلسل وردة شامية ـ الحلقة 28 الثامنة والعشرون ...</td>\n",
       "      <td>Golden Line for TV Production and Distribution</td>\n",
       "      <td>People &amp; Blogs</td>\n",
       "      <td>12.638348</td>\n",
       "      <td>7.716461</td>\n",
       "      <td>5.429346</td>\n",
       "      <td>6.685861</td>\n",
       "    </tr>\n",
       "    <tr>\n",
       "      <td>170954</td>\n",
       "      <td>FR</td>\n",
       "      <td>DMttycms7Qw</td>\n",
       "      <td>الإعلامي معتز مطر يشكر الجزائر من أجل المغرب ش...</td>\n",
       "      <td>Best News Dz</td>\n",
       "      <td>People &amp; Blogs</td>\n",
       "      <td>10.606857</td>\n",
       "      <td>7.250636</td>\n",
       "      <td>3.258097</td>\n",
       "      <td>5.940171</td>\n",
       "    </tr>\n",
       "    <tr>\n",
       "      <td>170955</td>\n",
       "      <td>FR</td>\n",
       "      <td>o0JZkxmAeDk</td>\n",
       "      <td>Combat mon frere vs Ismael et Maga assassin  v...</td>\n",
       "      <td>IbraPlus</td>\n",
       "      <td>Sports</td>\n",
       "      <td>13.704602</td>\n",
       "      <td>10.754728</td>\n",
       "      <td>7.854381</td>\n",
       "      <td>8.399535</td>\n",
       "    </tr>\n",
       "    <tr>\n",
       "      <td>170956</td>\n",
       "      <td>FR</td>\n",
       "      <td>ZuMssIxmPT0</td>\n",
       "      <td>Vald - Deviens génial</td>\n",
       "      <td>VALDVEVO</td>\n",
       "      <td>Music</td>\n",
       "      <td>13.285150</td>\n",
       "      <td>10.983291</td>\n",
       "      <td>7.636270</td>\n",
       "      <td>8.333511</td>\n",
       "    </tr>\n",
       "    <tr>\n",
       "      <td>170957</td>\n",
       "      <td>FR</td>\n",
       "      <td>HoTYytnjCb0</td>\n",
       "      <td>Damso - Smog</td>\n",
       "      <td>DamsoVEVO</td>\n",
       "      <td>Music</td>\n",
       "      <td>14.487859</td>\n",
       "      <td>11.928189</td>\n",
       "      <td>7.706163</td>\n",
       "      <td>8.959954</td>\n",
       "    </tr>\n",
       "  </tbody>\n",
       "</table>\n",
       "<p>24085 rows × 9 columns</p>\n",
       "</div>"
      ],
      "text/plain": [
       "       country     video_id  \\\n",
       "0           FR  cJon8yBKv3g   \n",
       "1           FR  g12KeCPRB4Q   \n",
       "2           FR  irIZRH3JlIw   \n",
       "3           FR  SnHtzkQZggA   \n",
       "4           FR  u6EoWM2KMPE   \n",
       "...        ...          ...   \n",
       "170953      FR  jnFn3Dlcfgs   \n",
       "170954      FR  DMttycms7Qw   \n",
       "170955      FR  o0JZkxmAeDk   \n",
       "170956      FR  ZuMssIxmPT0   \n",
       "170957      FR  HoTYytnjCb0   \n",
       "\n",
       "                                                    title  \\\n",
       "0          Kingsman : Le Cercle d'or (Mickael J Critique)   \n",
       "1                    Vide grenier LIVE - 12 Novembre 2017   \n",
       "2       لقجع يثور في وجه الإتحاد الإيفواري بسبب الجماه...   \n",
       "3        عروس اسطنبول | اعلان الحلقة 25 | - مترجم للعربية   \n",
       "4       Portokalli, 12 Nentor 2017 - Policat e postbll...   \n",
       "...                                                   ...   \n",
       "170953  مسلسل وردة شامية ـ الحلقة 28 الثامنة والعشرون ...   \n",
       "170954  الإعلامي معتز مطر يشكر الجزائر من أجل المغرب ش...   \n",
       "170955  Combat mon frere vs Ismael et Maga assassin  v...   \n",
       "170956                              Vald - Deviens génial   \n",
       "170957                                       Damso - Smog   \n",
       "\n",
       "                                         channel_title          category  \\\n",
       "0                                       MJ - FERMEZ LA  Film & Animation   \n",
       "1                                             Kirby-54            Gaming   \n",
       "2                                          أخبار اليوم   News & Politics   \n",
       "3                             تركييتنا - bizim Türkiye  Film & Animation   \n",
       "4                                  Top Channel Albania            Comedy   \n",
       "...                                                ...               ...   \n",
       "170953  Golden Line for TV Production and Distribution    People & Blogs   \n",
       "170954                                    Best News Dz    People & Blogs   \n",
       "170955                                        IbraPlus            Sports   \n",
       "170956                                        VALDVEVO             Music   \n",
       "170957                                       DamsoVEVO             Music   \n",
       "\n",
       "        log_views  log_likes  log_dislikes  log_comment_count  \n",
       "0        9.877554   7.375882      3.178054           5.375278  \n",
       "1        9.940061   6.940222      6.326149           5.497168  \n",
       "2       12.242660   7.255591      5.003946           4.510860  \n",
       "3        9.674074   4.962845      2.397895           2.079442  \n",
       "4       11.518987   7.056175      3.891820           3.583519  \n",
       "...           ...        ...           ...                ...  \n",
       "170953  12.638348   7.716461      5.429346           6.685861  \n",
       "170954  10.606857   7.250636      3.258097           5.940171  \n",
       "170955  13.704602  10.754728      7.854381           8.399535  \n",
       "170956  13.285150  10.983291      7.636270           8.333511  \n",
       "170957  14.487859  11.928189      7.706163           8.959954  \n",
       "\n",
       "[24085 rows x 9 columns]"
      ]
     },
     "execution_count": 97,
     "metadata": {},
     "output_type": "execute_result"
    }
   ],
   "source": [
    "FR_df = df[df['country'].isin(['FR'])][['country','video_id','title', 'channel_title','category','log_views','log_likes','log_dislikes','log_comment_count']]\n",
    "FR_df"
   ]
  },
  {
   "cell_type": "code",
   "execution_count": 98,
   "metadata": {},
   "outputs": [
    {
     "data": {
      "text/html": [
       "<div>\n",
       "<style scoped>\n",
       "    .dataframe tbody tr th:only-of-type {\n",
       "        vertical-align: middle;\n",
       "    }\n",
       "\n",
       "    .dataframe tbody tr th {\n",
       "        vertical-align: top;\n",
       "    }\n",
       "\n",
       "    .dataframe thead th {\n",
       "        text-align: right;\n",
       "    }\n",
       "</style>\n",
       "<table border=\"1\" class=\"dataframe\">\n",
       "  <thead>\n",
       "    <tr style=\"text-align: right;\">\n",
       "      <th></th>\n",
       "      <th>country</th>\n",
       "      <th>video_id</th>\n",
       "      <th>title</th>\n",
       "      <th>channel_title</th>\n",
       "      <th>category</th>\n",
       "      <th>log_views</th>\n",
       "      <th>log_likes</th>\n",
       "      <th>log_dislikes</th>\n",
       "      <th>log_comment_count</th>\n",
       "    </tr>\n",
       "  </thead>\n",
       "  <tbody>\n",
       "    <tr>\n",
       "      <td>432</td>\n",
       "      <td>GB</td>\n",
       "      <td>rHwDegptbI4</td>\n",
       "      <td>Dashcam captures truck's near miss with child ...</td>\n",
       "      <td>Cute Girl Videos</td>\n",
       "      <td>News &amp; Politics</td>\n",
       "      <td>9.191769</td>\n",
       "      <td>3.433987</td>\n",
       "      <td>1.098612</td>\n",
       "      <td>3.433987</td>\n",
       "    </tr>\n",
       "    <tr>\n",
       "      <td>433</td>\n",
       "      <td>GB</td>\n",
       "      <td>AumaWl0TNBo</td>\n",
       "      <td>How My Relationship Started!</td>\n",
       "      <td>PointlessBlogVlogs</td>\n",
       "      <td>Entertainment</td>\n",
       "      <td>13.983375</td>\n",
       "      <td>10.872541</td>\n",
       "      <td>7.266827</td>\n",
       "      <td>7.755339</td>\n",
       "    </tr>\n",
       "    <tr>\n",
       "      <td>434</td>\n",
       "      <td>GB</td>\n",
       "      <td>-N5eucPMTTc</td>\n",
       "      <td>CHRISTMAS HAS GONE TO MY HEAD</td>\n",
       "      <td>MoreZoella</td>\n",
       "      <td>People &amp; Blogs</td>\n",
       "      <td>13.967546</td>\n",
       "      <td>10.956230</td>\n",
       "      <td>6.620073</td>\n",
       "      <td>6.437752</td>\n",
       "    </tr>\n",
       "    <tr>\n",
       "      <td>436</td>\n",
       "      <td>GB</td>\n",
       "      <td>fiusxyygqGk</td>\n",
       "      <td>Marshmello - You &amp; Me (Official Music Video)</td>\n",
       "      <td>marshmello</td>\n",
       "      <td>Music</td>\n",
       "      <td>15.041345</td>\n",
       "      <td>12.241744</td>\n",
       "      <td>8.060856</td>\n",
       "      <td>9.494014</td>\n",
       "    </tr>\n",
       "    <tr>\n",
       "      <td>466</td>\n",
       "      <td>GB</td>\n",
       "      <td>mCx26FLXWuI</td>\n",
       "      <td>Seth Rollins &amp; Dean Ambrose vs. Cesaro &amp; Sheam...</td>\n",
       "      <td>WWE</td>\n",
       "      <td>Sports</td>\n",
       "      <td>14.339874</td>\n",
       "      <td>10.093571</td>\n",
       "      <td>8.111028</td>\n",
       "      <td>8.135933</td>\n",
       "    </tr>\n",
       "    <tr>\n",
       "      <td>...</td>\n",
       "      <td>...</td>\n",
       "      <td>...</td>\n",
       "      <td>...</td>\n",
       "      <td>...</td>\n",
       "      <td>...</td>\n",
       "      <td>...</td>\n",
       "      <td>...</td>\n",
       "      <td>...</td>\n",
       "      <td>...</td>\n",
       "    </tr>\n",
       "    <tr>\n",
       "      <td>170148</td>\n",
       "      <td>GB</td>\n",
       "      <td>oTn329CjrRA</td>\n",
       "      <td>LeBron James and Draymond Green Face Off in NB...</td>\n",
       "      <td>UNINTERRUPTED</td>\n",
       "      <td>Sports</td>\n",
       "      <td>11.767777</td>\n",
       "      <td>7.401842</td>\n",
       "      <td>3.401197</td>\n",
       "      <td>5.620401</td>\n",
       "    </tr>\n",
       "    <tr>\n",
       "      <td>170149</td>\n",
       "      <td>GB</td>\n",
       "      <td>VhQmTmqcEY0</td>\n",
       "      <td>Juanes - Pa Dentro</td>\n",
       "      <td>JuanesVEVO</td>\n",
       "      <td>Music</td>\n",
       "      <td>16.899886</td>\n",
       "      <td>11.267191</td>\n",
       "      <td>8.648572</td>\n",
       "      <td>8.472405</td>\n",
       "    </tr>\n",
       "    <tr>\n",
       "      <td>170150</td>\n",
       "      <td>GB</td>\n",
       "      <td>ek1ePFp-nBI</td>\n",
       "      <td>Halloween - Official Trailer (HD)</td>\n",
       "      <td>Universal Pictures</td>\n",
       "      <td>Entertainment</td>\n",
       "      <td>16.377069</td>\n",
       "      <td>12.208769</td>\n",
       "      <td>8.942199</td>\n",
       "      <td>10.467323</td>\n",
       "    </tr>\n",
       "    <tr>\n",
       "      <td>170151</td>\n",
       "      <td>GB</td>\n",
       "      <td>QRyzwPzxpcs</td>\n",
       "      <td>Sea of Thieves - E3 2018 - Cursed Sails and Fo...</td>\n",
       "      <td>Xbox</td>\n",
       "      <td>Gaming</td>\n",
       "      <td>13.957224</td>\n",
       "      <td>7.941296</td>\n",
       "      <td>5.513429</td>\n",
       "      <td>6.255750</td>\n",
       "    </tr>\n",
       "    <tr>\n",
       "      <td>170152</td>\n",
       "      <td>GB</td>\n",
       "      <td>ExJmET8boVw</td>\n",
       "      <td>Rita Ora - Girls ft. Cardi B, Bebe Rexha &amp; Cha...</td>\n",
       "      <td>Rita Ora</td>\n",
       "      <td>Entertainment</td>\n",
       "      <td>16.464147</td>\n",
       "      <td>12.905512</td>\n",
       "      <td>10.260112</td>\n",
       "      <td>10.305447</td>\n",
       "    </tr>\n",
       "  </tbody>\n",
       "</table>\n",
       "<p>3070 rows × 9 columns</p>\n",
       "</div>"
      ],
      "text/plain": [
       "       country     video_id  \\\n",
       "432         GB  rHwDegptbI4   \n",
       "433         GB  AumaWl0TNBo   \n",
       "434         GB  -N5eucPMTTc   \n",
       "436         GB  fiusxyygqGk   \n",
       "466         GB  mCx26FLXWuI   \n",
       "...        ...          ...   \n",
       "170148      GB  oTn329CjrRA   \n",
       "170149      GB  VhQmTmqcEY0   \n",
       "170150      GB  ek1ePFp-nBI   \n",
       "170151      GB  QRyzwPzxpcs   \n",
       "170152      GB  ExJmET8boVw   \n",
       "\n",
       "                                                    title       channel_title  \\\n",
       "432     Dashcam captures truck's near miss with child ...    Cute Girl Videos   \n",
       "433                          How My Relationship Started!  PointlessBlogVlogs   \n",
       "434                         CHRISTMAS HAS GONE TO MY HEAD          MoreZoella   \n",
       "436          Marshmello - You & Me (Official Music Video)          marshmello   \n",
       "466     Seth Rollins & Dean Ambrose vs. Cesaro & Sheam...                 WWE   \n",
       "...                                                   ...                 ...   \n",
       "170148  LeBron James and Draymond Green Face Off in NB...       UNINTERRUPTED   \n",
       "170149                                 Juanes - Pa Dentro          JuanesVEVO   \n",
       "170150                  Halloween - Official Trailer (HD)  Universal Pictures   \n",
       "170151  Sea of Thieves - E3 2018 - Cursed Sails and Fo...                Xbox   \n",
       "170152  Rita Ora - Girls ft. Cardi B, Bebe Rexha & Cha...            Rita Ora   \n",
       "\n",
       "               category  log_views  log_likes  log_dislikes  log_comment_count  \n",
       "432     News & Politics   9.191769   3.433987      1.098612           3.433987  \n",
       "433       Entertainment  13.983375  10.872541      7.266827           7.755339  \n",
       "434      People & Blogs  13.967546  10.956230      6.620073           6.437752  \n",
       "436               Music  15.041345  12.241744      8.060856           9.494014  \n",
       "466              Sports  14.339874  10.093571      8.111028           8.135933  \n",
       "...                 ...        ...        ...           ...                ...  \n",
       "170148           Sports  11.767777   7.401842      3.401197           5.620401  \n",
       "170149            Music  16.899886  11.267191      8.648572           8.472405  \n",
       "170150    Entertainment  16.377069  12.208769      8.942199          10.467323  \n",
       "170151           Gaming  13.957224   7.941296      5.513429           6.255750  \n",
       "170152    Entertainment  16.464147  12.905512     10.260112          10.305447  \n",
       "\n",
       "[3070 rows x 9 columns]"
      ]
     },
     "execution_count": 98,
     "metadata": {},
     "output_type": "execute_result"
    }
   ],
   "source": [
    "GB_df = df[df['country'].isin(['GB'])][['country','video_id','title', 'channel_title','category','log_views','log_likes','log_dislikes','log_comment_count']]\n",
    "GB_df"
   ]
  },
  {
   "cell_type": "code",
   "execution_count": 84,
   "metadata": {},
   "outputs": [
    {
     "name": "stdout",
     "output_type": "stream",
     "text": [
      "<class 'pandas.core.frame.DataFrame'>\n",
      "RangeIndex: 171149 entries, 0 to 171148\n",
      "Data columns (total 24 columns):\n",
      "video_id                  171149 non-null object\n",
      "trending_date             171149 non-null object\n",
      "title                     171149 non-null object\n",
      "channel_title             171149 non-null object\n",
      "category_id               171149 non-null int64\n",
      "category                  171149 non-null object\n",
      "publish_date              171149 non-null object\n",
      "publish_time              171149 non-null object\n",
      "tags                      171149 non-null object\n",
      "views                     171149 non-null int64\n",
      "likes                     171149 non-null int64\n",
      "dislikes                  171149 non-null int64\n",
      "comment_count             171149 non-null int64\n",
      "thumbnail_link            171149 non-null object\n",
      "comments_disabled         171149 non-null bool\n",
      "ratings_disabled          171149 non-null bool\n",
      "video_error_or_removed    171149 non-null bool\n",
      "description               171149 non-null object\n",
      "country                   171149 non-null object\n",
      "publish_timestamp         171149 non-null datetime64[ns]\n",
      "log_views                 171149 non-null float64\n",
      "log_likes                 171149 non-null float64\n",
      "log_dislikes              171149 non-null float64\n",
      "log_comment_count         171149 non-null float64\n",
      "dtypes: bool(3), datetime64[ns](1), float64(4), int64(5), object(11)\n",
      "memory usage: 27.9+ MB\n"
     ]
    }
   ],
   "source": [
    "df.info()"
   ]
  },
  {
   "cell_type": "code",
   "execution_count": 101,
   "metadata": {},
   "outputs": [
    {
     "data": {
      "text/html": [
       "<div>\n",
       "<style scoped>\n",
       "    .dataframe tbody tr th:only-of-type {\n",
       "        vertical-align: middle;\n",
       "    }\n",
       "\n",
       "    .dataframe tbody tr th {\n",
       "        vertical-align: top;\n",
       "    }\n",
       "\n",
       "    .dataframe thead th {\n",
       "        text-align: right;\n",
       "    }\n",
       "</style>\n",
       "<table border=\"1\" class=\"dataframe\">\n",
       "  <thead>\n",
       "    <tr style=\"text-align: right;\">\n",
       "      <th></th>\n",
       "      <th>country</th>\n",
       "      <th>video_id</th>\n",
       "      <th>title</th>\n",
       "      <th>channel_title</th>\n",
       "      <th>category</th>\n",
       "      <th>log_views</th>\n",
       "      <th>log_likes</th>\n",
       "      <th>log_dislikes</th>\n",
       "      <th>log_comment_count</th>\n",
       "    </tr>\n",
       "  </thead>\n",
       "  <tbody>\n",
       "    <tr>\n",
       "      <td>160289</td>\n",
       "      <td>GB</td>\n",
       "      <td>7C2z4GqqS5E</td>\n",
       "      <td>BTS (방탄소년단) 'FAKE LOVE' Official MV</td>\n",
       "      <td>ibighit</td>\n",
       "      <td>Music</td>\n",
       "      <td>18.627784</td>\n",
       "      <td>15.540743</td>\n",
       "      <td>12.239957</td>\n",
       "      <td>14.021431</td>\n",
       "    </tr>\n",
       "    <tr>\n",
       "      <td>167397</td>\n",
       "      <td>GB</td>\n",
       "      <td>VYOjWnS4cMY</td>\n",
       "      <td>Childish Gambino - This Is America (Official V...</td>\n",
       "      <td>ChildishGambinoVEVO</td>\n",
       "      <td>Music</td>\n",
       "      <td>19.375121</td>\n",
       "      <td>15.510124</td>\n",
       "      <td>12.847566</td>\n",
       "      <td>13.223786</td>\n",
       "    </tr>\n",
       "    <tr>\n",
       "      <td>107307</td>\n",
       "      <td>GB</td>\n",
       "      <td>xpVfcZ0ZcFM</td>\n",
       "      <td>Drake - God’s Plan</td>\n",
       "      <td>DrakeVEVO</td>\n",
       "      <td>Music</td>\n",
       "      <td>19.369109</td>\n",
       "      <td>15.371099</td>\n",
       "      <td>11.671629</td>\n",
       "      <td>12.617377</td>\n",
       "    </tr>\n",
       "    <tr>\n",
       "      <td>105767</td>\n",
       "      <td>GB</td>\n",
       "      <td>kLpH1nSLJSs</td>\n",
       "      <td>Bad Bunny - Amorfoda | Video Oficial</td>\n",
       "      <td>Bad Bunny</td>\n",
       "      <td>Music</td>\n",
       "      <td>19.611144</td>\n",
       "      <td>15.156776</td>\n",
       "      <td>12.280860</td>\n",
       "      <td>12.324820</td>\n",
       "    </tr>\n",
       "    <tr>\n",
       "      <td>155749</td>\n",
       "      <td>GB</td>\n",
       "      <td>ffxKSjUwKdU</td>\n",
       "      <td>Ariana Grande - No Tears Left To Cry</td>\n",
       "      <td>ArianaGrandeVevo</td>\n",
       "      <td>Music</td>\n",
       "      <td>19.157256</td>\n",
       "      <td>15.037649</td>\n",
       "      <td>11.918970</td>\n",
       "      <td>12.466951</td>\n",
       "    </tr>\n",
       "    <tr>\n",
       "      <td>...</td>\n",
       "      <td>...</td>\n",
       "      <td>...</td>\n",
       "      <td>...</td>\n",
       "      <td>...</td>\n",
       "      <td>...</td>\n",
       "      <td>...</td>\n",
       "      <td>...</td>\n",
       "      <td>...</td>\n",
       "      <td>...</td>\n",
       "    </tr>\n",
       "    <tr>\n",
       "      <td>166031</td>\n",
       "      <td>GB</td>\n",
       "      <td>CX11yw6YL1w</td>\n",
       "      <td>Céline Dion - Ashes (from the Deadpool 2 Motio...</td>\n",
       "      <td>CelineDionVEVO</td>\n",
       "      <td>Music</td>\n",
       "      <td>17.233977</td>\n",
       "      <td>13.326492</td>\n",
       "      <td>9.507923</td>\n",
       "      <td>10.497726</td>\n",
       "    </tr>\n",
       "    <tr>\n",
       "      <td>92386</td>\n",
       "      <td>GB</td>\n",
       "      <td>yzshoDMBkqE</td>\n",
       "      <td>LOGAN PAUL RETURNS  📰 PEW NEWS📰</td>\n",
       "      <td>PewDiePie</td>\n",
       "      <td>News &amp; Politics</td>\n",
       "      <td>16.240706</td>\n",
       "      <td>13.322078</td>\n",
       "      <td>10.159602</td>\n",
       "      <td>11.082173</td>\n",
       "    </tr>\n",
       "    <tr>\n",
       "      <td>114750</td>\n",
       "      <td>GB</td>\n",
       "      <td>BQ31l1gPGKM</td>\n",
       "      <td>J. Balvin - Ahora</td>\n",
       "      <td>jbalvinVEVO</td>\n",
       "      <td>Music</td>\n",
       "      <td>18.127280</td>\n",
       "      <td>13.322017</td>\n",
       "      <td>10.167619</td>\n",
       "      <td>10.143999</td>\n",
       "    </tr>\n",
       "    <tr>\n",
       "      <td>87972</td>\n",
       "      <td>GB</td>\n",
       "      <td>JVDyowAzBrU</td>\n",
       "      <td>Pabllo Vittar - Então Vai (Feat. Diplo) (Video...</td>\n",
       "      <td>Pabllo Vittar</td>\n",
       "      <td>Music</td>\n",
       "      <td>16.588209</td>\n",
       "      <td>13.318631</td>\n",
       "      <td>11.055467</td>\n",
       "      <td>11.078382</td>\n",
       "    </tr>\n",
       "    <tr>\n",
       "      <td>56478</td>\n",
       "      <td>GB</td>\n",
       "      <td>I7B0z_2EZmQ</td>\n",
       "      <td>Regarding the rumors about me today</td>\n",
       "      <td>shane</td>\n",
       "      <td>Comedy</td>\n",
       "      <td>15.662005</td>\n",
       "      <td>13.316610</td>\n",
       "      <td>9.143987</td>\n",
       "      <td>12.234140</td>\n",
       "    </tr>\n",
       "  </tbody>\n",
       "</table>\n",
       "<p>100 rows × 9 columns</p>\n",
       "</div>"
      ],
      "text/plain": [
       "       country     video_id  \\\n",
       "160289      GB  7C2z4GqqS5E   \n",
       "167397      GB  VYOjWnS4cMY   \n",
       "107307      GB  xpVfcZ0ZcFM   \n",
       "105767      GB  kLpH1nSLJSs   \n",
       "155749      GB  ffxKSjUwKdU   \n",
       "...        ...          ...   \n",
       "166031      GB  CX11yw6YL1w   \n",
       "92386       GB  yzshoDMBkqE   \n",
       "114750      GB  BQ31l1gPGKM   \n",
       "87972       GB  JVDyowAzBrU   \n",
       "56478       GB  I7B0z_2EZmQ   \n",
       "\n",
       "                                                    title  \\\n",
       "160289                BTS (방탄소년단) 'FAKE LOVE' Official MV   \n",
       "167397  Childish Gambino - This Is America (Official V...   \n",
       "107307                                 Drake - God’s Plan   \n",
       "105767               Bad Bunny - Amorfoda | Video Oficial   \n",
       "155749               Ariana Grande - No Tears Left To Cry   \n",
       "...                                                   ...   \n",
       "166031  Céline Dion - Ashes (from the Deadpool 2 Motio...   \n",
       "92386                     LOGAN PAUL RETURNS  📰 PEW NEWS📰   \n",
       "114750                                  J. Balvin - Ahora   \n",
       "87972   Pabllo Vittar - Então Vai (Feat. Diplo) (Video...   \n",
       "56478                 Regarding the rumors about me today   \n",
       "\n",
       "              channel_title         category  log_views  log_likes  \\\n",
       "160289              ibighit            Music  18.627784  15.540743   \n",
       "167397  ChildishGambinoVEVO            Music  19.375121  15.510124   \n",
       "107307            DrakeVEVO            Music  19.369109  15.371099   \n",
       "105767            Bad Bunny            Music  19.611144  15.156776   \n",
       "155749     ArianaGrandeVevo            Music  19.157256  15.037649   \n",
       "...                     ...              ...        ...        ...   \n",
       "166031       CelineDionVEVO            Music  17.233977  13.326492   \n",
       "92386             PewDiePie  News & Politics  16.240706  13.322078   \n",
       "114750          jbalvinVEVO            Music  18.127280  13.322017   \n",
       "87972         Pabllo Vittar            Music  16.588209  13.318631   \n",
       "56478                 shane           Comedy  15.662005  13.316610   \n",
       "\n",
       "        log_dislikes  log_comment_count  \n",
       "160289     12.239957          14.021431  \n",
       "167397     12.847566          13.223786  \n",
       "107307     11.671629          12.617377  \n",
       "105767     12.280860          12.324820  \n",
       "155749     11.918970          12.466951  \n",
       "...              ...                ...  \n",
       "166031      9.507923          10.497726  \n",
       "92386      10.159602          11.082173  \n",
       "114750     10.167619          10.143999  \n",
       "87972      11.055467          11.078382  \n",
       "56478       9.143987          12.234140  \n",
       "\n",
       "[100 rows x 9 columns]"
      ]
     },
     "execution_count": 101,
     "metadata": {},
     "output_type": "execute_result"
    }
   ],
   "source": [
    "GB_video_likes = GB_df.sort_values(by=['log_likes'], ascending=False)\n",
    "GB_video_likes[0:100]"
   ]
  },
  {
   "cell_type": "code",
   "execution_count": 102,
   "metadata": {},
   "outputs": [
    {
     "data": {
      "text/plain": [
       "<matplotlib.axes._subplots.AxesSubplot at 0x1a2133b0b8>"
      ]
     },
     "execution_count": 102,
     "metadata": {},
     "output_type": "execute_result"
    },
    {
     "data": {
      "image/png": "[encoded data removed]",
      "text/plain": [
       "<Figure size 720x720 with 1 Axes>"
      ]
     },
     "metadata": {
      "needs_background": "light"
     },
     "output_type": "display_data"
    }
   ],
   "source": [
    "plt.figure(figsize = (10,10))\n",
    "sns.boxplot(x = \"category\", y = 'log_likes', data = GB_video_likes[0:100])"
   ]
  },
  {
   "cell_type": "code",
   "execution_count": 104,
   "metadata": {},
   "outputs": [
    {
     "data": {
      "text/html": [
       "<div>\n",
       "<style scoped>\n",
       "    .dataframe tbody tr th:only-of-type {\n",
       "        vertical-align: middle;\n",
       "    }\n",
       "\n",
       "    .dataframe tbody tr th {\n",
       "        vertical-align: top;\n",
       "    }\n",
       "\n",
       "    .dataframe thead th {\n",
       "        text-align: right;\n",
       "    }\n",
       "</style>\n",
       "<table border=\"1\" class=\"dataframe\">\n",
       "  <thead>\n",
       "    <tr style=\"text-align: right;\">\n",
       "      <th></th>\n",
       "      <th>country</th>\n",
       "      <th>video_id</th>\n",
       "      <th>title</th>\n",
       "      <th>channel_title</th>\n",
       "      <th>category</th>\n",
       "      <th>log_views</th>\n",
       "      <th>log_likes</th>\n",
       "      <th>log_dislikes</th>\n",
       "      <th>log_comment_count</th>\n",
       "    </tr>\n",
       "  </thead>\n",
       "  <tbody>\n",
       "    <tr>\n",
       "      <td>160289</td>\n",
       "      <td>GB</td>\n",
       "      <td>7C2z4GqqS5E</td>\n",
       "      <td>BTS (방탄소년단) 'FAKE LOVE' Official MV</td>\n",
       "      <td>ibighit</td>\n",
       "      <td>Music</td>\n",
       "      <td>18.627784</td>\n",
       "      <td>15.540743</td>\n",
       "      <td>12.239957</td>\n",
       "      <td>14.021431</td>\n",
       "    </tr>\n",
       "    <tr>\n",
       "      <td>32380</td>\n",
       "      <td>GB</td>\n",
       "      <td>FlsCjmMhFmw</td>\n",
       "      <td>YouTube Rewind: The Shape of 2017 | #YouTubeRe...</td>\n",
       "      <td>YouTube Spotlight</td>\n",
       "      <td>Entertainment</td>\n",
       "      <td>18.950630</td>\n",
       "      <td>15.013325</td>\n",
       "      <td>14.376996</td>\n",
       "      <td>13.647369</td>\n",
       "    </tr>\n",
       "    <tr>\n",
       "      <td>66131</td>\n",
       "      <td>GB</td>\n",
       "      <td>oWjxSkJpxFU</td>\n",
       "      <td>Suicide: Be Here Tomorrow.</td>\n",
       "      <td>Logan Paul Vlogs</td>\n",
       "      <td>Nonprofits &amp; Activism</td>\n",
       "      <td>17.100297</td>\n",
       "      <td>14.538836</td>\n",
       "      <td>13.209634</td>\n",
       "      <td>13.465705</td>\n",
       "    </tr>\n",
       "    <tr>\n",
       "      <td>18822</td>\n",
       "      <td>GB</td>\n",
       "      <td>kTlv5_Bs8aw</td>\n",
       "      <td>BTS (방탄소년단) 'MIC Drop (Steve Aoki Remix)' Offi...</td>\n",
       "      <td>ibighit</td>\n",
       "      <td>Music</td>\n",
       "      <td>17.806042</td>\n",
       "      <td>14.900785</td>\n",
       "      <td>10.967250</td>\n",
       "      <td>13.228802</td>\n",
       "    </tr>\n",
       "    <tr>\n",
       "      <td>167397</td>\n",
       "      <td>GB</td>\n",
       "      <td>VYOjWnS4cMY</td>\n",
       "      <td>Childish Gambino - This Is America (Official V...</td>\n",
       "      <td>ChildishGambinoVEVO</td>\n",
       "      <td>Music</td>\n",
       "      <td>19.375121</td>\n",
       "      <td>15.510124</td>\n",
       "      <td>12.847566</td>\n",
       "      <td>13.223786</td>\n",
       "    </tr>\n",
       "    <tr>\n",
       "      <td>...</td>\n",
       "      <td>...</td>\n",
       "      <td>...</td>\n",
       "      <td>...</td>\n",
       "      <td>...</td>\n",
       "      <td>...</td>\n",
       "      <td>...</td>\n",
       "      <td>...</td>\n",
       "      <td>...</td>\n",
       "      <td>...</td>\n",
       "    </tr>\n",
       "    <tr>\n",
       "      <td>143086</td>\n",
       "      <td>GB</td>\n",
       "      <td>d1D1SJ-KqaQ</td>\n",
       "      <td>WINNER - ‘EVERYDAY’ M/V</td>\n",
       "      <td>WINNER</td>\n",
       "      <td>Music</td>\n",
       "      <td>16.841870</td>\n",
       "      <td>13.301639</td>\n",
       "      <td>9.436120</td>\n",
       "      <td>10.968767</td>\n",
       "    </tr>\n",
       "    <tr>\n",
       "      <td>150086</td>\n",
       "      <td>GB</td>\n",
       "      <td>M4ZoCHID9GI</td>\n",
       "      <td>The Weeknd - Call Out My Name (Official Video)</td>\n",
       "      <td>TheWeekndVEVO</td>\n",
       "      <td>Music</td>\n",
       "      <td>18.746634</td>\n",
       "      <td>14.216929</td>\n",
       "      <td>10.693058</td>\n",
       "      <td>10.952910</td>\n",
       "    </tr>\n",
       "    <tr>\n",
       "      <td>166029</td>\n",
       "      <td>GB</td>\n",
       "      <td>vjI4Alon-3Q</td>\n",
       "      <td>Maluma - Marinero (Official Video)</td>\n",
       "      <td>MalumaVEVO</td>\n",
       "      <td>Music</td>\n",
       "      <td>18.128063</td>\n",
       "      <td>13.727658</td>\n",
       "      <td>11.153518</td>\n",
       "      <td>10.941907</td>\n",
       "    </tr>\n",
       "    <tr>\n",
       "      <td>134693</td>\n",
       "      <td>GB</td>\n",
       "      <td>TSA9VZduuZ4</td>\n",
       "      <td>[MV] 몬스타엑스(MONSTA X) - JEALOUSY</td>\n",
       "      <td>starshipTV</td>\n",
       "      <td>Music</td>\n",
       "      <td>15.844267</td>\n",
       "      <td>12.931820</td>\n",
       "      <td>7.699842</td>\n",
       "      <td>10.941305</td>\n",
       "    </tr>\n",
       "    <tr>\n",
       "      <td>98886</td>\n",
       "      <td>GB</td>\n",
       "      <td>AE5PqQ_6V5Y</td>\n",
       "      <td>CNCO - Mi Medicina (Official Video)</td>\n",
       "      <td>CNCOVEVO</td>\n",
       "      <td>Music</td>\n",
       "      <td>16.864931</td>\n",
       "      <td>13.184519</td>\n",
       "      <td>9.883999</td>\n",
       "      <td>10.935461</td>\n",
       "    </tr>\n",
       "  </tbody>\n",
       "</table>\n",
       "<p>100 rows × 9 columns</p>\n",
       "</div>"
      ],
      "text/plain": [
       "       country     video_id  \\\n",
       "160289      GB  7C2z4GqqS5E   \n",
       "32380       GB  FlsCjmMhFmw   \n",
       "66131       GB  oWjxSkJpxFU   \n",
       "18822       GB  kTlv5_Bs8aw   \n",
       "167397      GB  VYOjWnS4cMY   \n",
       "...        ...          ...   \n",
       "143086      GB  d1D1SJ-KqaQ   \n",
       "150086      GB  M4ZoCHID9GI   \n",
       "166029      GB  vjI4Alon-3Q   \n",
       "134693      GB  TSA9VZduuZ4   \n",
       "98886       GB  AE5PqQ_6V5Y   \n",
       "\n",
       "                                                    title  \\\n",
       "160289                BTS (방탄소년단) 'FAKE LOVE' Official MV   \n",
       "32380   YouTube Rewind: The Shape of 2017 | #YouTubeRe...   \n",
       "66131                          Suicide: Be Here Tomorrow.   \n",
       "18822   BTS (방탄소년단) 'MIC Drop (Steve Aoki Remix)' Offi...   \n",
       "167397  Childish Gambino - This Is America (Official V...   \n",
       "...                                                   ...   \n",
       "143086                            WINNER - ‘EVERYDAY’ M/V   \n",
       "150086     The Weeknd - Call Out My Name (Official Video)   \n",
       "166029                 Maluma - Marinero (Official Video)   \n",
       "134693                    [MV] 몬스타엑스(MONSTA X) - JEALOUSY   \n",
       "98886                 CNCO - Mi Medicina (Official Video)   \n",
       "\n",
       "              channel_title               category  log_views  log_likes  \\\n",
       "160289              ibighit                  Music  18.627784  15.540743   \n",
       "32380     YouTube Spotlight          Entertainment  18.950630  15.013325   \n",
       "66131      Logan Paul Vlogs  Nonprofits & Activism  17.100297  14.538836   \n",
       "18822               ibighit                  Music  17.806042  14.900785   \n",
       "167397  ChildishGambinoVEVO                  Music  19.375121  15.510124   \n",
       "...                     ...                    ...        ...        ...   \n",
       "143086               WINNER                  Music  16.841870  13.301639   \n",
       "150086        TheWeekndVEVO                  Music  18.746634  14.216929   \n",
       "166029           MalumaVEVO                  Music  18.128063  13.727658   \n",
       "134693           starshipTV                  Music  15.844267  12.931820   \n",
       "98886              CNCOVEVO                  Music  16.864931  13.184519   \n",
       "\n",
       "        log_dislikes  log_comment_count  \n",
       "160289     12.239957          14.021431  \n",
       "32380      14.376996          13.647369  \n",
       "66131      13.209634          13.465705  \n",
       "18822      10.967250          13.228802  \n",
       "167397     12.847566          13.223786  \n",
       "...              ...                ...  \n",
       "143086      9.436120          10.968767  \n",
       "150086     10.693058          10.952910  \n",
       "166029     11.153518          10.941907  \n",
       "134693      7.699842          10.941305  \n",
       "98886       9.883999          10.935461  \n",
       "\n",
       "[100 rows x 9 columns]"
      ]
     },
     "execution_count": 104,
     "metadata": {},
     "output_type": "execute_result"
    }
   ],
   "source": [
    "GB_comment_count = GB_df.sort_values(by=['log_comment_count'], ascending=False)\n",
    "GB_comment_count[0:100]"
   ]
  },
  {
   "cell_type": "code",
   "execution_count": 106,
   "metadata": {},
   "outputs": [
    {
     "data": {
      "text/plain": [
       "<matplotlib.axes._subplots.AxesSubplot at 0x1a3d1c2e10>"
      ]
     },
     "execution_count": 106,
     "metadata": {},
     "output_type": "execute_result"
    },
    {
     "data": {
      "image/png": "[encoded data removed]",
      "text/plain": [
       "<Figure size 720x720 with 1 Axes>"
      ]
     },
     "metadata": {
      "needs_background": "light"
     },
     "output_type": "display_data"
    }
   ],
   "source": [
    "plt.figure(figsize = (10,10))\n",
    "sns.barplot(x = \"category\", y = 'log_likes', data = GB_video_likes[0:100])"
   ]
  },
  {
   "cell_type": "code",
   "execution_count": 110,
   "metadata": {},
   "outputs": [
    {
     "data": {
      "text/plain": [
       "<matplotlib.axes._subplots.AxesSubplot at 0x1a3d78fb38>"
      ]
     },
     "execution_count": 110,
     "metadata": {},
     "output_type": "execute_result"
    },
    {
     "data": {
      "image/png": "[encoded data removed]",
      "text/plain": [
       "<Figure size 720x720 with 1 Axes>"
      ]
     },
     "metadata": {
      "needs_background": "light"
     },
     "output_type": "display_data"
    }
   ],
   "source": [
    "plt.figure(figsize = (10,10))\n",
    "sns.barplot(x = \"category\", y = 'log_views', data = GB_comment_count[0:100])"
   ]
  },
  {
   "cell_type": "code",
   "execution_count": null,
   "metadata": {},
   "outputs": [],
   "source": [
    "GB_df = df[df['country'].isin(['GB'])][['country','video_id','title', 'channel_title','category','log_views','log_likes','log_dislikes','log_comment_count']]\n",
    "GB_df"
   ]
  },
  {
   "cell_type": "code",
   "execution_count": 118,
   "metadata": {},
   "outputs": [
    {
     "data": {
      "image/png": "[encoded data removed]",
      "text/plain": [
       "<Figure size 432x288 with 1 Axes>"
      ]
     },
     "metadata": {
      "needs_background": "light"
     },
     "output_type": "display_data"
    }
   ],
   "source": [
    "ax = sns.countplot(y=\"category\", data=GB_df[0:100], palette=\"Set3\")"
   ]
  },
  {
   "cell_type": "code",
   "execution_count": 111,
   "metadata": {},
   "outputs": [
    {
     "data": {
      "text/html": [
       "<div>\n",
       "<style scoped>\n",
       "    .dataframe tbody tr th:only-of-type {\n",
       "        vertical-align: middle;\n",
       "    }\n",
       "\n",
       "    .dataframe tbody tr th {\n",
       "        vertical-align: top;\n",
       "    }\n",
       "\n",
       "    .dataframe thead th {\n",
       "        text-align: right;\n",
       "    }\n",
       "</style>\n",
       "<table border=\"1\" class=\"dataframe\">\n",
       "  <thead>\n",
       "    <tr style=\"text-align: right;\">\n",
       "      <th></th>\n",
       "      <th>country</th>\n",
       "      <th>video_id</th>\n",
       "      <th>title</th>\n",
       "      <th>channel_title</th>\n",
       "      <th>category</th>\n",
       "      <th>log_views</th>\n",
       "      <th>log_likes</th>\n",
       "      <th>log_dislikes</th>\n",
       "      <th>log_comment_count</th>\n",
       "    </tr>\n",
       "  </thead>\n",
       "  <tbody>\n",
       "    <tr>\n",
       "      <td>119441</td>\n",
       "      <td>GB</td>\n",
       "      <td>_I_D_8Z4sJE</td>\n",
       "      <td>Nicky Jam x J. Balvin - X (EQUIS) | Video Ofic...</td>\n",
       "      <td>NickyJamTV</td>\n",
       "      <td>Music</td>\n",
       "      <td>19.866514</td>\n",
       "      <td>14.851812</td>\n",
       "      <td>11.913552</td>\n",
       "      <td>11.506716</td>\n",
       "    </tr>\n",
       "    <tr>\n",
       "      <td>149316</td>\n",
       "      <td>GB</td>\n",
       "      <td>9jI-z9QN6g8</td>\n",
       "      <td>Te Bote Remix - Casper, Nio García, Darell, Ni...</td>\n",
       "      <td>Flow La Movie</td>\n",
       "      <td>Music</td>\n",
       "      <td>19.637436</td>\n",
       "      <td>14.764060</td>\n",
       "      <td>12.023051</td>\n",
       "      <td>11.640131</td>\n",
       "    </tr>\n",
       "    <tr>\n",
       "      <td>105767</td>\n",
       "      <td>GB</td>\n",
       "      <td>kLpH1nSLJSs</td>\n",
       "      <td>Bad Bunny - Amorfoda | Video Oficial</td>\n",
       "      <td>Bad Bunny</td>\n",
       "      <td>Music</td>\n",
       "      <td>19.611144</td>\n",
       "      <td>15.156776</td>\n",
       "      <td>12.280860</td>\n",
       "      <td>12.324820</td>\n",
       "    </tr>\n",
       "    <tr>\n",
       "      <td>86795</td>\n",
       "      <td>GB</td>\n",
       "      <td>wfWkmURBNv8</td>\n",
       "      <td>Ozuna x Romeo Santos - El Farsante Remix</td>\n",
       "      <td>Ozuna</td>\n",
       "      <td>Music</td>\n",
       "      <td>19.481286</td>\n",
       "      <td>14.296813</td>\n",
       "      <td>11.926015</td>\n",
       "      <td>11.119987</td>\n",
       "    </tr>\n",
       "    <tr>\n",
       "      <td>167397</td>\n",
       "      <td>GB</td>\n",
       "      <td>VYOjWnS4cMY</td>\n",
       "      <td>Childish Gambino - This Is America (Official V...</td>\n",
       "      <td>ChildishGambinoVEVO</td>\n",
       "      <td>Music</td>\n",
       "      <td>19.375121</td>\n",
       "      <td>15.510124</td>\n",
       "      <td>12.847566</td>\n",
       "      <td>13.223786</td>\n",
       "    </tr>\n",
       "    <tr>\n",
       "      <td>...</td>\n",
       "      <td>...</td>\n",
       "      <td>...</td>\n",
       "      <td>...</td>\n",
       "      <td>...</td>\n",
       "      <td>...</td>\n",
       "      <td>...</td>\n",
       "      <td>...</td>\n",
       "      <td>...</td>\n",
       "      <td>...</td>\n",
       "    </tr>\n",
       "    <tr>\n",
       "      <td>105769</td>\n",
       "      <td>GB</td>\n",
       "      <td>p03TIGqEc8o</td>\n",
       "      <td>Sofia Reyes - 1, 2, 3 (feat. Jason Derulo &amp; De...</td>\n",
       "      <td>Sofia Reyes</td>\n",
       "      <td>Music</td>\n",
       "      <td>17.261417</td>\n",
       "      <td>12.473593</td>\n",
       "      <td>9.206232</td>\n",
       "      <td>8.972971</td>\n",
       "    </tr>\n",
       "    <tr>\n",
       "      <td>169904</td>\n",
       "      <td>GB</td>\n",
       "      <td>aEM2kOrrNJI</td>\n",
       "      <td>Jennifer Lopez - Dinero ft. DJ Khaled, Cardi B</td>\n",
       "      <td>JenniferLopezVEVO</td>\n",
       "      <td>Music</td>\n",
       "      <td>17.236499</td>\n",
       "      <td>13.030138</td>\n",
       "      <td>10.654314</td>\n",
       "      <td>10.153468</td>\n",
       "    </tr>\n",
       "    <tr>\n",
       "      <td>166031</td>\n",
       "      <td>GB</td>\n",
       "      <td>CX11yw6YL1w</td>\n",
       "      <td>Céline Dion - Ashes (from the Deadpool 2 Motio...</td>\n",
       "      <td>CelineDionVEVO</td>\n",
       "      <td>Music</td>\n",
       "      <td>17.233977</td>\n",
       "      <td>13.326492</td>\n",
       "      <td>9.507923</td>\n",
       "      <td>10.497726</td>\n",
       "    </tr>\n",
       "    <tr>\n",
       "      <td>170011</td>\n",
       "      <td>GB</td>\n",
       "      <td>Il-an3K9pjg</td>\n",
       "      <td>Anne-Marie - 2002 [Official Video]</td>\n",
       "      <td>Anne-Marie</td>\n",
       "      <td>Music</td>\n",
       "      <td>17.204683</td>\n",
       "      <td>12.886213</td>\n",
       "      <td>9.093020</td>\n",
       "      <td>9.902937</td>\n",
       "    </tr>\n",
       "    <tr>\n",
       "      <td>81914</td>\n",
       "      <td>GB</td>\n",
       "      <td>vecSVX1QYbQ</td>\n",
       "      <td>iKON - ‘사랑을 했다(LOVE SCENARIO)’ M/V</td>\n",
       "      <td>iKON</td>\n",
       "      <td>Music</td>\n",
       "      <td>17.201823</td>\n",
       "      <td>13.505726</td>\n",
       "      <td>9.184817</td>\n",
       "      <td>11.302488</td>\n",
       "    </tr>\n",
       "  </tbody>\n",
       "</table>\n",
       "<p>100 rows × 9 columns</p>\n",
       "</div>"
      ],
      "text/plain": [
       "       country     video_id  \\\n",
       "119441      GB  _I_D_8Z4sJE   \n",
       "149316      GB  9jI-z9QN6g8   \n",
       "105767      GB  kLpH1nSLJSs   \n",
       "86795       GB  wfWkmURBNv8   \n",
       "167397      GB  VYOjWnS4cMY   \n",
       "...        ...          ...   \n",
       "105769      GB  p03TIGqEc8o   \n",
       "169904      GB  aEM2kOrrNJI   \n",
       "166031      GB  CX11yw6YL1w   \n",
       "170011      GB  Il-an3K9pjg   \n",
       "81914       GB  vecSVX1QYbQ   \n",
       "\n",
       "                                                    title  \\\n",
       "119441  Nicky Jam x J. Balvin - X (EQUIS) | Video Ofic...   \n",
       "149316  Te Bote Remix - Casper, Nio García, Darell, Ni...   \n",
       "105767               Bad Bunny - Amorfoda | Video Oficial   \n",
       "86795            Ozuna x Romeo Santos - El Farsante Remix   \n",
       "167397  Childish Gambino - This Is America (Official V...   \n",
       "...                                                   ...   \n",
       "105769  Sofia Reyes - 1, 2, 3 (feat. Jason Derulo & De...   \n",
       "169904     Jennifer Lopez - Dinero ft. DJ Khaled, Cardi B   \n",
       "166031  Céline Dion - Ashes (from the Deadpool 2 Motio...   \n",
       "170011                 Anne-Marie - 2002 [Official Video]   \n",
       "81914                  iKON - ‘사랑을 했다(LOVE SCENARIO)’ M/V   \n",
       "\n",
       "              channel_title category  log_views  log_likes  log_dislikes  \\\n",
       "119441           NickyJamTV    Music  19.866514  14.851812     11.913552   \n",
       "149316        Flow La Movie    Music  19.637436  14.764060     12.023051   \n",
       "105767            Bad Bunny    Music  19.611144  15.156776     12.280860   \n",
       "86795                 Ozuna    Music  19.481286  14.296813     11.926015   \n",
       "167397  ChildishGambinoVEVO    Music  19.375121  15.510124     12.847566   \n",
       "...                     ...      ...        ...        ...           ...   \n",
       "105769          Sofia Reyes    Music  17.261417  12.473593      9.206232   \n",
       "169904    JenniferLopezVEVO    Music  17.236499  13.030138     10.654314   \n",
       "166031       CelineDionVEVO    Music  17.233977  13.326492      9.507923   \n",
       "170011           Anne-Marie    Music  17.204683  12.886213      9.093020   \n",
       "81914                  iKON    Music  17.201823  13.505726      9.184817   \n",
       "\n",
       "        log_comment_count  \n",
       "119441          11.506716  \n",
       "149316          11.640131  \n",
       "105767          12.324820  \n",
       "86795           11.119987  \n",
       "167397          13.223786  \n",
       "...                   ...  \n",
       "105769           8.972971  \n",
       "169904          10.153468  \n",
       "166031          10.497726  \n",
       "170011           9.902937  \n",
       "81914           11.302488  \n",
       "\n",
       "[100 rows x 9 columns]"
      ]
     },
     "execution_count": 111,
     "metadata": {},
     "output_type": "execute_result"
    }
   ],
   "source": [
    "GB_video_views = GB_df.sort_values(by=['log_views'], ascending=False)\n",
    "GB_video_views[0:100]"
   ]
  },
  {
   "cell_type": "code",
   "execution_count": 112,
   "metadata": {},
   "outputs": [
    {
     "data": {
      "image/png": "[encoded data removed]",
      "text/plain": [
       "<Figure size 432x288 with 1 Axes>"
      ]
     },
     "metadata": {
      "needs_background": "light"
     },
     "output_type": "display_data"
    }
   ],
   "source": [
    "ax = sns.countplot(x=\"category\", data=GB_video_views[0:100]) "
   ]
  },
  {
   "cell_type": "code",
   "execution_count": 114,
   "metadata": {},
   "outputs": [
    {
     "data": {
      "text/plain": [
       "<matplotlib.axes._subplots.AxesSubplot at 0x1a3dd4c2b0>"
      ]
     },
     "execution_count": 114,
     "metadata": {},
     "output_type": "execute_result"
    },
    {
     "data": {
      "image/png": "[encoded data removed]",
      "text/plain": [
       "<Figure size 720x720 with 1 Axes>"
      ]
     },
     "metadata": {
      "needs_background": "light"
     },
     "output_type": "display_data"
    }
   ],
   "source": [
    "plt.figure(figsize = (10,10))\n",
    "sns.boxplot(x = \"category\", y = 'log_likes', data = GB_video_views[0:100])"
   ]
  },
  {
   "cell_type": "code",
   "execution_count": 115,
   "metadata": {},
   "outputs": [
    {
     "data": {
      "text/plain": [
       "<matplotlib.axes._subplots.AxesSubplot at 0x1a3df7cd68>"
      ]
     },
     "execution_count": 115,
     "metadata": {},
     "output_type": "execute_result"
    },
    {
     "data": {
      "image/png": "[encoded data removed]",
      "text/plain": [
       "<Figure size 720x720 with 1 Axes>"
      ]
     },
     "metadata": {
      "needs_background": "light"
     },
     "output_type": "display_data"
    }
   ],
   "source": [
    "plt.figure(figsize = (10,10))\n",
    "sns.boxplot(x = \"category\", y = 'log_dislikes', data = GB_video_views[0:100])"
   ]
  },
  {
   "cell_type": "code",
   "execution_count": 116,
   "metadata": {},
   "outputs": [
    {
     "data": {
      "text/plain": [
       "<matplotlib.axes._subplots.AxesSubplot at 0x1a3dd65550>"
      ]
     },
     "execution_count": 116,
     "metadata": {},
     "output_type": "execute_result"
    },
    {
     "data": {
      "image/png": "[encoded data removed]",
      "text/plain": [
       "<Figure size 720x720 with 1 Axes>"
      ]
     },
     "metadata": {
      "needs_background": "light"
     },
     "output_type": "display_data"
    }
   ],
   "source": [
    "plt.figure(figsize = (10,10))\n",
    "sns.boxplot(x = \"category\", y = 'log_comment_count', data = GB_video_views[0:100])"
   ]
  },
  {
   "cell_type": "code",
   "execution_count": null,
   "metadata": {},
   "outputs": [],
   "source": []
  }
 ],
 "metadata": {
  "kernelspec": {
   "display_name": "Python 3",
   "language": "python",
   "name": "python3"
  },
  "language_info": {
   "codemirror_mode": {
    "name": "ipython",
    "version": 3
   },
   "file_extension": ".py",
   "mimetype": "text/x-python",
   "name": "python",
   "nbconvert_exporter": "python",
   "pygments_lexer": "ipython3",
   "version": "3.7.3"
  }
 },
 "nbformat": 4,
 "nbformat_minor": 2
}
