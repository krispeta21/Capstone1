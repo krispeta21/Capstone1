{
 "cells": [
  {
   "cell_type": "code",
   "execution_count": null,
   "metadata": {},
   "outputs": [],
   "source": [
    "#TO DO: Make sure all changes in github"
   ]
  },
  {
   "cell_type": "markdown",
   "metadata": {},
   "source": [
    "source: https://www.kaggle.com/hoonkeng/deep-analysis-on-youtube-trending-videos-eda/notebook\n"
   ]
  },
  {
   "cell_type": "code",
   "execution_count": 1,
   "metadata": {},
   "outputs": [
    {
     "data": {
      "text/plain": [
       "'/Users/cristinasandoval/Desktop/DATA_practice/Capstone1'"
      ]
     },
     "execution_count": 1,
     "metadata": {},
     "output_type": "execute_result"
    }
   ],
   "source": [
    "%pwd"
   ]
  },
  {
   "cell_type": "code",
   "execution_count": 2,
   "metadata": {},
   "outputs": [],
   "source": [
    "import os\n",
    "import pandas as pd\n",
    "import seaborn as sns\n",
    "import matplotlib.pyplot as plt"
   ]
  },
  {
   "cell_type": "code",
   "execution_count": null,
   "metadata": {},
   "outputs": [],
   "source": [
    "!pwd"
   ]
  },
  {
   "cell_type": "code",
   "execution_count": null,
   "metadata": {},
   "outputs": [],
   "source": [
    "!ls .."
   ]
  },
  {
   "cell_type": "code",
   "execution_count": 3,
   "metadata": {},
   "outputs": [],
   "source": [
    "path = 'Capstone1_Data'\n",
    "filepath1 = os.path.join('..', path,'dataframe.csv') #if file is not in same dir as notebook, must change path\n",
    "filepath2 = os.path.join('..', path,'dataframe_all_timestamps.csv') #if file is not in same dir as notebook, must change path\n",
    "\n",
    "df = pd.read_csv(filepath1)\n",
    "df_all_timestamps = pd.read_csv(filepath2)"
   ]
  },
  {
   "cell_type": "code",
   "execution_count": 5,
   "metadata": {},
   "outputs": [],
   "source": [
    "def stringify(row):\n",
    "    return str(row['publish_date']) + ' ' + str(row['publish_time'])\n",
    "\n",
    "df_all_timestamps.loc[:,'string_date_time'] = \\\n",
    "                            df_all_timestamps.apply(stringify, axis=1)\n",
    "\n",
    "df_all_timestamps.loc[:,'publish_timestamp'] = \\\n",
    "                pd.to_datetime(df_all_timestamps['string_date_time'],\n",
    "                                infer_datetime_format=True,\n",
    "                                errors='coerce')\n",
    "\n",
    "df_all_timestamps = df_all_timestamps.drop('string_date_time', axis=1)\n",
    "\n",
    "\n",
    "#make a new column in df called 'publish_timestamp' \n",
    "#that is a datetime object\n",
    "\n",
    "df.loc[:,'string_date_time'] = df.apply(stringify, axis=1)\n",
    "df.loc[:,'publish_timestamp'] = \\\n",
    "                pd.to_datetime(df['string_date_time'],\n",
    "                                infer_datetime_format=True,\n",
    "                                errors='coerce')\n",
    "df = df.drop('string_date_time', axis=1)"
   ]
  },
  {
   "cell_type": "code",
   "execution_count": 5,
   "metadata": {},
   "outputs": [],
   "source": [
    "#optional\n",
    "# makes new columns by taking the logarithm of the views, likes, \n",
    "#dislikes and comment_count to compress the scale for easier graphing \n",
    "\n",
    "import numpy as np\n",
    "df.loc[:,'log_views'] = np.log(df.loc[:,'views']+1)\n",
    "df.loc[:,'log_likes'] = np.log(df.loc[:,'likes']+1)\n",
    "df.loc[:,'log_dislikes'] = np.log(df.loc[:,'dislikes']+1)\n",
    "df.loc[:,'log_comment_count'] = np.log(df.loc[:,'comment_count']+1)\n",
    "\n",
    "#show all columns\n",
    "pd.set_option('display.max_columns', 100)"
   ]
  },
  {
   "cell_type": "code",
   "execution_count": 6,
   "metadata": {},
   "outputs": [
    {
     "data": {
      "text/html": [
       "<div>\n",
       "<style scoped>\n",
       "    .dataframe tbody tr th:only-of-type {\n",
       "        vertical-align: middle;\n",
       "    }\n",
       "\n",
       "    .dataframe tbody tr th {\n",
       "        vertical-align: top;\n",
       "    }\n",
       "\n",
       "    .dataframe thead th {\n",
       "        text-align: right;\n",
       "    }\n",
       "</style>\n",
       "<table border=\"1\" class=\"dataframe\">\n",
       "  <thead>\n",
       "    <tr style=\"text-align: right;\">\n",
       "      <th></th>\n",
       "      <th>video_id</th>\n",
       "      <th>trending_date</th>\n",
       "      <th>title</th>\n",
       "      <th>channel_title</th>\n",
       "      <th>category_id</th>\n",
       "      <th>category</th>\n",
       "      <th>publish_date</th>\n",
       "      <th>publish_time</th>\n",
       "      <th>tags</th>\n",
       "      <th>views</th>\n",
       "      <th>likes</th>\n",
       "      <th>dislikes</th>\n",
       "      <th>comment_count</th>\n",
       "      <th>thumbnail_link</th>\n",
       "      <th>comments_disabled</th>\n",
       "      <th>ratings_disabled</th>\n",
       "      <th>video_error_or_removed</th>\n",
       "      <th>description</th>\n",
       "      <th>country</th>\n",
       "      <th>publish_timestamp</th>\n",
       "      <th>log_views</th>\n",
       "      <th>log_likes</th>\n",
       "      <th>log_dislikes</th>\n",
       "      <th>log_comment_count</th>\n",
       "    </tr>\n",
       "  </thead>\n",
       "  <tbody>\n",
       "    <tr>\n",
       "      <td>0</td>\n",
       "      <td>cJon8yBKv3g</td>\n",
       "      <td>2017-11-14</td>\n",
       "      <td>Kingsman : Le Cercle d'or (Mickael J Critique)</td>\n",
       "      <td>MJ - FERMEZ LA</td>\n",
       "      <td>1</td>\n",
       "      <td>Film &amp; Animation</td>\n",
       "      <td>2017-11-12</td>\n",
       "      <td>17:58:57</td>\n",
       "      <td>VoxMakers\"|\"FERMEZ LA\"|\"Alert Spoiler\"|\"Matthe...</td>\n",
       "      <td>19487</td>\n",
       "      <td>1596</td>\n",
       "      <td>23</td>\n",
       "      <td>215</td>\n",
       "      <td>https://i.ytimg.com/vi/cJon8yBKv3g/default.jpg</td>\n",
       "      <td>False</td>\n",
       "      <td>False</td>\n",
       "      <td>False</td>\n",
       "      <td>Avec un peu de retard, voici l'avis de Mickael...</td>\n",
       "      <td>FR</td>\n",
       "      <td>2017-11-12 17:58:57</td>\n",
       "      <td>9.877554</td>\n",
       "      <td>7.375882</td>\n",
       "      <td>3.178054</td>\n",
       "      <td>5.375278</td>\n",
       "    </tr>\n",
       "    <tr>\n",
       "      <td>1</td>\n",
       "      <td>g12KeCPRB4Q</td>\n",
       "      <td>2017-11-14</td>\n",
       "      <td>Vide grenier LIVE - 12 Novembre 2017</td>\n",
       "      <td>Kirby-54</td>\n",
       "      <td>20</td>\n",
       "      <td>Gaming</td>\n",
       "      <td>2017-11-12</td>\n",
       "      <td>13:46:18</td>\n",
       "      <td>Vide grenier\"|\"vide grenier live\"|\"brocante\"|\"...</td>\n",
       "      <td>20744</td>\n",
       "      <td>1032</td>\n",
       "      <td>558</td>\n",
       "      <td>243</td>\n",
       "      <td>https://i.ytimg.com/vi/g12KeCPRB4Q/default.jpg</td>\n",
       "      <td>False</td>\n",
       "      <td>False</td>\n",
       "      <td>False</td>\n",
       "      <td>C'est reparti pour un nouveau compte rendu vid...</td>\n",
       "      <td>FR</td>\n",
       "      <td>2017-11-12 13:46:18</td>\n",
       "      <td>9.940061</td>\n",
       "      <td>6.940222</td>\n",
       "      <td>6.326149</td>\n",
       "      <td>5.497168</td>\n",
       "    </tr>\n",
       "    <tr>\n",
       "      <td>2</td>\n",
       "      <td>irIZRH3JlIw</td>\n",
       "      <td>2017-11-14</td>\n",
       "      <td>لقجع يثور في وجه الإتحاد الإيفواري بسبب الجماه...</td>\n",
       "      <td>أخبار اليوم</td>\n",
       "      <td>25</td>\n",
       "      <td>News &amp; Politics</td>\n",
       "      <td>2017-11-12</td>\n",
       "      <td>19:08:08</td>\n",
       "      <td>قناة أخبار اليوم\"|\"يومية المغرب\"|\"دولية\"|\"قضية...</td>\n",
       "      <td>207452</td>\n",
       "      <td>1415</td>\n",
       "      <td>148</td>\n",
       "      <td>90</td>\n",
       "      <td>https://i.ytimg.com/vi/irIZRH3JlIw/default.jpg</td>\n",
       "      <td>False</td>\n",
       "      <td>False</td>\n",
       "      <td>False</td>\n",
       "      <td>لقجع يثور في وجه الإتحاد الإيفواري بسبب الجماه...</td>\n",
       "      <td>FR</td>\n",
       "      <td>2017-11-12 19:08:08</td>\n",
       "      <td>12.242660</td>\n",
       "      <td>7.255591</td>\n",
       "      <td>5.003946</td>\n",
       "      <td>4.510860</td>\n",
       "    </tr>\n",
       "    <tr>\n",
       "      <td>3</td>\n",
       "      <td>SnHtzkQZggA</td>\n",
       "      <td>2017-11-14</td>\n",
       "      <td>عروس اسطنبول | اعلان الحلقة 25 | - مترجم للعربية</td>\n",
       "      <td>تركييتنا - bizim Türkiye</td>\n",
       "      <td>1</td>\n",
       "      <td>Film &amp; Animation</td>\n",
       "      <td>2017-11-13</td>\n",
       "      <td>19:58:33</td>\n",
       "      <td>مسلسل عروس اسطنبول\"|\"عروس اسطنبول\"|\"عروس اسطنب...</td>\n",
       "      <td>15899</td>\n",
       "      <td>142</td>\n",
       "      <td>10</td>\n",
       "      <td>7</td>\n",
       "      <td>https://i.ytimg.com/vi/SnHtzkQZggA/default.jpg</td>\n",
       "      <td>False</td>\n",
       "      <td>False</td>\n",
       "      <td>False</td>\n",
       "      <td>عروس اسطنبول | اعلان الحلقة 25 | - مترجم للعرب...</td>\n",
       "      <td>FR</td>\n",
       "      <td>2017-11-13 19:58:33</td>\n",
       "      <td>9.674074</td>\n",
       "      <td>4.962845</td>\n",
       "      <td>2.397895</td>\n",
       "      <td>2.079442</td>\n",
       "    </tr>\n",
       "    <tr>\n",
       "      <td>4</td>\n",
       "      <td>u6EoWM2KMPE</td>\n",
       "      <td>2017-11-14</td>\n",
       "      <td>Portokalli, 12 Nentor 2017 - Policat e postbll...</td>\n",
       "      <td>Top Channel Albania</td>\n",
       "      <td>23</td>\n",
       "      <td>Comedy</td>\n",
       "      <td>2017-11-13</td>\n",
       "      <td>13:33:26</td>\n",
       "      <td>Portokalli\"|\"Comedy Show\"|\"Top Channel Albania...</td>\n",
       "      <td>100607</td>\n",
       "      <td>1159</td>\n",
       "      <td>48</td>\n",
       "      <td>35</td>\n",
       "      <td>https://i.ytimg.com/vi/u6EoWM2KMPE/default.jpg</td>\n",
       "      <td>False</td>\n",
       "      <td>False</td>\n",
       "      <td>False</td>\n",
       "      <td>http://top-channel.tv/programe/portokalli/</td>\n",
       "      <td>FR</td>\n",
       "      <td>2017-11-13 13:33:26</td>\n",
       "      <td>11.518987</td>\n",
       "      <td>7.056175</td>\n",
       "      <td>3.891820</td>\n",
       "      <td>3.583519</td>\n",
       "    </tr>\n",
       "  </tbody>\n",
       "</table>\n",
       "</div>"
      ],
      "text/plain": [
       "      video_id trending_date  \\\n",
       "0  cJon8yBKv3g    2017-11-14   \n",
       "1  g12KeCPRB4Q    2017-11-14   \n",
       "2  irIZRH3JlIw    2017-11-14   \n",
       "3  SnHtzkQZggA    2017-11-14   \n",
       "4  u6EoWM2KMPE    2017-11-14   \n",
       "\n",
       "                                               title  \\\n",
       "0     Kingsman : Le Cercle d'or (Mickael J Critique)   \n",
       "1               Vide grenier LIVE - 12 Novembre 2017   \n",
       "2  لقجع يثور في وجه الإتحاد الإيفواري بسبب الجماه...   \n",
       "3   عروس اسطنبول | اعلان الحلقة 25 | - مترجم للعربية   \n",
       "4  Portokalli, 12 Nentor 2017 - Policat e postbll...   \n",
       "\n",
       "              channel_title  category_id          category publish_date  \\\n",
       "0            MJ - FERMEZ LA            1  Film & Animation   2017-11-12   \n",
       "1                  Kirby-54           20            Gaming   2017-11-12   \n",
       "2               أخبار اليوم           25   News & Politics   2017-11-12   \n",
       "3  تركييتنا - bizim Türkiye            1  Film & Animation   2017-11-13   \n",
       "4       Top Channel Albania           23            Comedy   2017-11-13   \n",
       "\n",
       "  publish_time                                               tags   views  \\\n",
       "0     17:58:57  VoxMakers\"|\"FERMEZ LA\"|\"Alert Spoiler\"|\"Matthe...   19487   \n",
       "1     13:46:18  Vide grenier\"|\"vide grenier live\"|\"brocante\"|\"...   20744   \n",
       "2     19:08:08  قناة أخبار اليوم\"|\"يومية المغرب\"|\"دولية\"|\"قضية...  207452   \n",
       "3     19:58:33  مسلسل عروس اسطنبول\"|\"عروس اسطنبول\"|\"عروس اسطنب...   15899   \n",
       "4     13:33:26  Portokalli\"|\"Comedy Show\"|\"Top Channel Albania...  100607   \n",
       "\n",
       "   likes  dislikes  comment_count  \\\n",
       "0   1596        23            215   \n",
       "1   1032       558            243   \n",
       "2   1415       148             90   \n",
       "3    142        10              7   \n",
       "4   1159        48             35   \n",
       "\n",
       "                                   thumbnail_link  comments_disabled  \\\n",
       "0  https://i.ytimg.com/vi/cJon8yBKv3g/default.jpg              False   \n",
       "1  https://i.ytimg.com/vi/g12KeCPRB4Q/default.jpg              False   \n",
       "2  https://i.ytimg.com/vi/irIZRH3JlIw/default.jpg              False   \n",
       "3  https://i.ytimg.com/vi/SnHtzkQZggA/default.jpg              False   \n",
       "4  https://i.ytimg.com/vi/u6EoWM2KMPE/default.jpg              False   \n",
       "\n",
       "   ratings_disabled  video_error_or_removed  \\\n",
       "0             False                   False   \n",
       "1             False                   False   \n",
       "2             False                   False   \n",
       "3             False                   False   \n",
       "4             False                   False   \n",
       "\n",
       "                                         description country  \\\n",
       "0  Avec un peu de retard, voici l'avis de Mickael...      FR   \n",
       "1  C'est reparti pour un nouveau compte rendu vid...      FR   \n",
       "2  لقجع يثور في وجه الإتحاد الإيفواري بسبب الجماه...      FR   \n",
       "3  عروس اسطنبول | اعلان الحلقة 25 | - مترجم للعرب...      FR   \n",
       "4         http://top-channel.tv/programe/portokalli/      FR   \n",
       "\n",
       "    publish_timestamp  log_views  log_likes  log_dislikes  log_comment_count  \n",
       "0 2017-11-12 17:58:57   9.877554   7.375882      3.178054           5.375278  \n",
       "1 2017-11-12 13:46:18   9.940061   6.940222      6.326149           5.497168  \n",
       "2 2017-11-12 19:08:08  12.242660   7.255591      5.003946           4.510860  \n",
       "3 2017-11-13 19:58:33   9.674074   4.962845      2.397895           2.079442  \n",
       "4 2017-11-13 13:33:26  11.518987   7.056175      3.891820           3.583519  "
      ]
     },
     "execution_count": 6,
     "metadata": {},
     "output_type": "execute_result"
    }
   ],
   "source": [
    "df.head()"
   ]
  },
  {
   "cell_type": "code",
   "execution_count": 25,
   "metadata": {},
   "outputs": [
    {
     "name": "stdout",
     "output_type": "stream",
     "text": [
      "<class 'pandas.core.frame.DataFrame'>\n",
      "RangeIndex: 171149 entries, 0 to 171148\n",
      "Data columns (total 20 columns):\n",
      "video_id                  171149 non-null object\n",
      "trending_date             171149 non-null object\n",
      "title                     171149 non-null object\n",
      "channel_title             171149 non-null object\n",
      "category_id               171149 non-null int64\n",
      "category                  171149 non-null object\n",
      "publish_date              171149 non-null object\n",
      "publish_time              171149 non-null object\n",
      "tags                      171149 non-null object\n",
      "views                     171149 non-null int64\n",
      "likes                     171149 non-null int64\n",
      "dislikes                  171149 non-null int64\n",
      "comment_count             171149 non-null int64\n",
      "thumbnail_link            171149 non-null object\n",
      "comments_disabled         171149 non-null bool\n",
      "ratings_disabled          171149 non-null bool\n",
      "video_error_or_removed    171149 non-null bool\n",
      "description               171149 non-null object\n",
      "country                   171149 non-null object\n",
      "publish_timestamp         171149 non-null datetime64[ns]\n",
      "dtypes: bool(3), datetime64[ns](1), int64(5), object(11)\n",
      "memory usage: 22.7+ MB\n"
     ]
    }
   ],
   "source": [
    "df.info()"
   ]
  },
  {
   "cell_type": "code",
   "execution_count": 29,
   "metadata": {},
   "outputs": [
    {
     "name": "stdout",
     "output_type": "stream",
     "text": [
      "<class 'pandas.core.frame.DataFrame'>\n",
      "RangeIndex: 356350 entries, 0 to 356349\n",
      "Data columns (total 20 columns):\n",
      "video_id                  356350 non-null object\n",
      "trending_date             356350 non-null object\n",
      "title                     356350 non-null object\n",
      "channel_title             356350 non-null object\n",
      "category_id               356350 non-null int64\n",
      "category                  356350 non-null object\n",
      "publish_date              356350 non-null object\n",
      "publish_time              356350 non-null object\n",
      "tags                      356350 non-null object\n",
      "views                     356350 non-null int64\n",
      "likes                     356350 non-null int64\n",
      "dislikes                  356350 non-null int64\n",
      "comment_count             356350 non-null int64\n",
      "thumbnail_link            356350 non-null object\n",
      "comments_disabled         356350 non-null bool\n",
      "ratings_disabled          356350 non-null bool\n",
      "video_error_or_removed    356350 non-null bool\n",
      "description               356350 non-null object\n",
      "country                   356350 non-null object\n",
      "publish_timestamp         356350 non-null datetime64[ns]\n",
      "dtypes: bool(3), datetime64[ns](1), int64(5), object(11)\n",
      "memory usage: 47.2+ MB\n"
     ]
    }
   ],
   "source": [
    "df_all_timestamps.info()"
   ]
  },
  {
   "cell_type": "code",
   "execution_count": 9,
   "metadata": {},
   "outputs": [
    {
     "data": {
      "text/html": [
       "<div>\n",
       "<style scoped>\n",
       "    .dataframe tbody tr th:only-of-type {\n",
       "        vertical-align: middle;\n",
       "    }\n",
       "\n",
       "    .dataframe tbody tr th {\n",
       "        vertical-align: top;\n",
       "    }\n",
       "\n",
       "    .dataframe thead th {\n",
       "        text-align: right;\n",
       "    }\n",
       "</style>\n",
       "<table border=\"1\" class=\"dataframe\">\n",
       "  <thead>\n",
       "    <tr style=\"text-align: right;\">\n",
       "      <th></th>\n",
       "      <th>video_id</th>\n",
       "      <th>likes</th>\n",
       "      <th>country</th>\n",
       "    </tr>\n",
       "  </thead>\n",
       "  <tbody>\n",
       "    <tr>\n",
       "      <td>0</td>\n",
       "      <td>cJon8yBKv3g</td>\n",
       "      <td>1596</td>\n",
       "      <td>FR</td>\n",
       "    </tr>\n",
       "    <tr>\n",
       "      <td>1</td>\n",
       "      <td>g12KeCPRB4Q</td>\n",
       "      <td>1032</td>\n",
       "      <td>FR</td>\n",
       "    </tr>\n",
       "    <tr>\n",
       "      <td>2</td>\n",
       "      <td>irIZRH3JlIw</td>\n",
       "      <td>1415</td>\n",
       "      <td>FR</td>\n",
       "    </tr>\n",
       "    <tr>\n",
       "      <td>3</td>\n",
       "      <td>SnHtzkQZggA</td>\n",
       "      <td>142</td>\n",
       "      <td>FR</td>\n",
       "    </tr>\n",
       "    <tr>\n",
       "      <td>4</td>\n",
       "      <td>u6EoWM2KMPE</td>\n",
       "      <td>1159</td>\n",
       "      <td>FR</td>\n",
       "    </tr>\n",
       "  </tbody>\n",
       "</table>\n",
       "</div>"
      ],
      "text/plain": [
       "      video_id  likes country\n",
       "0  cJon8yBKv3g   1596      FR\n",
       "1  g12KeCPRB4Q   1032      FR\n",
       "2  irIZRH3JlIw   1415      FR\n",
       "3  SnHtzkQZggA    142      FR\n",
       "4  u6EoWM2KMPE   1159      FR"
      ]
     },
     "execution_count": 9,
     "metadata": {},
     "output_type": "execute_result"
    }
   ],
   "source": [
    "video_likes = pd.DataFrame(df, columns=['video_id','likes', 'country'])\n",
    "video_likes.head()"
   ]
  },
  {
   "cell_type": "code",
   "execution_count": 47,
   "metadata": {},
   "outputs": [
    {
     "data": {
      "text/html": [
       "<div>\n",
       "<style scoped>\n",
       "    .dataframe tbody tr th:only-of-type {\n",
       "        vertical-align: middle;\n",
       "    }\n",
       "\n",
       "    .dataframe tbody tr th {\n",
       "        vertical-align: top;\n",
       "    }\n",
       "\n",
       "    .dataframe thead th {\n",
       "        text-align: right;\n",
       "    }\n",
       "</style>\n",
       "<table border=\"1\" class=\"dataframe\">\n",
       "  <thead>\n",
       "    <tr style=\"text-align: right;\">\n",
       "      <th></th>\n",
       "      <th>video_id</th>\n",
       "      <th>title</th>\n",
       "      <th>category</th>\n",
       "      <th>log_likes</th>\n",
       "      <th>log_views</th>\n",
       "      <th>country</th>\n",
       "    </tr>\n",
       "  </thead>\n",
       "  <tbody>\n",
       "    <tr>\n",
       "      <td>160289</td>\n",
       "      <td>7C2z4GqqS5E</td>\n",
       "      <td>BTS (방탄소년단) 'FAKE LOVE' Official MV</td>\n",
       "      <td>Music</td>\n",
       "      <td>15.540743</td>\n",
       "      <td>18.627784</td>\n",
       "      <td>GB</td>\n",
       "    </tr>\n",
       "    <tr>\n",
       "      <td>167397</td>\n",
       "      <td>VYOjWnS4cMY</td>\n",
       "      <td>Childish Gambino - This Is America (Official V...</td>\n",
       "      <td>Music</td>\n",
       "      <td>15.510124</td>\n",
       "      <td>19.375121</td>\n",
       "      <td>GB</td>\n",
       "    </tr>\n",
       "    <tr>\n",
       "      <td>107307</td>\n",
       "      <td>xpVfcZ0ZcFM</td>\n",
       "      <td>Drake - God’s Plan</td>\n",
       "      <td>Music</td>\n",
       "      <td>15.371099</td>\n",
       "      <td>19.369109</td>\n",
       "      <td>GB</td>\n",
       "    </tr>\n",
       "    <tr>\n",
       "      <td>105767</td>\n",
       "      <td>kLpH1nSLJSs</td>\n",
       "      <td>Bad Bunny - Amorfoda | Video Oficial</td>\n",
       "      <td>Music</td>\n",
       "      <td>15.156776</td>\n",
       "      <td>19.611144</td>\n",
       "      <td>GB</td>\n",
       "    </tr>\n",
       "    <tr>\n",
       "      <td>155749</td>\n",
       "      <td>ffxKSjUwKdU</td>\n",
       "      <td>Ariana Grande - No Tears Left To Cry</td>\n",
       "      <td>Music</td>\n",
       "      <td>15.037649</td>\n",
       "      <td>19.157256</td>\n",
       "      <td>GB</td>\n",
       "    </tr>\n",
       "  </tbody>\n",
       "</table>\n",
       "</div>"
      ],
      "text/plain": [
       "           video_id                                              title  \\\n",
       "160289  7C2z4GqqS5E                BTS (방탄소년단) 'FAKE LOVE' Official MV   \n",
       "167397  VYOjWnS4cMY  Childish Gambino - This Is America (Official V...   \n",
       "107307  xpVfcZ0ZcFM                                 Drake - God’s Plan   \n",
       "105767  kLpH1nSLJSs               Bad Bunny - Amorfoda | Video Oficial   \n",
       "155749  ffxKSjUwKdU               Ariana Grande - No Tears Left To Cry   \n",
       "\n",
       "       category  log_likes  log_views country  \n",
       "160289    Music  15.540743  18.627784      GB  \n",
       "167397    Music  15.510124  19.375121      GB  \n",
       "107307    Music  15.371099  19.369109      GB  \n",
       "105767    Music  15.156776  19.611144      GB  \n",
       "155749    Music  15.037649  19.157256      GB  "
      ]
     },
     "execution_count": 47,
     "metadata": {},
     "output_type": "execute_result"
    }
   ],
   "source": [
    "video_likes_base = pd.DataFrame(df, columns=['video_id','title','category','log_likes', 'log_views', 'country'])\n",
    "video_likes = video_likes_base.sort_values(by=['log_likes'], ascending=False)\n",
    "video_likes.head()"
   ]
  },
  {
   "cell_type": "code",
   "execution_count": 54,
   "metadata": {},
   "outputs": [
    {
     "data": {
      "text/html": [
       "<div>\n",
       "<style scoped>\n",
       "    .dataframe tbody tr th:only-of-type {\n",
       "        vertical-align: middle;\n",
       "    }\n",
       "\n",
       "    .dataframe tbody tr th {\n",
       "        vertical-align: top;\n",
       "    }\n",
       "\n",
       "    .dataframe thead th {\n",
       "        text-align: right;\n",
       "    }\n",
       "</style>\n",
       "<table border=\"1\" class=\"dataframe\">\n",
       "  <thead>\n",
       "    <tr style=\"text-align: right;\">\n",
       "      <th></th>\n",
       "      <th>video_id</th>\n",
       "      <th>title</th>\n",
       "      <th>category</th>\n",
       "      <th>log_likes</th>\n",
       "      <th>log_views</th>\n",
       "      <th>country</th>\n",
       "    </tr>\n",
       "  </thead>\n",
       "  <tbody>\n",
       "    <tr>\n",
       "      <td>0</td>\n",
       "      <td>cJon8yBKv3g</td>\n",
       "      <td>Kingsman : Le Cercle d'or (Mickael J Critique)</td>\n",
       "      <td>Film &amp; Animation</td>\n",
       "      <td>7.375882</td>\n",
       "      <td>9.877554</td>\n",
       "      <td>FR</td>\n",
       "    </tr>\n",
       "    <tr>\n",
       "      <td>1</td>\n",
       "      <td>g12KeCPRB4Q</td>\n",
       "      <td>Vide grenier LIVE - 12 Novembre 2017</td>\n",
       "      <td>Gaming</td>\n",
       "      <td>6.940222</td>\n",
       "      <td>9.940061</td>\n",
       "      <td>FR</td>\n",
       "    </tr>\n",
       "    <tr>\n",
       "      <td>2</td>\n",
       "      <td>irIZRH3JlIw</td>\n",
       "      <td>لقجع يثور في وجه الإتحاد الإيفواري بسبب الجماه...</td>\n",
       "      <td>News &amp; Politics</td>\n",
       "      <td>7.255591</td>\n",
       "      <td>12.242660</td>\n",
       "      <td>FR</td>\n",
       "    </tr>\n",
       "    <tr>\n",
       "      <td>3</td>\n",
       "      <td>SnHtzkQZggA</td>\n",
       "      <td>عروس اسطنبول | اعلان الحلقة 25 | - مترجم للعربية</td>\n",
       "      <td>Film &amp; Animation</td>\n",
       "      <td>4.962845</td>\n",
       "      <td>9.674074</td>\n",
       "      <td>FR</td>\n",
       "    </tr>\n",
       "    <tr>\n",
       "      <td>4</td>\n",
       "      <td>u6EoWM2KMPE</td>\n",
       "      <td>Portokalli, 12 Nentor 2017 - Policat e postbll...</td>\n",
       "      <td>Comedy</td>\n",
       "      <td>7.056175</td>\n",
       "      <td>11.518987</td>\n",
       "      <td>FR</td>\n",
       "    </tr>\n",
       "    <tr>\n",
       "      <td>...</td>\n",
       "      <td>...</td>\n",
       "      <td>...</td>\n",
       "      <td>...</td>\n",
       "      <td>...</td>\n",
       "      <td>...</td>\n",
       "      <td>...</td>\n",
       "    </tr>\n",
       "    <tr>\n",
       "      <td>95</td>\n",
       "      <td>-bqyTKrGq18</td>\n",
       "      <td>DÉFIS TECHNIQUE INCROYABLE ! FOOTBALL SKILLS</td>\n",
       "      <td>Sports</td>\n",
       "      <td>8.089176</td>\n",
       "      <td>10.931624</td>\n",
       "      <td>FR</td>\n",
       "    </tr>\n",
       "    <tr>\n",
       "      <td>96</td>\n",
       "      <td>LucUgZucG9M</td>\n",
       "      <td>JE REFAIS DES PHOTOS ! #DÉFI</td>\n",
       "      <td>Entertainment</td>\n",
       "      <td>8.908965</td>\n",
       "      <td>11.492488</td>\n",
       "      <td>FR</td>\n",
       "    </tr>\n",
       "    <tr>\n",
       "      <td>97</td>\n",
       "      <td>1Cat-Fxks_s</td>\n",
       "      <td>La cuisson des œufs à la coque différente au M...</td>\n",
       "      <td>Comedy</td>\n",
       "      <td>3.332205</td>\n",
       "      <td>7.622175</td>\n",
       "      <td>FR</td>\n",
       "    </tr>\n",
       "    <tr>\n",
       "      <td>98</td>\n",
       "      <td>w9_TuLo3Ao0</td>\n",
       "      <td>ملخص مباراة المغرب وكوت ديفوار 2-0 شاشة كاملة ...</td>\n",
       "      <td>Sports</td>\n",
       "      <td>7.852439</td>\n",
       "      <td>13.511771</td>\n",
       "      <td>FR</td>\n",
       "    </tr>\n",
       "    <tr>\n",
       "      <td>99</td>\n",
       "      <td>k_73Get4zFA</td>\n",
       "      <td>Breaking news politiques - Morin a fait un rêve</td>\n",
       "      <td>Comedy</td>\n",
       "      <td>3.988984</td>\n",
       "      <td>8.167636</td>\n",
       "      <td>FR</td>\n",
       "    </tr>\n",
       "  </tbody>\n",
       "</table>\n",
       "<p>100 rows × 6 columns</p>\n",
       "</div>"
      ],
      "text/plain": [
       "       video_id                                              title  \\\n",
       "0   cJon8yBKv3g     Kingsman : Le Cercle d'or (Mickael J Critique)   \n",
       "1   g12KeCPRB4Q               Vide grenier LIVE - 12 Novembre 2017   \n",
       "2   irIZRH3JlIw  لقجع يثور في وجه الإتحاد الإيفواري بسبب الجماه...   \n",
       "3   SnHtzkQZggA   عروس اسطنبول | اعلان الحلقة 25 | - مترجم للعربية   \n",
       "4   u6EoWM2KMPE  Portokalli, 12 Nentor 2017 - Policat e postbll...   \n",
       "..          ...                                                ...   \n",
       "95  -bqyTKrGq18       DÉFIS TECHNIQUE INCROYABLE ! FOOTBALL SKILLS   \n",
       "96  LucUgZucG9M                       JE REFAIS DES PHOTOS ! #DÉFI   \n",
       "97  1Cat-Fxks_s  La cuisson des œufs à la coque différente au M...   \n",
       "98  w9_TuLo3Ao0  ملخص مباراة المغرب وكوت ديفوار 2-0 شاشة كاملة ...   \n",
       "99  k_73Get4zFA    Breaking news politiques - Morin a fait un rêve   \n",
       "\n",
       "            category  log_likes  log_views country  \n",
       "0   Film & Animation   7.375882   9.877554      FR  \n",
       "1             Gaming   6.940222   9.940061      FR  \n",
       "2    News & Politics   7.255591  12.242660      FR  \n",
       "3   Film & Animation   4.962845   9.674074      FR  \n",
       "4             Comedy   7.056175  11.518987      FR  \n",
       "..               ...        ...        ...     ...  \n",
       "95            Sports   8.089176  10.931624      FR  \n",
       "96     Entertainment   8.908965  11.492488      FR  \n",
       "97            Comedy   3.332205   7.622175      FR  \n",
       "98            Sports   7.852439  13.511771      FR  \n",
       "99            Comedy   3.988984   8.167636      FR  \n",
       "\n",
       "[100 rows x 6 columns]"
      ]
     },
     "execution_count": 54,
     "metadata": {},
     "output_type": "execute_result"
    }
   ],
   "source": [
    "top_video_like = video_likes_base.head(100)\n",
    "top_video_like\n"
   ]
  },
  {
   "cell_type": "code",
   "execution_count": 49,
   "metadata": {},
   "outputs": [
    {
     "data": {
      "text/plain": [
       "GB    76\n",
       "US    15\n",
       "IN     4\n",
       "MX     2\n",
       "CA     2\n",
       "KR     1\n",
       "Name: country, dtype: int64"
      ]
     },
     "execution_count": 49,
     "metadata": {},
     "output_type": "execute_result"
    }
   ],
   "source": [
    "num_top100_by_country = top_video_like['country'].value_counts()\n",
    "num_top100_by_country"
   ]
  },
  {
   "cell_type": "code",
   "execution_count": 39,
   "metadata": {},
   "outputs": [
    {
     "data": {
      "text/plain": [
       "Text(0, 0.5, 'Number of videos')"
      ]
     },
     "execution_count": 39,
     "metadata": {},
     "output_type": "execute_result"
    },
    {
     "data": {
      "image/png": "[encoded data removed]",
      "text/plain": [
       "<Figure size 720x720 with 1 Axes>"
      ]
     },
     "metadata": {
      "needs_background": "light"
     },
     "output_type": "display_data"
    }
   ],
   "source": [
    "fig = plt.figure(figsize=(10,10)) # define plot area\n",
    "ax = fig.gca() # define axis    \n",
    "num_top100_by_country.plot.bar(ax = ax) # Use the plot.bar method on the counts data frame\n",
    "ax.set_title('Number of top 100 videos by country') # Give the plot a main title\n",
    "ax.set_xlabel('Country') # Set text for the x axis\n",
    "ax.set_ylabel('Number of videos')# Set text for y axis"
   ]
  },
  {
   "cell_type": "code",
   "execution_count": 52,
   "metadata": {},
   "outputs": [
    {
     "data": {
      "text/plain": [
       "Music                    75\n",
       "Entertainment            14\n",
       "Sports                    3\n",
       "Comedy                    3\n",
       "Film & Animation          2\n",
       "Nonprofits & Activism     1\n",
       "Gaming                    1\n",
       "People & Blogs            1\n",
       "Name: category, dtype: int64"
      ]
     },
     "execution_count": 52,
     "metadata": {},
     "output_type": "execute_result"
    }
   ],
   "source": [
    "num_top100_by_category = top_video_like['category'].value_counts()\n",
    "num_top100_by_category"
   ]
  },
  {
   "cell_type": "code",
   "execution_count": 53,
   "metadata": {},
   "outputs": [
    {
     "data": {
      "text/plain": [
       "Text(0, 0.5, 'Number of videos')"
      ]
     },
     "execution_count": 53,
     "metadata": {},
     "output_type": "execute_result"
    },
    {
     "data": {
      "image/png": "[encoded data removed]",
      "text/plain": [
       "<Figure size 720x720 with 1 Axes>"
      ]
     },
     "metadata": {
      "needs_background": "light"
     },
     "output_type": "display_data"
    }
   ],
   "source": [
    "fig = plt.figure(figsize=(10,10)) # define plot area\n",
    "ax = fig.gca() # define axis    \n",
    "num_top100_by_category.plot.bar(ax = ax) # Use the plot.bar method on the counts data frame\n",
    "ax.set_title('Number of top 100 videos by category') # Give the plot a main title\n",
    "ax.set_xlabel('Category') # Set text for the x axis\n",
    "ax.set_ylabel('Number of videos')# Set text for y axis"
   ]
  },
  {
   "cell_type": "code",
   "execution_count": 22,
   "metadata": {},
   "outputs": [
    {
     "data": {
      "text/html": [
       "<div>\n",
       "<style scoped>\n",
       "    .dataframe tbody tr th:only-of-type {\n",
       "        vertical-align: middle;\n",
       "    }\n",
       "\n",
       "    .dataframe tbody tr th {\n",
       "        vertical-align: top;\n",
       "    }\n",
       "\n",
       "    .dataframe thead th {\n",
       "        text-align: right;\n",
       "    }\n",
       "</style>\n",
       "<table border=\"1\" class=\"dataframe\">\n",
       "  <thead>\n",
       "    <tr style=\"text-align: right;\">\n",
       "      <th></th>\n",
       "      <th>video_id</th>\n",
       "      <th>trending_date</th>\n",
       "      <th>title</th>\n",
       "      <th>channel_title</th>\n",
       "      <th>category_id</th>\n",
       "      <th>category</th>\n",
       "      <th>publish_date</th>\n",
       "      <th>publish_time</th>\n",
       "      <th>tags</th>\n",
       "      <th>views</th>\n",
       "      <th>likes</th>\n",
       "      <th>dislikes</th>\n",
       "      <th>comment_count</th>\n",
       "      <th>thumbnail_link</th>\n",
       "      <th>comments_disabled</th>\n",
       "      <th>ratings_disabled</th>\n",
       "      <th>video_error_or_removed</th>\n",
       "      <th>description</th>\n",
       "      <th>publish_timestamp</th>\n",
       "    </tr>\n",
       "    <tr>\n",
       "      <th>country</th>\n",
       "      <th></th>\n",
       "      <th></th>\n",
       "      <th></th>\n",
       "      <th></th>\n",
       "      <th></th>\n",
       "      <th></th>\n",
       "      <th></th>\n",
       "      <th></th>\n",
       "      <th></th>\n",
       "      <th></th>\n",
       "      <th></th>\n",
       "      <th></th>\n",
       "      <th></th>\n",
       "      <th></th>\n",
       "      <th></th>\n",
       "      <th></th>\n",
       "      <th></th>\n",
       "      <th></th>\n",
       "      <th></th>\n",
       "    </tr>\n",
       "  </thead>\n",
       "  <tbody>\n",
       "    <tr>\n",
       "      <td>CA</td>\n",
       "      <td>17338</td>\n",
       "      <td>17338</td>\n",
       "      <td>17338</td>\n",
       "      <td>17338</td>\n",
       "      <td>17338</td>\n",
       "      <td>17338</td>\n",
       "      <td>17338</td>\n",
       "      <td>17338</td>\n",
       "      <td>17338</td>\n",
       "      <td>17338</td>\n",
       "      <td>17338</td>\n",
       "      <td>17338</td>\n",
       "      <td>17338</td>\n",
       "      <td>17338</td>\n",
       "      <td>17338</td>\n",
       "      <td>17338</td>\n",
       "      <td>17338</td>\n",
       "      <td>17338</td>\n",
       "      <td>17338</td>\n",
       "    </tr>\n",
       "    <tr>\n",
       "      <td>DE</td>\n",
       "      <td>22965</td>\n",
       "      <td>22965</td>\n",
       "      <td>22965</td>\n",
       "      <td>22965</td>\n",
       "      <td>22965</td>\n",
       "      <td>22965</td>\n",
       "      <td>22965</td>\n",
       "      <td>22965</td>\n",
       "      <td>22965</td>\n",
       "      <td>22965</td>\n",
       "      <td>22965</td>\n",
       "      <td>22965</td>\n",
       "      <td>22965</td>\n",
       "      <td>22965</td>\n",
       "      <td>22965</td>\n",
       "      <td>22965</td>\n",
       "      <td>22965</td>\n",
       "      <td>22965</td>\n",
       "      <td>22965</td>\n",
       "    </tr>\n",
       "    <tr>\n",
       "      <td>FR</td>\n",
       "      <td>24085</td>\n",
       "      <td>24085</td>\n",
       "      <td>24085</td>\n",
       "      <td>24085</td>\n",
       "      <td>24085</td>\n",
       "      <td>24085</td>\n",
       "      <td>24085</td>\n",
       "      <td>24085</td>\n",
       "      <td>24085</td>\n",
       "      <td>24085</td>\n",
       "      <td>24085</td>\n",
       "      <td>24085</td>\n",
       "      <td>24085</td>\n",
       "      <td>24085</td>\n",
       "      <td>24085</td>\n",
       "      <td>24085</td>\n",
       "      <td>24085</td>\n",
       "      <td>24085</td>\n",
       "      <td>24085</td>\n",
       "    </tr>\n",
       "    <tr>\n",
       "      <td>GB</td>\n",
       "      <td>3070</td>\n",
       "      <td>3070</td>\n",
       "      <td>3070</td>\n",
       "      <td>3070</td>\n",
       "      <td>3070</td>\n",
       "      <td>3070</td>\n",
       "      <td>3070</td>\n",
       "      <td>3070</td>\n",
       "      <td>3070</td>\n",
       "      <td>3070</td>\n",
       "      <td>3070</td>\n",
       "      <td>3070</td>\n",
       "      <td>3070</td>\n",
       "      <td>3070</td>\n",
       "      <td>3070</td>\n",
       "      <td>3070</td>\n",
       "      <td>3070</td>\n",
       "      <td>3070</td>\n",
       "      <td>3070</td>\n",
       "    </tr>\n",
       "    <tr>\n",
       "      <td>IN</td>\n",
       "      <td>15222</td>\n",
       "      <td>15222</td>\n",
       "      <td>15222</td>\n",
       "      <td>15222</td>\n",
       "      <td>15222</td>\n",
       "      <td>15222</td>\n",
       "      <td>15222</td>\n",
       "      <td>15222</td>\n",
       "      <td>15222</td>\n",
       "      <td>15222</td>\n",
       "      <td>15222</td>\n",
       "      <td>15222</td>\n",
       "      <td>15222</td>\n",
       "      <td>15222</td>\n",
       "      <td>15222</td>\n",
       "      <td>15222</td>\n",
       "      <td>15222</td>\n",
       "      <td>15222</td>\n",
       "      <td>15222</td>\n",
       "    </tr>\n",
       "    <tr>\n",
       "      <td>JP</td>\n",
       "      <td>10808</td>\n",
       "      <td>10808</td>\n",
       "      <td>10808</td>\n",
       "      <td>10808</td>\n",
       "      <td>10808</td>\n",
       "      <td>10808</td>\n",
       "      <td>10808</td>\n",
       "      <td>10808</td>\n",
       "      <td>10808</td>\n",
       "      <td>10808</td>\n",
       "      <td>10808</td>\n",
       "      <td>10808</td>\n",
       "      <td>10808</td>\n",
       "      <td>10808</td>\n",
       "      <td>10808</td>\n",
       "      <td>10808</td>\n",
       "      <td>10808</td>\n",
       "      <td>10808</td>\n",
       "      <td>10808</td>\n",
       "    </tr>\n",
       "    <tr>\n",
       "      <td>KR</td>\n",
       "      <td>13793</td>\n",
       "      <td>13793</td>\n",
       "      <td>13793</td>\n",
       "      <td>13793</td>\n",
       "      <td>13793</td>\n",
       "      <td>13793</td>\n",
       "      <td>13793</td>\n",
       "      <td>13793</td>\n",
       "      <td>13793</td>\n",
       "      <td>13793</td>\n",
       "      <td>13793</td>\n",
       "      <td>13793</td>\n",
       "      <td>13793</td>\n",
       "      <td>13793</td>\n",
       "      <td>13793</td>\n",
       "      <td>13793</td>\n",
       "      <td>13793</td>\n",
       "      <td>13793</td>\n",
       "      <td>13793</td>\n",
       "    </tr>\n",
       "    <tr>\n",
       "      <td>MX</td>\n",
       "      <td>27900</td>\n",
       "      <td>27900</td>\n",
       "      <td>27900</td>\n",
       "      <td>27900</td>\n",
       "      <td>27900</td>\n",
       "      <td>27900</td>\n",
       "      <td>27900</td>\n",
       "      <td>27900</td>\n",
       "      <td>27900</td>\n",
       "      <td>27900</td>\n",
       "      <td>27900</td>\n",
       "      <td>27900</td>\n",
       "      <td>27900</td>\n",
       "      <td>27900</td>\n",
       "      <td>27900</td>\n",
       "      <td>27900</td>\n",
       "      <td>27900</td>\n",
       "      <td>27900</td>\n",
       "      <td>27900</td>\n",
       "    </tr>\n",
       "    <tr>\n",
       "      <td>RU</td>\n",
       "      <td>30783</td>\n",
       "      <td>30783</td>\n",
       "      <td>30783</td>\n",
       "      <td>30783</td>\n",
       "      <td>30783</td>\n",
       "      <td>30783</td>\n",
       "      <td>30783</td>\n",
       "      <td>30783</td>\n",
       "      <td>30783</td>\n",
       "      <td>30783</td>\n",
       "      <td>30783</td>\n",
       "      <td>30783</td>\n",
       "      <td>30783</td>\n",
       "      <td>30783</td>\n",
       "      <td>30783</td>\n",
       "      <td>30783</td>\n",
       "      <td>30783</td>\n",
       "      <td>30783</td>\n",
       "      <td>30783</td>\n",
       "    </tr>\n",
       "    <tr>\n",
       "      <td>US</td>\n",
       "      <td>5185</td>\n",
       "      <td>5185</td>\n",
       "      <td>5185</td>\n",
       "      <td>5185</td>\n",
       "      <td>5185</td>\n",
       "      <td>5185</td>\n",
       "      <td>5185</td>\n",
       "      <td>5185</td>\n",
       "      <td>5185</td>\n",
       "      <td>5185</td>\n",
       "      <td>5185</td>\n",
       "      <td>5185</td>\n",
       "      <td>5185</td>\n",
       "      <td>5185</td>\n",
       "      <td>5185</td>\n",
       "      <td>5185</td>\n",
       "      <td>5185</td>\n",
       "      <td>5185</td>\n",
       "      <td>5185</td>\n",
       "    </tr>\n",
       "  </tbody>\n",
       "</table>\n",
       "</div>"
      ],
      "text/plain": [
       "         video_id  trending_date  title  channel_title  category_id  category  \\\n",
       "country                                                                         \n",
       "CA          17338          17338  17338          17338        17338     17338   \n",
       "DE          22965          22965  22965          22965        22965     22965   \n",
       "FR          24085          24085  24085          24085        24085     24085   \n",
       "GB           3070           3070   3070           3070         3070      3070   \n",
       "IN          15222          15222  15222          15222        15222     15222   \n",
       "JP          10808          10808  10808          10808        10808     10808   \n",
       "KR          13793          13793  13793          13793        13793     13793   \n",
       "MX          27900          27900  27900          27900        27900     27900   \n",
       "RU          30783          30783  30783          30783        30783     30783   \n",
       "US           5185           5185   5185           5185         5185      5185   \n",
       "\n",
       "         publish_date  publish_time   tags  views  likes  dislikes  \\\n",
       "country                                                              \n",
       "CA              17338         17338  17338  17338  17338     17338   \n",
       "DE              22965         22965  22965  22965  22965     22965   \n",
       "FR              24085         24085  24085  24085  24085     24085   \n",
       "GB               3070          3070   3070   3070   3070      3070   \n",
       "IN              15222         15222  15222  15222  15222     15222   \n",
       "JP              10808         10808  10808  10808  10808     10808   \n",
       "KR              13793         13793  13793  13793  13793     13793   \n",
       "MX              27900         27900  27900  27900  27900     27900   \n",
       "RU              30783         30783  30783  30783  30783     30783   \n",
       "US               5185          5185   5185   5185   5185      5185   \n",
       "\n",
       "         comment_count  thumbnail_link  comments_disabled  ratings_disabled  \\\n",
       "country                                                                       \n",
       "CA               17338           17338              17338             17338   \n",
       "DE               22965           22965              22965             22965   \n",
       "FR               24085           24085              24085             24085   \n",
       "GB                3070            3070               3070              3070   \n",
       "IN               15222           15222              15222             15222   \n",
       "JP               10808           10808              10808             10808   \n",
       "KR               13793           13793              13793             13793   \n",
       "MX               27900           27900              27900             27900   \n",
       "RU               30783           30783              30783             30783   \n",
       "US                5185            5185               5185              5185   \n",
       "\n",
       "         video_error_or_removed  description  publish_timestamp  \n",
       "country                                                          \n",
       "CA                        17338        17338              17338  \n",
       "DE                        22965        22965              22965  \n",
       "FR                        24085        24085              24085  \n",
       "GB                         3070         3070               3070  \n",
       "IN                        15222        15222              15222  \n",
       "JP                        10808        10808              10808  \n",
       "KR                        13793        13793              13793  \n",
       "MX                        27900        27900              27900  \n",
       "RU                        30783        30783              30783  \n",
       "US                         5185         5185               5185  "
      ]
     },
     "execution_count": 22,
     "metadata": {},
     "output_type": "execute_result"
    }
   ],
   "source": [
    "country_video = df.groupby(['country']).count()\n",
    "country_video"
   ]
  },
  {
   "cell_type": "code",
   "execution_count": 13,
   "metadata": {},
   "outputs": [
    {
     "data": {
      "text/plain": [
       "0    Film & Animation\n",
       "1              Gaming\n",
       "2     News & Politics\n",
       "3    Film & Animation\n",
       "4              Comedy\n",
       "Name: category, dtype: object"
      ]
     },
     "execution_count": 13,
     "metadata": {},
     "output_type": "execute_result"
    }
   ],
   "source": [
    "category = df['category']\n",
    "category.head()"
   ]
  },
  {
   "cell_type": "code",
   "execution_count": 16,
   "metadata": {},
   "outputs": [
    {
     "data": {
      "text/plain": [
       "1                    Gaming\n",
       "2           News & Politics\n",
       "3          Film & Animation\n",
       "4                    Comedy\n",
       "5                    Sports\n",
       "               ...         \n",
       "96            Entertainment\n",
       "97                   Comedy\n",
       "98                   Sports\n",
       "99                   Comedy\n",
       "100    Science & Technology\n",
       "Name: category, Length: 100, dtype: object"
      ]
     },
     "execution_count": 16,
     "metadata": {},
     "output_type": "execute_result"
    }
   ],
   "source": [
    "category.loc[1:100]"
   ]
  },
  {
   "cell_type": "code",
   "execution_count": 14,
   "metadata": {},
   "outputs": [
    {
     "data": {
      "text/plain": [
       "Entertainment            50468\n",
       "People & Blogs           28045\n",
       "News & Politics          20327\n",
       "Sports                   12561\n",
       "Comedy                   10358\n",
       "Music                    10145\n",
       "Howto & Style             9580\n",
       "Film & Animation          8460\n",
       "Gaming                    5318\n",
       "Education                 3897\n",
       "Science & Technology      3404\n",
       "Autos & Vehicles          3274\n",
       "Pets & Animals            2271\n",
       "Nonprofits & Activism     1779\n",
       "Travel & Events            812\n",
       "Shows                      435\n",
       "Movies                      12\n",
       "Trailers                     3\n",
       "Name: category, dtype: int64"
      ]
     },
     "execution_count": 14,
     "metadata": {},
     "output_type": "execute_result"
    }
   ],
   "source": [
    "cat_counts = category.value_counts()\n",
    "cat_counts"
   ]
  },
  {
   "cell_type": "code",
   "execution_count": null,
   "metadata": {},
   "outputs": [],
   "source": []
  },
  {
   "cell_type": "code",
   "execution_count": 15,
   "metadata": {},
   "outputs": [
    {
     "data": {
      "text/plain": [
       "Text(0, 0.5, 'Number of videos')"
      ]
     },
     "execution_count": 15,
     "metadata": {},
     "output_type": "execute_result"
    },
    {
     "data": {
      "image/png": "[encoded data removed]",
      "text/plain": [
       "<Figure size 720x720 with 1 Axes>"
      ]
     },
     "metadata": {
      "needs_background": "light"
     },
     "output_type": "display_data"
    }
   ],
   "source": [
    "fig = plt.figure(figsize=(10,10)) # define plot area\n",
    "ax = fig.gca() # define axis    \n",
    "cat_counts.plot.bar(ax = ax) # Use the plot.bar method on the counts data frame\n",
    "ax.set_title('Number of videos by category') # Give the plot a main title\n",
    "ax.set_xlabel('Category') # Set text for the x axis\n",
    "ax.set_ylabel('Number of videos')# Set text for y axis"
   ]
  },
  {
   "cell_type": "code",
   "execution_count": null,
   "metadata": {},
   "outputs": [],
   "source": [
    "fig = plt.figure(figsize=(10,10)) # define plot area\n",
    "ax = fig.gca() # define axis    \n",
    "df.plot.bar(ax = ax) # Use the plot.bar method on the counts data frame\n",
    "ax.set_title('Number of likes by category') # Give the plot a main title\n",
    "ax.set_xlabel('Category') # Set text for the x axis\n",
    "ax.set_ylabel('Number of likes')# Set text for y axis"
   ]
  },
  {
   "cell_type": "code",
   "execution_count": 8,
   "metadata": {},
   "outputs": [
    {
     "data": {
      "text/plain": [
       "0    FR\n",
       "1    FR\n",
       "2    FR\n",
       "3    FR\n",
       "4    FR\n",
       "Name: country, dtype: object"
      ]
     },
     "execution_count": 8,
     "metadata": {},
     "output_type": "execute_result"
    }
   ],
   "source": [
    "country = df['country']\n",
    "country.head()"
   ]
  },
  {
   "cell_type": "code",
   "execution_count": 7,
   "metadata": {},
   "outputs": [
    {
     "data": {
      "text/plain": [
       "RU    30783\n",
       "MX    27900\n",
       "FR    24085\n",
       "DE    22965\n",
       "CA    17338\n",
       "IN    15222\n",
       "KR    13793\n",
       "JP    10808\n",
       "US     5185\n",
       "GB     3070\n",
       "Name: country, dtype: int64"
      ]
     },
     "execution_count": 7,
     "metadata": {},
     "output_type": "execute_result"
    }
   ],
   "source": [
    "country_count = df['country'].value_counts() \n",
    "country_count"
   ]
  },
  {
   "cell_type": "code",
   "execution_count": 14,
   "metadata": {},
   "outputs": [
    {
     "data": {
      "text/plain": [
       "RU    30783\n",
       "MX    27900\n",
       "FR    24085\n",
       "DE    22965\n",
       "CA    17338\n",
       "IN    15222\n",
       "KR    13793\n",
       "JP    10808\n",
       "US     5185\n",
       "GB     3070\n",
       "Name: country, dtype: int64"
      ]
     },
     "execution_count": 14,
     "metadata": {},
     "output_type": "execute_result"
    }
   ],
   "source": [
    "df['country'].value_counts() "
   ]
  },
  {
   "cell_type": "code",
   "execution_count": 10,
   "metadata": {
    "scrolled": true
   },
   "outputs": [
    {
     "data": {
      "text/plain": [
       "Text(0, 0.5, 'Number of videos')"
      ]
     },
     "execution_count": 10,
     "metadata": {},
     "output_type": "execute_result"
    },
    {
     "data": {
      "image/png": "[encoded data removed]",
      "text/plain": [
       "<Figure size 720x720 with 1 Axes>"
      ]
     },
     "metadata": {
      "needs_background": "light"
     },
     "output_type": "display_data"
    }
   ],
   "source": [
    "fig = plt.figure(figsize=(10,10)) # define plot area\n",
    "ax = fig.gca() # define axis    \n",
    "country_count.plot.bar(ax = ax) # Use the plot.bar method on the counts data frame\n",
    "ax.set_title('Number videos by country') # Give the plot a main title\n",
    "ax.set_xlabel('Country') # Set text for the x axis\n",
    "ax.set_ylabel('Number of videos')# Set text for y axis"
   ]
  },
  {
   "cell_type": "code",
   "execution_count": 19,
   "metadata": {},
   "outputs": [
    {
     "data": {
      "text/plain": [
       "Text(0, 0.5, 'Likes')"
      ]
     },
     "execution_count": 19,
     "metadata": {},
     "output_type": "execute_result"
    },
    {
     "data": {
      "image/png": "[encoded data removed]",
      "text/plain": [
       "<Figure size 720x720 with 1 Axes>"
      ]
     },
     "metadata": {
      "needs_background": "light"
     },
     "output_type": "display_data"
    }
   ],
   "source": [
    "import matplotlib.pyplot as plt\n",
    "fig = plt.figure(figsize=(10, 10)) # define plot area\n",
    "ax = fig.gca() # define axis                   \n",
    "df.plot(kind = 'scatter', x = 'log_views', y = 'log_likes', ax = ax)\n",
    "ax.set_title('Scatter plot of views vs likes') # Give the plot a main title\n",
    "ax.set_xlabel('Views') # Set text for the x axis\n",
    "ax.set_ylabel('Likes')# Set text for y axis"
   ]
  },
  {
   "cell_type": "code",
   "execution_count": 23,
   "metadata": {},
   "outputs": [
    {
     "data": {
      "text/plain": [
       "Text(0, 0.5, 'Likes')"
      ]
     },
     "execution_count": 23,
     "metadata": {},
     "output_type": "execute_result"
    },
    {
     "data": {
      "image/png": "[encoded data removed]",
      "text/plain": [
       "<Figure size 720x720 with 1 Axes>"
      ]
     },
     "metadata": {
      "needs_background": "light"
     },
     "output_type": "display_data"
    }
   ],
   "source": [
    "import matplotlib.pyplot as plt\n",
    "fig = plt.figure(figsize=(10, 10)) # define plot area\n",
    "ax = fig.gca() # define axis                   \n",
    "df.plot(kind = 'scatter', x = 'log_likes', y = 'log_views', ax = ax)\n",
    "ax.set_title('Scatter plot of views vs likes') # Give the plot a main title\n",
    "ax.set_xlabel('Views') # Set text for the x axis\n",
    "ax.set_ylabel('Likes')# Set text for y axis"
   ]
  },
  {
   "cell_type": "code",
   "execution_count": 24,
   "metadata": {},
   "outputs": [
    {
     "data": {
      "text/plain": [
       "Text(0, 0.5, 'Dislikes')"
      ]
     },
     "execution_count": 24,
     "metadata": {},
     "output_type": "execute_result"
    },
    {
     "data": {
      "image/png": "[encoded data removed]",
      "text/plain": [
       "<Figure size 720x720 with 1 Axes>"
      ]
     },
     "metadata": {
      "needs_background": "light"
     },
     "output_type": "display_data"
    }
   ],
   "source": [
    "import matplotlib.pyplot as plt\n",
    "fig = plt.figure(figsize=(10, 10)) # define plot area\n",
    "ax = fig.gca() # define axis                   \n",
    "df.plot(kind = 'scatter', x = 'log_views', y = 'log_dislikes', ax = ax)\n",
    "ax.set_title('Scatter plot of views vs dislikes') # Give the plot a main title\n",
    "ax.set_xlabel('Views') # Set text for the x axis\n",
    "ax.set_ylabel('Dislikes')# Set text for y axis"
   ]
  },
  {
   "cell_type": "code",
   "execution_count": 25,
   "metadata": {},
   "outputs": [
    {
     "data": {
      "text/plain": [
       "Text(0, 0.5, 'Dislikes')"
      ]
     },
     "execution_count": 25,
     "metadata": {},
     "output_type": "execute_result"
    },
    {
     "data": {
      "image/png": "[encoded data removed]",
      "text/plain": [
       "<Figure size 720x720 with 1 Axes>"
      ]
     },
     "metadata": {
      "needs_background": "light"
     },
     "output_type": "display_data"
    }
   ],
   "source": [
    "import matplotlib.pyplot as plt\n",
    "fig = plt.figure(figsize=(10, 10)) # define plot area\n",
    "ax = fig.gca() # define axis                   \n",
    "df.plot(kind = 'scatter', x = 'log_dislikes', y = 'log_views', ax = ax)\n",
    "ax.set_title('Scatter plot of views vs dislikes') # Give the plot a main title\n",
    "ax.set_xlabel('Dislikes') # Set text for the x axis\n",
    "ax.set_ylabel('Views')# Set text for y axis"
   ]
  },
  {
   "cell_type": "code",
   "execution_count": 24,
   "metadata": {},
   "outputs": [
    {
     "ename": "KeyError",
     "evalue": "'log_likes'",
     "output_type": "error",
     "traceback": [
      "\u001b[0;31m---------------------------------------------------------------------------\u001b[0m",
      "\u001b[0;31mKeyError\u001b[0m                                  Traceback (most recent call last)",
      "\u001b[0;32m~/miniconda3/lib/python3.7/site-packages/pandas/core/indexes/base.py\u001b[0m in \u001b[0;36mget_loc\u001b[0;34m(self, key, method, tolerance)\u001b[0m\n\u001b[1;32m   2896\u001b[0m             \u001b[0;32mtry\u001b[0m\u001b[0;34m:\u001b[0m\u001b[0;34m\u001b[0m\u001b[0;34m\u001b[0m\u001b[0m\n\u001b[0;32m-> 2897\u001b[0;31m                 \u001b[0;32mreturn\u001b[0m \u001b[0mself\u001b[0m\u001b[0;34m.\u001b[0m\u001b[0m_engine\u001b[0m\u001b[0;34m.\u001b[0m\u001b[0mget_loc\u001b[0m\u001b[0;34m(\u001b[0m\u001b[0mkey\u001b[0m\u001b[0;34m)\u001b[0m\u001b[0;34m\u001b[0m\u001b[0;34m\u001b[0m\u001b[0m\n\u001b[0m\u001b[1;32m   2898\u001b[0m             \u001b[0;32mexcept\u001b[0m \u001b[0mKeyError\u001b[0m\u001b[0;34m:\u001b[0m\u001b[0;34m\u001b[0m\u001b[0;34m\u001b[0m\u001b[0m\n",
      "\u001b[0;32mpandas/_libs/index.pyx\u001b[0m in \u001b[0;36mpandas._libs.index.IndexEngine.get_loc\u001b[0;34m()\u001b[0m\n",
      "\u001b[0;32mpandas/_libs/index.pyx\u001b[0m in \u001b[0;36mpandas._libs.index.IndexEngine.get_loc\u001b[0;34m()\u001b[0m\n",
      "\u001b[0;32mpandas/_libs/hashtable_class_helper.pxi\u001b[0m in \u001b[0;36mpandas._libs.hashtable.PyObjectHashTable.get_item\u001b[0;34m()\u001b[0m\n",
      "\u001b[0;32mpandas/_libs/hashtable_class_helper.pxi\u001b[0m in \u001b[0;36mpandas._libs.hashtable.PyObjectHashTable.get_item\u001b[0;34m()\u001b[0m\n",
      "\u001b[0;31mKeyError\u001b[0m: 'log_likes'",
      "\nDuring handling of the above exception, another exception occurred:\n",
      "\u001b[0;31mKeyError\u001b[0m                                  Traceback (most recent call last)",
      "\u001b[0;32m<ipython-input-24-b9915b44ce7a>\u001b[0m in \u001b[0;36m<module>\u001b[0;34m\u001b[0m\n\u001b[1;32m      2\u001b[0m \u001b[0mfig\u001b[0m \u001b[0;34m=\u001b[0m \u001b[0mplt\u001b[0m\u001b[0;34m.\u001b[0m\u001b[0mfigure\u001b[0m\u001b[0;34m(\u001b[0m\u001b[0mfigsize\u001b[0m\u001b[0;34m=\u001b[0m\u001b[0;34m(\u001b[0m\u001b[0;36m10\u001b[0m\u001b[0;34m,\u001b[0m \u001b[0;36m10\u001b[0m\u001b[0;34m)\u001b[0m\u001b[0;34m)\u001b[0m \u001b[0;31m# define plot area\u001b[0m\u001b[0;34m\u001b[0m\u001b[0;34m\u001b[0m\u001b[0m\n\u001b[1;32m      3\u001b[0m \u001b[0max\u001b[0m \u001b[0;34m=\u001b[0m \u001b[0mfig\u001b[0m\u001b[0;34m.\u001b[0m\u001b[0mgca\u001b[0m\u001b[0;34m(\u001b[0m\u001b[0;34m)\u001b[0m \u001b[0;31m# define axis\u001b[0m\u001b[0;34m\u001b[0m\u001b[0;34m\u001b[0m\u001b[0m\n\u001b[0;32m----> 4\u001b[0;31m \u001b[0mdf\u001b[0m\u001b[0;34m.\u001b[0m\u001b[0mplot\u001b[0m\u001b[0;34m(\u001b[0m\u001b[0mkind\u001b[0m \u001b[0;34m=\u001b[0m \u001b[0;34m'scatter'\u001b[0m\u001b[0;34m,\u001b[0m \u001b[0mx\u001b[0m \u001b[0;34m=\u001b[0m \u001b[0;34m'category_id'\u001b[0m\u001b[0;34m,\u001b[0m \u001b[0my\u001b[0m \u001b[0;34m=\u001b[0m \u001b[0;34m'log_likes'\u001b[0m\u001b[0;34m,\u001b[0m \u001b[0max\u001b[0m \u001b[0;34m=\u001b[0m \u001b[0max\u001b[0m\u001b[0;34m)\u001b[0m\u001b[0;34m\u001b[0m\u001b[0;34m\u001b[0m\u001b[0m\n\u001b[0m\u001b[1;32m      5\u001b[0m \u001b[0max\u001b[0m\u001b[0;34m.\u001b[0m\u001b[0mset_title\u001b[0m\u001b[0;34m(\u001b[0m\u001b[0;34m'Scatter plot of category_id vs likes'\u001b[0m\u001b[0;34m)\u001b[0m \u001b[0;31m# Give the plot a main title\u001b[0m\u001b[0;34m\u001b[0m\u001b[0;34m\u001b[0m\u001b[0m\n\u001b[1;32m      6\u001b[0m \u001b[0max\u001b[0m\u001b[0;34m.\u001b[0m\u001b[0mset_xlabel\u001b[0m\u001b[0;34m(\u001b[0m\u001b[0;34m'category_id'\u001b[0m\u001b[0;34m)\u001b[0m \u001b[0;31m# Set text for the x axis\u001b[0m\u001b[0;34m\u001b[0m\u001b[0;34m\u001b[0m\u001b[0m\n",
      "\u001b[0;32m~/miniconda3/lib/python3.7/site-packages/pandas/plotting/_core.py\u001b[0m in \u001b[0;36m__call__\u001b[0;34m(self, *args, **kwargs)\u001b[0m\n\u001b[1;32m    736\u001b[0m         \u001b[0;32mif\u001b[0m \u001b[0mkind\u001b[0m \u001b[0;32min\u001b[0m \u001b[0mself\u001b[0m\u001b[0;34m.\u001b[0m\u001b[0m_dataframe_kinds\u001b[0m\u001b[0;34m:\u001b[0m\u001b[0;34m\u001b[0m\u001b[0;34m\u001b[0m\u001b[0m\n\u001b[1;32m    737\u001b[0m             \u001b[0;32mif\u001b[0m \u001b[0misinstance\u001b[0m\u001b[0;34m(\u001b[0m\u001b[0mdata\u001b[0m\u001b[0;34m,\u001b[0m \u001b[0mABCDataFrame\u001b[0m\u001b[0;34m)\u001b[0m\u001b[0;34m:\u001b[0m\u001b[0;34m\u001b[0m\u001b[0;34m\u001b[0m\u001b[0m\n\u001b[0;32m--> 738\u001b[0;31m                 \u001b[0;32mreturn\u001b[0m \u001b[0mplot_backend\u001b[0m\u001b[0;34m.\u001b[0m\u001b[0mplot\u001b[0m\u001b[0;34m(\u001b[0m\u001b[0mdata\u001b[0m\u001b[0;34m,\u001b[0m \u001b[0mx\u001b[0m\u001b[0;34m=\u001b[0m\u001b[0mx\u001b[0m\u001b[0;34m,\u001b[0m \u001b[0my\u001b[0m\u001b[0;34m=\u001b[0m\u001b[0my\u001b[0m\u001b[0;34m,\u001b[0m \u001b[0mkind\u001b[0m\u001b[0;34m=\u001b[0m\u001b[0mkind\u001b[0m\u001b[0;34m,\u001b[0m \u001b[0;34m**\u001b[0m\u001b[0mkwargs\u001b[0m\u001b[0;34m)\u001b[0m\u001b[0;34m\u001b[0m\u001b[0;34m\u001b[0m\u001b[0m\n\u001b[0m\u001b[1;32m    739\u001b[0m             \u001b[0;32melse\u001b[0m\u001b[0;34m:\u001b[0m\u001b[0;34m\u001b[0m\u001b[0;34m\u001b[0m\u001b[0m\n\u001b[1;32m    740\u001b[0m                 raise ValueError(\n",
      "\u001b[0;32m~/miniconda3/lib/python3.7/site-packages/pandas/plotting/_matplotlib/__init__.py\u001b[0m in \u001b[0;36mplot\u001b[0;34m(data, kind, **kwargs)\u001b[0m\n\u001b[1;32m     59\u001b[0m                 \u001b[0max\u001b[0m \u001b[0;34m=\u001b[0m \u001b[0mplt\u001b[0m\u001b[0;34m.\u001b[0m\u001b[0mgca\u001b[0m\u001b[0;34m(\u001b[0m\u001b[0;34m)\u001b[0m\u001b[0;34m\u001b[0m\u001b[0;34m\u001b[0m\u001b[0m\n\u001b[1;32m     60\u001b[0m             \u001b[0mkwargs\u001b[0m\u001b[0;34m[\u001b[0m\u001b[0;34m\"ax\"\u001b[0m\u001b[0;34m]\u001b[0m \u001b[0;34m=\u001b[0m \u001b[0mgetattr\u001b[0m\u001b[0;34m(\u001b[0m\u001b[0max\u001b[0m\u001b[0;34m,\u001b[0m \u001b[0;34m\"left_ax\"\u001b[0m\u001b[0;34m,\u001b[0m \u001b[0max\u001b[0m\u001b[0;34m)\u001b[0m\u001b[0;34m\u001b[0m\u001b[0;34m\u001b[0m\u001b[0m\n\u001b[0;32m---> 61\u001b[0;31m     \u001b[0mplot_obj\u001b[0m \u001b[0;34m=\u001b[0m \u001b[0mPLOT_CLASSES\u001b[0m\u001b[0;34m[\u001b[0m\u001b[0mkind\u001b[0m\u001b[0;34m]\u001b[0m\u001b[0;34m(\u001b[0m\u001b[0mdata\u001b[0m\u001b[0;34m,\u001b[0m \u001b[0;34m**\u001b[0m\u001b[0mkwargs\u001b[0m\u001b[0;34m)\u001b[0m\u001b[0;34m\u001b[0m\u001b[0;34m\u001b[0m\u001b[0m\n\u001b[0m\u001b[1;32m     62\u001b[0m     \u001b[0mplot_obj\u001b[0m\u001b[0;34m.\u001b[0m\u001b[0mgenerate\u001b[0m\u001b[0;34m(\u001b[0m\u001b[0;34m)\u001b[0m\u001b[0;34m\u001b[0m\u001b[0;34m\u001b[0m\u001b[0m\n\u001b[1;32m     63\u001b[0m     \u001b[0mplot_obj\u001b[0m\u001b[0;34m.\u001b[0m\u001b[0mdraw\u001b[0m\u001b[0;34m(\u001b[0m\u001b[0;34m)\u001b[0m\u001b[0;34m\u001b[0m\u001b[0;34m\u001b[0m\u001b[0m\n",
      "\u001b[0;32m~/miniconda3/lib/python3.7/site-packages/pandas/plotting/_matplotlib/core.py\u001b[0m in \u001b[0;36m__init__\u001b[0;34m(self, data, x, y, s, c, **kwargs)\u001b[0m\n\u001b[1;32m    928\u001b[0m             \u001b[0;31m# the handling of this argument later\u001b[0m\u001b[0;34m\u001b[0m\u001b[0;34m\u001b[0m\u001b[0;34m\u001b[0m\u001b[0m\n\u001b[1;32m    929\u001b[0m             \u001b[0ms\u001b[0m \u001b[0;34m=\u001b[0m \u001b[0;36m20\u001b[0m\u001b[0;34m\u001b[0m\u001b[0;34m\u001b[0m\u001b[0m\n\u001b[0;32m--> 930\u001b[0;31m         \u001b[0msuper\u001b[0m\u001b[0;34m(\u001b[0m\u001b[0;34m)\u001b[0m\u001b[0;34m.\u001b[0m\u001b[0m__init__\u001b[0m\u001b[0;34m(\u001b[0m\u001b[0mdata\u001b[0m\u001b[0;34m,\u001b[0m \u001b[0mx\u001b[0m\u001b[0;34m,\u001b[0m \u001b[0my\u001b[0m\u001b[0;34m,\u001b[0m \u001b[0ms\u001b[0m\u001b[0;34m=\u001b[0m\u001b[0ms\u001b[0m\u001b[0;34m,\u001b[0m \u001b[0;34m**\u001b[0m\u001b[0mkwargs\u001b[0m\u001b[0;34m)\u001b[0m\u001b[0;34m\u001b[0m\u001b[0;34m\u001b[0m\u001b[0m\n\u001b[0m\u001b[1;32m    931\u001b[0m         \u001b[0;32mif\u001b[0m \u001b[0mis_integer\u001b[0m\u001b[0;34m(\u001b[0m\u001b[0mc\u001b[0m\u001b[0;34m)\u001b[0m \u001b[0;32mand\u001b[0m \u001b[0;32mnot\u001b[0m \u001b[0mself\u001b[0m\u001b[0;34m.\u001b[0m\u001b[0mdata\u001b[0m\u001b[0;34m.\u001b[0m\u001b[0mcolumns\u001b[0m\u001b[0;34m.\u001b[0m\u001b[0mholds_integer\u001b[0m\u001b[0;34m(\u001b[0m\u001b[0;34m)\u001b[0m\u001b[0;34m:\u001b[0m\u001b[0;34m\u001b[0m\u001b[0;34m\u001b[0m\u001b[0m\n\u001b[1;32m    932\u001b[0m             \u001b[0mc\u001b[0m \u001b[0;34m=\u001b[0m \u001b[0mself\u001b[0m\u001b[0;34m.\u001b[0m\u001b[0mdata\u001b[0m\u001b[0;34m.\u001b[0m\u001b[0mcolumns\u001b[0m\u001b[0;34m[\u001b[0m\u001b[0mc\u001b[0m\u001b[0;34m]\u001b[0m\u001b[0;34m\u001b[0m\u001b[0;34m\u001b[0m\u001b[0m\n",
      "\u001b[0;32m~/miniconda3/lib/python3.7/site-packages/pandas/plotting/_matplotlib/core.py\u001b[0m in \u001b[0;36m__init__\u001b[0;34m(self, data, x, y, **kwargs)\u001b[0m\n\u001b[1;32m    869\u001b[0m         \u001b[0;32mif\u001b[0m \u001b[0mlen\u001b[0m\u001b[0;34m(\u001b[0m\u001b[0mself\u001b[0m\u001b[0;34m.\u001b[0m\u001b[0mdata\u001b[0m\u001b[0;34m[\u001b[0m\u001b[0mx\u001b[0m\u001b[0;34m]\u001b[0m\u001b[0;34m.\u001b[0m\u001b[0m_get_numeric_data\u001b[0m\u001b[0;34m(\u001b[0m\u001b[0;34m)\u001b[0m\u001b[0;34m)\u001b[0m \u001b[0;34m==\u001b[0m \u001b[0;36m0\u001b[0m\u001b[0;34m:\u001b[0m\u001b[0;34m\u001b[0m\u001b[0;34m\u001b[0m\u001b[0m\n\u001b[1;32m    870\u001b[0m             \u001b[0;32mraise\u001b[0m \u001b[0mValueError\u001b[0m\u001b[0;34m(\u001b[0m\u001b[0mself\u001b[0m\u001b[0;34m.\u001b[0m\u001b[0m_kind\u001b[0m \u001b[0;34m+\u001b[0m \u001b[0;34m\" requires x column to be numeric\"\u001b[0m\u001b[0;34m)\u001b[0m\u001b[0;34m\u001b[0m\u001b[0;34m\u001b[0m\u001b[0m\n\u001b[0;32m--> 871\u001b[0;31m         \u001b[0;32mif\u001b[0m \u001b[0mlen\u001b[0m\u001b[0;34m(\u001b[0m\u001b[0mself\u001b[0m\u001b[0;34m.\u001b[0m\u001b[0mdata\u001b[0m\u001b[0;34m[\u001b[0m\u001b[0my\u001b[0m\u001b[0;34m]\u001b[0m\u001b[0;34m.\u001b[0m\u001b[0m_get_numeric_data\u001b[0m\u001b[0;34m(\u001b[0m\u001b[0;34m)\u001b[0m\u001b[0;34m)\u001b[0m \u001b[0;34m==\u001b[0m \u001b[0;36m0\u001b[0m\u001b[0;34m:\u001b[0m\u001b[0;34m\u001b[0m\u001b[0;34m\u001b[0m\u001b[0m\n\u001b[0m\u001b[1;32m    872\u001b[0m             \u001b[0;32mraise\u001b[0m \u001b[0mValueError\u001b[0m\u001b[0;34m(\u001b[0m\u001b[0mself\u001b[0m\u001b[0;34m.\u001b[0m\u001b[0m_kind\u001b[0m \u001b[0;34m+\u001b[0m \u001b[0;34m\" requires y column to be numeric\"\u001b[0m\u001b[0;34m)\u001b[0m\u001b[0;34m\u001b[0m\u001b[0;34m\u001b[0m\u001b[0m\n\u001b[1;32m    873\u001b[0m \u001b[0;34m\u001b[0m\u001b[0m\n",
      "\u001b[0;32m~/miniconda3/lib/python3.7/site-packages/pandas/core/frame.py\u001b[0m in \u001b[0;36m__getitem__\u001b[0;34m(self, key)\u001b[0m\n\u001b[1;32m   2978\u001b[0m             \u001b[0;32mif\u001b[0m \u001b[0mself\u001b[0m\u001b[0;34m.\u001b[0m\u001b[0mcolumns\u001b[0m\u001b[0;34m.\u001b[0m\u001b[0mnlevels\u001b[0m \u001b[0;34m>\u001b[0m \u001b[0;36m1\u001b[0m\u001b[0;34m:\u001b[0m\u001b[0;34m\u001b[0m\u001b[0;34m\u001b[0m\u001b[0m\n\u001b[1;32m   2979\u001b[0m                 \u001b[0;32mreturn\u001b[0m \u001b[0mself\u001b[0m\u001b[0;34m.\u001b[0m\u001b[0m_getitem_multilevel\u001b[0m\u001b[0;34m(\u001b[0m\u001b[0mkey\u001b[0m\u001b[0;34m)\u001b[0m\u001b[0;34m\u001b[0m\u001b[0;34m\u001b[0m\u001b[0m\n\u001b[0;32m-> 2980\u001b[0;31m             \u001b[0mindexer\u001b[0m \u001b[0;34m=\u001b[0m \u001b[0mself\u001b[0m\u001b[0;34m.\u001b[0m\u001b[0mcolumns\u001b[0m\u001b[0;34m.\u001b[0m\u001b[0mget_loc\u001b[0m\u001b[0;34m(\u001b[0m\u001b[0mkey\u001b[0m\u001b[0;34m)\u001b[0m\u001b[0;34m\u001b[0m\u001b[0;34m\u001b[0m\u001b[0m\n\u001b[0m\u001b[1;32m   2981\u001b[0m             \u001b[0;32mif\u001b[0m \u001b[0mis_integer\u001b[0m\u001b[0;34m(\u001b[0m\u001b[0mindexer\u001b[0m\u001b[0;34m)\u001b[0m\u001b[0;34m:\u001b[0m\u001b[0;34m\u001b[0m\u001b[0;34m\u001b[0m\u001b[0m\n\u001b[1;32m   2982\u001b[0m                 \u001b[0mindexer\u001b[0m \u001b[0;34m=\u001b[0m \u001b[0;34m[\u001b[0m\u001b[0mindexer\u001b[0m\u001b[0;34m]\u001b[0m\u001b[0;34m\u001b[0m\u001b[0;34m\u001b[0m\u001b[0m\n",
      "\u001b[0;32m~/miniconda3/lib/python3.7/site-packages/pandas/core/indexes/base.py\u001b[0m in \u001b[0;36mget_loc\u001b[0;34m(self, key, method, tolerance)\u001b[0m\n\u001b[1;32m   2897\u001b[0m                 \u001b[0;32mreturn\u001b[0m \u001b[0mself\u001b[0m\u001b[0;34m.\u001b[0m\u001b[0m_engine\u001b[0m\u001b[0;34m.\u001b[0m\u001b[0mget_loc\u001b[0m\u001b[0;34m(\u001b[0m\u001b[0mkey\u001b[0m\u001b[0;34m)\u001b[0m\u001b[0;34m\u001b[0m\u001b[0;34m\u001b[0m\u001b[0m\n\u001b[1;32m   2898\u001b[0m             \u001b[0;32mexcept\u001b[0m \u001b[0mKeyError\u001b[0m\u001b[0;34m:\u001b[0m\u001b[0;34m\u001b[0m\u001b[0;34m\u001b[0m\u001b[0m\n\u001b[0;32m-> 2899\u001b[0;31m                 \u001b[0;32mreturn\u001b[0m \u001b[0mself\u001b[0m\u001b[0;34m.\u001b[0m\u001b[0m_engine\u001b[0m\u001b[0;34m.\u001b[0m\u001b[0mget_loc\u001b[0m\u001b[0;34m(\u001b[0m\u001b[0mself\u001b[0m\u001b[0;34m.\u001b[0m\u001b[0m_maybe_cast_indexer\u001b[0m\u001b[0;34m(\u001b[0m\u001b[0mkey\u001b[0m\u001b[0;34m)\u001b[0m\u001b[0;34m)\u001b[0m\u001b[0;34m\u001b[0m\u001b[0;34m\u001b[0m\u001b[0m\n\u001b[0m\u001b[1;32m   2900\u001b[0m         \u001b[0mindexer\u001b[0m \u001b[0;34m=\u001b[0m \u001b[0mself\u001b[0m\u001b[0;34m.\u001b[0m\u001b[0mget_indexer\u001b[0m\u001b[0;34m(\u001b[0m\u001b[0;34m[\u001b[0m\u001b[0mkey\u001b[0m\u001b[0;34m]\u001b[0m\u001b[0;34m,\u001b[0m \u001b[0mmethod\u001b[0m\u001b[0;34m=\u001b[0m\u001b[0mmethod\u001b[0m\u001b[0;34m,\u001b[0m \u001b[0mtolerance\u001b[0m\u001b[0;34m=\u001b[0m\u001b[0mtolerance\u001b[0m\u001b[0;34m)\u001b[0m\u001b[0;34m\u001b[0m\u001b[0;34m\u001b[0m\u001b[0m\n\u001b[1;32m   2901\u001b[0m         \u001b[0;32mif\u001b[0m \u001b[0mindexer\u001b[0m\u001b[0;34m.\u001b[0m\u001b[0mndim\u001b[0m \u001b[0;34m>\u001b[0m \u001b[0;36m1\u001b[0m \u001b[0;32mor\u001b[0m \u001b[0mindexer\u001b[0m\u001b[0;34m.\u001b[0m\u001b[0msize\u001b[0m \u001b[0;34m>\u001b[0m \u001b[0;36m1\u001b[0m\u001b[0;34m:\u001b[0m\u001b[0;34m\u001b[0m\u001b[0;34m\u001b[0m\u001b[0m\n",
      "\u001b[0;32mpandas/_libs/index.pyx\u001b[0m in \u001b[0;36mpandas._libs.index.IndexEngine.get_loc\u001b[0;34m()\u001b[0m\n",
      "\u001b[0;32mpandas/_libs/index.pyx\u001b[0m in \u001b[0;36mpandas._libs.index.IndexEngine.get_loc\u001b[0;34m()\u001b[0m\n",
      "\u001b[0;32mpandas/_libs/hashtable_class_helper.pxi\u001b[0m in \u001b[0;36mpandas._libs.hashtable.PyObjectHashTable.get_item\u001b[0;34m()\u001b[0m\n",
      "\u001b[0;32mpandas/_libs/hashtable_class_helper.pxi\u001b[0m in \u001b[0;36mpandas._libs.hashtable.PyObjectHashTable.get_item\u001b[0;34m()\u001b[0m\n",
      "\u001b[0;31mKeyError\u001b[0m: 'log_likes'"
     ]
    },
    {
     "data": {
      "image/png": "[encoded data removed]",
      "text/plain": [
       "<Figure size 720x720 with 1 Axes>"
      ]
     },
     "metadata": {
      "needs_background": "light"
     },
     "output_type": "display_data"
    }
   ],
   "source": [
    "import matplotlib.pyplot as plt\n",
    "fig = plt.figure(figsize=(10, 10)) # define plot area\n",
    "ax = fig.gca() # define axis                   \n",
    "df.plot(kind = 'scatter', x = 'category_id', y = 'log_likes', ax = ax)\n",
    "ax.set_title('Scatter plot of category_id vs likes') # Give the plot a main title\n",
    "ax.set_xlabel('category_id') # Set text for the x axis\n",
    "ax.set_ylabel('likes')# Set text for y axis"
   ]
  },
  {
   "cell_type": "code",
   "execution_count": 26,
   "metadata": {},
   "outputs": [
    {
     "data": {
      "text/plain": [
       "<matplotlib.axes._subplots.AxesSubplot at 0x1a2792bb38>"
      ]
     },
     "execution_count": 26,
     "metadata": {},
     "output_type": "execute_result"
    },
    {
     "data": {
      "image/png": "[encoded data removed]",
      "text/plain": [
       "<Figure size 720x720 with 1 Axes>"
      ]
     },
     "metadata": {
      "needs_background": "light"
     },
     "output_type": "display_data"
    }
   ],
   "source": [
    "plt.figure(figsize = (10,10))\n",
    "sns.boxplot(x = \"country\", y = 'log_views', data = df)"
   ]
  },
  {
   "cell_type": "code",
   "execution_count": 27,
   "metadata": {},
   "outputs": [
    {
     "data": {
      "text/plain": [
       "<matplotlib.axes._subplots.AxesSubplot at 0x1a1cb93da0>"
      ]
     },
     "execution_count": 27,
     "metadata": {},
     "output_type": "execute_result"
    },
    {
     "data": {
      "image/png": "[encoded data removed]",
      "text/plain": [
       "<Figure size 720x720 with 1 Axes>"
      ]
     },
     "metadata": {
      "needs_background": "light"
     },
     "output_type": "display_data"
    }
   ],
   "source": [
    "plt.figure(figsize = (10,10))\n",
    "sns.boxplot(x = \"country\", y = 'log_likes', data = df)"
   ]
  },
  {
   "cell_type": "code",
   "execution_count": 28,
   "metadata": {
    "scrolled": true
   },
   "outputs": [
    {
     "data": {
      "text/plain": [
       "<matplotlib.axes._subplots.AxesSubplot at 0x1a1cade518>"
      ]
     },
     "execution_count": 28,
     "metadata": {},
     "output_type": "execute_result"
    },
    {
     "data": {
      "image/png": "[encoded data removed]",
      "text/plain": [
       "<Figure size 720x720 with 1 Axes>"
      ]
     },
     "metadata": {
      "needs_background": "light"
     },
     "output_type": "display_data"
    }
   ],
   "source": [
    "plt.figure(figsize = (10,10))\n",
    "sns.boxplot(x = \"country\", y = 'log_dislikes', data = df)"
   ]
  },
  {
   "cell_type": "code",
   "execution_count": null,
   "metadata": {},
   "outputs": [],
   "source": [
    "df_categories[df['category'].isin(['Entertainment','People & Blogs','News & Politics'])][['views','likes','dislikes']]\n",
    "\n",
    "\n",
    "Entertainment            50468\n",
    "People & Blogs           28045\n",
    "News & Politics          20327\n",
    "Sports                   12561\n",
    "Comedy                   10358\n",
    "Music                    10145\n",
    "Howto & Style             9580\n",
    "Film & Animation          8460\n",
    "Gaming                    5318\n",
    "Education                 3897\n",
    "Science & Technology      3404\n",
    "Autos & Vehicles          3274\n",
    "Pets & Animals            2271\n",
    "Nonprofits & Activism     1779\n",
    "Travel & Events            812\n",
    "Shows                      435\n",
    "Movies                      12\n",
    "Trailers                     3"
   ]
  },
  {
   "cell_type": "code",
   "execution_count": 34,
   "metadata": {},
   "outputs": [
    {
     "data": {
      "text/html": [
       "<div>\n",
       "<style scoped>\n",
       "    .dataframe tbody tr th:only-of-type {\n",
       "        vertical-align: middle;\n",
       "    }\n",
       "\n",
       "    .dataframe tbody tr th {\n",
       "        vertical-align: top;\n",
       "    }\n",
       "\n",
       "    .dataframe thead th {\n",
       "        text-align: right;\n",
       "    }\n",
       "</style>\n",
       "<table border=\"1\" class=\"dataframe\">\n",
       "  <thead>\n",
       "    <tr style=\"text-align: right;\">\n",
       "      <th></th>\n",
       "      <th>title</th>\n",
       "      <th>country</th>\n",
       "      <th>likes</th>\n",
       "    </tr>\n",
       "  </thead>\n",
       "  <tbody>\n",
       "    <tr>\n",
       "      <td>8</td>\n",
       "      <td>DALS S08 - Lenni-Kim danse un Tango avec Denit...</td>\n",
       "      <td>FR</td>\n",
       "      <td>618</td>\n",
       "    </tr>\n",
       "    <tr>\n",
       "      <td>10</td>\n",
       "      <td>MAGIE - IL FAIT APPARAÏTRE UN AVION DEVANT 230...</td>\n",
       "      <td>FR</td>\n",
       "      <td>34</td>\n",
       "    </tr>\n",
       "    <tr>\n",
       "      <td>14</td>\n",
       "      <td>Michel Sardou : Les révélations inédit de Loua...</td>\n",
       "      <td>FR</td>\n",
       "      <td>15</td>\n",
       "    </tr>\n",
       "    <tr>\n",
       "      <td>17</td>\n",
       "      <td>LES 5 MEILLEURS MAGICIENS DU MONDE PASSÉ SUR I...</td>\n",
       "      <td>FR</td>\n",
       "      <td>960</td>\n",
       "    </tr>\n",
       "    <tr>\n",
       "      <td>22</td>\n",
       "      <td>LES DILEMMES EN LIVE ! (REDIFFUSION)</td>\n",
       "      <td>FR</td>\n",
       "      <td>1556</td>\n",
       "    </tr>\n",
       "    <tr>\n",
       "      <td>...</td>\n",
       "      <td>...</td>\n",
       "      <td>...</td>\n",
       "      <td>...</td>\n",
       "    </tr>\n",
       "    <tr>\n",
       "      <td>171134</td>\n",
       "      <td>Șoc! Fernando și Ciobi au fost eliminați de la...</td>\n",
       "      <td>DE</td>\n",
       "      <td>945</td>\n",
       "    </tr>\n",
       "    <tr>\n",
       "      <td>171139</td>\n",
       "      <td>لحظة تتويج ملف التلاتي بكأس العالم 2026 -خسارة...</td>\n",
       "      <td>DE</td>\n",
       "      <td>1915</td>\n",
       "    </tr>\n",
       "    <tr>\n",
       "      <td>171140</td>\n",
       "      <td>Simon Cowell Falls In LOVE With 'Ms. Trysh' Bu...</td>\n",
       "      <td>DE</td>\n",
       "      <td>8688</td>\n",
       "    </tr>\n",
       "    <tr>\n",
       "      <td>171142</td>\n",
       "      <td>வாணி ராணி - VAANI RANI -  Episode 1593 - 13/6/...</td>\n",
       "      <td>DE</td>\n",
       "      <td>2197</td>\n",
       "    </tr>\n",
       "    <tr>\n",
       "      <td>171146</td>\n",
       "      <td>НЕРЯХА ДЖО! БУРГЕР для детей и взрослых (здоро...</td>\n",
       "      <td>DE</td>\n",
       "      <td>35688</td>\n",
       "    </tr>\n",
       "  </tbody>\n",
       "</table>\n",
       "<p>50468 rows × 3 columns</p>\n",
       "</div>"
      ],
      "text/plain": [
       "                                                    title country  likes\n",
       "8       DALS S08 - Lenni-Kim danse un Tango avec Denit...      FR    618\n",
       "10      MAGIE - IL FAIT APPARAÏTRE UN AVION DEVANT 230...      FR     34\n",
       "14      Michel Sardou : Les révélations inédit de Loua...      FR     15\n",
       "17      LES 5 MEILLEURS MAGICIENS DU MONDE PASSÉ SUR I...      FR    960\n",
       "22                   LES DILEMMES EN LIVE ! (REDIFFUSION)      FR   1556\n",
       "...                                                   ...     ...    ...\n",
       "171134  Șoc! Fernando și Ciobi au fost eliminați de la...      DE    945\n",
       "171139  لحظة تتويج ملف التلاتي بكأس العالم 2026 -خسارة...      DE   1915\n",
       "171140  Simon Cowell Falls In LOVE With 'Ms. Trysh' Bu...      DE   8688\n",
       "171142  வாணி ராணி - VAANI RANI -  Episode 1593 - 13/6/...      DE   2197\n",
       "171146  НЕРЯХА ДЖО! БУРГЕР для детей и взрослых (здоро...      DE  35688\n",
       "\n",
       "[50468 rows x 3 columns]"
      ]
     },
     "execution_count": 34,
     "metadata": {},
     "output_type": "execute_result"
    }
   ],
   "source": [
    "entertainment = df[df['category'].isin(['Entertainment'])][['title','country','likes']]\n",
    "entertainment"
   ]
  },
  {
   "cell_type": "code",
   "execution_count": 42,
   "metadata": {},
   "outputs": [
    {
     "data": {
      "text/html": [
       "<div>\n",
       "<style scoped>\n",
       "    .dataframe tbody tr th:only-of-type {\n",
       "        vertical-align: middle;\n",
       "    }\n",
       "\n",
       "    .dataframe tbody tr th {\n",
       "        vertical-align: top;\n",
       "    }\n",
       "\n",
       "    .dataframe thead th {\n",
       "        text-align: right;\n",
       "    }\n",
       "</style>\n",
       "<table border=\"1\" class=\"dataframe\">\n",
       "  <thead>\n",
       "    <tr style=\"text-align: right;\">\n",
       "      <th></th>\n",
       "      <th>video_id</th>\n",
       "      <th>trending_date</th>\n",
       "      <th>title</th>\n",
       "      <th>channel_title</th>\n",
       "      <th>category_id</th>\n",
       "      <th>category</th>\n",
       "      <th>publish_date</th>\n",
       "      <th>publish_time</th>\n",
       "      <th>tags</th>\n",
       "      <th>views</th>\n",
       "      <th>likes</th>\n",
       "      <th>dislikes</th>\n",
       "      <th>comment_count</th>\n",
       "      <th>thumbnail_link</th>\n",
       "      <th>comments_disabled</th>\n",
       "      <th>ratings_disabled</th>\n",
       "      <th>video_error_or_removed</th>\n",
       "      <th>description</th>\n",
       "      <th>country</th>\n",
       "      <th>publish_timestamp</th>\n",
       "    </tr>\n",
       "  </thead>\n",
       "  <tbody>\n",
       "    <tr>\n",
       "      <td>8</td>\n",
       "      <td>_wChN4yabJM</td>\n",
       "      <td>2017-11-14</td>\n",
       "      <td>DALS S08 - Lenni-Kim danse un Tango avec Denit...</td>\n",
       "      <td>Danse avec les stars</td>\n",
       "      <td>24</td>\n",
       "      <td>Entertainment</td>\n",
       "      <td>2017-11-13</td>\n",
       "      <td>12:00:02</td>\n",
       "      <td>Lenni-Kim\"|\"Denitsa Ikonomova\"|\"tango\"|\"Justin...</td>\n",
       "      <td>19004</td>\n",
       "      <td>618</td>\n",
       "      <td>4</td>\n",
       "      <td>44</td>\n",
       "      <td>https://i.ytimg.com/vi/_wChN4yabJM/default.jpg</td>\n",
       "      <td>False</td>\n",
       "      <td>False</td>\n",
       "      <td>False</td>\n",
       "      <td>Pour la soirée du Switch, le public a décidé d...</td>\n",
       "      <td>FR</td>\n",
       "      <td>2017-11-13 12:00:02</td>\n",
       "    </tr>\n",
       "    <tr>\n",
       "      <td>10</td>\n",
       "      <td>hWtTJ3Q37rY</td>\n",
       "      <td>2017-11-14</td>\n",
       "      <td>MAGIE - IL FAIT APPARAÏTRE UN AVION DEVANT 230...</td>\n",
       "      <td>Cyril Ayrau</td>\n",
       "      <td>24</td>\n",
       "      <td>Entertainment</td>\n",
       "      <td>2017-11-13</td>\n",
       "      <td>05:54:40</td>\n",
       "      <td>CYRIL AYRAU\"|\"Magicien Bergerac\"|\"Apparition a...</td>\n",
       "      <td>5114</td>\n",
       "      <td>34</td>\n",
       "      <td>1</td>\n",
       "      <td>11</td>\n",
       "      <td>https://i.ytimg.com/vi/hWtTJ3Q37rY/default.jpg</td>\n",
       "      <td>False</td>\n",
       "      <td>False</td>\n",
       "      <td>False</td>\n",
       "      <td>Cyril Ayrau Le Magicien de Bergerac fait appar...</td>\n",
       "      <td>FR</td>\n",
       "      <td>2017-11-13 05:54:40</td>\n",
       "    </tr>\n",
       "    <tr>\n",
       "      <td>14</td>\n",
       "      <td>O7JJllvepts</td>\n",
       "      <td>2017-11-14</td>\n",
       "      <td>Michel Sardou : Les révélations inédit de Loua...</td>\n",
       "      <td>koi de neuf? Buzz</td>\n",
       "      <td>24</td>\n",
       "      <td>Entertainment</td>\n",
       "      <td>2017-11-13</td>\n",
       "      <td>00:04:15</td>\n",
       "      <td>Michel Sardou\"|\"Louane Emera\"|\"Je vole</td>\n",
       "      <td>7709</td>\n",
       "      <td>15</td>\n",
       "      <td>7</td>\n",
       "      <td>6</td>\n",
       "      <td>https://i.ytimg.com/vi/O7JJllvepts/default.jpg</td>\n",
       "      <td>False</td>\n",
       "      <td>False</td>\n",
       "      <td>False</td>\n",
       "      <td>Michel Sardou tacle Louane Emera : Elle dit de...</td>\n",
       "      <td>FR</td>\n",
       "      <td>2017-11-13 00:04:15</td>\n",
       "    </tr>\n",
       "    <tr>\n",
       "      <td>17</td>\n",
       "      <td>mAbw28ePp5c</td>\n",
       "      <td>2017-11-14</td>\n",
       "      <td>LES 5 MEILLEURS MAGICIENS DU MONDE PASSÉ SUR I...</td>\n",
       "      <td>HEROZ</td>\n",
       "      <td>24</td>\n",
       "      <td>Entertainment</td>\n",
       "      <td>2017-11-11</td>\n",
       "      <td>17:37:29</td>\n",
       "      <td>HEROZ\"|\"LES 5 MEILLEURS MAGICIENS DU MONDE PAS...</td>\n",
       "      <td>50733</td>\n",
       "      <td>960</td>\n",
       "      <td>75</td>\n",
       "      <td>129</td>\n",
       "      <td>https://i.ytimg.com/vi/mAbw28ePp5c/default.jpg</td>\n",
       "      <td>False</td>\n",
       "      <td>False</td>\n",
       "      <td>False</td>\n",
       "      <td>top 10 magie magie facile magique filmé en dir...</td>\n",
       "      <td>FR</td>\n",
       "      <td>2017-11-11 17:37:29</td>\n",
       "    </tr>\n",
       "    <tr>\n",
       "      <td>22</td>\n",
       "      <td>ondy6jke_SQ</td>\n",
       "      <td>2017-11-14</td>\n",
       "      <td>LES DILEMMES EN LIVE ! (REDIFFUSION)</td>\n",
       "      <td>Les dilemmes</td>\n",
       "      <td>24</td>\n",
       "      <td>Entertainment</td>\n",
       "      <td>2017-11-12</td>\n",
       "      <td>20:23:08</td>\n",
       "      <td>tu\"|\"préfères\"|\"les\"|\"dilemme\"|\"plus\"|\"diffici...</td>\n",
       "      <td>43674</td>\n",
       "      <td>1556</td>\n",
       "      <td>79</td>\n",
       "      <td>322</td>\n",
       "      <td>https://i.ytimg.com/vi/ondy6jke_SQ/default.jpg</td>\n",
       "      <td>False</td>\n",
       "      <td>False</td>\n",
       "      <td>False</td>\n",
       "      <td>Saurez-vous faire face aux choix les plus diff...</td>\n",
       "      <td>FR</td>\n",
       "      <td>2017-11-12 20:23:08</td>\n",
       "    </tr>\n",
       "    <tr>\n",
       "      <td>...</td>\n",
       "      <td>...</td>\n",
       "      <td>...</td>\n",
       "      <td>...</td>\n",
       "      <td>...</td>\n",
       "      <td>...</td>\n",
       "      <td>...</td>\n",
       "      <td>...</td>\n",
       "      <td>...</td>\n",
       "      <td>...</td>\n",
       "      <td>...</td>\n",
       "      <td>...</td>\n",
       "      <td>...</td>\n",
       "      <td>...</td>\n",
       "      <td>...</td>\n",
       "      <td>...</td>\n",
       "      <td>...</td>\n",
       "      <td>...</td>\n",
       "      <td>...</td>\n",
       "      <td>...</td>\n",
       "      <td>...</td>\n",
       "    </tr>\n",
       "    <tr>\n",
       "      <td>171134</td>\n",
       "      <td>Gn1s5k5DVlE</td>\n",
       "      <td>2018-06-14</td>\n",
       "      <td>Șoc! Fernando și Ciobi au fost eliminați de la...</td>\n",
       "      <td>Chefi la cuțite</td>\n",
       "      <td>24</td>\n",
       "      <td>Entertainment</td>\n",
       "      <td>2018-06-12</td>\n",
       "      <td>20:12:50</td>\n",
       "      <td>fernando|\"ciobi\"|\"eliminati\"|\"Chefi la cutite\"...</td>\n",
       "      <td>120438</td>\n",
       "      <td>945</td>\n",
       "      <td>416</td>\n",
       "      <td>594</td>\n",
       "      <td>https://i.ytimg.com/vi/Gn1s5k5DVlE/default.jpg</td>\n",
       "      <td>False</td>\n",
       "      <td>False</td>\n",
       "      <td>False</td>\n",
       "      <td>Șoc! Fernando și Ciobi au fost eliminați de la...</td>\n",
       "      <td>DE</td>\n",
       "      <td>2018-06-12 20:12:50</td>\n",
       "    </tr>\n",
       "    <tr>\n",
       "      <td>171139</td>\n",
       "      <td>VdOGUFr3glA</td>\n",
       "      <td>2018-06-14</td>\n",
       "      <td>لحظة تتويج ملف التلاتي بكأس العالم 2026 -خسارة...</td>\n",
       "      <td>Sahifa-Tv قناة الصحيفة</td>\n",
       "      <td>24</td>\n",
       "      <td>Entertainment</td>\n",
       "      <td>2018-06-13</td>\n",
       "      <td>11:00:10</td>\n",
       "      <td>[none]</td>\n",
       "      <td>429897</td>\n",
       "      <td>1915</td>\n",
       "      <td>1021</td>\n",
       "      <td>1635</td>\n",
       "      <td>https://i.ytimg.com/vi/VdOGUFr3glA/default.jpg</td>\n",
       "      <td>False</td>\n",
       "      <td>False</td>\n",
       "      <td>False</td>\n",
       "      <td>🛑Télécharge Onefootball maintenant :  https://...</td>\n",
       "      <td>DE</td>\n",
       "      <td>2018-06-13 11:00:10</td>\n",
       "    </tr>\n",
       "    <tr>\n",
       "      <td>171140</td>\n",
       "      <td>mSJ_Qb9-WtA</td>\n",
       "      <td>2018-06-14</td>\n",
       "      <td>Simon Cowell Falls In LOVE With 'Ms. Trysh' Bu...</td>\n",
       "      <td>Talent Recap</td>\n",
       "      <td>24</td>\n",
       "      <td>Entertainment</td>\n",
       "      <td>2018-06-13</td>\n",
       "      <td>01:36:56</td>\n",
       "      <td>America’s got talent|\"Americas got talent\"|\"ag...</td>\n",
       "      <td>560827</td>\n",
       "      <td>8688</td>\n",
       "      <td>147</td>\n",
       "      <td>696</td>\n",
       "      <td>https://i.ytimg.com/vi/mSJ_Qb9-WtA/default.jpg</td>\n",
       "      <td>False</td>\n",
       "      <td>False</td>\n",
       "      <td>False</td>\n",
       "      <td>#Full Segment | America’s Got Talent Season 13...</td>\n",
       "      <td>DE</td>\n",
       "      <td>2018-06-13 01:36:56</td>\n",
       "    </tr>\n",
       "    <tr>\n",
       "      <td>171142</td>\n",
       "      <td>c5ZB0p0zBg0</td>\n",
       "      <td>2018-06-14</td>\n",
       "      <td>வாணி ராணி - VAANI RANI -  Episode 1593 - 13/6/...</td>\n",
       "      <td>RadaanMedia</td>\n",
       "      <td>24</td>\n",
       "      <td>Entertainment</td>\n",
       "      <td>2018-06-13</td>\n",
       "      <td>16:30:00</td>\n",
       "      <td>Vaani rani|\"rani\"|\"Radhika in funny character\"...</td>\n",
       "      <td>341799</td>\n",
       "      <td>2197</td>\n",
       "      <td>329</td>\n",
       "      <td>267</td>\n",
       "      <td>https://i.ytimg.com/vi/c5ZB0p0zBg0/default.jpg</td>\n",
       "      <td>False</td>\n",
       "      <td>False</td>\n",
       "      <td>False</td>\n",
       "      <td>Subscribers Link: http://bit.ly/2qb69dZConnect...</td>\n",
       "      <td>DE</td>\n",
       "      <td>2018-06-13 16:30:00</td>\n",
       "    </tr>\n",
       "    <tr>\n",
       "      <td>171146</td>\n",
       "      <td>WxJ4SfmUGgY</td>\n",
       "      <td>2018-06-14</td>\n",
       "      <td>НЕРЯХА ДЖО! БУРГЕР для детей и взрослых (здоро...</td>\n",
       "      <td>oblomoff</td>\n",
       "      <td>24</td>\n",
       "      <td>Entertainment</td>\n",
       "      <td>2018-06-13</td>\n",
       "      <td>11:04:35</td>\n",
       "      <td>рецепт|\"дачный рецепт\"|\"рецепт на углях\"|\"реце...</td>\n",
       "      <td>587480</td>\n",
       "      <td>35688</td>\n",
       "      <td>1207</td>\n",
       "      <td>2380</td>\n",
       "      <td>https://i.ytimg.com/vi/WxJ4SfmUGgY/default.jpg</td>\n",
       "      <td>False</td>\n",
       "      <td>False</td>\n",
       "      <td>False</td>\n",
       "      <td>Купи свой Биван со скидкой 20% по промокоду СЛ...</td>\n",
       "      <td>DE</td>\n",
       "      <td>2018-06-13 11:04:35</td>\n",
       "    </tr>\n",
       "  </tbody>\n",
       "</table>\n",
       "<p>50468 rows × 20 columns</p>\n",
       "</div>"
      ],
      "text/plain": [
       "           video_id trending_date  \\\n",
       "8       _wChN4yabJM    2017-11-14   \n",
       "10      hWtTJ3Q37rY    2017-11-14   \n",
       "14      O7JJllvepts    2017-11-14   \n",
       "17      mAbw28ePp5c    2017-11-14   \n",
       "22      ondy6jke_SQ    2017-11-14   \n",
       "...             ...           ...   \n",
       "171134  Gn1s5k5DVlE    2018-06-14   \n",
       "171139  VdOGUFr3glA    2018-06-14   \n",
       "171140  mSJ_Qb9-WtA    2018-06-14   \n",
       "171142  c5ZB0p0zBg0    2018-06-14   \n",
       "171146  WxJ4SfmUGgY    2018-06-14   \n",
       "\n",
       "                                                    title  \\\n",
       "8       DALS S08 - Lenni-Kim danse un Tango avec Denit...   \n",
       "10      MAGIE - IL FAIT APPARAÏTRE UN AVION DEVANT 230...   \n",
       "14      Michel Sardou : Les révélations inédit de Loua...   \n",
       "17      LES 5 MEILLEURS MAGICIENS DU MONDE PASSÉ SUR I...   \n",
       "22                   LES DILEMMES EN LIVE ! (REDIFFUSION)   \n",
       "...                                                   ...   \n",
       "171134  Șoc! Fernando și Ciobi au fost eliminați de la...   \n",
       "171139  لحظة تتويج ملف التلاتي بكأس العالم 2026 -خسارة...   \n",
       "171140  Simon Cowell Falls In LOVE With 'Ms. Trysh' Bu...   \n",
       "171142  வாணி ராணி - VAANI RANI -  Episode 1593 - 13/6/...   \n",
       "171146  НЕРЯХА ДЖО! БУРГЕР для детей и взрослых (здоро...   \n",
       "\n",
       "                 channel_title  category_id       category publish_date  \\\n",
       "8         Danse avec les stars           24  Entertainment   2017-11-13   \n",
       "10                 Cyril Ayrau           24  Entertainment   2017-11-13   \n",
       "14           koi de neuf? Buzz           24  Entertainment   2017-11-13   \n",
       "17                       HEROZ           24  Entertainment   2017-11-11   \n",
       "22                Les dilemmes           24  Entertainment   2017-11-12   \n",
       "...                        ...          ...            ...          ...   \n",
       "171134         Chefi la cuțite           24  Entertainment   2018-06-12   \n",
       "171139  Sahifa-Tv قناة الصحيفة           24  Entertainment   2018-06-13   \n",
       "171140            Talent Recap           24  Entertainment   2018-06-13   \n",
       "171142             RadaanMedia           24  Entertainment   2018-06-13   \n",
       "171146                oblomoff           24  Entertainment   2018-06-13   \n",
       "\n",
       "       publish_time                                               tags  \\\n",
       "8          12:00:02  Lenni-Kim\"|\"Denitsa Ikonomova\"|\"tango\"|\"Justin...   \n",
       "10         05:54:40  CYRIL AYRAU\"|\"Magicien Bergerac\"|\"Apparition a...   \n",
       "14         00:04:15             Michel Sardou\"|\"Louane Emera\"|\"Je vole   \n",
       "17         17:37:29  HEROZ\"|\"LES 5 MEILLEURS MAGICIENS DU MONDE PAS...   \n",
       "22         20:23:08  tu\"|\"préfères\"|\"les\"|\"dilemme\"|\"plus\"|\"diffici...   \n",
       "...             ...                                                ...   \n",
       "171134     20:12:50  fernando|\"ciobi\"|\"eliminati\"|\"Chefi la cutite\"...   \n",
       "171139     11:00:10                                             [none]   \n",
       "171140     01:36:56  America’s got talent|\"Americas got talent\"|\"ag...   \n",
       "171142     16:30:00  Vaani rani|\"rani\"|\"Radhika in funny character\"...   \n",
       "171146     11:04:35  рецепт|\"дачный рецепт\"|\"рецепт на углях\"|\"реце...   \n",
       "\n",
       "         views  likes  dislikes  comment_count  \\\n",
       "8        19004    618         4             44   \n",
       "10        5114     34         1             11   \n",
       "14        7709     15         7              6   \n",
       "17       50733    960        75            129   \n",
       "22       43674   1556        79            322   \n",
       "...        ...    ...       ...            ...   \n",
       "171134  120438    945       416            594   \n",
       "171139  429897   1915      1021           1635   \n",
       "171140  560827   8688       147            696   \n",
       "171142  341799   2197       329            267   \n",
       "171146  587480  35688      1207           2380   \n",
       "\n",
       "                                        thumbnail_link  comments_disabled  \\\n",
       "8       https://i.ytimg.com/vi/_wChN4yabJM/default.jpg              False   \n",
       "10      https://i.ytimg.com/vi/hWtTJ3Q37rY/default.jpg              False   \n",
       "14      https://i.ytimg.com/vi/O7JJllvepts/default.jpg              False   \n",
       "17      https://i.ytimg.com/vi/mAbw28ePp5c/default.jpg              False   \n",
       "22      https://i.ytimg.com/vi/ondy6jke_SQ/default.jpg              False   \n",
       "...                                                ...                ...   \n",
       "171134  https://i.ytimg.com/vi/Gn1s5k5DVlE/default.jpg              False   \n",
       "171139  https://i.ytimg.com/vi/VdOGUFr3glA/default.jpg              False   \n",
       "171140  https://i.ytimg.com/vi/mSJ_Qb9-WtA/default.jpg              False   \n",
       "171142  https://i.ytimg.com/vi/c5ZB0p0zBg0/default.jpg              False   \n",
       "171146  https://i.ytimg.com/vi/WxJ4SfmUGgY/default.jpg              False   \n",
       "\n",
       "        ratings_disabled  video_error_or_removed  \\\n",
       "8                  False                   False   \n",
       "10                 False                   False   \n",
       "14                 False                   False   \n",
       "17                 False                   False   \n",
       "22                 False                   False   \n",
       "...                  ...                     ...   \n",
       "171134             False                   False   \n",
       "171139             False                   False   \n",
       "171140             False                   False   \n",
       "171142             False                   False   \n",
       "171146             False                   False   \n",
       "\n",
       "                                              description country  \\\n",
       "8       Pour la soirée du Switch, le public a décidé d...      FR   \n",
       "10      Cyril Ayrau Le Magicien de Bergerac fait appar...      FR   \n",
       "14      Michel Sardou tacle Louane Emera : Elle dit de...      FR   \n",
       "17      top 10 magie magie facile magique filmé en dir...      FR   \n",
       "22      Saurez-vous faire face aux choix les plus diff...      FR   \n",
       "...                                                   ...     ...   \n",
       "171134  Șoc! Fernando și Ciobi au fost eliminați de la...      DE   \n",
       "171139  🛑Télécharge Onefootball maintenant :  https://...      DE   \n",
       "171140  #Full Segment | America’s Got Talent Season 13...      DE   \n",
       "171142  Subscribers Link: http://bit.ly/2qb69dZConnect...      DE   \n",
       "171146  Купи свой Биван со скидкой 20% по промокоду СЛ...      DE   \n",
       "\n",
       "         publish_timestamp  \n",
       "8      2017-11-13 12:00:02  \n",
       "10     2017-11-13 05:54:40  \n",
       "14     2017-11-13 00:04:15  \n",
       "17     2017-11-11 17:37:29  \n",
       "22     2017-11-12 20:23:08  \n",
       "...                    ...  \n",
       "171134 2018-06-12 20:12:50  \n",
       "171139 2018-06-13 11:00:10  \n",
       "171140 2018-06-13 01:36:56  \n",
       "171142 2018-06-13 16:30:00  \n",
       "171146 2018-06-13 11:04:35  \n",
       "\n",
       "[50468 rows x 20 columns]"
      ]
     },
     "execution_count": 42,
     "metadata": {},
     "output_type": "execute_result"
    }
   ],
   "source": [
    "Entertainment = df.loc[df['category'] == 'Entertainment']\n",
    "Entertainment\n"
   ]
  },
  {
   "cell_type": "code",
   "execution_count": 44,
   "metadata": {},
   "outputs": [
    {
     "data": {
      "text/plain": [
       "MX    9575\n",
       "DE    8684\n",
       "IN    7070\n",
       "CA    5913\n",
       "FR    5788\n",
       "RU    4363\n",
       "KR    3680\n",
       "JP    3289\n",
       "US    1319\n",
       "GB     787\n",
       "Name: country, dtype: int64"
      ]
     },
     "execution_count": 44,
     "metadata": {},
     "output_type": "execute_result"
    }
   ],
   "source": [
    "Entertainment_CountryCount = Entertainment['country'].value_counts() #count entertainment videos by country\n",
    "Entertainment_CountryCount"
   ]
  },
  {
   "cell_type": "code",
   "execution_count": 51,
   "metadata": {},
   "outputs": [
    {
     "data": {
      "text/html": [
       "<div>\n",
       "<style scoped>\n",
       "    .dataframe tbody tr th:only-of-type {\n",
       "        vertical-align: middle;\n",
       "    }\n",
       "\n",
       "    .dataframe tbody tr th {\n",
       "        vertical-align: top;\n",
       "    }\n",
       "\n",
       "    .dataframe thead th {\n",
       "        text-align: right;\n",
       "    }\n",
       "</style>\n",
       "<table border=\"1\" class=\"dataframe\">\n",
       "  <thead>\n",
       "    <tr style=\"text-align: right;\">\n",
       "      <th></th>\n",
       "      <th>country</th>\n",
       "      <th>count</th>\n",
       "    </tr>\n",
       "  </thead>\n",
       "  <tbody>\n",
       "    <tr>\n",
       "      <td>0</td>\n",
       "      <td>MX</td>\n",
       "      <td>9575</td>\n",
       "    </tr>\n",
       "    <tr>\n",
       "      <td>1</td>\n",
       "      <td>DE</td>\n",
       "      <td>8684</td>\n",
       "    </tr>\n",
       "    <tr>\n",
       "      <td>2</td>\n",
       "      <td>IN</td>\n",
       "      <td>7070</td>\n",
       "    </tr>\n",
       "    <tr>\n",
       "      <td>3</td>\n",
       "      <td>CA</td>\n",
       "      <td>5913</td>\n",
       "    </tr>\n",
       "    <tr>\n",
       "      <td>4</td>\n",
       "      <td>FR</td>\n",
       "      <td>5788</td>\n",
       "    </tr>\n",
       "    <tr>\n",
       "      <td>5</td>\n",
       "      <td>RU</td>\n",
       "      <td>4363</td>\n",
       "    </tr>\n",
       "    <tr>\n",
       "      <td>6</td>\n",
       "      <td>KR</td>\n",
       "      <td>3680</td>\n",
       "    </tr>\n",
       "    <tr>\n",
       "      <td>7</td>\n",
       "      <td>JP</td>\n",
       "      <td>3289</td>\n",
       "    </tr>\n",
       "    <tr>\n",
       "      <td>8</td>\n",
       "      <td>US</td>\n",
       "      <td>1319</td>\n",
       "    </tr>\n",
       "    <tr>\n",
       "      <td>9</td>\n",
       "      <td>GB</td>\n",
       "      <td>787</td>\n",
       "    </tr>\n",
       "  </tbody>\n",
       "</table>\n",
       "</div>"
      ],
      "text/plain": [
       "  country  count\n",
       "0      MX   9575\n",
       "1      DE   8684\n",
       "2      IN   7070\n",
       "3      CA   5913\n",
       "4      FR   5788\n",
       "5      RU   4363\n",
       "6      KR   3680\n",
       "7      JP   3289\n",
       "8      US   1319\n",
       "9      GB    787"
      ]
     },
     "execution_count": 51,
     "metadata": {},
     "output_type": "execute_result"
    }
   ],
   "source": [
    "ECC_df = Entertainment_CountryCount.to_frame(name='Counts').reset_index()\n",
    "ECC_df.columns = ['country', 'count']\n",
    "ECC_df"
   ]
  },
  {
   "cell_type": "code",
   "execution_count": null,
   "metadata": {},
   "outputs": [],
   "source": [
    "sns.barplot()"
   ]
  },
  {
   "cell_type": "code",
   "execution_count": 45,
   "metadata": {},
   "outputs": [
    {
     "name": "stdout",
     "output_type": "stream",
     "text": [
      "<class 'pandas.core.frame.DataFrame'>\n",
      "Int64Index: 50468 entries, 8 to 171146\n",
      "Data columns (total 20 columns):\n",
      "video_id                  50468 non-null object\n",
      "trending_date             50468 non-null object\n",
      "title                     50468 non-null object\n",
      "channel_title             50468 non-null object\n",
      "category_id               50468 non-null int64\n",
      "category                  50468 non-null object\n",
      "publish_date              50468 non-null object\n",
      "publish_time              50468 non-null object\n",
      "tags                      50468 non-null object\n",
      "views                     50468 non-null int64\n",
      "likes                     50468 non-null int64\n",
      "dislikes                  50468 non-null int64\n",
      "comment_count             50468 non-null int64\n",
      "thumbnail_link            50468 non-null object\n",
      "comments_disabled         50468 non-null bool\n",
      "ratings_disabled          50468 non-null bool\n",
      "video_error_or_removed    50468 non-null bool\n",
      "description               50468 non-null object\n",
      "country                   50468 non-null object\n",
      "publish_timestamp         50468 non-null datetime64[ns]\n",
      "dtypes: bool(3), datetime64[ns](1), int64(5), object(11)\n",
      "memory usage: 7.1+ MB\n"
     ]
    }
   ],
   "source": [
    "Entertainment.info()"
   ]
  },
  {
   "cell_type": "code",
   "execution_count": 46,
   "metadata": {},
   "outputs": [
    {
     "ename": "ValueError",
     "evalue": "Could not interpret input 'log_views'",
     "output_type": "error",
     "traceback": [
      "\u001b[0;31m---------------------------------------------------------------------------\u001b[0m",
      "\u001b[0;31mValueError\u001b[0m                                Traceback (most recent call last)",
      "\u001b[0;32m<ipython-input-46-b5b1a753173d>\u001b[0m in \u001b[0;36m<module>\u001b[0;34m\u001b[0m\n\u001b[0;32m----> 1\u001b[0;31m \u001b[0msns\u001b[0m\u001b[0;34m.\u001b[0m\u001b[0mboxplot\u001b[0m\u001b[0;34m(\u001b[0m\u001b[0mx\u001b[0m \u001b[0;34m=\u001b[0m \u001b[0;34m\"country\"\u001b[0m\u001b[0;34m,\u001b[0m \u001b[0my\u001b[0m \u001b[0;34m=\u001b[0m \u001b[0;34m'log_views'\u001b[0m\u001b[0;34m,\u001b[0m \u001b[0mdata\u001b[0m \u001b[0;34m=\u001b[0m \u001b[0mentertainment\u001b[0m\u001b[0;34m)\u001b[0m\u001b[0;34m\u001b[0m\u001b[0;34m\u001b[0m\u001b[0m\n\u001b[0m",
      "\u001b[0;32m~/miniconda3/lib/python3.7/site-packages/seaborn/categorical.py\u001b[0m in \u001b[0;36mboxplot\u001b[0;34m(x, y, hue, data, order, hue_order, orient, color, palette, saturation, width, dodge, fliersize, linewidth, whis, notch, ax, **kwargs)\u001b[0m\n\u001b[1;32m   2229\u001b[0m     plotter = _BoxPlotter(x, y, hue, data, order, hue_order,\n\u001b[1;32m   2230\u001b[0m                           \u001b[0morient\u001b[0m\u001b[0;34m,\u001b[0m \u001b[0mcolor\u001b[0m\u001b[0;34m,\u001b[0m \u001b[0mpalette\u001b[0m\u001b[0;34m,\u001b[0m \u001b[0msaturation\u001b[0m\u001b[0;34m,\u001b[0m\u001b[0;34m\u001b[0m\u001b[0;34m\u001b[0m\u001b[0m\n\u001b[0;32m-> 2231\u001b[0;31m                           width, dodge, fliersize, linewidth)\n\u001b[0m\u001b[1;32m   2232\u001b[0m \u001b[0;34m\u001b[0m\u001b[0m\n\u001b[1;32m   2233\u001b[0m     \u001b[0;32mif\u001b[0m \u001b[0max\u001b[0m \u001b[0;32mis\u001b[0m \u001b[0;32mNone\u001b[0m\u001b[0;34m:\u001b[0m\u001b[0;34m\u001b[0m\u001b[0;34m\u001b[0m\u001b[0m\n",
      "\u001b[0;32m~/miniconda3/lib/python3.7/site-packages/seaborn/categorical.py\u001b[0m in \u001b[0;36m__init__\u001b[0;34m(self, x, y, hue, data, order, hue_order, orient, color, palette, saturation, width, dodge, fliersize, linewidth)\u001b[0m\n\u001b[1;32m    444\u001b[0m                  width, dodge, fliersize, linewidth):\n\u001b[1;32m    445\u001b[0m \u001b[0;34m\u001b[0m\u001b[0m\n\u001b[0;32m--> 446\u001b[0;31m         \u001b[0mself\u001b[0m\u001b[0;34m.\u001b[0m\u001b[0mestablish_variables\u001b[0m\u001b[0;34m(\u001b[0m\u001b[0mx\u001b[0m\u001b[0;34m,\u001b[0m \u001b[0my\u001b[0m\u001b[0;34m,\u001b[0m \u001b[0mhue\u001b[0m\u001b[0;34m,\u001b[0m \u001b[0mdata\u001b[0m\u001b[0;34m,\u001b[0m \u001b[0morient\u001b[0m\u001b[0;34m,\u001b[0m \u001b[0morder\u001b[0m\u001b[0;34m,\u001b[0m \u001b[0mhue_order\u001b[0m\u001b[0;34m)\u001b[0m\u001b[0;34m\u001b[0m\u001b[0;34m\u001b[0m\u001b[0m\n\u001b[0m\u001b[1;32m    447\u001b[0m         \u001b[0mself\u001b[0m\u001b[0;34m.\u001b[0m\u001b[0mestablish_colors\u001b[0m\u001b[0;34m(\u001b[0m\u001b[0mcolor\u001b[0m\u001b[0;34m,\u001b[0m \u001b[0mpalette\u001b[0m\u001b[0;34m,\u001b[0m \u001b[0msaturation\u001b[0m\u001b[0;34m)\u001b[0m\u001b[0;34m\u001b[0m\u001b[0;34m\u001b[0m\u001b[0m\n\u001b[1;32m    448\u001b[0m \u001b[0;34m\u001b[0m\u001b[0m\n",
      "\u001b[0;32m~/miniconda3/lib/python3.7/site-packages/seaborn/categorical.py\u001b[0m in \u001b[0;36mestablish_variables\u001b[0;34m(self, x, y, hue, data, orient, order, hue_order, units)\u001b[0m\n\u001b[1;32m    153\u001b[0m                 \u001b[0;32mif\u001b[0m \u001b[0misinstance\u001b[0m\u001b[0;34m(\u001b[0m\u001b[0minput\u001b[0m\u001b[0;34m,\u001b[0m \u001b[0mstring_types\u001b[0m\u001b[0;34m)\u001b[0m\u001b[0;34m:\u001b[0m\u001b[0;34m\u001b[0m\u001b[0;34m\u001b[0m\u001b[0m\n\u001b[1;32m    154\u001b[0m                     \u001b[0merr\u001b[0m \u001b[0;34m=\u001b[0m \u001b[0;34m\"Could not interpret input '{}'\"\u001b[0m\u001b[0;34m.\u001b[0m\u001b[0mformat\u001b[0m\u001b[0;34m(\u001b[0m\u001b[0minput\u001b[0m\u001b[0;34m)\u001b[0m\u001b[0;34m\u001b[0m\u001b[0;34m\u001b[0m\u001b[0m\n\u001b[0;32m--> 155\u001b[0;31m                     \u001b[0;32mraise\u001b[0m \u001b[0mValueError\u001b[0m\u001b[0;34m(\u001b[0m\u001b[0merr\u001b[0m\u001b[0;34m)\u001b[0m\u001b[0;34m\u001b[0m\u001b[0;34m\u001b[0m\u001b[0m\n\u001b[0m\u001b[1;32m    156\u001b[0m \u001b[0;34m\u001b[0m\u001b[0m\n\u001b[1;32m    157\u001b[0m             \u001b[0;31m# Figure out the plotting orientation\u001b[0m\u001b[0;34m\u001b[0m\u001b[0;34m\u001b[0m\u001b[0;34m\u001b[0m\u001b[0m\n",
      "\u001b[0;31mValueError\u001b[0m: Could not interpret input 'log_views'"
     ]
    }
   ],
   "source": [
    "sns.boxplot(x = \"country\", y = 'log_views', data = entertainment)"
   ]
  },
  {
   "cell_type": "code",
   "execution_count": null,
   "metadata": {},
   "outputs": [],
   "source": []
  }
 ],
 "metadata": {
  "kernelspec": {
   "display_name": "Python 3",
   "language": "python",
   "name": "python3"
  },
  "language_info": {
   "codemirror_mode": {
    "name": "ipython",
    "version": 3
   },
   "file_extension": ".py",
   "mimetype": "text/x-python",
   "name": "python",
   "nbconvert_exporter": "python",
   "pygments_lexer": "ipython3",
   "version": "3.7.3"
  }
 },
 "nbformat": 4,
 "nbformat_minor": 2
}
