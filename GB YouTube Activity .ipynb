{
 "cells": [
  {
   "cell_type": "code",
   "execution_count": 2,
   "metadata": {},
   "outputs": [],
   "source": [
    "import os\n",
    "import pandas as pd\n",
    "import seaborn as sns\n",
    "import matplotlib.pyplot as plt"
   ]
  },
  {
   "cell_type": "code",
   "execution_count": 3,
   "metadata": {},
   "outputs": [],
   "source": [
    "path = 'Capstone1_Data'\n",
    "filepath1 = os.path.join('..', path,'dataframe.csv') #if file is not in same dir as notebook, must change path\n",
    "filepath2 = os.path.join('..', path,'dataframe_all_timestamps.csv') #if file is not in same dir as notebook, must change path\n",
    "\n",
    "df = pd.read_csv(filepath1)\n",
    "df_all_timestamps = pd.read_csv(filepath2)"
   ]
  },
  {
   "cell_type": "code",
   "execution_count": 4,
   "metadata": {},
   "outputs": [],
   "source": [
    "def stringify(row):\n",
    "    return str(row['publish_date']) + ' ' + str(row['publish_time'])\n",
    "\n",
    "df_all_timestamps.loc[:,'string_date_time'] = \\\n",
    "                            df_all_timestamps.apply(stringify, axis=1)\n",
    "\n",
    "df_all_timestamps.loc[:,'publish_timestamp'] = \\\n",
    "                pd.to_datetime(df_all_timestamps['string_date_time'],\n",
    "                                infer_datetime_format=True,\n",
    "                                errors='coerce')\n",
    "\n",
    "df_all_timestamps = df_all_timestamps.drop('string_date_time', axis=1)\n",
    "\n",
    "\n",
    "#make a new column in df called 'publish_timestamp' \n",
    "#that is a datetime object\n",
    "\n",
    "df.loc[:,'string_date_time'] = df.apply(stringify, axis=1)\n",
    "df.loc[:,'publish_timestamp'] = \\\n",
    "                pd.to_datetime(df['string_date_time'],\n",
    "                                infer_datetime_format=True,\n",
    "                                errors='coerce')\n",
    "df = df.drop('string_date_time', axis=1)"
   ]
  },
  {
   "cell_type": "code",
   "execution_count": 5,
   "metadata": {},
   "outputs": [],
   "source": [
    "#optional\n",
    "# makes new columns by taking the logarithm of the views, likes, \n",
    "#dislikes and comment_count to compress the scale for easier graphing \n",
    "\n",
    "import numpy as np\n",
    "df.loc[:,'log_views'] = np.log(df.loc[:,'views']+1)\n",
    "df.loc[:,'log_likes'] = np.log(df.loc[:,'likes']+1)\n",
    "df.loc[:,'log_dislikes'] = np.log(df.loc[:,'dislikes']+1)\n",
    "df.loc[:,'log_comment_count'] = np.log(df.loc[:,'comment_count']+1)\n",
    "\n",
    "#show all columns\n",
    "pd.set_option('display.max_columns', 100)"
   ]
  },
  {
   "cell_type": "code",
   "execution_count": 6,
   "metadata": {},
   "outputs": [
    {
     "data": {
      "text/html": [
       "<div>\n",
       "<style scoped>\n",
       "    .dataframe tbody tr th:only-of-type {\n",
       "        vertical-align: middle;\n",
       "    }\n",
       "\n",
       "    .dataframe tbody tr th {\n",
       "        vertical-align: top;\n",
       "    }\n",
       "\n",
       "    .dataframe thead th {\n",
       "        text-align: right;\n",
       "    }\n",
       "</style>\n",
       "<table border=\"1\" class=\"dataframe\">\n",
       "  <thead>\n",
       "    <tr style=\"text-align: right;\">\n",
       "      <th></th>\n",
       "      <th>video_id</th>\n",
       "      <th>trending_date</th>\n",
       "      <th>title</th>\n",
       "      <th>channel_title</th>\n",
       "      <th>category_id</th>\n",
       "      <th>category</th>\n",
       "      <th>publish_date</th>\n",
       "      <th>publish_time</th>\n",
       "      <th>tags</th>\n",
       "      <th>views</th>\n",
       "      <th>likes</th>\n",
       "      <th>dislikes</th>\n",
       "      <th>comment_count</th>\n",
       "      <th>thumbnail_link</th>\n",
       "      <th>comments_disabled</th>\n",
       "      <th>ratings_disabled</th>\n",
       "      <th>video_error_or_removed</th>\n",
       "      <th>description</th>\n",
       "      <th>country</th>\n",
       "      <th>publish_timestamp</th>\n",
       "      <th>log_views</th>\n",
       "      <th>log_likes</th>\n",
       "      <th>log_dislikes</th>\n",
       "      <th>log_comment_count</th>\n",
       "    </tr>\n",
       "  </thead>\n",
       "  <tbody>\n",
       "    <tr>\n",
       "      <td>0</td>\n",
       "      <td>cJon8yBKv3g</td>\n",
       "      <td>2017-11-14</td>\n",
       "      <td>Kingsman : Le Cercle d'or (Mickael J Critique)</td>\n",
       "      <td>MJ - FERMEZ LA</td>\n",
       "      <td>1</td>\n",
       "      <td>Film &amp; Animation</td>\n",
       "      <td>2017-11-12</td>\n",
       "      <td>17:58:57</td>\n",
       "      <td>VoxMakers\"|\"FERMEZ LA\"|\"Alert Spoiler\"|\"Matthe...</td>\n",
       "      <td>19487</td>\n",
       "      <td>1596</td>\n",
       "      <td>23</td>\n",
       "      <td>215</td>\n",
       "      <td>https://i.ytimg.com/vi/cJon8yBKv3g/default.jpg</td>\n",
       "      <td>False</td>\n",
       "      <td>False</td>\n",
       "      <td>False</td>\n",
       "      <td>Avec un peu de retard, voici l'avis de Mickael...</td>\n",
       "      <td>FR</td>\n",
       "      <td>2017-11-12 17:58:57</td>\n",
       "      <td>9.877554</td>\n",
       "      <td>7.375882</td>\n",
       "      <td>3.178054</td>\n",
       "      <td>5.375278</td>\n",
       "    </tr>\n",
       "    <tr>\n",
       "      <td>1</td>\n",
       "      <td>g12KeCPRB4Q</td>\n",
       "      <td>2017-11-14</td>\n",
       "      <td>Vide grenier LIVE - 12 Novembre 2017</td>\n",
       "      <td>Kirby-54</td>\n",
       "      <td>20</td>\n",
       "      <td>Gaming</td>\n",
       "      <td>2017-11-12</td>\n",
       "      <td>13:46:18</td>\n",
       "      <td>Vide grenier\"|\"vide grenier live\"|\"brocante\"|\"...</td>\n",
       "      <td>20744</td>\n",
       "      <td>1032</td>\n",
       "      <td>558</td>\n",
       "      <td>243</td>\n",
       "      <td>https://i.ytimg.com/vi/g12KeCPRB4Q/default.jpg</td>\n",
       "      <td>False</td>\n",
       "      <td>False</td>\n",
       "      <td>False</td>\n",
       "      <td>C'est reparti pour un nouveau compte rendu vid...</td>\n",
       "      <td>FR</td>\n",
       "      <td>2017-11-12 13:46:18</td>\n",
       "      <td>9.940061</td>\n",
       "      <td>6.940222</td>\n",
       "      <td>6.326149</td>\n",
       "      <td>5.497168</td>\n",
       "    </tr>\n",
       "    <tr>\n",
       "      <td>2</td>\n",
       "      <td>irIZRH3JlIw</td>\n",
       "      <td>2017-11-14</td>\n",
       "      <td>لقجع يثور في وجه الإتحاد الإيفواري بسبب الجماه...</td>\n",
       "      <td>أخبار اليوم</td>\n",
       "      <td>25</td>\n",
       "      <td>News &amp; Politics</td>\n",
       "      <td>2017-11-12</td>\n",
       "      <td>19:08:08</td>\n",
       "      <td>قناة أخبار اليوم\"|\"يومية المغرب\"|\"دولية\"|\"قضية...</td>\n",
       "      <td>207452</td>\n",
       "      <td>1415</td>\n",
       "      <td>148</td>\n",
       "      <td>90</td>\n",
       "      <td>https://i.ytimg.com/vi/irIZRH3JlIw/default.jpg</td>\n",
       "      <td>False</td>\n",
       "      <td>False</td>\n",
       "      <td>False</td>\n",
       "      <td>لقجع يثور في وجه الإتحاد الإيفواري بسبب الجماه...</td>\n",
       "      <td>FR</td>\n",
       "      <td>2017-11-12 19:08:08</td>\n",
       "      <td>12.242660</td>\n",
       "      <td>7.255591</td>\n",
       "      <td>5.003946</td>\n",
       "      <td>4.510860</td>\n",
       "    </tr>\n",
       "    <tr>\n",
       "      <td>3</td>\n",
       "      <td>SnHtzkQZggA</td>\n",
       "      <td>2017-11-14</td>\n",
       "      <td>عروس اسطنبول | اعلان الحلقة 25 | - مترجم للعربية</td>\n",
       "      <td>تركييتنا - bizim Türkiye</td>\n",
       "      <td>1</td>\n",
       "      <td>Film &amp; Animation</td>\n",
       "      <td>2017-11-13</td>\n",
       "      <td>19:58:33</td>\n",
       "      <td>مسلسل عروس اسطنبول\"|\"عروس اسطنبول\"|\"عروس اسطنب...</td>\n",
       "      <td>15899</td>\n",
       "      <td>142</td>\n",
       "      <td>10</td>\n",
       "      <td>7</td>\n",
       "      <td>https://i.ytimg.com/vi/SnHtzkQZggA/default.jpg</td>\n",
       "      <td>False</td>\n",
       "      <td>False</td>\n",
       "      <td>False</td>\n",
       "      <td>عروس اسطنبول | اعلان الحلقة 25 | - مترجم للعرب...</td>\n",
       "      <td>FR</td>\n",
       "      <td>2017-11-13 19:58:33</td>\n",
       "      <td>9.674074</td>\n",
       "      <td>4.962845</td>\n",
       "      <td>2.397895</td>\n",
       "      <td>2.079442</td>\n",
       "    </tr>\n",
       "    <tr>\n",
       "      <td>4</td>\n",
       "      <td>u6EoWM2KMPE</td>\n",
       "      <td>2017-11-14</td>\n",
       "      <td>Portokalli, 12 Nentor 2017 - Policat e postbll...</td>\n",
       "      <td>Top Channel Albania</td>\n",
       "      <td>23</td>\n",
       "      <td>Comedy</td>\n",
       "      <td>2017-11-13</td>\n",
       "      <td>13:33:26</td>\n",
       "      <td>Portokalli\"|\"Comedy Show\"|\"Top Channel Albania...</td>\n",
       "      <td>100607</td>\n",
       "      <td>1159</td>\n",
       "      <td>48</td>\n",
       "      <td>35</td>\n",
       "      <td>https://i.ytimg.com/vi/u6EoWM2KMPE/default.jpg</td>\n",
       "      <td>False</td>\n",
       "      <td>False</td>\n",
       "      <td>False</td>\n",
       "      <td>http://top-channel.tv/programe/portokalli/</td>\n",
       "      <td>FR</td>\n",
       "      <td>2017-11-13 13:33:26</td>\n",
       "      <td>11.518987</td>\n",
       "      <td>7.056175</td>\n",
       "      <td>3.891820</td>\n",
       "      <td>3.583519</td>\n",
       "    </tr>\n",
       "  </tbody>\n",
       "</table>\n",
       "</div>"
      ],
      "text/plain": [
       "      video_id trending_date  \\\n",
       "0  cJon8yBKv3g    2017-11-14   \n",
       "1  g12KeCPRB4Q    2017-11-14   \n",
       "2  irIZRH3JlIw    2017-11-14   \n",
       "3  SnHtzkQZggA    2017-11-14   \n",
       "4  u6EoWM2KMPE    2017-11-14   \n",
       "\n",
       "                                               title  \\\n",
       "0     Kingsman : Le Cercle d'or (Mickael J Critique)   \n",
       "1               Vide grenier LIVE - 12 Novembre 2017   \n",
       "2  لقجع يثور في وجه الإتحاد الإيفواري بسبب الجماه...   \n",
       "3   عروس اسطنبول | اعلان الحلقة 25 | - مترجم للعربية   \n",
       "4  Portokalli, 12 Nentor 2017 - Policat e postbll...   \n",
       "\n",
       "              channel_title  category_id          category publish_date  \\\n",
       "0            MJ - FERMEZ LA            1  Film & Animation   2017-11-12   \n",
       "1                  Kirby-54           20            Gaming   2017-11-12   \n",
       "2               أخبار اليوم           25   News & Politics   2017-11-12   \n",
       "3  تركييتنا - bizim Türkiye            1  Film & Animation   2017-11-13   \n",
       "4       Top Channel Albania           23            Comedy   2017-11-13   \n",
       "\n",
       "  publish_time                                               tags   views  \\\n",
       "0     17:58:57  VoxMakers\"|\"FERMEZ LA\"|\"Alert Spoiler\"|\"Matthe...   19487   \n",
       "1     13:46:18  Vide grenier\"|\"vide grenier live\"|\"brocante\"|\"...   20744   \n",
       "2     19:08:08  قناة أخبار اليوم\"|\"يومية المغرب\"|\"دولية\"|\"قضية...  207452   \n",
       "3     19:58:33  مسلسل عروس اسطنبول\"|\"عروس اسطنبول\"|\"عروس اسطنب...   15899   \n",
       "4     13:33:26  Portokalli\"|\"Comedy Show\"|\"Top Channel Albania...  100607   \n",
       "\n",
       "   likes  dislikes  comment_count  \\\n",
       "0   1596        23            215   \n",
       "1   1032       558            243   \n",
       "2   1415       148             90   \n",
       "3    142        10              7   \n",
       "4   1159        48             35   \n",
       "\n",
       "                                   thumbnail_link  comments_disabled  \\\n",
       "0  https://i.ytimg.com/vi/cJon8yBKv3g/default.jpg              False   \n",
       "1  https://i.ytimg.com/vi/g12KeCPRB4Q/default.jpg              False   \n",
       "2  https://i.ytimg.com/vi/irIZRH3JlIw/default.jpg              False   \n",
       "3  https://i.ytimg.com/vi/SnHtzkQZggA/default.jpg              False   \n",
       "4  https://i.ytimg.com/vi/u6EoWM2KMPE/default.jpg              False   \n",
       "\n",
       "   ratings_disabled  video_error_or_removed  \\\n",
       "0             False                   False   \n",
       "1             False                   False   \n",
       "2             False                   False   \n",
       "3             False                   False   \n",
       "4             False                   False   \n",
       "\n",
       "                                         description country  \\\n",
       "0  Avec un peu de retard, voici l'avis de Mickael...      FR   \n",
       "1  C'est reparti pour un nouveau compte rendu vid...      FR   \n",
       "2  لقجع يثور في وجه الإتحاد الإيفواري بسبب الجماه...      FR   \n",
       "3  عروس اسطنبول | اعلان الحلقة 25 | - مترجم للعرب...      FR   \n",
       "4         http://top-channel.tv/programe/portokalli/      FR   \n",
       "\n",
       "    publish_timestamp  log_views  log_likes  log_dislikes  log_comment_count  \n",
       "0 2017-11-12 17:58:57   9.877554   7.375882      3.178054           5.375278  \n",
       "1 2017-11-12 13:46:18   9.940061   6.940222      6.326149           5.497168  \n",
       "2 2017-11-12 19:08:08  12.242660   7.255591      5.003946           4.510860  \n",
       "3 2017-11-13 19:58:33   9.674074   4.962845      2.397895           2.079442  \n",
       "4 2017-11-13 13:33:26  11.518987   7.056175      3.891820           3.583519  "
      ]
     },
     "execution_count": 6,
     "metadata": {},
     "output_type": "execute_result"
    }
   ],
   "source": [
    "df.head()"
   ]
  },
  {
   "cell_type": "code",
   "execution_count": 7,
   "metadata": {},
   "outputs": [
    {
     "name": "stdout",
     "output_type": "stream",
     "text": [
      "<class 'pandas.core.frame.DataFrame'>\n",
      "RangeIndex: 171149 entries, 0 to 171148\n",
      "Data columns (total 24 columns):\n",
      "video_id                  171149 non-null object\n",
      "trending_date             171149 non-null object\n",
      "title                     171149 non-null object\n",
      "channel_title             171149 non-null object\n",
      "category_id               171149 non-null int64\n",
      "category                  171149 non-null object\n",
      "publish_date              171149 non-null object\n",
      "publish_time              171149 non-null object\n",
      "tags                      171149 non-null object\n",
      "views                     171149 non-null int64\n",
      "likes                     171149 non-null int64\n",
      "dislikes                  171149 non-null int64\n",
      "comment_count             171149 non-null int64\n",
      "thumbnail_link            171149 non-null object\n",
      "comments_disabled         171149 non-null bool\n",
      "ratings_disabled          171149 non-null bool\n",
      "video_error_or_removed    171149 non-null bool\n",
      "description               171149 non-null object\n",
      "country                   171149 non-null object\n",
      "publish_timestamp         171149 non-null datetime64[ns]\n",
      "log_views                 171149 non-null float64\n",
      "log_likes                 171149 non-null float64\n",
      "log_dislikes              171149 non-null float64\n",
      "log_comment_count         171149 non-null float64\n",
      "dtypes: bool(3), datetime64[ns](1), float64(4), int64(5), object(11)\n",
      "memory usage: 27.9+ MB\n"
     ]
    }
   ],
   "source": [
    "df.info()"
   ]
  },
  {
   "cell_type": "code",
   "execution_count": 8,
   "metadata": {},
   "outputs": [],
   "source": [
    "# top100cat_df = num_top100_by_category.to_frame(name='Counts').reset_index() - make into dataframe\n",
    "# df_loglikes = df.sort_values(by=['log_likes'], ascending=False) - sort\n",
    "# num_top100_by_country = top_video_like['country'].value_counts() - count\n",
    "\n",
    "#boxplot\n",
    "# plt.figure(figsize = (10,10))\n",
    "#sns.boxplot(x = \"country\", y = 'log_views', data = df)\n",
    "\n",
    "# sns bar chart\n",
    "# ax = sns.countplot(y=\"category\", data=GB_df[0:100], palette=\"Set3\")\n",
    "\n",
    "# GB_df = df[df['country'].isin(['GB'])][['country','video_id','title', 'channel_title','category','log_views','log_likes','log_dislikes','log_comment_count']]\n",
    "# GB_df"
   ]
  },
  {
   "cell_type": "raw",
   "metadata": {},
   "source": [
    "# Pie chart\n",
    "labels = ECC_df['country']\n",
    "sizes = ECC_df['count']\n",
    "\n",
    "#only \"explode\" the 2nd slice (i.e. 'Hogs')\n",
    "\n",
    "#add colors\n",
    "colors = ['#ff9999','#66b3ff','#99ff99','#ffcc99']\n",
    "fig1, ax1 = plt.subplots()\n",
    "ax1.pie(sizes, labels=labels, colors=colors, autopct='%1.1f%%',\n",
    "        shadow=True, startangle=90)\n",
    "\n",
    "#Equal aspect ratio ensures that pie is drawn as a circle\n",
    "ax1.axis('equal')\n",
    "plt.tight_layout()\n",
    "plt.show()"
   ]
  },
  {
   "cell_type": "markdown",
   "metadata": {},
   "source": [
    "#histogram\n",
    "fig = plt.figure(figsize=(10,10)) # define plot area\n",
    "ax = fig.gca() # define axis    \n",
    "auto_prices['engine-size'].plot.hist(ax = ax) # Use the plot.hist method on subset of the data frame\n",
    "ax.set_title('Histogram of auto engine size') # Give the plot a main title\n",
    "ax.set_xlabel('Engine size') # Set text for the x axis\n",
    "ax.set_ylabel('Number of autos')# Set text for y axis"
   ]
  },
  {
   "cell_type": "code",
   "execution_count": 9,
   "metadata": {},
   "outputs": [
    {
     "data": {
      "text/plain": [
       "RU    30783\n",
       "MX    27900\n",
       "FR    24085\n",
       "DE    22965\n",
       "CA    17338\n",
       "IN    15222\n",
       "KR    13793\n",
       "JP    10808\n",
       "US     5185\n",
       "GB     3070\n",
       "Name: country, dtype: int64"
      ]
     },
     "execution_count": 9,
     "metadata": {},
     "output_type": "execute_result"
    }
   ],
   "source": [
    "df['country'].value_counts() "
   ]
  },
  {
   "cell_type": "code",
   "execution_count": 10,
   "metadata": {},
   "outputs": [
    {
     "data": {
      "image/png": "[encoded data removed]",
      "text/plain": [
       "<Figure size 720x720 with 1 Axes>"
      ]
     },
     "metadata": {
      "needs_background": "light"
     },
     "output_type": "display_data"
    }
   ],
   "source": [
    "#Top Content producers are RU, MX, FR \n",
    "#Number of videos by country\n",
    "fig = plt.figure(figsize=(10,10))\n",
    "ax = sns.countplot(y=\"country\", data=df, palette=\"Set3\")"
   ]
  },
  {
   "cell_type": "code",
   "execution_count": 11,
   "metadata": {
    "scrolled": true
   },
   "outputs": [
    {
     "data": {
      "image/png": "[encoded data removed]",
      "text/plain": [
       "<Figure size 720x720 with 1 Axes>"
      ]
     },
     "metadata": {
      "needs_background": "light"
     },
     "output_type": "display_data"
    }
   ],
   "source": [
    "# Top Categories are Entertainment, People & Blogs, News & Politics\n",
    "# Number of videos by category\n",
    "fig = plt.figure(figsize=(10,10))\n",
    "ax = sns.countplot(y=\"category\", data=df, palette=\"Set3\")"
   ]
  },
  {
   "cell_type": "code",
   "execution_count": 12,
   "metadata": {},
   "outputs": [
    {
     "data": {
      "text/html": [
       "<div>\n",
       "<style scoped>\n",
       "    .dataframe tbody tr th:only-of-type {\n",
       "        vertical-align: middle;\n",
       "    }\n",
       "\n",
       "    .dataframe tbody tr th {\n",
       "        vertical-align: top;\n",
       "    }\n",
       "\n",
       "    .dataframe thead th {\n",
       "        text-align: right;\n",
       "    }\n",
       "</style>\n",
       "<table border=\"1\" class=\"dataframe\">\n",
       "  <thead>\n",
       "    <tr style=\"text-align: right;\">\n",
       "      <th></th>\n",
       "      <th>country</th>\n",
       "      <th>video_id</th>\n",
       "      <th>trending_date</th>\n",
       "      <th>title</th>\n",
       "      <th>tags</th>\n",
       "      <th>channel_title</th>\n",
       "      <th>category</th>\n",
       "      <th>log_views</th>\n",
       "      <th>log_likes</th>\n",
       "      <th>log_dislikes</th>\n",
       "      <th>log_comment_count</th>\n",
       "    </tr>\n",
       "  </thead>\n",
       "  <tbody>\n",
       "    <tr>\n",
       "      <td>310</td>\n",
       "      <td>US</td>\n",
       "      <td>o78x918zbFk</td>\n",
       "      <td>2017-11-14</td>\n",
       "      <td>TOTAL FAIL! NATASHA DENONA HOLIDAY WTF</td>\n",
       "      <td>YouTube|\"Beauty\"|\"Makeup\"|\"Tutorial\"|\"Review\"|...</td>\n",
       "      <td>Tati</td>\n",
       "      <td>Howto &amp; Style</td>\n",
       "      <td>14.060310</td>\n",
       "      <td>10.948488</td>\n",
       "      <td>7.672758</td>\n",
       "      <td>10.139626</td>\n",
       "    </tr>\n",
       "    <tr>\n",
       "      <td>311</td>\n",
       "      <td>US</td>\n",
       "      <td>6ixU_vdE0Es</td>\n",
       "      <td>2017-11-14</td>\n",
       "      <td>BOYFRIEND DOES MY MAKEUP | Madelaine Petsch</td>\n",
       "      <td>madelaine|\"madelainepetsch\"|\"madelaine petsch\"...</td>\n",
       "      <td>Madelaine Petsch</td>\n",
       "      <td>People &amp; Blogs</td>\n",
       "      <td>12.542781</td>\n",
       "      <td>9.917883</td>\n",
       "      <td>3.663562</td>\n",
       "      <td>6.845880</td>\n",
       "    </tr>\n",
       "    <tr>\n",
       "      <td>312</td>\n",
       "      <td>US</td>\n",
       "      <td>wRGldR_SQAA</td>\n",
       "      <td>2017-11-14</td>\n",
       "      <td>Apple Clips sample</td>\n",
       "      <td>[none]</td>\n",
       "      <td>Steve Kovach</td>\n",
       "      <td>People &amp; Blogs</td>\n",
       "      <td>7.723120</td>\n",
       "      <td>0.000000</td>\n",
       "      <td>0.000000</td>\n",
       "      <td>0.000000</td>\n",
       "    </tr>\n",
       "    <tr>\n",
       "      <td>313</td>\n",
       "      <td>US</td>\n",
       "      <td>agKDPntMv-E</td>\n",
       "      <td>2017-11-14</td>\n",
       "      <td>Stephen A. Smith slams the Philadelphia 76ers ...</td>\n",
       "      <td>espn|\"espn live\"|\"first take\"|\"first take espn...</td>\n",
       "      <td>ESPN</td>\n",
       "      <td>Sports</td>\n",
       "      <td>13.060896</td>\n",
       "      <td>8.303505</td>\n",
       "      <td>6.066108</td>\n",
       "      <td>7.348588</td>\n",
       "    </tr>\n",
       "    <tr>\n",
       "      <td>314</td>\n",
       "      <td>US</td>\n",
       "      <td>Xl38SuxyrgM</td>\n",
       "      <td>2017-11-14</td>\n",
       "      <td>STEPH CURRY and OMRI CASSPI, postgame GSW (9-3...</td>\n",
       "      <td>DubNation|\"Golden State Warriors\"|\"Golden Stat...</td>\n",
       "      <td>LetsGoWarriors</td>\n",
       "      <td>Sports</td>\n",
       "      <td>9.699288</td>\n",
       "      <td>4.997212</td>\n",
       "      <td>2.639057</td>\n",
       "      <td>3.871201</td>\n",
       "    </tr>\n",
       "    <tr>\n",
       "      <td>...</td>\n",
       "      <td>...</td>\n",
       "      <td>...</td>\n",
       "      <td>...</td>\n",
       "      <td>...</td>\n",
       "      <td>...</td>\n",
       "      <td>...</td>\n",
       "      <td>...</td>\n",
       "      <td>...</td>\n",
       "      <td>...</td>\n",
       "      <td>...</td>\n",
       "      <td>...</td>\n",
       "    </tr>\n",
       "    <tr>\n",
       "      <td>170802</td>\n",
       "      <td>CA</td>\n",
       "      <td>VZn6G0M9wNs</td>\n",
       "      <td>2018-06-14</td>\n",
       "      <td>Brain On Fire | Official Trailer [HD] | Netflix</td>\n",
       "      <td>Netflix|\"Trailer\"|\"Netflix Original Series\"|\"N...</td>\n",
       "      <td>Netflix</td>\n",
       "      <td>Entertainment</td>\n",
       "      <td>11.549518</td>\n",
       "      <td>8.452761</td>\n",
       "      <td>4.574711</td>\n",
       "      <td>5.746203</td>\n",
       "    </tr>\n",
       "    <tr>\n",
       "      <td>170803</td>\n",
       "      <td>CA</td>\n",
       "      <td>HPegJlGLE2I</td>\n",
       "      <td>2018-06-14</td>\n",
       "      <td>LaVar Ball on chances LeBron James joins Lonzo...</td>\n",
       "      <td>fox|\"fox sports\"|\"fs1\"|\"fox sports 1\"|\"undispu...</td>\n",
       "      <td>Skip and Shannon: UNDISPUTED</td>\n",
       "      <td>Sports</td>\n",
       "      <td>14.066997</td>\n",
       "      <td>9.762615</td>\n",
       "      <td>7.431892</td>\n",
       "      <td>8.866300</td>\n",
       "    </tr>\n",
       "    <tr>\n",
       "      <td>170804</td>\n",
       "      <td>CA</td>\n",
       "      <td>Q1oGvWctQ1E</td>\n",
       "      <td>2018-06-14</td>\n",
       "      <td>5 Watermelon Gadgets put to the Test</td>\n",
       "      <td>Watermelon Gadgets|\"watermelon slicer\"|\"Gadget...</td>\n",
       "      <td>CrazyRussianHacker</td>\n",
       "      <td>Science &amp; Technology</td>\n",
       "      <td>13.324002</td>\n",
       "      <td>9.788638</td>\n",
       "      <td>6.400257</td>\n",
       "      <td>7.459915</td>\n",
       "    </tr>\n",
       "    <tr>\n",
       "      <td>170805</td>\n",
       "      <td>CA</td>\n",
       "      <td>RwFNYOxCS3s</td>\n",
       "      <td>2018-06-14</td>\n",
       "      <td>Funniest YEARBOOK QUOTES Ever</td>\n",
       "      <td>azzyland|\"azzy\"|\"reaction\"|\"reacting\"|\"funny\"|...</td>\n",
       "      <td>AzzyLand</td>\n",
       "      <td>Entertainment</td>\n",
       "      <td>12.476619</td>\n",
       "      <td>9.781489</td>\n",
       "      <td>5.236442</td>\n",
       "      <td>8.323366</td>\n",
       "    </tr>\n",
       "    <tr>\n",
       "      <td>171148</td>\n",
       "      <td>US</td>\n",
       "      <td>ooyjaVdt-jA</td>\n",
       "      <td>2018-06-14</td>\n",
       "      <td>Official Call of Duty®: Black Ops 4 — Multipla...</td>\n",
       "      <td>call of duty|\"cod\"|\"activision\"|\"Black Ops 4\"</td>\n",
       "      <td>Call of Duty</td>\n",
       "      <td>Gaming</td>\n",
       "      <td>16.148248</td>\n",
       "      <td>12.785715</td>\n",
       "      <td>12.268939</td>\n",
       "      <td>11.883081</td>\n",
       "    </tr>\n",
       "  </tbody>\n",
       "</table>\n",
       "<p>25593 rows × 11 columns</p>\n",
       "</div>"
      ],
      "text/plain": [
       "       country     video_id trending_date  \\\n",
       "310         US  o78x918zbFk    2017-11-14   \n",
       "311         US  6ixU_vdE0Es    2017-11-14   \n",
       "312         US  wRGldR_SQAA    2017-11-14   \n",
       "313         US  agKDPntMv-E    2017-11-14   \n",
       "314         US  Xl38SuxyrgM    2017-11-14   \n",
       "...        ...          ...           ...   \n",
       "170802      CA  VZn6G0M9wNs    2018-06-14   \n",
       "170803      CA  HPegJlGLE2I    2018-06-14   \n",
       "170804      CA  Q1oGvWctQ1E    2018-06-14   \n",
       "170805      CA  RwFNYOxCS3s    2018-06-14   \n",
       "171148      US  ooyjaVdt-jA    2018-06-14   \n",
       "\n",
       "                                                    title  \\\n",
       "310                TOTAL FAIL! NATASHA DENONA HOLIDAY WTF   \n",
       "311           BOYFRIEND DOES MY MAKEUP | Madelaine Petsch   \n",
       "312                                    Apple Clips sample   \n",
       "313     Stephen A. Smith slams the Philadelphia 76ers ...   \n",
       "314     STEPH CURRY and OMRI CASSPI, postgame GSW (9-3...   \n",
       "...                                                   ...   \n",
       "170802    Brain On Fire | Official Trailer [HD] | Netflix   \n",
       "170803  LaVar Ball on chances LeBron James joins Lonzo...   \n",
       "170804               5 Watermelon Gadgets put to the Test   \n",
       "170805                      Funniest YEARBOOK QUOTES Ever   \n",
       "171148  Official Call of Duty®: Black Ops 4 — Multipla...   \n",
       "\n",
       "                                                     tags  \\\n",
       "310     YouTube|\"Beauty\"|\"Makeup\"|\"Tutorial\"|\"Review\"|...   \n",
       "311     madelaine|\"madelainepetsch\"|\"madelaine petsch\"...   \n",
       "312                                                [none]   \n",
       "313     espn|\"espn live\"|\"first take\"|\"first take espn...   \n",
       "314     DubNation|\"Golden State Warriors\"|\"Golden Stat...   \n",
       "...                                                   ...   \n",
       "170802  Netflix|\"Trailer\"|\"Netflix Original Series\"|\"N...   \n",
       "170803  fox|\"fox sports\"|\"fs1\"|\"fox sports 1\"|\"undispu...   \n",
       "170804  Watermelon Gadgets|\"watermelon slicer\"|\"Gadget...   \n",
       "170805  azzyland|\"azzy\"|\"reaction\"|\"reacting\"|\"funny\"|...   \n",
       "171148      call of duty|\"cod\"|\"activision\"|\"Black Ops 4\"   \n",
       "\n",
       "                       channel_title              category  log_views  \\\n",
       "310                             Tati         Howto & Style  14.060310   \n",
       "311                 Madelaine Petsch        People & Blogs  12.542781   \n",
       "312                     Steve Kovach        People & Blogs   7.723120   \n",
       "313                             ESPN                Sports  13.060896   \n",
       "314                   LetsGoWarriors                Sports   9.699288   \n",
       "...                              ...                   ...        ...   \n",
       "170802                       Netflix         Entertainment  11.549518   \n",
       "170803  Skip and Shannon: UNDISPUTED                Sports  14.066997   \n",
       "170804            CrazyRussianHacker  Science & Technology  13.324002   \n",
       "170805                      AzzyLand         Entertainment  12.476619   \n",
       "171148                  Call of Duty                Gaming  16.148248   \n",
       "\n",
       "        log_likes  log_dislikes  log_comment_count  \n",
       "310     10.948488      7.672758          10.139626  \n",
       "311      9.917883      3.663562           6.845880  \n",
       "312      0.000000      0.000000           0.000000  \n",
       "313      8.303505      6.066108           7.348588  \n",
       "314      4.997212      2.639057           3.871201  \n",
       "...           ...           ...                ...  \n",
       "170802   8.452761      4.574711           5.746203  \n",
       "170803   9.762615      7.431892           8.866300  \n",
       "170804   9.788638      6.400257           7.459915  \n",
       "170805   9.781489      5.236442           8.323366  \n",
       "171148  12.785715     12.268939          11.883081  \n",
       "\n",
       "[25593 rows x 11 columns]"
      ]
     },
     "execution_count": 12,
     "metadata": {},
     "output_type": "execute_result"
    }
   ],
   "source": [
    "GB_df = df[df['country'].isin(['GB'])][['country','video_id','trending_date','title', 'tags', 'channel_title','category','log_views','log_likes','log_dislikes','log_comment_count']]\n",
    "GB_df"
   ]
  },
  {
   "cell_type": "code",
   "execution_count": 13,
   "metadata": {},
   "outputs": [
    {
     "data": {
      "text/plain": [
       "Entertainment            8019\n",
       "News & Politics          2919\n",
       "People & Blogs           2530\n",
       "Music                    2084\n",
       "Sports                   2017\n",
       "Comedy                   1837\n",
       "Howto & Style            1629\n",
       "Film & Animation         1225\n",
       "Gaming                    885\n",
       "Science & Technology      792\n",
       "Education                 704\n",
       "Pets & Animals            313\n",
       "Autos & Vehicles          302\n",
       "Travel & Events           233\n",
       "Nonprofits & Activism      55\n",
       "Shows                      49\n",
       "Name: category, dtype: int64"
      ]
     },
     "execution_count": 13,
     "metadata": {},
     "output_type": "execute_result"
    }
   ],
   "source": [
    "GB_cat_counts = GB_df['category'].value_counts()\n",
    "GB_cat_counts"
   ]
  },
  {
   "cell_type": "code",
   "execution_count": 14,
   "metadata": {},
   "outputs": [
    {
     "data": {
      "image/png": "[encoded data removed]",
      "text/plain": [
       "<Figure size 720x720 with 1 Axes>"
      ]
     },
     "metadata": {
      "needs_background": "light"
     },
     "output_type": "display_data"
    }
   ],
   "source": [
    "#Most views\n",
    "fig = plt.figure(figsize=(10,10))\n",
    "ax = sns.countplot(y=\"category\", data=GB_df, palette=\"Set3\")"
   ]
  },
  {
   "cell_type": "code",
   "execution_count": 15,
   "metadata": {},
   "outputs": [],
   "source": [
    "# Most views sort videos\n",
    "GB_df_views = GB_df.sort_values(by=['log_views'], ascending=False)"
   ]
  },
  {
   "cell_type": "code",
   "execution_count": 16,
   "metadata": {},
   "outputs": [
    {
     "data": {
      "image/png": "[encoded data removed]",
      "text/plain": [
       "<Figure size 720x720 with 1 Axes>"
      ]
     },
     "metadata": {
      "needs_background": "light"
     },
     "output_type": "display_data"
    }
   ],
   "source": [
    "#Top 100 videos by categories \n",
    "GBtop100 = GB_df_views[0:100]\n",
    "GBtop100\n",
    "fig = plt.figure(figsize=(10,10))\n",
    "ax = sns.countplot(y=\"category\", data=GBtop100, palette=\"Set3\")"
   ]
  },
  {
   "cell_type": "code",
   "execution_count": 17,
   "metadata": {},
   "outputs": [
    {
     "data": {
      "text/plain": [
       "<matplotlib.axes._subplots.AxesSubplot at 0x1a192756a0>"
      ]
     },
     "execution_count": 17,
     "metadata": {},
     "output_type": "execute_result"
    },
    {
     "data": {
      "image/png": "[encoded data removed]",
      "text/plain": [
       "<Figure size 720x720 with 1 Axes>"
      ]
     },
     "metadata": {
      "needs_background": "light"
     },
     "output_type": "display_data"
    }
   ],
   "source": [
    "#GB activity - Log Likes by Category\n",
    "plt.figure(figsize = (10,10))\n",
    "sns.boxplot(y = \"category\", x = 'log_likes', data = GB_df)\n",
    "#TOP CATEGORIES - music, entertainment, film & animation, how to, comedy, scitech"
   ]
  },
  {
   "cell_type": "code",
   "execution_count": 18,
   "metadata": {},
   "outputs": [
    {
     "data": {
      "text/plain": [
       "<matplotlib.axes._subplots.AxesSubplot at 0x1a19a1d710>"
      ]
     },
     "execution_count": 18,
     "metadata": {},
     "output_type": "execute_result"
    },
    {
     "data": {
      "image/png": "[encoded data removed]",
      "text/plain": [
       "<Figure size 720x720 with 1 Axes>"
      ]
     },
     "metadata": {
      "needs_background": "light"
     },
     "output_type": "display_data"
    }
   ],
   "source": [
    "#GB activity - Log Dislikes by Category\n",
    "plt.figure(figsize = (10,10))\n",
    "sns.boxplot(y = \"category\", x = 'log_dislikes', data = GB_df)\n",
    "#TOP CATEGORIES - music, entertainment, film & animation, how to, comedy, scitech"
   ]
  },
  {
   "cell_type": "code",
   "execution_count": 19,
   "metadata": {},
   "outputs": [
    {
     "data": {
      "text/plain": [
       "<matplotlib.axes._subplots.AxesSubplot at 0x1a1c21a358>"
      ]
     },
     "execution_count": 19,
     "metadata": {},
     "output_type": "execute_result"
    },
    {
     "data": {
      "image/png": "[encoded data removed]",
      "text/plain": [
       "<Figure size 720x720 with 1 Axes>"
      ]
     },
     "metadata": {
      "needs_background": "light"
     },
     "output_type": "display_data"
    }
   ],
   "source": [
    "#GB activity - Comment_Counts by Category\n",
    "plt.figure(figsize = (10,10))\n",
    "sns.boxplot(y = \"category\", x = 'log_comment_count', data = GB_df)\n",
    "#TOP CATEGORIES - music, entertainment, film & animation, how to, comedy, scitech"
   ]
  },
  {
   "cell_type": "code",
   "execution_count": 20,
   "metadata": {},
   "outputs": [
    {
     "data": {
      "text/plain": [
       "ESPN                                      184\n",
       "CNN                                       154\n",
       "MSNBC                                     146\n",
       "The Young Turks                           144\n",
       "The Late Show with Stephen Colbert        139\n",
       "ARY Digital                               135\n",
       "TheEllenShow                              131\n",
       "SET India                                 121\n",
       "The Tonight Show Starring Jimmy Fallon    120\n",
       "Jimmy Kimmel Live                         118\n",
       "Name: channel_title, dtype: int64"
      ]
     },
     "execution_count": 20,
     "metadata": {},
     "output_type": "execute_result"
    }
   ],
   "source": [
    "GB_channel = GB_df['channel_title'].value_counts()\n",
    "GB_channel[0:10]"
   ]
  },
  {
   "cell_type": "code",
   "execution_count": 21,
   "metadata": {},
   "outputs": [],
   "source": [
    "GB_ent_df = GB_df[GB_df['category'].isin(['Entertainment'])][['video_id','trending_date','title', 'tags', 'channel_title','category','log_views','log_likes','log_dislikes','log_comment_count']]"
   ]
  },
  {
   "cell_type": "code",
   "execution_count": null,
   "metadata": {},
   "outputs": [],
   "source": []
  },
  {
   "cell_type": "code",
   "execution_count": 22,
   "metadata": {},
   "outputs": [
    {
     "ename": "NameError",
     "evalue": "name 'df_dates' is not defined",
     "output_type": "error",
     "traceback": [
      "\u001b[0;31m---------------------------------------------------------------------------\u001b[0m",
      "\u001b[0;31mNameError\u001b[0m                                 Traceback (most recent call last)",
      "\u001b[0;32m<ipython-input-22-2feb5c6fda13>\u001b[0m in \u001b[0;36m<module>\u001b[0;34m\u001b[0m\n\u001b[0;32m----> 1\u001b[0;31m \u001b[0mdf_dates\u001b[0m\u001b[0;34m.\u001b[0m\u001b[0mhead\u001b[0m\u001b[0;34m(\u001b[0m\u001b[0;34m)\u001b[0m\u001b[0;34m\u001b[0m\u001b[0;34m\u001b[0m\u001b[0m\n\u001b[0m",
      "\u001b[0;31mNameError\u001b[0m: name 'df_dates' is not defined"
     ]
    }
   ],
   "source": [
    "df_dates.head()"
   ]
  },
  {
   "cell_type": "code",
   "execution_count": null,
   "metadata": {},
   "outputs": [],
   "source": []
  },
  {
   "cell_type": "code",
   "execution_count": 91,
   "metadata": {},
   "outputs": [],
   "source": [
    "import pandas as pd\n",
    "import numpy as np\n",
    "import datetime\n",
    "df_dates = df[['video_id', 'trending_date', 'publish_date', 'country', 'log_views']] \n",
    "GB_dates = df_dates.loc[df_dates['country'] == 'GB', ['country','trending_date', 'publish_date', 'video_id', 'log_views']]"
   ]
  },
  {
   "cell_type": "code",
   "execution_count": 92,
   "metadata": {},
   "outputs": [
    {
     "data": {
      "text/html": [
       "<div>\n",
       "<style scoped>\n",
       "    .dataframe tbody tr th:only-of-type {\n",
       "        vertical-align: middle;\n",
       "    }\n",
       "\n",
       "    .dataframe tbody tr th {\n",
       "        vertical-align: top;\n",
       "    }\n",
       "\n",
       "    .dataframe thead th {\n",
       "        text-align: right;\n",
       "    }\n",
       "</style>\n",
       "<table border=\"1\" class=\"dataframe\">\n",
       "  <thead>\n",
       "    <tr style=\"text-align: right;\">\n",
       "      <th></th>\n",
       "      <th>country</th>\n",
       "      <th>trending_date</th>\n",
       "      <th>publish_date</th>\n",
       "      <th>video_id</th>\n",
       "      <th>log_views</th>\n",
       "      <th>month</th>\n",
       "    </tr>\n",
       "  </thead>\n",
       "  <tbody>\n",
       "    <tr>\n",
       "      <td>432</td>\n",
       "      <td>GB</td>\n",
       "      <td>2017-11-14</td>\n",
       "      <td>2017-11-13</td>\n",
       "      <td>rHwDegptbI4</td>\n",
       "      <td>9.191769</td>\n",
       "      <td>11</td>\n",
       "    </tr>\n",
       "    <tr>\n",
       "      <td>433</td>\n",
       "      <td>GB</td>\n",
       "      <td>2017-11-14</td>\n",
       "      <td>2017-11-11</td>\n",
       "      <td>AumaWl0TNBo</td>\n",
       "      <td>13.983375</td>\n",
       "      <td>11</td>\n",
       "    </tr>\n",
       "    <tr>\n",
       "      <td>434</td>\n",
       "      <td>GB</td>\n",
       "      <td>2017-11-14</td>\n",
       "      <td>2017-11-10</td>\n",
       "      <td>-N5eucPMTTc</td>\n",
       "      <td>13.967546</td>\n",
       "      <td>11</td>\n",
       "    </tr>\n",
       "    <tr>\n",
       "      <td>436</td>\n",
       "      <td>GB</td>\n",
       "      <td>2017-11-14</td>\n",
       "      <td>2017-11-10</td>\n",
       "      <td>fiusxyygqGk</td>\n",
       "      <td>15.041345</td>\n",
       "      <td>11</td>\n",
       "    </tr>\n",
       "    <tr>\n",
       "      <td>466</td>\n",
       "      <td>GB</td>\n",
       "      <td>2017-11-14</td>\n",
       "      <td>2017-11-07</td>\n",
       "      <td>mCx26FLXWuI</td>\n",
       "      <td>14.339874</td>\n",
       "      <td>11</td>\n",
       "    </tr>\n",
       "  </tbody>\n",
       "</table>\n",
       "</div>"
      ],
      "text/plain": [
       "    country trending_date publish_date     video_id  log_views  month\n",
       "432      GB    2017-11-14   2017-11-13  rHwDegptbI4   9.191769     11\n",
       "433      GB    2017-11-14   2017-11-11  AumaWl0TNBo  13.983375     11\n",
       "434      GB    2017-11-14   2017-11-10  -N5eucPMTTc  13.967546     11\n",
       "436      GB    2017-11-14   2017-11-10  fiusxyygqGk  15.041345     11\n",
       "466      GB    2017-11-14   2017-11-07  mCx26FLXWuI  14.339874     11"
      ]
     },
     "execution_count": 92,
     "metadata": {},
     "output_type": "execute_result"
    }
   ],
   "source": [
    "GB_dates['month'] = pd.DatetimeIndex(GB_dates['publish_date']).month\n",
    "GB_dates.head()"
   ]
  },
  {
   "cell_type": "code",
   "execution_count": 99,
   "metadata": {},
   "outputs": [
    {
     "data": {
      "image/png": "[encoded data removed]",
      "text/plain": [
       "<Figure size 432x288 with 1 Axes>"
      ]
     },
     "metadata": {
      "needs_background": "light"
     },
     "output_type": "display_data"
    }
   ],
   "source": [
    "x = GB_dates['month']\n",
    "sns.distplot(x, bins=12, kde=False, rug=True);"
   ]
  },
  {
   "cell_type": "code",
   "execution_count": 85,
   "metadata": {},
   "outputs": [
    {
     "data": {
      "text/html": [
       "<div>\n",
       "<style scoped>\n",
       "    .dataframe tbody tr th:only-of-type {\n",
       "        vertical-align: middle;\n",
       "    }\n",
       "\n",
       "    .dataframe tbody tr th {\n",
       "        vertical-align: top;\n",
       "    }\n",
       "\n",
       "    .dataframe thead th {\n",
       "        text-align: right;\n",
       "    }\n",
       "</style>\n",
       "<table border=\"1\" class=\"dataframe\">\n",
       "  <thead>\n",
       "    <tr style=\"text-align: right;\">\n",
       "      <th></th>\n",
       "      <th>month</th>\n",
       "      <th>count</th>\n",
       "    </tr>\n",
       "  </thead>\n",
       "  <tbody>\n",
       "    <tr>\n",
       "      <td>0</td>\n",
       "      <td>1</td>\n",
       "      <td>594</td>\n",
       "    </tr>\n",
       "    <tr>\n",
       "      <td>1</td>\n",
       "      <td>11</td>\n",
       "      <td>588</td>\n",
       "    </tr>\n",
       "    <tr>\n",
       "      <td>2</td>\n",
       "      <td>12</td>\n",
       "      <td>545</td>\n",
       "    </tr>\n",
       "    <tr>\n",
       "      <td>3</td>\n",
       "      <td>2</td>\n",
       "      <td>355</td>\n",
       "    </tr>\n",
       "    <tr>\n",
       "      <td>4</td>\n",
       "      <td>3</td>\n",
       "      <td>323</td>\n",
       "    </tr>\n",
       "    <tr>\n",
       "      <td>5</td>\n",
       "      <td>5</td>\n",
       "      <td>279</td>\n",
       "    </tr>\n",
       "    <tr>\n",
       "      <td>6</td>\n",
       "      <td>4</td>\n",
       "      <td>266</td>\n",
       "    </tr>\n",
       "    <tr>\n",
       "      <td>7</td>\n",
       "      <td>6</td>\n",
       "      <td>98</td>\n",
       "    </tr>\n",
       "    <tr>\n",
       "      <td>8</td>\n",
       "      <td>10</td>\n",
       "      <td>9</td>\n",
       "    </tr>\n",
       "    <tr>\n",
       "      <td>9</td>\n",
       "      <td>9</td>\n",
       "      <td>5</td>\n",
       "    </tr>\n",
       "    <tr>\n",
       "      <td>10</td>\n",
       "      <td>7</td>\n",
       "      <td>5</td>\n",
       "    </tr>\n",
       "    <tr>\n",
       "      <td>11</td>\n",
       "      <td>8</td>\n",
       "      <td>3</td>\n",
       "    </tr>\n",
       "  </tbody>\n",
       "</table>\n",
       "</div>"
      ],
      "text/plain": [
       "    month  count\n",
       "0       1    594\n",
       "1      11    588\n",
       "2      12    545\n",
       "3       2    355\n",
       "4       3    323\n",
       "5       5    279\n",
       "6       4    266\n",
       "7       6     98\n",
       "8      10      9\n",
       "9       9      5\n",
       "10      7      5\n",
       "11      8      3"
      ]
     },
     "execution_count": 85,
     "metadata": {},
     "output_type": "execute_result"
    }
   ],
   "source": [
    "GB_dates_count = GB_dates['month'].value_counts()\n",
    "GB_dates_count\n",
    "GB_dates_count_df = GB_dates_count.to_frame(name='Counts').reset_index()\n",
    "GB_dates_count_df.columns = ['month', 'count']\n",
    "GB_dates_count_df"
   ]
  }
 ],
 "metadata": {
  "kernelspec": {
   "display_name": "Python 3",
   "language": "python",
   "name": "python3"
  },
  "language_info": {
   "codemirror_mode": {
    "name": "ipython",
    "version": 3
   },
   "file_extension": ".py",
   "mimetype": "text/x-python",
   "name": "python",
   "nbconvert_exporter": "python",
   "pygments_lexer": "ipython3",
   "version": "3.7.3"
  }
 },
 "nbformat": 4,
 "nbformat_minor": 2
}
