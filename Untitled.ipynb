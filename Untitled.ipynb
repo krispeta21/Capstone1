{
 "cells": [
  {
   "cell_type": "code",
   "execution_count": 1,
   "metadata": {},
   "outputs": [],
   "source": [
    "import os\n",
    "import pandas as pd\n",
    "import seaborn as sns\n",
    "import matplotlib.pyplot as plt"
   ]
  },
  {
   "cell_type": "code",
   "execution_count": 6,
   "metadata": {},
   "outputs": [],
   "source": [
    "path = 'Capstone1_Data'\n",
    "filepath1 = os.path.join('..', path,'dataframe.csv') #if file is not in same dir as notebook, must change path\n",
    "filepath2 = os.path.join('..', path,'dataframe_all_timestamps.csv') #if file is not in same dir as notebook, must change path\n",
    "\n",
    "df = pd.read_csv(filepath1)\n",
    "df_all_timestamps = pd.read_csv(filepath2)"
   ]
  },
  {
   "cell_type": "code",
   "execution_count": 7,
   "metadata": {},
   "outputs": [],
   "source": [
    "def stringify(row):\n",
    "    return str(row['publish_date']) + ' ' + str(row['publish_time'])\n",
    "\n",
    "df_all_timestamps.loc[:,'string_date_time'] = \\\n",
    "                            df_all_timestamps.apply(stringify, axis=1)\n",
    "\n",
    "df_all_timestamps.loc[:,'publish_timestamp'] = \\\n",
    "                pd.to_datetime(df_all_timestamps['string_date_time'],\n",
    "                                infer_datetime_format=True,\n",
    "                                errors='coerce')\n",
    "\n",
    "df_all_timestamps = df_all_timestamps.drop('string_date_time', axis=1)\n",
    "\n",
    "\n",
    "#make a new column in df called 'publish_timestamp' \n",
    "#that is a datetime object\n",
    "\n",
    "df.loc[:,'string_date_time'] = df.apply(stringify, axis=1)\n",
    "df.loc[:,'publish_timestamp'] = \\\n",
    "                pd.to_datetime(df['string_date_time'],\n",
    "                                infer_datetime_format=True,\n",
    "                                errors='coerce')\n",
    "df = df.drop('string_date_time', axis=1)"
   ]
  },
  {
   "cell_type": "code",
   "execution_count": 8,
   "metadata": {},
   "outputs": [],
   "source": [
    "#optional\n",
    "# makes new columns by taking the logarithm of the views, likes, \n",
    "#dislikes and comment_count to compress the scale for easier graphing \n",
    "\n",
    "import numpy as np\n",
    "df.loc[:,'log_views'] = np.log(df.loc[:,'views']+1)\n",
    "df.loc[:,'log_likes'] = np.log(df.loc[:,'likes']+1)\n",
    "df.loc[:,'log_dislikes'] = np.log(df.loc[:,'dislikes']+1)\n",
    "df.loc[:,'log_comment_count'] = np.log(df.loc[:,'comment_count']+1)\n",
    "\n",
    "#show all columns\n",
    "pd.set_option('display.max_columns', 100)"
   ]
  },
  {
   "cell_type": "code",
   "execution_count": 10,
   "metadata": {},
   "outputs": [
    {
     "data": {
      "text/html": [
       "<div>\n",
       "<style scoped>\n",
       "    .dataframe tbody tr th:only-of-type {\n",
       "        vertical-align: middle;\n",
       "    }\n",
       "\n",
       "    .dataframe tbody tr th {\n",
       "        vertical-align: top;\n",
       "    }\n",
       "\n",
       "    .dataframe thead th {\n",
       "        text-align: right;\n",
       "    }\n",
       "</style>\n",
       "<table border=\"1\" class=\"dataframe\">\n",
       "  <thead>\n",
       "    <tr style=\"text-align: right;\">\n",
       "      <th></th>\n",
       "      <th>video_id</th>\n",
       "      <th>trending_date</th>\n",
       "      <th>title</th>\n",
       "      <th>channel_title</th>\n",
       "      <th>category_id</th>\n",
       "      <th>category</th>\n",
       "      <th>publish_date</th>\n",
       "      <th>publish_time</th>\n",
       "      <th>tags</th>\n",
       "      <th>views</th>\n",
       "      <th>likes</th>\n",
       "      <th>dislikes</th>\n",
       "      <th>comment_count</th>\n",
       "      <th>thumbnail_link</th>\n",
       "      <th>comments_disabled</th>\n",
       "      <th>ratings_disabled</th>\n",
       "      <th>video_error_or_removed</th>\n",
       "      <th>description</th>\n",
       "      <th>country</th>\n",
       "      <th>publish_timestamp</th>\n",
       "      <th>log_views</th>\n",
       "      <th>log_likes</th>\n",
       "      <th>log_dislikes</th>\n",
       "      <th>log_comment_count</th>\n",
       "    </tr>\n",
       "  </thead>\n",
       "  <tbody>\n",
       "    <tr>\n",
       "      <td>0</td>\n",
       "      <td>cJon8yBKv3g</td>\n",
       "      <td>2017-11-14</td>\n",
       "      <td>Kingsman : Le Cercle d'or (Mickael J Critique)</td>\n",
       "      <td>MJ - FERMEZ LA</td>\n",
       "      <td>1</td>\n",
       "      <td>Film &amp; Animation</td>\n",
       "      <td>2017-11-12</td>\n",
       "      <td>17:58:57</td>\n",
       "      <td>VoxMakers\"|\"FERMEZ LA\"|\"Alert Spoiler\"|\"Matthe...</td>\n",
       "      <td>19487</td>\n",
       "      <td>1596</td>\n",
       "      <td>23</td>\n",
       "      <td>215</td>\n",
       "      <td>https://i.ytimg.com/vi/cJon8yBKv3g/default.jpg</td>\n",
       "      <td>False</td>\n",
       "      <td>False</td>\n",
       "      <td>False</td>\n",
       "      <td>Avec un peu de retard, voici l'avis de Mickael...</td>\n",
       "      <td>FR</td>\n",
       "      <td>2017-11-12 17:58:57</td>\n",
       "      <td>9.877554</td>\n",
       "      <td>7.375882</td>\n",
       "      <td>3.178054</td>\n",
       "      <td>5.375278</td>\n",
       "    </tr>\n",
       "    <tr>\n",
       "      <td>1</td>\n",
       "      <td>g12KeCPRB4Q</td>\n",
       "      <td>2017-11-14</td>\n",
       "      <td>Vide grenier LIVE - 12 Novembre 2017</td>\n",
       "      <td>Kirby-54</td>\n",
       "      <td>20</td>\n",
       "      <td>Gaming</td>\n",
       "      <td>2017-11-12</td>\n",
       "      <td>13:46:18</td>\n",
       "      <td>Vide grenier\"|\"vide grenier live\"|\"brocante\"|\"...</td>\n",
       "      <td>20744</td>\n",
       "      <td>1032</td>\n",
       "      <td>558</td>\n",
       "      <td>243</td>\n",
       "      <td>https://i.ytimg.com/vi/g12KeCPRB4Q/default.jpg</td>\n",
       "      <td>False</td>\n",
       "      <td>False</td>\n",
       "      <td>False</td>\n",
       "      <td>C'est reparti pour un nouveau compte rendu vid...</td>\n",
       "      <td>FR</td>\n",
       "      <td>2017-11-12 13:46:18</td>\n",
       "      <td>9.940061</td>\n",
       "      <td>6.940222</td>\n",
       "      <td>6.326149</td>\n",
       "      <td>5.497168</td>\n",
       "    </tr>\n",
       "    <tr>\n",
       "      <td>2</td>\n",
       "      <td>irIZRH3JlIw</td>\n",
       "      <td>2017-11-14</td>\n",
       "      <td>لقجع يثور في وجه الإتحاد الإيفواري بسبب الجماه...</td>\n",
       "      <td>أخبار اليوم</td>\n",
       "      <td>25</td>\n",
       "      <td>News &amp; Politics</td>\n",
       "      <td>2017-11-12</td>\n",
       "      <td>19:08:08</td>\n",
       "      <td>قناة أخبار اليوم\"|\"يومية المغرب\"|\"دولية\"|\"قضية...</td>\n",
       "      <td>207452</td>\n",
       "      <td>1415</td>\n",
       "      <td>148</td>\n",
       "      <td>90</td>\n",
       "      <td>https://i.ytimg.com/vi/irIZRH3JlIw/default.jpg</td>\n",
       "      <td>False</td>\n",
       "      <td>False</td>\n",
       "      <td>False</td>\n",
       "      <td>لقجع يثور في وجه الإتحاد الإيفواري بسبب الجماه...</td>\n",
       "      <td>FR</td>\n",
       "      <td>2017-11-12 19:08:08</td>\n",
       "      <td>12.242660</td>\n",
       "      <td>7.255591</td>\n",
       "      <td>5.003946</td>\n",
       "      <td>4.510860</td>\n",
       "    </tr>\n",
       "    <tr>\n",
       "      <td>3</td>\n",
       "      <td>SnHtzkQZggA</td>\n",
       "      <td>2017-11-14</td>\n",
       "      <td>عروس اسطنبول | اعلان الحلقة 25 | - مترجم للعربية</td>\n",
       "      <td>تركييتنا - bizim Türkiye</td>\n",
       "      <td>1</td>\n",
       "      <td>Film &amp; Animation</td>\n",
       "      <td>2017-11-13</td>\n",
       "      <td>19:58:33</td>\n",
       "      <td>مسلسل عروس اسطنبول\"|\"عروس اسطنبول\"|\"عروس اسطنب...</td>\n",
       "      <td>15899</td>\n",
       "      <td>142</td>\n",
       "      <td>10</td>\n",
       "      <td>7</td>\n",
       "      <td>https://i.ytimg.com/vi/SnHtzkQZggA/default.jpg</td>\n",
       "      <td>False</td>\n",
       "      <td>False</td>\n",
       "      <td>False</td>\n",
       "      <td>عروس اسطنبول | اعلان الحلقة 25 | - مترجم للعرب...</td>\n",
       "      <td>FR</td>\n",
       "      <td>2017-11-13 19:58:33</td>\n",
       "      <td>9.674074</td>\n",
       "      <td>4.962845</td>\n",
       "      <td>2.397895</td>\n",
       "      <td>2.079442</td>\n",
       "    </tr>\n",
       "    <tr>\n",
       "      <td>4</td>\n",
       "      <td>u6EoWM2KMPE</td>\n",
       "      <td>2017-11-14</td>\n",
       "      <td>Portokalli, 12 Nentor 2017 - Policat e postbll...</td>\n",
       "      <td>Top Channel Albania</td>\n",
       "      <td>23</td>\n",
       "      <td>Comedy</td>\n",
       "      <td>2017-11-13</td>\n",
       "      <td>13:33:26</td>\n",
       "      <td>Portokalli\"|\"Comedy Show\"|\"Top Channel Albania...</td>\n",
       "      <td>100607</td>\n",
       "      <td>1159</td>\n",
       "      <td>48</td>\n",
       "      <td>35</td>\n",
       "      <td>https://i.ytimg.com/vi/u6EoWM2KMPE/default.jpg</td>\n",
       "      <td>False</td>\n",
       "      <td>False</td>\n",
       "      <td>False</td>\n",
       "      <td>http://top-channel.tv/programe/portokalli/</td>\n",
       "      <td>FR</td>\n",
       "      <td>2017-11-13 13:33:26</td>\n",
       "      <td>11.518987</td>\n",
       "      <td>7.056175</td>\n",
       "      <td>3.891820</td>\n",
       "      <td>3.583519</td>\n",
       "    </tr>\n",
       "  </tbody>\n",
       "</table>\n",
       "</div>"
      ],
      "text/plain": [
       "      video_id trending_date  \\\n",
       "0  cJon8yBKv3g    2017-11-14   \n",
       "1  g12KeCPRB4Q    2017-11-14   \n",
       "2  irIZRH3JlIw    2017-11-14   \n",
       "3  SnHtzkQZggA    2017-11-14   \n",
       "4  u6EoWM2KMPE    2017-11-14   \n",
       "\n",
       "                                               title  \\\n",
       "0     Kingsman : Le Cercle d'or (Mickael J Critique)   \n",
       "1               Vide grenier LIVE - 12 Novembre 2017   \n",
       "2  لقجع يثور في وجه الإتحاد الإيفواري بسبب الجماه...   \n",
       "3   عروس اسطنبول | اعلان الحلقة 25 | - مترجم للعربية   \n",
       "4  Portokalli, 12 Nentor 2017 - Policat e postbll...   \n",
       "\n",
       "              channel_title  category_id          category publish_date  \\\n",
       "0            MJ - FERMEZ LA            1  Film & Animation   2017-11-12   \n",
       "1                  Kirby-54           20            Gaming   2017-11-12   \n",
       "2               أخبار اليوم           25   News & Politics   2017-11-12   \n",
       "3  تركييتنا - bizim Türkiye            1  Film & Animation   2017-11-13   \n",
       "4       Top Channel Albania           23            Comedy   2017-11-13   \n",
       "\n",
       "  publish_time                                               tags   views  \\\n",
       "0     17:58:57  VoxMakers\"|\"FERMEZ LA\"|\"Alert Spoiler\"|\"Matthe...   19487   \n",
       "1     13:46:18  Vide grenier\"|\"vide grenier live\"|\"brocante\"|\"...   20744   \n",
       "2     19:08:08  قناة أخبار اليوم\"|\"يومية المغرب\"|\"دولية\"|\"قضية...  207452   \n",
       "3     19:58:33  مسلسل عروس اسطنبول\"|\"عروس اسطنبول\"|\"عروس اسطنب...   15899   \n",
       "4     13:33:26  Portokalli\"|\"Comedy Show\"|\"Top Channel Albania...  100607   \n",
       "\n",
       "   likes  dislikes  comment_count  \\\n",
       "0   1596        23            215   \n",
       "1   1032       558            243   \n",
       "2   1415       148             90   \n",
       "3    142        10              7   \n",
       "4   1159        48             35   \n",
       "\n",
       "                                   thumbnail_link  comments_disabled  \\\n",
       "0  https://i.ytimg.com/vi/cJon8yBKv3g/default.jpg              False   \n",
       "1  https://i.ytimg.com/vi/g12KeCPRB4Q/default.jpg              False   \n",
       "2  https://i.ytimg.com/vi/irIZRH3JlIw/default.jpg              False   \n",
       "3  https://i.ytimg.com/vi/SnHtzkQZggA/default.jpg              False   \n",
       "4  https://i.ytimg.com/vi/u6EoWM2KMPE/default.jpg              False   \n",
       "\n",
       "   ratings_disabled  video_error_or_removed  \\\n",
       "0             False                   False   \n",
       "1             False                   False   \n",
       "2             False                   False   \n",
       "3             False                   False   \n",
       "4             False                   False   \n",
       "\n",
       "                                         description country  \\\n",
       "0  Avec un peu de retard, voici l'avis de Mickael...      FR   \n",
       "1  C'est reparti pour un nouveau compte rendu vid...      FR   \n",
       "2  لقجع يثور في وجه الإتحاد الإيفواري بسبب الجماه...      FR   \n",
       "3  عروس اسطنبول | اعلان الحلقة 25 | - مترجم للعرب...      FR   \n",
       "4         http://top-channel.tv/programe/portokalli/      FR   \n",
       "\n",
       "    publish_timestamp  log_views  log_likes  log_dislikes  log_comment_count  \n",
       "0 2017-11-12 17:58:57   9.877554   7.375882      3.178054           5.375278  \n",
       "1 2017-11-12 13:46:18   9.940061   6.940222      6.326149           5.497168  \n",
       "2 2017-11-12 19:08:08  12.242660   7.255591      5.003946           4.510860  \n",
       "3 2017-11-13 19:58:33   9.674074   4.962845      2.397895           2.079442  \n",
       "4 2017-11-13 13:33:26  11.518987   7.056175      3.891820           3.583519  "
      ]
     },
     "execution_count": 10,
     "metadata": {},
     "output_type": "execute_result"
    }
   ],
   "source": [
    "df.head()"
   ]
  },
  {
   "cell_type": "code",
   "execution_count": 11,
   "metadata": {},
   "outputs": [
    {
     "name": "stdout",
     "output_type": "stream",
     "text": [
      "<class 'pandas.core.frame.DataFrame'>\n",
      "RangeIndex: 171149 entries, 0 to 171148\n",
      "Data columns (total 24 columns):\n",
      "video_id                  171149 non-null object\n",
      "trending_date             171149 non-null object\n",
      "title                     171149 non-null object\n",
      "channel_title             171149 non-null object\n",
      "category_id               171149 non-null int64\n",
      "category                  171149 non-null object\n",
      "publish_date              171149 non-null object\n",
      "publish_time              171149 non-null object\n",
      "tags                      171149 non-null object\n",
      "views                     171149 non-null int64\n",
      "likes                     171149 non-null int64\n",
      "dislikes                  171149 non-null int64\n",
      "comment_count             171149 non-null int64\n",
      "thumbnail_link            171149 non-null object\n",
      "comments_disabled         171149 non-null bool\n",
      "ratings_disabled          171149 non-null bool\n",
      "video_error_or_removed    171149 non-null bool\n",
      "description               171149 non-null object\n",
      "country                   171149 non-null object\n",
      "publish_timestamp         171149 non-null datetime64[ns]\n",
      "log_views                 171149 non-null float64\n",
      "log_likes                 171149 non-null float64\n",
      "log_dislikes              171149 non-null float64\n",
      "log_comment_count         171149 non-null float64\n",
      "dtypes: bool(3), datetime64[ns](1), float64(4), int64(5), object(11)\n",
      "memory usage: 27.9+ MB\n"
     ]
    }
   ],
   "source": [
    "df.info()"
   ]
  },
  {
   "cell_type": "code",
   "execution_count": null,
   "metadata": {},
   "outputs": [],
   "source": [
    "# top100cat_df = num_top100_by_category.to_frame(name='Counts').reset_index() - make into dataframe\n",
    "# df_loglikes = df.sort_values(by=['log_likes'], ascending=False) - sort\n",
    "# num_top100_by_country = top_video_like['country'].value_counts() - count\n",
    "\n",
    "#boxplot\n",
    "# plt.figure(figsize = (10,10))\n",
    "#sns.boxplot(x = \"country\", y = 'log_views', data = df)\n",
    "\n",
    "# sns bar chart\n",
    "# ax = sns.countplot(y=\"category\", data=GB_df[0:100], palette=\"Set3\")\n",
    "\n",
    "# GB_df = df[df['country'].isin(['GB'])][['country','video_id','title', 'channel_title','category','log_views','log_likes','log_dislikes','log_comment_count']]\n",
    "# GB_df"
   ]
  },
  {
   "cell_type": "raw",
   "metadata": {},
   "source": [
    "# Pie chart\n",
    "labels = ECC_df['country']\n",
    "sizes = ECC_df['count']\n",
    "\n",
    "#only \"explode\" the 2nd slice (i.e. 'Hogs')\n",
    "\n",
    "#add colors\n",
    "colors = ['#ff9999','#66b3ff','#99ff99','#ffcc99']\n",
    "fig1, ax1 = plt.subplots()\n",
    "ax1.pie(sizes, labels=labels, colors=colors, autopct='%1.1f%%',\n",
    "        shadow=True, startangle=90)\n",
    "\n",
    "#Equal aspect ratio ensures that pie is drawn as a circle\n",
    "ax1.axis('equal')\n",
    "plt.tight_layout()\n",
    "plt.show()"
   ]
  },
  {
   "cell_type": "markdown",
   "metadata": {},
   "source": [
    "#histogram\n",
    "fig = plt.figure(figsize=(10,10)) # define plot area\n",
    "ax = fig.gca() # define axis    \n",
    "auto_prices['engine-size'].plot.hist(ax = ax) # Use the plot.hist method on subset of the data frame\n",
    "ax.set_title('Histogram of auto engine size') # Give the plot a main title\n",
    "ax.set_xlabel('Engine size') # Set text for the x axis\n",
    "ax.set_ylabel('Number of autos')# Set text for y axis"
   ]
  },
  {
   "cell_type": "code",
   "execution_count": 13,
   "metadata": {},
   "outputs": [
    {
     "data": {
      "text/plain": [
       "RU    30783\n",
       "MX    27900\n",
       "FR    24085\n",
       "DE    22965\n",
       "CA    17338\n",
       "IN    15222\n",
       "KR    13793\n",
       "JP    10808\n",
       "US     5185\n",
       "GB     3070\n",
       "Name: country, dtype: int64"
      ]
     },
     "execution_count": 13,
     "metadata": {},
     "output_type": "execute_result"
    }
   ],
   "source": [
    "df['country'].value_counts() "
   ]
  },
  {
   "cell_type": "code",
   "execution_count": 17,
   "metadata": {},
   "outputs": [
    {
     "data": {
      "image/png": "[encoded data removed]",
      "text/plain": [
       "<Figure size 720x720 with 1 Axes>"
      ]
     },
     "metadata": {
      "needs_background": "light"
     },
     "output_type": "display_data"
    }
   ],
   "source": [
    "#Number of videos by country\n",
    "fig = plt.figure(figsize=(10,10))\n",
    "ax = sns.countplot(y=\"country\", data=df, palette=\"Set3\")"
   ]
  },
  {
   "cell_type": "code",
   "execution_count": 18,
   "metadata": {},
   "outputs": [
    {
     "data": {
      "image/png": "[encoded data removed]",
      "text/plain": [
       "<Figure size 720x720 with 1 Axes>"
      ]
     },
     "metadata": {
      "needs_background": "light"
     },
     "output_type": "display_data"
    }
   ],
   "source": [
    "#Number of videos by category\n",
    "fig = plt.figure(figsize=(10,10))\n",
    "ax = sns.countplot(y=\"category\", data=df, palette=\"Set3\")"
   ]
  },
  {
   "cell_type": "code",
   "execution_count": 23,
   "metadata": {},
   "outputs": [
    {
     "data": {
      "text/plain": [
       "category\n",
       "Autos & Vehicles          14\n",
       "Comedy                   181\n",
       "Education                 37\n",
       "Entertainment            787\n",
       "Film & Animation         184\n",
       "Gaming                   166\n",
       "Howto & Style            183\n",
       "Music                    844\n",
       "News & Politics          116\n",
       "Nonprofits & Activism      3\n",
       "People & Blogs           268\n",
       "Pets & Animals            36\n",
       "Science & Technology      37\n",
       "Shows                      1\n",
       "Sports                   203\n",
       "Travel & Events           10\n",
       "Name: category, dtype: int64"
      ]
     },
     "execution_count": 23,
     "metadata": {},
     "output_type": "execute_result"
    }
   ],
   "source": [
    "GB_cat = GB_df.groupby('category')['category'].agg('count')\n",
    "GB_cat.sort"
   ]
  },
  {
   "cell_type": "code",
   "execution_count": 20,
   "metadata": {},
   "outputs": [
    {
     "data": {
      "text/html": [
       "<div>\n",
       "<style scoped>\n",
       "    .dataframe tbody tr th:only-of-type {\n",
       "        vertical-align: middle;\n",
       "    }\n",
       "\n",
       "    .dataframe tbody tr th {\n",
       "        vertical-align: top;\n",
       "    }\n",
       "\n",
       "    .dataframe thead th {\n",
       "        text-align: right;\n",
       "    }\n",
       "</style>\n",
       "<table border=\"1\" class=\"dataframe\">\n",
       "  <thead>\n",
       "    <tr style=\"text-align: right;\">\n",
       "      <th></th>\n",
       "      <th>country</th>\n",
       "      <th>video_id</th>\n",
       "      <th>title</th>\n",
       "      <th>tags</th>\n",
       "      <th>channel_title</th>\n",
       "      <th>category</th>\n",
       "      <th>log_views</th>\n",
       "      <th>log_likes</th>\n",
       "      <th>log_dislikes</th>\n",
       "      <th>log_comment_count</th>\n",
       "    </tr>\n",
       "  </thead>\n",
       "  <tbody>\n",
       "    <tr>\n",
       "      <td>432</td>\n",
       "      <td>GB</td>\n",
       "      <td>rHwDegptbI4</td>\n",
       "      <td>Dashcam captures truck's near miss with child ...</td>\n",
       "      <td>[none]</td>\n",
       "      <td>Cute Girl Videos</td>\n",
       "      <td>News &amp; Politics</td>\n",
       "      <td>9.191769</td>\n",
       "      <td>3.433987</td>\n",
       "      <td>1.098612</td>\n",
       "      <td>3.433987</td>\n",
       "    </tr>\n",
       "    <tr>\n",
       "      <td>433</td>\n",
       "      <td>GB</td>\n",
       "      <td>AumaWl0TNBo</td>\n",
       "      <td>How My Relationship Started!</td>\n",
       "      <td>pointlessblog|\"pointlessblogtv\"|\"pointlessblog...</td>\n",
       "      <td>PointlessBlogVlogs</td>\n",
       "      <td>Entertainment</td>\n",
       "      <td>13.983375</td>\n",
       "      <td>10.872541</td>\n",
       "      <td>7.266827</td>\n",
       "      <td>7.755339</td>\n",
       "    </tr>\n",
       "    <tr>\n",
       "      <td>434</td>\n",
       "      <td>GB</td>\n",
       "      <td>-N5eucPMTTc</td>\n",
       "      <td>CHRISTMAS HAS GONE TO MY HEAD</td>\n",
       "      <td>zoe sugg|\"zoella\"|\"zoe\"|\"vlog\"|\"vlogging\"|\"vlo...</td>\n",
       "      <td>MoreZoella</td>\n",
       "      <td>People &amp; Blogs</td>\n",
       "      <td>13.967546</td>\n",
       "      <td>10.956230</td>\n",
       "      <td>6.620073</td>\n",
       "      <td>6.437752</td>\n",
       "    </tr>\n",
       "    <tr>\n",
       "      <td>436</td>\n",
       "      <td>GB</td>\n",
       "      <td>fiusxyygqGk</td>\n",
       "      <td>Marshmello - You &amp; Me (Official Music Video)</td>\n",
       "      <td>selena gomez wolves|\"alone marshmello\"|\"marshm...</td>\n",
       "      <td>marshmello</td>\n",
       "      <td>Music</td>\n",
       "      <td>15.041345</td>\n",
       "      <td>12.241744</td>\n",
       "      <td>8.060856</td>\n",
       "      <td>9.494014</td>\n",
       "    </tr>\n",
       "    <tr>\n",
       "      <td>466</td>\n",
       "      <td>GB</td>\n",
       "      <td>mCx26FLXWuI</td>\n",
       "      <td>Seth Rollins &amp; Dean Ambrose vs. Cesaro &amp; Sheam...</td>\n",
       "      <td>wwe|\"world wrestling entertainment\"|\"wrestling...</td>\n",
       "      <td>WWE</td>\n",
       "      <td>Sports</td>\n",
       "      <td>14.339874</td>\n",
       "      <td>10.093571</td>\n",
       "      <td>8.111028</td>\n",
       "      <td>8.135933</td>\n",
       "    </tr>\n",
       "    <tr>\n",
       "      <td>...</td>\n",
       "      <td>...</td>\n",
       "      <td>...</td>\n",
       "      <td>...</td>\n",
       "      <td>...</td>\n",
       "      <td>...</td>\n",
       "      <td>...</td>\n",
       "      <td>...</td>\n",
       "      <td>...</td>\n",
       "      <td>...</td>\n",
       "      <td>...</td>\n",
       "    </tr>\n",
       "    <tr>\n",
       "      <td>170148</td>\n",
       "      <td>GB</td>\n",
       "      <td>oTn329CjrRA</td>\n",
       "      <td>LeBron James and Draymond Green Face Off in NB...</td>\n",
       "      <td>UNINTERRUPTED|\"lebron james\"|\"cleveland cavali...</td>\n",
       "      <td>UNINTERRUPTED</td>\n",
       "      <td>Sports</td>\n",
       "      <td>11.767777</td>\n",
       "      <td>7.401842</td>\n",
       "      <td>3.401197</td>\n",
       "      <td>5.620401</td>\n",
       "    </tr>\n",
       "    <tr>\n",
       "      <td>170149</td>\n",
       "      <td>GB</td>\n",
       "      <td>VhQmTmqcEY0</td>\n",
       "      <td>Juanes - Pa Dentro</td>\n",
       "      <td>Juanes|\"Pa\"|\"Dentro\"|\"Universal\"|\"Music\"|\"Lati...</td>\n",
       "      <td>JuanesVEVO</td>\n",
       "      <td>Music</td>\n",
       "      <td>16.899886</td>\n",
       "      <td>11.267191</td>\n",
       "      <td>8.648572</td>\n",
       "      <td>8.472405</td>\n",
       "    </tr>\n",
       "    <tr>\n",
       "      <td>170150</td>\n",
       "      <td>GB</td>\n",
       "      <td>ek1ePFp-nBI</td>\n",
       "      <td>Halloween - Official Trailer (HD)</td>\n",
       "      <td>halloween|\"horror\"|\"horror movie\"|\"scary movie...</td>\n",
       "      <td>Universal Pictures</td>\n",
       "      <td>Entertainment</td>\n",
       "      <td>16.377069</td>\n",
       "      <td>12.208769</td>\n",
       "      <td>8.942199</td>\n",
       "      <td>10.467323</td>\n",
       "    </tr>\n",
       "    <tr>\n",
       "      <td>170151</td>\n",
       "      <td>GB</td>\n",
       "      <td>QRyzwPzxpcs</td>\n",
       "      <td>Sea of Thieves - E3 2018 - Cursed Sails and Fo...</td>\n",
       "      <td>Xbox|\"Xbox360\"|\"xbox 360\"|\"Xbox One\"|\"Rare\"|\"S...</td>\n",
       "      <td>Xbox</td>\n",
       "      <td>Gaming</td>\n",
       "      <td>13.957224</td>\n",
       "      <td>7.941296</td>\n",
       "      <td>5.513429</td>\n",
       "      <td>6.255750</td>\n",
       "    </tr>\n",
       "    <tr>\n",
       "      <td>170152</td>\n",
       "      <td>GB</td>\n",
       "      <td>ExJmET8boVw</td>\n",
       "      <td>Rita Ora - Girls ft. Cardi B, Bebe Rexha &amp; Cha...</td>\n",
       "      <td>Rita Ora|\"Rita\"|\"Ora\"|\"Official Video\"|\"Girls\"...</td>\n",
       "      <td>Rita Ora</td>\n",
       "      <td>Entertainment</td>\n",
       "      <td>16.464147</td>\n",
       "      <td>12.905512</td>\n",
       "      <td>10.260112</td>\n",
       "      <td>10.305447</td>\n",
       "    </tr>\n",
       "  </tbody>\n",
       "</table>\n",
       "<p>3070 rows × 10 columns</p>\n",
       "</div>"
      ],
      "text/plain": [
       "       country     video_id  \\\n",
       "432         GB  rHwDegptbI4   \n",
       "433         GB  AumaWl0TNBo   \n",
       "434         GB  -N5eucPMTTc   \n",
       "436         GB  fiusxyygqGk   \n",
       "466         GB  mCx26FLXWuI   \n",
       "...        ...          ...   \n",
       "170148      GB  oTn329CjrRA   \n",
       "170149      GB  VhQmTmqcEY0   \n",
       "170150      GB  ek1ePFp-nBI   \n",
       "170151      GB  QRyzwPzxpcs   \n",
       "170152      GB  ExJmET8boVw   \n",
       "\n",
       "                                                    title  \\\n",
       "432     Dashcam captures truck's near miss with child ...   \n",
       "433                          How My Relationship Started!   \n",
       "434                         CHRISTMAS HAS GONE TO MY HEAD   \n",
       "436          Marshmello - You & Me (Official Music Video)   \n",
       "466     Seth Rollins & Dean Ambrose vs. Cesaro & Sheam...   \n",
       "...                                                   ...   \n",
       "170148  LeBron James and Draymond Green Face Off in NB...   \n",
       "170149                                 Juanes - Pa Dentro   \n",
       "170150                  Halloween - Official Trailer (HD)   \n",
       "170151  Sea of Thieves - E3 2018 - Cursed Sails and Fo...   \n",
       "170152  Rita Ora - Girls ft. Cardi B, Bebe Rexha & Cha...   \n",
       "\n",
       "                                                     tags       channel_title  \\\n",
       "432                                                [none]    Cute Girl Videos   \n",
       "433     pointlessblog|\"pointlessblogtv\"|\"pointlessblog...  PointlessBlogVlogs   \n",
       "434     zoe sugg|\"zoella\"|\"zoe\"|\"vlog\"|\"vlogging\"|\"vlo...          MoreZoella   \n",
       "436     selena gomez wolves|\"alone marshmello\"|\"marshm...          marshmello   \n",
       "466     wwe|\"world wrestling entertainment\"|\"wrestling...                 WWE   \n",
       "...                                                   ...                 ...   \n",
       "170148  UNINTERRUPTED|\"lebron james\"|\"cleveland cavali...       UNINTERRUPTED   \n",
       "170149  Juanes|\"Pa\"|\"Dentro\"|\"Universal\"|\"Music\"|\"Lati...          JuanesVEVO   \n",
       "170150  halloween|\"horror\"|\"horror movie\"|\"scary movie...  Universal Pictures   \n",
       "170151  Xbox|\"Xbox360\"|\"xbox 360\"|\"Xbox One\"|\"Rare\"|\"S...                Xbox   \n",
       "170152  Rita Ora|\"Rita\"|\"Ora\"|\"Official Video\"|\"Girls\"...            Rita Ora   \n",
       "\n",
       "               category  log_views  log_likes  log_dislikes  log_comment_count  \n",
       "432     News & Politics   9.191769   3.433987      1.098612           3.433987  \n",
       "433       Entertainment  13.983375  10.872541      7.266827           7.755339  \n",
       "434      People & Blogs  13.967546  10.956230      6.620073           6.437752  \n",
       "436               Music  15.041345  12.241744      8.060856           9.494014  \n",
       "466              Sports  14.339874  10.093571      8.111028           8.135933  \n",
       "...                 ...        ...        ...           ...                ...  \n",
       "170148           Sports  11.767777   7.401842      3.401197           5.620401  \n",
       "170149            Music  16.899886  11.267191      8.648572           8.472405  \n",
       "170150    Entertainment  16.377069  12.208769      8.942199          10.467323  \n",
       "170151           Gaming  13.957224   7.941296      5.513429           6.255750  \n",
       "170152    Entertainment  16.464147  12.905512     10.260112          10.305447  \n",
       "\n",
       "[3070 rows x 10 columns]"
      ]
     },
     "execution_count": 20,
     "metadata": {},
     "output_type": "execute_result"
    }
   ],
   "source": [
    "GB_df = df[df['country'].isin(['GB'])][['country','video_id','title', 'tags', 'channel_title','category','log_views','log_likes','log_dislikes','log_comment_count']]\n",
    "GB_df"
   ]
  },
  {
   "cell_type": "code",
   "execution_count": 29,
   "metadata": {},
   "outputs": [],
   "source": [
    "GB_df_views = df.sort_values(by=['log_views'], ascending=False)"
   ]
  },
  {
   "cell_type": "code",
   "execution_count": 32,
   "metadata": {},
   "outputs": [
    {
     "data": {
      "image/png": "[encoded data removed]",
      "text/plain": [
       "<Figure size 720x720 with 1 Axes>"
      ]
     },
     "metadata": {
      "needs_background": "light"
     },
     "output_type": "display_data"
    }
   ],
   "source": [
    "#Most views\n",
    "fig = plt.figure(figsize=(10,10))\n",
    "ax = sns.countplot(y=\"category\", data=GB_df_views, palette=\"Set3\")"
   ]
  },
  {
   "cell_type": "code",
   "execution_count": 34,
   "metadata": {},
   "outputs": [
    {
     "data": {
      "image/png": "[encoded data removed]",
      "text/plain": [
       "<Figure size 720x720 with 1 Axes>"
      ]
     },
     "metadata": {
      "needs_background": "light"
     },
     "output_type": "display_data"
    }
   ],
   "source": [
    "#Top 100 categories in most viewed\n",
    "GBtop100 = GB_df_views[0:100]\n",
    "GBtop100\n",
    "fig = plt.figure(figsize=(10,10))\n",
    "ax = sns.countplot(y=\"category\", data=GBtop100, palette=\"Set3\")"
   ]
  },
  {
   "cell_type": "code",
   "execution_count": 38,
   "metadata": {},
   "outputs": [
    {
     "data": {
      "text/plain": [
       "<matplotlib.axes._subplots.AxesSubplot at 0x1a2c013588>"
      ]
     },
     "execution_count": 38,
     "metadata": {},
     "output_type": "execute_result"
    },
    {
     "data": {
      "image/png": "[encoded data removed]",
      "text/plain": [
       "<Figure size 720x720 with 1 Axes>"
      ]
     },
     "metadata": {
      "needs_background": "light"
     },
     "output_type": "display_data"
    }
   ],
   "source": [
    "plt.figure(figsize = (10,10))\n",
    "sns.boxplot(x = \"category\", y = 'log_likes', data = GB_df)"
   ]
  },
  {
   "cell_type": "code",
   "execution_count": 39,
   "metadata": {},
   "outputs": [
    {
     "data": {
      "text/plain": [
       "<matplotlib.axes._subplots.AxesSubplot at 0x1a29960da0>"
      ]
     },
     "execution_count": 39,
     "metadata": {},
     "output_type": "execute_result"
    },
    {
     "data": {
      "image/png": "[encoded data removed]",
      "text/plain": [
       "<Figure size 720x720 with 1 Axes>"
      ]
     },
     "metadata": {
      "needs_background": "light"
     },
     "output_type": "display_data"
    }
   ],
   "source": [
    "plt.figure(figsize = (10,10))\n",
    "sns.boxplot(x = \"category\", y = 'log_dislikes', data = GB_df)"
   ]
  },
  {
   "cell_type": "code",
   "execution_count": 40,
   "metadata": {},
   "outputs": [
    {
     "data": {
      "text/plain": [
       "<matplotlib.axes._subplots.AxesSubplot at 0x1a299604a8>"
      ]
     },
     "execution_count": 40,
     "metadata": {},
     "output_type": "execute_result"
    },
    {
     "data": {
      "image/png": "[encoded data removed]",
      "text/plain": [
       "<Figure size 720x720 with 1 Axes>"
      ]
     },
     "metadata": {
      "needs_background": "light"
     },
     "output_type": "display_data"
    }
   ],
   "source": [
    "plt.figure(figsize = (10,10))\n",
    "sns.boxplot(x = \"category\", y = 'log_comment_count', data = GB_df)"
   ]
  },
  {
   "cell_type": "code",
   "execution_count": null,
   "metadata": {},
   "outputs": [],
   "source": []
  }
 ],
 "metadata": {
  "kernelspec": {
   "display_name": "Python 3",
   "language": "python",
   "name": "python3"
  },
  "language_info": {
   "codemirror_mode": {
    "name": "ipython",
    "version": 3
   },
   "file_extension": ".py",
   "mimetype": "text/x-python",
   "name": "python",
   "nbconvert_exporter": "python",
   "pygments_lexer": "ipython3",
   "version": "3.7.3"
  }
 },
 "nbformat": 4,
 "nbformat_minor": 2
}
