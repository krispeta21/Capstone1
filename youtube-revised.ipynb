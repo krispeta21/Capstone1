{
 "cells": [
  {
   "cell_type": "markdown",
   "metadata": {},
   "source": [
    "source: https://www.kaggle.com/hoonkeng/deep-analysis-on-youtube-trending-videos-eda/notebook\n"
   ]
  },
  {
   "cell_type": "code",
   "execution_count": null,
   "metadata": {},
   "outputs": [],
   "source": [
    "%pwd"
   ]
  },
  {
   "cell_type": "code",
   "execution_count": 1,
   "metadata": {},
   "outputs": [],
   "source": [
    "import os\n",
    "import pandas as pd\n",
    "import seaborn as sns\n",
    "import matplotlib.pyplot as plt"
   ]
  },
  {
   "cell_type": "code",
   "execution_count": null,
   "metadata": {},
   "outputs": [],
   "source": [
    "!pwd"
   ]
  },
  {
   "cell_type": "code",
   "execution_count": null,
   "metadata": {},
   "outputs": [],
   "source": [
    "!ls .."
   ]
  },
  {
   "cell_type": "code",
   "execution_count": 2,
   "metadata": {},
   "outputs": [],
   "source": [
    "path = 'Capstone1_Data'\n",
    "filepath1 = os.path.join('..', path,'dataframe.csv') #if file is not in same dir as notebook, must change path\n",
    "filepath2 = os.path.join('..', path,'dataframe_all_timestamps.csv') #if file is not in same dir as notebook, must change path\n",
    "\n",
    "df = pd.read_csv(filepath1)\n",
    "df_all_timestamps = pd.read_csv(filepath2)"
   ]
  },
  {
   "cell_type": "code",
   "execution_count": 3,
   "metadata": {},
   "outputs": [],
   "source": [
    "def stringify(row):\n",
    "    return str(row['publish_date']) + ' ' + str(row['publish_time'])\n",
    "\n",
    "df_all_timestamps.loc[:,'string_date_time'] = \\\n",
    "                            df_all_timestamps.apply(stringify, axis=1)\n",
    "\n",
    "df_all_timestamps.loc[:,'publish_timestamp'] = \\\n",
    "                pd.to_datetime(df_all_timestamps['string_date_time'],\n",
    "                                infer_datetime_format=True,\n",
    "                                errors='coerce')\n",
    "\n",
    "df_all_timestamps = df_all_timestamps.drop('string_date_time', axis=1)\n",
    "\n",
    "\n",
    "#make a new column in df called 'publish_timestamp' \n",
    "#that is a datetime object\n",
    "\n",
    "df.loc[:,'string_date_time'] = df.apply(stringify, axis=1)\n",
    "df.loc[:,'publish_timestamp'] = \\\n",
    "                pd.to_datetime(df['string_date_time'],\n",
    "                                infer_datetime_format=True,\n",
    "                                errors='coerce')\n",
    "df = df.drop('string_date_time', axis=1)"
   ]
  },
  {
   "cell_type": "code",
   "execution_count": 4,
   "metadata": {},
   "outputs": [],
   "source": [
    "#optional\n",
    "# makes new columns by taking the logarithm of the views, likes, \n",
    "#dislikes and comment_count to compress the scale for easier graphing \n",
    "\n",
    "import numpy as np\n",
    "df.loc[:,'log_views'] = np.log(df.loc[:,'views']+1)\n",
    "df.loc[:,'log_likes'] = np.log(df.loc[:,'likes']+1)\n",
    "df.loc[:,'log_dislikes'] = np.log(df.loc[:,'dislikes']+1)\n",
    "df.loc[:,'log_comment_count'] = np.log(df.loc[:,'comment_count']+1)\n",
    "\n",
    "#show all columns\n",
    "pd.set_option('display.max_columns', 100)"
   ]
  },
  {
   "cell_type": "code",
   "execution_count": null,
   "metadata": {},
   "outputs": [],
   "source": [
    "df.head()"
   ]
  },
  {
   "cell_type": "code",
   "execution_count": null,
   "metadata": {},
   "outputs": [],
   "source": [
    "df.info()"
   ]
  },
  {
   "cell_type": "code",
   "execution_count": null,
   "metadata": {},
   "outputs": [],
   "source": [
    "df_all_timestamps.info()"
   ]
  },
  {
   "cell_type": "code",
   "execution_count": 9,
   "metadata": {},
   "outputs": [
    {
     "data": {
      "text/html": [
       "<div>\n",
       "<style scoped>\n",
       "    .dataframe tbody tr th:only-of-type {\n",
       "        vertical-align: middle;\n",
       "    }\n",
       "\n",
       "    .dataframe tbody tr th {\n",
       "        vertical-align: top;\n",
       "    }\n",
       "\n",
       "    .dataframe thead th {\n",
       "        text-align: right;\n",
       "    }\n",
       "</style>\n",
       "<table border=\"1\" class=\"dataframe\">\n",
       "  <thead>\n",
       "    <tr style=\"text-align: right;\">\n",
       "      <th></th>\n",
       "      <th>video_id</th>\n",
       "      <th>likes</th>\n",
       "      <th>country</th>\n",
       "    </tr>\n",
       "  </thead>\n",
       "  <tbody>\n",
       "    <tr>\n",
       "      <td>0</td>\n",
       "      <td>cJon8yBKv3g</td>\n",
       "      <td>1596</td>\n",
       "      <td>FR</td>\n",
       "    </tr>\n",
       "    <tr>\n",
       "      <td>1</td>\n",
       "      <td>g12KeCPRB4Q</td>\n",
       "      <td>1032</td>\n",
       "      <td>FR</td>\n",
       "    </tr>\n",
       "    <tr>\n",
       "      <td>2</td>\n",
       "      <td>irIZRH3JlIw</td>\n",
       "      <td>1415</td>\n",
       "      <td>FR</td>\n",
       "    </tr>\n",
       "    <tr>\n",
       "      <td>3</td>\n",
       "      <td>SnHtzkQZggA</td>\n",
       "      <td>142</td>\n",
       "      <td>FR</td>\n",
       "    </tr>\n",
       "    <tr>\n",
       "      <td>4</td>\n",
       "      <td>u6EoWM2KMPE</td>\n",
       "      <td>1159</td>\n",
       "      <td>FR</td>\n",
       "    </tr>\n",
       "  </tbody>\n",
       "</table>\n",
       "</div>"
      ],
      "text/plain": [
       "      video_id  likes country\n",
       "0  cJon8yBKv3g   1596      FR\n",
       "1  g12KeCPRB4Q   1032      FR\n",
       "2  irIZRH3JlIw   1415      FR\n",
       "3  SnHtzkQZggA    142      FR\n",
       "4  u6EoWM2KMPE   1159      FR"
      ]
     },
     "execution_count": 9,
     "metadata": {},
     "output_type": "execute_result"
    }
   ],
   "source": [
    "video_likes = pd.DataFrame(df, columns=['video_id','likes', 'country'])\n",
    "video_likes.head()"
   ]
  },
  {
   "cell_type": "code",
   "execution_count": 47,
   "metadata": {},
   "outputs": [
    {
     "data": {
      "text/html": [
       "<div>\n",
       "<style scoped>\n",
       "    .dataframe tbody tr th:only-of-type {\n",
       "        vertical-align: middle;\n",
       "    }\n",
       "\n",
       "    .dataframe tbody tr th {\n",
       "        vertical-align: top;\n",
       "    }\n",
       "\n",
       "    .dataframe thead th {\n",
       "        text-align: right;\n",
       "    }\n",
       "</style>\n",
       "<table border=\"1\" class=\"dataframe\">\n",
       "  <thead>\n",
       "    <tr style=\"text-align: right;\">\n",
       "      <th></th>\n",
       "      <th>video_id</th>\n",
       "      <th>title</th>\n",
       "      <th>category</th>\n",
       "      <th>log_likes</th>\n",
       "      <th>log_views</th>\n",
       "      <th>country</th>\n",
       "    </tr>\n",
       "  </thead>\n",
       "  <tbody>\n",
       "    <tr>\n",
       "      <td>160289</td>\n",
       "      <td>7C2z4GqqS5E</td>\n",
       "      <td>BTS (방탄소년단) 'FAKE LOVE' Official MV</td>\n",
       "      <td>Music</td>\n",
       "      <td>15.540743</td>\n",
       "      <td>18.627784</td>\n",
       "      <td>GB</td>\n",
       "    </tr>\n",
       "    <tr>\n",
       "      <td>167397</td>\n",
       "      <td>VYOjWnS4cMY</td>\n",
       "      <td>Childish Gambino - This Is America (Official V...</td>\n",
       "      <td>Music</td>\n",
       "      <td>15.510124</td>\n",
       "      <td>19.375121</td>\n",
       "      <td>GB</td>\n",
       "    </tr>\n",
       "    <tr>\n",
       "      <td>107307</td>\n",
       "      <td>xpVfcZ0ZcFM</td>\n",
       "      <td>Drake - God’s Plan</td>\n",
       "      <td>Music</td>\n",
       "      <td>15.371099</td>\n",
       "      <td>19.369109</td>\n",
       "      <td>GB</td>\n",
       "    </tr>\n",
       "    <tr>\n",
       "      <td>105767</td>\n",
       "      <td>kLpH1nSLJSs</td>\n",
       "      <td>Bad Bunny - Amorfoda | Video Oficial</td>\n",
       "      <td>Music</td>\n",
       "      <td>15.156776</td>\n",
       "      <td>19.611144</td>\n",
       "      <td>GB</td>\n",
       "    </tr>\n",
       "    <tr>\n",
       "      <td>155749</td>\n",
       "      <td>ffxKSjUwKdU</td>\n",
       "      <td>Ariana Grande - No Tears Left To Cry</td>\n",
       "      <td>Music</td>\n",
       "      <td>15.037649</td>\n",
       "      <td>19.157256</td>\n",
       "      <td>GB</td>\n",
       "    </tr>\n",
       "  </tbody>\n",
       "</table>\n",
       "</div>"
      ],
      "text/plain": [
       "           video_id                                              title  \\\n",
       "160289  7C2z4GqqS5E                BTS (방탄소년단) 'FAKE LOVE' Official MV   \n",
       "167397  VYOjWnS4cMY  Childish Gambino - This Is America (Official V...   \n",
       "107307  xpVfcZ0ZcFM                                 Drake - God’s Plan   \n",
       "105767  kLpH1nSLJSs               Bad Bunny - Amorfoda | Video Oficial   \n",
       "155749  ffxKSjUwKdU               Ariana Grande - No Tears Left To Cry   \n",
       "\n",
       "       category  log_likes  log_views country  \n",
       "160289    Music  15.540743  18.627784      GB  \n",
       "167397    Music  15.510124  19.375121      GB  \n",
       "107307    Music  15.371099  19.369109      GB  \n",
       "105767    Music  15.156776  19.611144      GB  \n",
       "155749    Music  15.037649  19.157256      GB  "
      ]
     },
     "execution_count": 47,
     "metadata": {},
     "output_type": "execute_result"
    }
   ],
   "source": [
    "video_likes_base = pd.DataFrame(df, columns=['video_id','title','category','log_likes', 'log_views', 'country'])\n",
    "video_likes = video_likes_base.sort_values(by=['log_likes'], ascending=False)\n",
    "video_likes.head()"
   ]
  },
  {
   "cell_type": "code",
   "execution_count": 54,
   "metadata": {},
   "outputs": [
    {
     "data": {
      "text/html": [
       "<div>\n",
       "<style scoped>\n",
       "    .dataframe tbody tr th:only-of-type {\n",
       "        vertical-align: middle;\n",
       "    }\n",
       "\n",
       "    .dataframe tbody tr th {\n",
       "        vertical-align: top;\n",
       "    }\n",
       "\n",
       "    .dataframe thead th {\n",
       "        text-align: right;\n",
       "    }\n",
       "</style>\n",
       "<table border=\"1\" class=\"dataframe\">\n",
       "  <thead>\n",
       "    <tr style=\"text-align: right;\">\n",
       "      <th></th>\n",
       "      <th>video_id</th>\n",
       "      <th>title</th>\n",
       "      <th>category</th>\n",
       "      <th>log_likes</th>\n",
       "      <th>log_views</th>\n",
       "      <th>country</th>\n",
       "    </tr>\n",
       "  </thead>\n",
       "  <tbody>\n",
       "    <tr>\n",
       "      <td>0</td>\n",
       "      <td>cJon8yBKv3g</td>\n",
       "      <td>Kingsman : Le Cercle d'or (Mickael J Critique)</td>\n",
       "      <td>Film &amp; Animation</td>\n",
       "      <td>7.375882</td>\n",
       "      <td>9.877554</td>\n",
       "      <td>FR</td>\n",
       "    </tr>\n",
       "    <tr>\n",
       "      <td>1</td>\n",
       "      <td>g12KeCPRB4Q</td>\n",
       "      <td>Vide grenier LIVE - 12 Novembre 2017</td>\n",
       "      <td>Gaming</td>\n",
       "      <td>6.940222</td>\n",
       "      <td>9.940061</td>\n",
       "      <td>FR</td>\n",
       "    </tr>\n",
       "    <tr>\n",
       "      <td>2</td>\n",
       "      <td>irIZRH3JlIw</td>\n",
       "      <td>لقجع يثور في وجه الإتحاد الإيفواري بسبب الجماه...</td>\n",
       "      <td>News &amp; Politics</td>\n",
       "      <td>7.255591</td>\n",
       "      <td>12.242660</td>\n",
       "      <td>FR</td>\n",
       "    </tr>\n",
       "    <tr>\n",
       "      <td>3</td>\n",
       "      <td>SnHtzkQZggA</td>\n",
       "      <td>عروس اسطنبول | اعلان الحلقة 25 | - مترجم للعربية</td>\n",
       "      <td>Film &amp; Animation</td>\n",
       "      <td>4.962845</td>\n",
       "      <td>9.674074</td>\n",
       "      <td>FR</td>\n",
       "    </tr>\n",
       "    <tr>\n",
       "      <td>4</td>\n",
       "      <td>u6EoWM2KMPE</td>\n",
       "      <td>Portokalli, 12 Nentor 2017 - Policat e postbll...</td>\n",
       "      <td>Comedy</td>\n",
       "      <td>7.056175</td>\n",
       "      <td>11.518987</td>\n",
       "      <td>FR</td>\n",
       "    </tr>\n",
       "    <tr>\n",
       "      <td>...</td>\n",
       "      <td>...</td>\n",
       "      <td>...</td>\n",
       "      <td>...</td>\n",
       "      <td>...</td>\n",
       "      <td>...</td>\n",
       "      <td>...</td>\n",
       "    </tr>\n",
       "    <tr>\n",
       "      <td>95</td>\n",
       "      <td>-bqyTKrGq18</td>\n",
       "      <td>DÉFIS TECHNIQUE INCROYABLE ! FOOTBALL SKILLS</td>\n",
       "      <td>Sports</td>\n",
       "      <td>8.089176</td>\n",
       "      <td>10.931624</td>\n",
       "      <td>FR</td>\n",
       "    </tr>\n",
       "    <tr>\n",
       "      <td>96</td>\n",
       "      <td>LucUgZucG9M</td>\n",
       "      <td>JE REFAIS DES PHOTOS ! #DÉFI</td>\n",
       "      <td>Entertainment</td>\n",
       "      <td>8.908965</td>\n",
       "      <td>11.492488</td>\n",
       "      <td>FR</td>\n",
       "    </tr>\n",
       "    <tr>\n",
       "      <td>97</td>\n",
       "      <td>1Cat-Fxks_s</td>\n",
       "      <td>La cuisson des œufs à la coque différente au M...</td>\n",
       "      <td>Comedy</td>\n",
       "      <td>3.332205</td>\n",
       "      <td>7.622175</td>\n",
       "      <td>FR</td>\n",
       "    </tr>\n",
       "    <tr>\n",
       "      <td>98</td>\n",
       "      <td>w9_TuLo3Ao0</td>\n",
       "      <td>ملخص مباراة المغرب وكوت ديفوار 2-0 شاشة كاملة ...</td>\n",
       "      <td>Sports</td>\n",
       "      <td>7.852439</td>\n",
       "      <td>13.511771</td>\n",
       "      <td>FR</td>\n",
       "    </tr>\n",
       "    <tr>\n",
       "      <td>99</td>\n",
       "      <td>k_73Get4zFA</td>\n",
       "      <td>Breaking news politiques - Morin a fait un rêve</td>\n",
       "      <td>Comedy</td>\n",
       "      <td>3.988984</td>\n",
       "      <td>8.167636</td>\n",
       "      <td>FR</td>\n",
       "    </tr>\n",
       "  </tbody>\n",
       "</table>\n",
       "<p>100 rows × 6 columns</p>\n",
       "</div>"
      ],
      "text/plain": [
       "       video_id                                              title  \\\n",
       "0   cJon8yBKv3g     Kingsman : Le Cercle d'or (Mickael J Critique)   \n",
       "1   g12KeCPRB4Q               Vide grenier LIVE - 12 Novembre 2017   \n",
       "2   irIZRH3JlIw  لقجع يثور في وجه الإتحاد الإيفواري بسبب الجماه...   \n",
       "3   SnHtzkQZggA   عروس اسطنبول | اعلان الحلقة 25 | - مترجم للعربية   \n",
       "4   u6EoWM2KMPE  Portokalli, 12 Nentor 2017 - Policat e postbll...   \n",
       "..          ...                                                ...   \n",
       "95  -bqyTKrGq18       DÉFIS TECHNIQUE INCROYABLE ! FOOTBALL SKILLS   \n",
       "96  LucUgZucG9M                       JE REFAIS DES PHOTOS ! #DÉFI   \n",
       "97  1Cat-Fxks_s  La cuisson des œufs à la coque différente au M...   \n",
       "98  w9_TuLo3Ao0  ملخص مباراة المغرب وكوت ديفوار 2-0 شاشة كاملة ...   \n",
       "99  k_73Get4zFA    Breaking news politiques - Morin a fait un rêve   \n",
       "\n",
       "            category  log_likes  log_views country  \n",
       "0   Film & Animation   7.375882   9.877554      FR  \n",
       "1             Gaming   6.940222   9.940061      FR  \n",
       "2    News & Politics   7.255591  12.242660      FR  \n",
       "3   Film & Animation   4.962845   9.674074      FR  \n",
       "4             Comedy   7.056175  11.518987      FR  \n",
       "..               ...        ...        ...     ...  \n",
       "95            Sports   8.089176  10.931624      FR  \n",
       "96     Entertainment   8.908965  11.492488      FR  \n",
       "97            Comedy   3.332205   7.622175      FR  \n",
       "98            Sports   7.852439  13.511771      FR  \n",
       "99            Comedy   3.988984   8.167636      FR  \n",
       "\n",
       "[100 rows x 6 columns]"
      ]
     },
     "execution_count": 54,
     "metadata": {},
     "output_type": "execute_result"
    }
   ],
   "source": [
    "top_video_like = video_likes_base.head(100)\n",
    "top_video_like\n"
   ]
  },
  {
   "cell_type": "code",
   "execution_count": 49,
   "metadata": {},
   "outputs": [
    {
     "data": {
      "text/plain": [
       "GB    76\n",
       "US    15\n",
       "IN     4\n",
       "MX     2\n",
       "CA     2\n",
       "KR     1\n",
       "Name: country, dtype: int64"
      ]
     },
     "execution_count": 49,
     "metadata": {},
     "output_type": "execute_result"
    }
   ],
   "source": [
    "num_top100_by_country = top_video_like['country'].value_counts()\n",
    "num_top100_by_country"
   ]
  },
  {
   "cell_type": "code",
   "execution_count": 39,
   "metadata": {},
   "outputs": [
    {
     "data": {
      "text/plain": [
       "Text(0, 0.5, 'Number of videos')"
      ]
     },
     "execution_count": 39,
     "metadata": {},
     "output_type": "execute_result"
    },
    {
     "data": {
      "image/png": "[encoded data removed]",
      "text/plain": [
       "<Figure size 720x720 with 1 Axes>"
      ]
     },
     "metadata": {
      "needs_background": "light"
     },
     "output_type": "display_data"
    }
   ],
   "source": [
    "fig = plt.figure(figsize=(10,10)) # define plot area\n",
    "ax = fig.gca() # define axis    \n",
    "num_top100_by_country.plot.bar(ax = ax) # Use the plot.bar method on the counts data frame\n",
    "ax.set_title('Number of top 100 videos by country') # Give the plot a main title\n",
    "ax.set_xlabel('Country') # Set text for the x axis\n",
    "ax.set_ylabel('Number of videos')# Set text for y axis"
   ]
  },
  {
   "cell_type": "code",
   "execution_count": 52,
   "metadata": {},
   "outputs": [
    {
     "data": {
      "text/plain": [
       "Music                    75\n",
       "Entertainment            14\n",
       "Sports                    3\n",
       "Comedy                    3\n",
       "Film & Animation          2\n",
       "Nonprofits & Activism     1\n",
       "Gaming                    1\n",
       "People & Blogs            1\n",
       "Name: category, dtype: int64"
      ]
     },
     "execution_count": 52,
     "metadata": {},
     "output_type": "execute_result"
    }
   ],
   "source": [
    "num_top100_by_category = top_video_like['category'].value_counts()\n",
    "num_top100_by_category"
   ]
  },
  {
   "cell_type": "code",
   "execution_count": 53,
   "metadata": {},
   "outputs": [
    {
     "data": {
      "text/plain": [
       "Text(0, 0.5, 'Number of videos')"
      ]
     },
     "execution_count": 53,
     "metadata": {},
     "output_type": "execute_result"
    },
    {
     "data": {
      "image/png": "[encoded data removed]",
      "text/plain": [
       "<Figure size 720x720 with 1 Axes>"
      ]
     },
     "metadata": {
      "needs_background": "light"
     },
     "output_type": "display_data"
    }
   ],
   "source": [
    "fig = plt.figure(figsize=(10,10)) # define plot area\n",
    "ax = fig.gca() # define axis    \n",
    "num_top100_by_category.plot.bar(ax = ax) # Use the plot.bar method on the counts data frame\n",
    "ax.set_title('Number of top 100 videos by category') # Give the plot a main title\n",
    "ax.set_xlabel('Category') # Set text for the x axis\n",
    "ax.set_ylabel('Number of videos')# Set text for y axis"
   ]
  },
  {
   "cell_type": "code",
   "execution_count": 15,
   "metadata": {},
   "outputs": [
    {
     "data": {
      "text/plain": [
       "0    Film & Animation\n",
       "1              Gaming\n",
       "2     News & Politics\n",
       "3    Film & Animation\n",
       "4              Comedy\n",
       "Name: category, dtype: object"
      ]
     },
     "execution_count": 15,
     "metadata": {},
     "output_type": "execute_result"
    }
   ],
   "source": [
    "category = df['category']\n",
    "category.head()"
   ]
  },
  {
   "cell_type": "code",
   "execution_count": 16,
   "metadata": {},
   "outputs": [
    {
     "data": {
      "text/plain": [
       "1                    Gaming\n",
       "2           News & Politics\n",
       "3          Film & Animation\n",
       "4                    Comedy\n",
       "5                    Sports\n",
       "               ...         \n",
       "96            Entertainment\n",
       "97                   Comedy\n",
       "98                   Sports\n",
       "99                   Comedy\n",
       "100    Science & Technology\n",
       "Name: category, Length: 100, dtype: object"
      ]
     },
     "execution_count": 16,
     "metadata": {},
     "output_type": "execute_result"
    }
   ],
   "source": [
    "category.loc[1:100]"
   ]
  },
  {
   "cell_type": "code",
   "execution_count": 17,
   "metadata": {},
   "outputs": [
    {
     "name": "stdout",
     "output_type": "stream",
     "text": [
      "Entertainment            50468\n",
      "People & Blogs           28045\n",
      "News & Politics          20327\n",
      "Sports                   12561\n",
      "Comedy                   10358\n",
      "Music                    10145\n",
      "Howto & Style             9580\n",
      "Film & Animation          8460\n",
      "Gaming                    5318\n",
      "Education                 3897\n",
      "Science & Technology      3404\n",
      "Autos & Vehicles          3274\n",
      "Pets & Animals            2271\n",
      "Nonprofits & Activism     1779\n",
      "Travel & Events            812\n",
      "Shows                      435\n",
      "Movies                      12\n",
      "Trailers                     3\n",
      "Name: category, dtype: int64\n"
     ]
    }
   ],
   "source": [
    "cat_counts = category.value_counts()\n",
    "print(cat_counts)"
   ]
  },
  {
   "cell_type": "code",
   "execution_count": null,
   "metadata": {},
   "outputs": [],
   "source": [
    "fig = plt.figure(figsize=(10,10)) # define plot area\n",
    "ax = fig.gca() # define axis    \n",
    "cat_counts.plot.bar(ax = ax) # Use the plot.bar method on the counts data frame\n",
    "ax.set_title('Number of videos by category') # Give the plot a main title\n",
    "ax.set_xlabel('Category') # Set text for the x axis\n",
    "ax.set_ylabel('Number of videos')# Set text for y axis"
   ]
  },
  {
   "cell_type": "code",
   "execution_count": null,
   "metadata": {},
   "outputs": [],
   "source": [
    "fig = plt.figure(figsize=(10,10)) # define plot area\n",
    "ax = fig.gca() # define axis    \n",
    "df.plot.bar(ax = ax) # Use the plot.bar method on the counts data frame\n",
    "ax.set_title('Number of likes by category') # Give the plot a main title\n",
    "ax.set_xlabel('Category') # Set text for the x axis\n",
    "ax.set_ylabel('Number of likes')# Set text for y axis"
   ]
  },
  {
   "cell_type": "code",
   "execution_count": null,
   "metadata": {},
   "outputs": [],
   "source": [
    "country = df['country']\n",
    "country.head()"
   ]
  },
  {
   "cell_type": "code",
   "execution_count": null,
   "metadata": {},
   "outputs": [],
   "source": []
  },
  {
   "cell_type": "code",
   "execution_count": null,
   "metadata": {},
   "outputs": [],
   "source": [
    "country_count = df['country'].value_counts() \n",
    "country_count"
   ]
  },
  {
   "cell_type": "code",
   "execution_count": null,
   "metadata": {},
   "outputs": [],
   "source": [
    "fig = plt.figure(figsize=(10,10)) # define plot area\n",
    "ax = fig.gca() # define axis    \n",
    "country_count.plot.bar(ax = ax) # Use the plot.bar method on the counts data frame\n",
    "ax.set_title('Number of videos by country') # Give the plot a main title\n",
    "ax.set_xlabel('Country') # Set text for the x axis\n",
    "ax.set_ylabel('Number of videos')# Set text for y axis"
   ]
  },
  {
   "cell_type": "code",
   "execution_count": null,
   "metadata": {},
   "outputs": [],
   "source": [
    "import matplotlib.pyplot as plt\n",
    "fig = plt.figure(figsize=(20, 20)) # define plot area\n",
    "ax = fig.gca() # define axis                   \n",
    "df.plot(kind = 'scatter', x = 'views', y = 'likes', ax = ax)\n",
    "ax.set_title('Scatter plot of views vs likes') # Give the plot a main title\n",
    "ax.set_xlabel('Views') # Set text for the x axis\n",
    "ax.set_ylabel('Likes')# Set text for y axis"
   ]
  },
  {
   "cell_type": "code",
   "execution_count": null,
   "metadata": {},
   "outputs": [],
   "source": [
    "import matplotlib.pyplot as plt\n",
    "fig = plt.figure(figsize=(20, 20)) # define plot area\n",
    "ax = fig.gca() # define axis                   \n",
    "df.plot(kind = 'scatter', x = 'category_id', y = 'likes', ax = ax)\n",
    "ax.set_title('Scatter plot of views vs likes') # Give the plot a main title\n",
    "ax.set_xlabel('Views') # Set text for the x axis\n",
    "ax.set_ylabel('Likes')# Set text for y axis"
   ]
  },
  {
   "cell_type": "code",
   "execution_count": null,
   "metadata": {},
   "outputs": [],
   "source": []
  }
 ],
 "metadata": {
  "kernelspec": {
   "display_name": "Python 3",
   "language": "python",
   "name": "python3"
  },
  "language_info": {
   "codemirror_mode": {
    "name": "ipython",
    "version": 3
   },
   "file_extension": ".py",
   "mimetype": "text/x-python",
   "name": "python",
   "nbconvert_exporter": "python",
   "pygments_lexer": "ipython3",
   "version": "3.7.3"
  }
 },
 "nbformat": 4,
 "nbformat_minor": 2
}
